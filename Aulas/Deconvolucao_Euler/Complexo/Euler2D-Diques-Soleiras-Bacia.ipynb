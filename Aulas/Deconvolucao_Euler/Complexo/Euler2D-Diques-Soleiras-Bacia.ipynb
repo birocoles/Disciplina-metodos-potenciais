{
 "cells": [
  {
   "cell_type": "markdown",
   "metadata": {},
   "source": [
    "# Exemplo da aplicação de Deconvolução de Euler 2D para estimar a posição de diques verticais e soleiras em uma bacia sedimentar"
   ]
  },
  {
   "cell_type": "markdown",
   "metadata": {},
   "source": [
    "Este [IPython Notebook](http://ipython.org/videos.html#the-ipython-notebook) utiliza a biblioteca de código aberto [Fatiando a Terra](http://fatiando.org/)"
   ]
  },
  {
   "cell_type": "code",
   "execution_count": 1,
   "metadata": {
    "collapsed": false
   },
   "outputs": [],
   "source": [
    "#%matplotlib inline\n",
    "import numpy as np\n",
    "from scipy import interpolate\n",
    "\n",
    "from fatiando import gravmag, mesher, utils, gridder\n",
    "\n",
    "#from fatiando.gravmag import prism\n",
    "from fatiando.gravmag import _prism_numpy as prism\n",
    "\n",
    "from fatiando.mesher import Prism, Polygon\n",
    "from fatiando.utils import ang2vec, si2nt\n",
    "from fatiando.gridder import regular\n",
    "from fatiando.vis import mpl"
   ]
  },
  {
   "cell_type": "markdown",
   "metadata": {},
   "source": [
    "Na Deconvolução de Euler 2D, as coordenadas $\\color{blue}{y_{0}}$ e $\\color{blue}{z_{0}}$ da fonte, bem como o nível de base $\\color{green}{B}$ são estimados via solução de um sistema linear. Cada linha deste sistema linear e dada por:"
   ]
  },
  {
   "cell_type": "markdown",
   "metadata": {},
   "source": [
    "$\\color{blue}{y_{0}}\\dfrac{\\partial \\Delta T_{i}}{\\partial y} + \n",
    " \\color{blue}{z_{0}}\\dfrac{\\partial \\Delta T_{i}}{\\partial z} +\n",
    " \\eta \\, \\color{green}{B} = \n",
    " y_{i}\\dfrac{\\partial \\Delta T_{i}}{\\partial y} + \n",
    " z_{i}\\dfrac{\\partial \\Delta T_{i}}{\\partial z} +\n",
    " \\eta \\, \\Delta T_{i}$ ,"
   ]
  },
  {
   "cell_type": "markdown",
   "metadata": {},
   "source": [
    "em que $y_{i}$ e $z_{i}$ são as coordenadas do $i$-ésimo ponto de observação, $\\Delta T_{i}$, $\\dfrac{\\partial \\Delta T_{i}}{\\partial y}$ e $\\dfrac{\\partial \\Delta T_{i}}{\\partial z}$ são, respectivamente, a anomalia de campo total (ACT) e suas derivadas espaciais no $i$-ésimo ponto de observação e $\\eta$ é um escalar positivo denominado **índice estrutural**. Este parâmetro define o formato da fonte cuja posição será estimada via Deconvolução de Euler."
   ]
  },
  {
   "cell_type": "code",
   "execution_count": 2,
   "metadata": {
    "collapsed": false
   },
   "outputs": [],
   "source": [
    "def Euler2D(tf, Dytf, Dztf, y, z, si, npontos):\n",
    "    '''\n",
    "    Deconvolução de Euler 2D\n",
    "    \n",
    "    sistema de coordenadas\n",
    "      x: dimensão infinita\n",
    "      y: direção ao longo do perfil\n",
    "      z: aponta para baixo\n",
    "    \n",
    "    input\n",
    "      tf: array com a anomalia de campo total (ACT)\n",
    "      Dytf: array com a derivada espacial da ACT na direção y\n",
    "      Dztf: array com a derivada espacial da ACT na direção z\n",
    "      y: array com a coordenadas das observações ao longo do perfil\n",
    "      si: índice estrutural\n",
    "      npontos: número de pontos em cada janela\n",
    "      \n",
    "    output\n",
    "      y0: array com as coordenadas y estimadas para cada janela\n",
    "          de dados\n",
    "      z0: array com as coordenadas z estimadas para cada janela\n",
    "          de dados\n",
    "      b: array com os níveis de base estimados para cada janela\n",
    "          de dados\n",
    "\n",
    "    '''\n",
    "\n",
    "    y0 = np.zeros(len(y) + 1 - npontos)\n",
    "    z0 = np.zeros(len(y) + 1 - npontos)\n",
    "    b = np.zeros(len(y) + 1 - npontos)\n",
    "    \n",
    "    vsi = si*np.ones(npontos)\n",
    "\n",
    "    # Janela móvel\n",
    "    for i in range(len(y) + 1 - npontos):\n",
    "        S = np.vstack((Dytf[i:i+npontos],Dztf[i:i+npontos],vsi)).T\n",
    "        s = Dytf[i:i+npontos]*y[i:i+npontos] + \\\n",
    "            Dztf[i:i+npontos]*z[i:i+npontos] + \\\n",
    "            vsi*tf[i:i+npontos]\n",
    "        STS = S.T.dot(S)\n",
    "        STs = S.T.dot(s)\n",
    "        # Coordenadas estimadas\n",
    "        p = np.linalg.solve(STS,STs)\n",
    "        y0[i] = p[0]\n",
    "        z0[i] = p[1]\n",
    "        b[i]  = p[2]\n",
    "\n",
    "    return y0, z0, b"
   ]
  },
  {
   "cell_type": "markdown",
   "metadata": {},
   "source": [
    "## Coordenadas das observações e do modelo"
   ]
  },
  {
   "cell_type": "code",
   "execution_count": 3,
   "metadata": {
    "collapsed": false
   },
   "outputs": [],
   "source": [
    "ymin = 0.0\n",
    "ymax = 100000.0\n",
    "ny = 201\n",
    "dy = (ymax - ymin)/(ny - 1)\n",
    "L = ymax - ymin\n",
    "y = np.linspace(ymin, ymax, ny)\n",
    "x = np.zeros_like(y)\n",
    "z = np.zeros_like(y)-150.0\n",
    "\n",
    "zmin = -2000.0\n",
    "zmax = 8000.0\n",
    "xmin = -100000.0\n",
    "xmax =  100000.0\n",
    "\n",
    "area = [ymin, ymax, zmax, zmin]\n",
    "\n",
    "incs, decs = 18.0, 10.0 # inclinação e declinação dos diques e soleiras\n",
    "inc, dec = -39.8, -22.5 # inclinação e declinação do campo geomagnético\n",
    "intens = 3.0 # intensidade da magnetização dos diques e soleiras"
   ]
  },
  {
   "cell_type": "markdown",
   "metadata": {},
   "source": [
    "## Bacia"
   ]
  },
  {
   "cell_type": "code",
   "execution_count": 4,
   "metadata": {
    "collapsed": false
   },
   "outputs": [],
   "source": [
    "poligono_bacia = []\n",
    "bacia = []\n",
    "\n",
    "# Embasamento inicial\n",
    "#mpl.close('all')\n",
    "#axes = mpl.pyplot.figure().add_subplot(1,1,1)\n",
    "#mpl.ylim(zmax, zmin)\n",
    "#mpl.xlim(ymin, ymax)\n",
    "#mpl.xlabel('y (m)')\n",
    "#mpl.ylabel('z (m)')\n",
    "#mpl.paths([[ymin, 0.0]], [[ymax, 0.0]], style='-k', linewidth=1)\n",
    "#d = mpl.draw_polygon(area, axes, color='r')\n",
    "d = np.array([[  9.93951613e+04,   7.11297071e+01],\n",
    "              [  9.39516129e+04,   7.51046025e+02],\n",
    "              [  8.99193548e+04,   1.61401674e+03],\n",
    "              [  8.56854839e+04,   2.76464435e+03],\n",
    "              [  8.24596774e+04,   3.62761506e+03],\n",
    "              [  7.45967742e+04,   3.36610879e+03],\n",
    "              [  6.73387097e+04,   2.68619247e+03],\n",
    "              [  6.29032258e+04,   1.95397490e+03],\n",
    "              [  5.74596774e+04,   2.26778243e+03],\n",
    "              [  5.04032258e+04,   2.60774059e+03],\n",
    "              [  4.29435484e+04,   2.86924686e+03],\n",
    "              [  3.62903226e+04,   2.50313808e+03],\n",
    "              [  3.02419355e+04,   1.66631799e+03],\n",
    "              [  2.62096774e+04,   1.01255230e+03],\n",
    "              [  1.99596774e+04,   1.48326360e+03],\n",
    "              [  1.51209677e+04,   1.56171548e+03],\n",
    "              [  9.87903226e+03,   1.58786611e+03],\n",
    "              [  5.24193548e+03,   1.22175732e+03],\n",
    "              [  2.62096774e+03,   5.15690377e+02],\n",
    "              [  6.04838710e+02,   9.72803347e+01]])\n",
    "\n",
    "# Embasamento interpolado\n",
    "f = interpolate.interp1d(d[:,0], d[:,1], kind = 'linear', bounds_error = False, fill_value = 0.0)\n",
    "nb = 201\n",
    "by = np.linspace(ymin, ymax, nb)\n",
    "bz = f(by)\n",
    "bz[0] = 0.0\n",
    "bz[nb-1] = 0.0\n",
    "\n",
    "poligono_bacia = mesher.Polygon(np.vstack((by, bz)).T)\n",
    "\n",
    "# Visualização 2D da bacia\n",
    "mpl.figure(figsize=(12,3))\n",
    "mpl.title('Bacia sedimentar')\n",
    "mpl.paths([[ymin, 0.0]], [[ymax, 0.0]], style='-k', linewidth=1)\n",
    "mpl.polygon(poligono_bacia, style='--k', linewidth=1)\n",
    "mpl.ylim(zmax, zmin)\n",
    "mpl.xlabel('y (km)', fontsize=18)\n",
    "mpl.ylabel('z (km)', fontsize=18)\n",
    "mpl.xticks(fontsize=16)\n",
    "mpl.yticks(fontsize=16)\n",
    "mpl.m2km()\n",
    "mpl.show()\n",
    "\n",
    "# Lista de prismas que formam a bacia\n",
    "db = (ymax - ymin)/(nb - 1)\n",
    "for i in range(nb):\n",
    "    bacia.append(mesher.Prism(xmin, xmax, \n",
    "                              by[i], by[i] + db,\n",
    "                              0.0, bz[i], {'magnetization': utils.ang2vec(-0.1, inc, dec)}))"
   ]
  },
  {
   "cell_type": "markdown",
   "metadata": {},
   "source": [
    "## Diques + Soleiras"
   ]
  },
  {
   "cell_type": "code",
   "execution_count": 5,
   "metadata": {
    "collapsed": false
   },
   "outputs": [],
   "source": [
    "# Topo dos diques\n",
    "d = np.array([[83000.0, 700.0],\n",
    "              [50600.0, 1000.0],\n",
    "              [21000.0, 800.0]])\n",
    "\n",
    "Ldique = 200.0\n",
    "Lsoleirasy = 6000.0\n",
    "Lsoleirasz = 200.0\n",
    "\n",
    "diques = []\n",
    "poligonos_diques = []\n",
    "\n",
    "soleiras = []\n",
    "poligonos_soleiras = []\n",
    "\n",
    "for i, p in enumerate(d):\n",
    "    # Soleiras\n",
    "    soleiras.append(mesher.Prism(xmin, xmax, \n",
    "                               p[0] - Lsoleirasy, p[0] + Lsoleirasy,\n",
    "                               #p[0], p[0] + 2*Lsoleirasy,\n",
    "                               p[1] - Lsoleirasz, p[1] + Lsoleirasz, \n",
    "                               {'magnetization': utils.ang2vec(intens, incs, decs)}))\n",
    "    poligonos_soleiras.append(mesher.Polygon([[p[0] - Lsoleirasy, p[1] - Lsoleirasz],\n",
    "                                              [p[0] + Lsoleirasy, p[1] - Lsoleirasz],\n",
    "                                              [p[0] + Lsoleirasy, p[1] + Lsoleirasz],\n",
    "                                              [p[0] - Lsoleirasy, p[1] + Lsoleirasz]]))\n",
    "#    poligonos_soleiras.append(mesher.Polygon([[p[0], p[1] - Lsoleirasz],\n",
    "#                                              [p[0] + 2*Lsoleirasy, p[1] - Lsoleirasz],\n",
    "#                                              [p[0] + 2*Lsoleirasy, p[1] + Lsoleirasz],\n",
    "#                                              [p[0], p[1] + Lsoleirasz]]))\n",
    "\n",
    "    # Diques\n",
    "    diques.append(mesher.Prism(xmin, xmax, \n",
    "                              p[0] - Ldique, p[0] + Ldique,\n",
    "                              p[1] + Lsoleirasz, 10000, {'magnetization': utils.ang2vec(intens, incs, decs)}))\n",
    "    poligonos_diques.append(mesher.Polygon([[p[0] - Ldique, p[1] + Lsoleirasz], \n",
    "                                            [p[0] + Ldique, p[1] + Lsoleirasz], \n",
    "                                            [p[0] + Ldique, 100000],\n",
    "                                            [p[0] - Ldique, 100000]]))\n",
    "    \n",
    "\n",
    "# Visualização dos diques e soleiras + bacia\n",
    "lambida = 0.10\n",
    "mpl.figure(figsize=(12,3))\n",
    "mpl.title('Diques')\n",
    "mpl.paths([[ymin, 0.0]], [[ymax, 0.0]], style='-k', linewidth=1)\n",
    "mpl.polygon(poligono_bacia, style='--k', linewidth=1)\n",
    "for i, p in enumerate(poligonos_diques):\n",
    "    mpl.polygon(p, style='-k', linewidth=1)\n",
    "for i, p in enumerate(poligonos_soleiras):\n",
    "    mpl.polygon(p, style='-k', linewidth=1)\n",
    "dv = lambida*(zmax - zmin)\n",
    "mpl.ylim(zmax, zmin - dv)\n",
    "mpl.xlim(ymin, ymax)\n",
    "mpl.xlabel('y (km)', fontsize=18)\n",
    "mpl.ylabel('z (km)', fontsize=18)\n",
    "mpl.xticks(fontsize=16)\n",
    "mpl.yticks(fontsize=16)\n",
    "mpl.m2km()\n",
    "mpl.show()"
   ]
  },
  {
   "cell_type": "markdown",
   "metadata": {},
   "source": [
    "## Anomalia de campo total (ACT)"
   ]
  },
  {
   "cell_type": "code",
   "execution_count": 6,
   "metadata": {
    "collapsed": false
   },
   "outputs": [],
   "source": [
    "B = 30.0 # nível de base\n",
    "\n",
    "tf = prism.tf(x, y, z, diques, inc, dec) + \\\n",
    "     prism.tf(x, y, z, soleiras, inc, dec) + \\\n",
    "     prism.tf(x, y, z, bacia, inc, dec) + B"
   ]
  },
  {
   "cell_type": "markdown",
   "metadata": {},
   "source": [
    "## Visualização da anomalia de campo total"
   ]
  },
  {
   "cell_type": "code",
   "execution_count": 7,
   "metadata": {
    "collapsed": false
   },
   "outputs": [],
   "source": [
    "mpl.close('all')\n",
    "mpl.figure(figsize=(12,6))\n",
    "\n",
    "lambida = 0.10\n",
    "\n",
    "mpl.subplot(2,1,1)\n",
    "mpl.plot(0.001*y, tf, 'r-')\n",
    "mpl.plot(0.001*y, tf, 'ro', markersize=3)\n",
    "vmax = np.max(tf)\n",
    "vmin = np.min(tf)\n",
    "dv = lambida*(vmax - vmin)\n",
    "mpl.ylim(vmin - dv, vmax + dv)\n",
    "mpl.xlim(0.001*ymin, 0.001*ymax)\n",
    "mpl.ylabel('ACT (nT)', fontsize=18)\n",
    "mpl.xticks(fontsize=16)\n",
    "mpl.yticks(fontsize=16)\n",
    "\n",
    "mpl.subplot(2,1,2)\n",
    "mpl.paths([[ymin, 0.0]], [[ymax, 0.0]], style='-k', linewidth=1)\n",
    "mpl.polygon(poligono_bacia, style='--k', linewidth=1)\n",
    "for i, p in enumerate(poligonos_diques):\n",
    "    mpl.polygon(p, style='-k', linewidth=1)\n",
    "for i, p in enumerate(poligonos_soleiras):\n",
    "    mpl.polygon(p, style='-k', linewidth=1)\n",
    "dv = lambida*(zmax - zmin)\n",
    "mpl.ylim(zmax, zmin - dv)\n",
    "mpl.xlim(ymin, ymax)\n",
    "mpl.xlabel('y (km)', fontsize=18)\n",
    "mpl.ylabel('z (km)', fontsize=18)\n",
    "mpl.xticks(fontsize=16)\n",
    "mpl.yticks(fontsize=16)\n",
    "mpl.m2km()\n",
    "\n",
    "mpl.show()"
   ]
  },
  {
   "cell_type": "markdown",
   "metadata": {},
   "source": [
    "## Derivadas espaciais da ACT"
   ]
  },
  {
   "cell_type": "code",
   "execution_count": 8,
   "metadata": {
    "collapsed": false
   },
   "outputs": [],
   "source": [
    "delta = 10.0\n",
    "\n",
    "# Derivadas numéricas\n",
    "Dytf  = prism.tf(x, y + delta, z, diques, inc, dec)\n",
    "Dytf += prism.tf(x, y + delta, z, soleiras, inc, dec)\n",
    "Dytf += prism.tf(x, y + delta, z, bacia, inc, dec)\n",
    "Dytf -= prism.tf(x, y - delta, z, diques, inc, dec)\n",
    "Dytf -= prism.tf(x, y - delta, z, soleiras, inc, dec)\n",
    "Dytf -= prism.tf(x, y - delta, z, bacia, inc, dec)\n",
    "Dytf  = Dytf/(2.0*delta) # nT/km\n",
    "\n",
    "Dztf  = prism.tf(x, y, z + delta, diques, inc, dec)\n",
    "Dztf += prism.tf(x, y, z + delta, soleiras, inc, dec)\n",
    "Dztf += prism.tf(x, y, z + delta, bacia, inc, dec)\n",
    "Dztf -= prism.tf(x, y, z - delta, diques, inc, dec)\n",
    "Dztf -= prism.tf(x, y, z - delta, soleiras, inc, dec)\n",
    "Dztf -= prism.tf(x, y, z - delta, bacia, inc, dec)\n",
    "Dztf  = Dztf/(2.0*delta) # nT/km\n",
    "\n",
    "# Visualização da anomalia de campo total + derivadas em y e z\n",
    "mpl.close('all')\n",
    "mpl.figure(figsize=(12,9))\n",
    "\n",
    "lambida = 0.10\n",
    "\n",
    "mpl.subplot(3,1,1)\n",
    "mpl.paths([[0.001*ymin, 0.0]], [[0.001*ymax, 0.0]], style='-k', linewidth=1.0)\n",
    "mpl.plot(0.001*y, tf, 'k-')\n",
    "mpl.plot(0.001*y, tf, 'ko', markersize=3)\n",
    "vmax = np.max(tf)\n",
    "vmin = np.min(tf)\n",
    "dv = lambida*(vmax - vmin)\n",
    "mpl.ylim(vmin - dv, vmax + dv)\n",
    "mpl.xlim(0.001*ymin, 0.001*ymax)\n",
    "mpl.ylabel('ACT (nT)', fontsize=18)\n",
    "mpl.xticks(fontsize=16)\n",
    "mpl.yticks(fontsize=16)\n",
    "\n",
    "mpl.subplot(3,1,2)\n",
    "mpl.paths([[0.001*ymin, 0.0]], [[0.001*ymax, 0.0]], style='-k', linewidth=1.0)\n",
    "mpl.plot(0.001*y, 1000.0*Dytf, 'k-')\n",
    "mpl.plot(0.001*y, 1000.0*Dytf, 'ko', markersize=3)\n",
    "vmax = np.max(1000.0*Dytf)\n",
    "vmin = np.min(1000.0*Dytf)\n",
    "dv = lambida*(vmax - vmin)\n",
    "mpl.ylim(vmin - dv, vmax + dv)\n",
    "mpl.xlim(0.001*ymin, 0.001*ymax)\n",
    "mpl.ylabel('dACT/dy (nT/km)', fontsize=18)\n",
    "mpl.xticks(fontsize=16)\n",
    "mpl.yticks(fontsize=16)\n",
    "\n",
    "mpl.subplot(3,1,3)\n",
    "mpl.paths([[0.001*ymin, 0.0]], [[0.001*ymax, 0.0]], style='-k', linewidth=1.0)\n",
    "mpl.plot(0.001*y, 1000.0*Dztf, 'k-')\n",
    "mpl.plot(0.001*y, 1000.0*Dztf, 'ko', markersize=3)\n",
    "vmax = np.max(1000.0*Dztf)\n",
    "vmin = np.min(1000.0*Dztf)\n",
    "dv = lambida*(vmax - vmin)\n",
    "mpl.ylim(vmin - dv, vmax + dv)\n",
    "mpl.xlim(0.001*ymin,0.001* ymax)\n",
    "mpl.ylabel('dACT/dz (nT/km)', fontsize=18)\n",
    "mpl.xlabel('y (km)', fontsize=18)\n",
    "mpl.xticks(fontsize=16)\n",
    "mpl.yticks(fontsize=16)\n",
    "\n",
    "mpl.show()"
   ]
  },
  {
   "cell_type": "markdown",
   "metadata": {},
   "source": [
    "## Parâmetros da Deconvolução de Euler"
   ]
  },
  {
   "cell_type": "code",
   "execution_count": 9,
   "metadata": {
    "collapsed": false
   },
   "outputs": [],
   "source": [
    "npontos = 10 # número de pontos por janela\n",
    "#npontos = ny # apenas uma janela\n",
    "\n",
    "# pontos do centro de cada janela\n",
    "dymedio = 0.5*(y[npontos-1] - y[0])\n",
    "ymedio = np.linspace(ymin + dymedio, \n",
    "                     ymax - dymedio, \n",
    "                     len(y) + 1 - npontos)\n",
    "\n",
    "n = [0.5,1,1.5,2,3] # lista de índices estruturais\n",
    "colors = ['ro','go','bo','yo','ko']\n",
    "labels = ['0.5','1','1.5','2','3']\n",
    "\n",
    "mpl.close('all')\n",
    "mpl.figure(figsize=(12,6))\n",
    "\n",
    "lambida = 0.10\n",
    "\n",
    "mpl.subplot(2,1,1)\n",
    "mpl.plot(0.001*y, tf, 'r-')\n",
    "mpl.plot(0.001*y, tf, 'ro', markersize=3)\n",
    "mpl.plot(0.001*y[:npontos], tf[:npontos], 'b-', markersize=5)\n",
    "mpl.plot(0.001*y[:npontos], tf[:npontos], 'bo', markersize=5)\n",
    "vmax = np.max(tf)\n",
    "vmin = np.min(tf)\n",
    "dv = lambida*(vmax - vmin)\n",
    "mpl.ylim(vmin - dv, vmax + dv)\n",
    "mpl.xlim(0.001*ymin, 0.001*ymax)\n",
    "mpl.ylabel('ACT (nT)', fontsize=18)\n",
    "mpl.xticks(fontsize=16)\n",
    "mpl.yticks(fontsize=16)\n",
    "\n",
    "mpl.subplot(2,1,2)\n",
    "mpl.paths([[ymin, 0.0]], [[ymax, 0.0]], style='-k', linewidth=1)\n",
    "mpl.polygon(poligono_bacia, style='--k', linewidth=1)\n",
    "for i, p in enumerate(poligonos_diques):\n",
    "    mpl.polygon(p, style='-k', linewidth=1)\n",
    "for i, p in enumerate(poligonos_soleiras):\n",
    "    mpl.polygon(p, style='-k', linewidth=1)\n",
    "dv = lambida*(zmax - zmin)\n",
    "mpl.ylim(zmax, zmin - dv)\n",
    "mpl.xlim(ymin, ymax)\n",
    "mpl.xlabel('y (km)', fontsize=18)\n",
    "mpl.ylabel('z (km)', fontsize=18)\n",
    "mpl.xticks(fontsize=16)\n",
    "mpl.yticks(fontsize=16)\n",
    "mpl.m2km()\n",
    "\n",
    "mpl.show()"
   ]
  },
  {
   "cell_type": "markdown",
   "metadata": {},
   "source": [
    "## Deconvolução de Euler"
   ]
  },
  {
   "cell_type": "code",
   "execution_count": 10,
   "metadata": {
    "collapsed": false
   },
   "outputs": [],
   "source": [
    "estimativas_y0 = []\n",
    "estimativas_z0 = []\n",
    "estimativas_b  = []\n",
    "\n",
    "for j in range(len(n)):\n",
    "    \n",
    "    y0, z0, b = Euler2D(tf, Dytf, Dztf, y, z, n[j], npontos)\n",
    "    estimativas_y0.append(y0)\n",
    "    estimativas_z0.append(z0)\n",
    "    estimativas_b.append(b)"
   ]
  },
  {
   "cell_type": "markdown",
   "metadata": {},
   "source": [
    "## Visualização das estimativas + ACT"
   ]
  },
  {
   "cell_type": "code",
   "execution_count": 11,
   "metadata": {
    "collapsed": false
   },
   "outputs": [],
   "source": [
    "lambida = 0.10"
   ]
  },
  {
   "cell_type": "markdown",
   "metadata": {},
   "source": [
    "### Todas juntas"
   ]
  },
  {
   "cell_type": "code",
   "execution_count": 12,
   "metadata": {
    "collapsed": false
   },
   "outputs": [],
   "source": [
    "mpl.close('all')\n",
    "mpl.figure(figsize=(12,6))\n",
    "\n",
    "mpl.subplot(2,1,1)\n",
    "mpl.paths([[0.001*ymin, 0.0]], [[0.001*ymax, 0.0]], style='-k', linewidth=1.0)\n",
    "mpl.plot(0.001*y, tf, 'r-')\n",
    "mpl.plot(0.001*y, tf, 'ro', markersize=3)\n",
    "mpl.plot(0.001*y[:npontos], tf[:npontos], 'b-')\n",
    "mpl.plot(0.001*y[:npontos], tf[:npontos], 'bo', markersize=5)\n",
    "vmax = np.max(tf)\n",
    "vmin = np.min(tf)\n",
    "dv = lambida*(vmax - vmin)\n",
    "mpl.ylim(vmin - dv, vmax + dv)\n",
    "mpl.xlim(0.001*ymin, 0.001*ymax)\n",
    "mpl.ylabel('ACT (nT)', fontsize=18)\n",
    "mpl.xticks(fontsize=16)\n",
    "mpl.yticks(fontsize=16)\n",
    "\n",
    "mpl.subplot(2,1,2)\n",
    "mpl.paths([[ymin, 0.0]], [[ymax, 0.0]], style='-k', linewidth=1)\n",
    "mpl.polygon(poligono_bacia, style='--k', linewidth=1)\n",
    "for i, p in enumerate(poligonos_diques):\n",
    "    mpl.polygon(p, style='-k', linewidth=1)\n",
    "for i, p in enumerate(poligonos_soleiras):\n",
    "    mpl.polygon(p, style='-k', linewidth=1)\n",
    "for j in range(len(n)):\n",
    "    mpl.plot(estimativas_y0[j], estimativas_z0[j], colors[j], label=labels[j], markersize=7)\n",
    "dv = lambida*(zmax - zmin)\n",
    "mpl.ylim(zmax, zmin - dv)\n",
    "mpl.xlim(ymin, ymax)\n",
    "mpl.xlabel('y (km)', fontsize=18)\n",
    "mpl.ylabel('z (km)', fontsize=18)\n",
    "mpl.xticks(fontsize=16)\n",
    "mpl.yticks(fontsize=16)\n",
    "mpl.m2km()\n",
    "\n",
    "mpl.show()"
   ]
  },
  {
   "cell_type": "markdown",
   "metadata": {},
   "source": [
    "### Separadas"
   ]
  },
  {
   "cell_type": "code",
   "execution_count": 13,
   "metadata": {
    "collapsed": false,
    "scrolled": false
   },
   "outputs": [],
   "source": [
    "for j in range(len(n)):\n",
    "    mpl.close('all')\n",
    "    mpl.figure(figsize=(12,6))\n",
    "\n",
    "    mpl.subplot(2,1,1)\n",
    "    mpl.title('$\\eta$ = %.1f' % n[j], fontsize=20)\n",
    "    mpl.paths([[0.001*ymin, 0.0]], [[0.001*ymax, 0.0]], style='-k', linewidth=1.0)\n",
    "    mpl.plot(0.001*y, tf, 'r-')\n",
    "    mpl.plot(0.001*y, tf, 'ro', markersize=3)\n",
    "    mpl.plot(0.001*y[:npontos], tf[:npontos], 'b-')\n",
    "    mpl.plot(0.001*y[:npontos], tf[:npontos], 'bo', markersize=5)\n",
    "    vmax = np.max(tf)\n",
    "    vmin = np.min(tf)\n",
    "    dv = lambida*(vmax - vmin)\n",
    "    mpl.ylim(vmin - dv, vmax + dv)\n",
    "    mpl.xlim(0.001*ymin, 0.001*ymax)\n",
    "    mpl.ylabel('ACT (nT)', fontsize=18)\n",
    "    mpl.xticks(fontsize=16)\n",
    "    mpl.yticks(fontsize=16)\n",
    "\n",
    "    mpl.subplot(2,1,2)\n",
    "    mpl.paths([[ymin, 0.0]], [[ymax, 0.0]], style='-k', linewidth=1)\n",
    "    mpl.polygon(poligono_bacia, style='--k', linewidth=1)\n",
    "    for i, p in enumerate(poligonos_diques):\n",
    "        mpl.polygon(p, style='-k', linewidth=1)\n",
    "    for i, p in enumerate(poligonos_soleiras):\n",
    "        mpl.polygon(p, style='-k', linewidth=1)\n",
    "    mpl.plot(estimativas_y0[j], estimativas_z0[j], colors[j], label=labels[j], markersize=7)\n",
    "    dv = lambida*(zmax - zmin)\n",
    "    mpl.ylim(zmax, zmin - dv)\n",
    "    mpl.xlim(ymin, ymax)\n",
    "    mpl.xlabel('y (km)', fontsize=18)\n",
    "    mpl.ylabel('z (km)', fontsize=18)\n",
    "    mpl.xticks(fontsize=16)\n",
    "    mpl.yticks(fontsize=16)\n",
    "    mpl.m2km()\n",
    "\n",
    "    mpl.show()"
   ]
  },
  {
   "cell_type": "markdown",
   "metadata": {},
   "source": [
    "## Visualização das estimativas y em patamares"
   ]
  },
  {
   "cell_type": "code",
   "execution_count": 14,
   "metadata": {
    "collapsed": false
   },
   "outputs": [],
   "source": [
    "lambida = 0.10"
   ]
  },
  {
   "cell_type": "markdown",
   "metadata": {},
   "source": [
    "### Todas juntas"
   ]
  },
  {
   "cell_type": "code",
   "execution_count": 19,
   "metadata": {
    "collapsed": false
   },
   "outputs": [],
   "source": [
    "mpl.close('all')\n",
    "#mpl.figure(figsize=(12,6))\n",
    "mpl.figure()\n",
    "\n",
    "mpl.subplot(2,1,1)\n",
    "#mpl.paths([[0.001*ymin, 0.0]], [[0.001*ymax, 0.0]], style='-k', linewidth=1.0)\n",
    "for p in d:\n",
    "    mpl.paths([[0.001*ymin, 0.001*p[0]]], [[0.001*ymax, 0.001*p[0]]], style='-k', linewidth=1.0)\n",
    "for j in range(len(n)):\n",
    "    mpl.plot(0.001*ymedio, 0.001*estimativas_y0[j], colors[j], label=labels[j], markersize=3)\n",
    "mpl.xlim(0.001*ymin, 0.001*ymax)\n",
    "mpl.ylabel('$y_{0}$ (km)', fontsize=16)\n",
    "mpl.xticks(fontsize=14)\n",
    "mpl.yticks(fontsize=14)\n",
    "\n",
    "mpl.subplot(2,1,2)\n",
    "mpl.paths([[ymin, 0.0]], [[ymax, 0.0]], style='-k', linewidth=1)\n",
    "mpl.polygon(poligono_bacia, style='--k', linewidth=1)\n",
    "for i, p in enumerate(poligonos_diques):\n",
    "    mpl.polygon(p, style='-k', linewidth=1)\n",
    "for i, p in enumerate(poligonos_soleiras):\n",
    "    mpl.polygon(p, style='-k', linewidth=1)\n",
    "#for j in range(len(n)):\n",
    "#    mpl.plot(estimativas_y0[j], estimativas_z0[j], colors[j], label=labels[j], markersize=7)\n",
    "dv = lambida*(zmax - zmin)\n",
    "mpl.ylim(zmax, zmin - dv)\n",
    "mpl.xlim(ymin, ymax)\n",
    "mpl.xlabel('y (km)', fontsize=16)\n",
    "mpl.ylabel('z (km)', fontsize=16)\n",
    "mpl.xticks(fontsize=14)\n",
    "mpl.yticks(fontsize=14)\n",
    "mpl.m2km()\n",
    "\n",
    "mpl.show()"
   ]
  },
  {
   "cell_type": "markdown",
   "metadata": {},
   "source": [
    "### Separadas"
   ]
  },
  {
   "cell_type": "code",
   "execution_count": null,
   "metadata": {
    "collapsed": false
   },
   "outputs": [],
   "source": [
    "for j in range(len(n)):\n",
    "    mpl.close('all')\n",
    "    mpl.figure(figsize=(12,6))\n",
    "\n",
    "    mpl.subplot(2,1,1)\n",
    "    mpl.title('$\\eta$ = %.1f' % n[j], fontsize=20)\n",
    "    mpl.paths([[0.001*ymin, 0.0]], [[0.001*ymax, 0.0]], style='-k', linewidth=1.0)\n",
    "    mpl.plot(0.001*ymedio, 0.001*estimativas_y0[j], colors[j], label=labels[j], markersize=7)\n",
    "    mpl.xlim(0.001*ymin, 0.001*ymax)\n",
    "    mpl.ylabel('$y_{0}$ (km)', fontsize=18)\n",
    "    mpl.xticks(fontsize=16)\n",
    "    mpl.yticks(fontsize=16)\n",
    "\n",
    "    mpl.subplot(2,1,2)\n",
    "    mpl.paths([[ymin, 0.0]], [[ymax, 0.0]], style='-k', linewidth=1)\n",
    "    mpl.polygon(poligono_bacia, style='--k', linewidth=1)\n",
    "    for i, p in enumerate(poligonos_diques):\n",
    "        mpl.polygon(p, style='-k', linewidth=1)\n",
    "    for i, p in enumerate(poligonos_soleiras):\n",
    "        mpl.polygon(p, style='-k', linewidth=1)\n",
    "    mpl.plot(estimativas_y0[j], estimativas_z0[j], colors[j], label=labels[j], markersize=7)\n",
    "    dv = lambida*(zmax - zmin)\n",
    "    mpl.ylim(zmax, zmin - dv)\n",
    "    mpl.xlim(ymin, ymax)\n",
    "    mpl.xlabel('y (km)', fontsize=18)\n",
    "    mpl.ylabel('z (km)', fontsize=18)\n",
    "    mpl.xticks(fontsize=16)\n",
    "    mpl.yticks(fontsize=16)\n",
    "    mpl.m2km()\n",
    "\n",
    "    mpl.show()"
   ]
  },
  {
   "cell_type": "markdown",
   "metadata": {},
   "source": [
    "## Visualização das estimativas z em patamares"
   ]
  },
  {
   "cell_type": "code",
   "execution_count": null,
   "metadata": {
    "collapsed": false
   },
   "outputs": [],
   "source": [
    "lambida = 0.10"
   ]
  },
  {
   "cell_type": "markdown",
   "metadata": {},
   "source": [
    "### Todas juntas"
   ]
  },
  {
   "cell_type": "code",
   "execution_count": null,
   "metadata": {
    "collapsed": false
   },
   "outputs": [],
   "source": [
    "mpl.close('all')\n",
    "mpl.figure(figsize=(12,6))\n",
    "\n",
    "mpl.subplot(2,1,1)\n",
    "mpl.title('$\\eta$ = %.1f' % n[j], fontsize=20)\n",
    "mpl.paths([[0.001*ymin, 0.0]], [[0.001*ymax, 0.0]], style='-k', linewidth=1.0)\n",
    "for j in range(len(n)):\n",
    "    mpl.plot(0.001*ymedio, 0.001*estimativas_z0[j], colors[j], label=labels[j], markersize=7)\n",
    "mpl.xlim(0.001*ymin, 0.001*ymax)\n",
    "mpl.ylabel('$z_{0}$ (km)', fontsize=18)\n",
    "mpl.xticks(fontsize=16)\n",
    "mpl.yticks(fontsize=16)\n",
    "\n",
    "mpl.subplot(2,1,2)\n",
    "mpl.paths([[ymin, 0.0]], [[ymax, 0.0]], style='-k', linewidth=1)\n",
    "mpl.polygon(poligono_bacia, style='--k', linewidth=1)\n",
    "for i, p in enumerate(poligonos_diques):\n",
    "    mpl.polygon(p, style='-k', linewidth=1)\n",
    "for i, p in enumerate(poligonos_soleiras):\n",
    "    mpl.polygon(p, style='-k', linewidth=1)\n",
    "for j in range(len(n)):\n",
    "    mpl.plot(estimativas_y0[j], estimativas_z0[j], colors[j], label=labels[j], markersize=7)\n",
    "dv = lambida*(zmax - zmin)\n",
    "mpl.ylim(zmax, zmin - dv)\n",
    "mpl.xlim(ymin, ymax)\n",
    "mpl.xlabel('y (km)', fontsize=18)\n",
    "mpl.ylabel('z (km)', fontsize=18)\n",
    "mpl.xticks(fontsize=16)\n",
    "mpl.yticks(fontsize=16)\n",
    "mpl.m2km()\n",
    "\n",
    "mpl.show()"
   ]
  },
  {
   "cell_type": "markdown",
   "metadata": {},
   "source": [
    "### Separadas"
   ]
  },
  {
   "cell_type": "code",
   "execution_count": null,
   "metadata": {
    "collapsed": false
   },
   "outputs": [],
   "source": [
    "for j in range(len(n)):\n",
    "    mpl.close('all')\n",
    "    mpl.figure(figsize=(12,6))\n",
    "\n",
    "    mpl.subplot(2,1,1)\n",
    "    mpl.title('$\\eta$ = %.1f' % n[j], fontsize=20)\n",
    "    mpl.paths([[0.001*ymin, 0.0]], [[0.001*ymax, 0.0]], style='-k', linewidth=1.0)\n",
    "    mpl.plot(0.001*ymedio, 0.001*estimativas_z0[j], colors[j], label=labels[j], markersize=7)\n",
    "    mpl.xlim(0.001*ymin, 0.001*ymax)\n",
    "    mpl.ylabel('$z_{0}$ (km)', fontsize=18)\n",
    "    mpl.xticks(fontsize=16)\n",
    "    mpl.yticks(fontsize=16)\n",
    "\n",
    "    mpl.subplot(2,1,2)\n",
    "    mpl.paths([[ymin, 0.0]], [[ymax, 0.0]], style='-k', linewidth=1)\n",
    "    mpl.polygon(poligono_bacia, style='--k', linewidth=1)\n",
    "    for i, p in enumerate(poligonos_diques):\n",
    "        mpl.polygon(p, style='-k', linewidth=1)\n",
    "    for i, p in enumerate(poligonos_soleiras):\n",
    "        mpl.polygon(p, style='-k', linewidth=1)\n",
    "    mpl.plot(estimativas_y0[j], estimativas_z0[j], colors[j], label=labels[j], markersize=7)\n",
    "    dv = lambida*(zmax - zmin)\n",
    "    mpl.ylim(zmax, zmin - dv)\n",
    "    mpl.xlim(ymin, ymax)\n",
    "    mpl.xlabel('y (km)', fontsize=18)\n",
    "    mpl.ylabel('z (km)', fontsize=18)\n",
    "    mpl.xticks(fontsize=16)\n",
    "    mpl.yticks(fontsize=16)\n",
    "    mpl.m2km()\n",
    "\n",
    "    mpl.show()"
   ]
  },
  {
   "cell_type": "markdown",
   "metadata": {},
   "source": [
    "## Visualização das estimativas"
   ]
  },
  {
   "cell_type": "code",
   "execution_count": null,
   "metadata": {
    "collapsed": false
   },
   "outputs": [],
   "source": [
    "lambida = 0.10"
   ]
  },
  {
   "cell_type": "markdown",
   "metadata": {},
   "source": [
    "### Separadas"
   ]
  },
  {
   "cell_type": "code",
   "execution_count": null,
   "metadata": {
    "collapsed": false
   },
   "outputs": [],
   "source": [
    "for j in range(len(n)):\n",
    "\n",
    "    mpl.close('all')\n",
    "    mpl.figure(figsize=(12,3))\n",
    "    mpl.title('$\\eta$ = %.1f' % n[j], fontsize=20)\n",
    "    mpl.paths([[ymin, 0.0]], [[ymax, 0.0]], style='-k', linewidth=1)\n",
    "    mpl.polygon(poligono_bacia, style='--k', linewidth=1)\n",
    "    for i, p in enumerate(poligonos_diques):\n",
    "        mpl.polygon(p, style='-k', linewidth=1)\n",
    "    for i, p in enumerate(poligonos_soleiras):\n",
    "        mpl.polygon(p, style='-k', linewidth=1)\n",
    "    mpl.plot(estimativas_y0[j], estimativas_z0[j], colors[j], label=labels[j], markersize=7)\n",
    "    dv = lambida*(zmax - zmin)\n",
    "    mpl.ylim(zmax, zmin - dv)\n",
    "    mpl.xlim(ymin, ymax)\n",
    "    mpl.xlabel('y (km)', fontsize=18)\n",
    "    mpl.ylabel('z (km)', fontsize=18)\n",
    "    mpl.xticks(fontsize=16)\n",
    "    mpl.yticks(fontsize=16)\n",
    "    mpl.m2km()\n",
    "    mpl.show()"
   ]
  },
  {
   "cell_type": "markdown",
   "metadata": {},
   "source": [
    "### Todas juntas"
   ]
  },
  {
   "cell_type": "code",
   "execution_count": null,
   "metadata": {
    "collapsed": false
   },
   "outputs": [],
   "source": [
    "mpl.close('all')\n",
    "mpl.figure(figsize=(12,3))\n",
    "\n",
    "mpl.paths([[ymin, 0.0]], [[ymax, 0.0]], style='-k', linewidth=1)\n",
    "mpl.polygon(poligono_bacia, style='--k', linewidth=1)\n",
    "for i, p in enumerate(poligonos_diques):\n",
    "    mpl.polygon(p, style='-k', linewidth=1)\n",
    "for i, p in enumerate(poligonos_soleiras):\n",
    "    mpl.polygon(p, style='-k', linewidth=1)\n",
    "for j in range(len(n)):\n",
    "    mpl.plot(estimativas_y0[j], estimativas_z0[j], colors[j], label=labels[j], markersize=7)\n",
    "dv = lambida*(zmax - zmin)\n",
    "mpl.ylim(zmax, zmin - dv)\n",
    "mpl.xlim(ymin, ymax)\n",
    "mpl.xlabel('y (km)', fontsize=18)\n",
    "mpl.ylabel('z (km)', fontsize=18)\n",
    "mpl.xticks(fontsize=16)\n",
    "mpl.yticks(fontsize=16)\n",
    "mpl.m2km()\n",
    "mpl.show()"
   ]
  },
  {
   "cell_type": "code",
   "execution_count": null,
   "metadata": {
    "collapsed": false
   },
   "outputs": [],
   "source": []
  }
 ],
 "metadata": {
  "anaconda-cloud": {},
  "kernelspec": {
   "display_name": "Python [default]",
   "language": "python",
   "name": "python2"
  },
  "language_info": {
   "codemirror_mode": {
    "name": "ipython",
    "version": 2
   },
   "file_extension": ".py",
   "mimetype": "text/x-python",
   "name": "python",
   "nbconvert_exporter": "python",
   "pygments_lexer": "ipython2",
   "version": "2.7.12"
  }
 },
 "nbformat": 4,
 "nbformat_minor": 0
}
