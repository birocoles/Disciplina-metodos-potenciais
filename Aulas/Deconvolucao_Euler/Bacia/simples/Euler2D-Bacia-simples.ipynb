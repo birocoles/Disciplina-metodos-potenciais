{
 "cells": [
  {
   "cell_type": "markdown",
   "metadata": {},
   "source": [
    "# Exemplo da aplicação (indevida) de Deconvolução de Euler 2D para estimar a profundidade do embasamento. Neste exemplo, o relevo do embasamento é relativamente simples e não apresenta nenhuma falha."
   ]
  },
  {
   "cell_type": "markdown",
   "metadata": {},
   "source": [
    "Este [IPython Notebook](http://ipython.org/videos.html#the-ipython-notebook) utiliza a biblioteca de código aberto [Fatiando a Terra](http://fatiando.org/)"
   ]
  },
  {
   "cell_type": "code",
   "execution_count": 1,
   "metadata": {
    "collapsed": false
   },
   "outputs": [],
   "source": [
    "#%matplotlib inline\n",
    "import numpy as np\n",
    "from scipy import interpolate\n",
    "\n",
    "from fatiando import gravmag, mesher, utils, gridder\n",
    "from fatiando.gravmag import prism\n",
    "from fatiando.mesher import Prism, Polygon\n",
    "from fatiando.utils import ang2vec, si2nt\n",
    "from fatiando.gridder import regular\n",
    "from fatiando.vis import mpl"
   ]
  },
  {
   "cell_type": "markdown",
   "metadata": {},
   "source": [
    "Na Deconvolução de Euler 2D, as coordenadas $\\color{blue}{y_{0}}$ e $\\color{blue}{z_{0}}$ da fonte, bem como o nível de base $\\color{green}{B}$ são estimados via solução de um sistema linear. Cada linha deste sistema linear e dada por:"
   ]
  },
  {
   "cell_type": "markdown",
   "metadata": {},
   "source": [
    "$\\color{blue}{y_{0}}\\dfrac{\\partial \\Delta T_{i}}{\\partial y} + \n",
    " \\color{blue}{z_{0}}\\dfrac{\\partial \\Delta T_{i}}{\\partial z} +\n",
    " \\eta \\, \\color{green}{B} = \n",
    " y_{i}\\dfrac{\\partial \\Delta T_{i}}{\\partial y} + \n",
    " z_{i}\\dfrac{\\partial \\Delta T_{i}}{\\partial z} +\n",
    " \\eta \\, \\Delta T_{i}$ ,"
   ]
  },
  {
   "cell_type": "markdown",
   "metadata": {},
   "source": [
    "em que $y_{i}$ e $z_{i}$ são as coordenadas do $i$-ésimo ponto de observação, $\\Delta T_{i}$, $\\dfrac{\\partial \\Delta T_{i}}{\\partial y}$ e $\\dfrac{\\partial \\Delta T_{i}}{\\partial z}$ são, respectivamente, a anomalia de campo total (ACT) e suas derivadas espaciais no $i$-ésimo ponto de observação e $\\eta$ é um escalar positivo denominado **índice estrutural**. Este parâmetro define o formato da fonte cuja posição será estimada via Deconvolução de Euler. Uma superfície ondulada, tal como o relevo do embasamento sob uma bacia sedimentar, **NÃO** é uma fonte cuja posição pode ser estimada via Deconvolução de Euler. "
   ]
  },
  {
   "cell_type": "code",
   "execution_count": 2,
   "metadata": {
    "collapsed": false
   },
   "outputs": [],
   "source": [
    "def Euler2D(tf, Dytf, Dztf, y, z, si, npontos):\n",
    "    '''\n",
    "    Deconvolução de Euler 2D\n",
    "    \n",
    "    sistema de coordenadas\n",
    "      x: dimensão infinita\n",
    "      y: direção ao longo do perfil\n",
    "      z: aponta para baixo\n",
    "    \n",
    "    input\n",
    "      tf: array com a anomalia de campo total (ACT)\n",
    "      Dytf: array com a derivada espacial da ACT na direção y\n",
    "      Dztf: array com a derivada espacial da ACT na direção z\n",
    "      y: array com a coordenadas das observações ao longo do perfil\n",
    "      si: índice estrutural\n",
    "      npontos: número de pontos em cada janela\n",
    "      \n",
    "    output\n",
    "      y0: array com as coordenadas y estimadas para cada janela\n",
    "          de dados\n",
    "      z0: array com as coordenadas z estimadas para cada janela\n",
    "          de dados\n",
    "      b: array com os níveis de base estimados para cada janela\n",
    "          de dados\n",
    "\n",
    "    '''\n",
    "\n",
    "    y0 = np.zeros(len(y) + 1 - npontos)\n",
    "    z0 = np.zeros(len(y) + 1 - npontos)\n",
    "    b = np.zeros(len(y) + 1 - npontos)\n",
    "    \n",
    "    vsi = si*np.ones(npontos)\n",
    "\n",
    "    # Janela móvel\n",
    "    for i in range(len(y) + 1 - npontos):\n",
    "        S = np.vstack((Dytf[i:i+npontos],Dztf[i:i+npontos],vsi)).T\n",
    "        s = Dytf[i:i+npontos]*y[i:i+npontos] + \\\n",
    "            Dztf[i:i+npontos]*z[i:i+npontos] + \\\n",
    "            vsi*tf[i:i+npontos]\n",
    "        STS = S.T.dot(S)\n",
    "        STs = S.T.dot(s)\n",
    "        # Coordenadas estimadas\n",
    "        p = np.linalg.solve(STS,STs)\n",
    "        y0[i] = p[0]\n",
    "        z0[i] = p[1]\n",
    "        b[i]  = p[2]\n",
    "\n",
    "    return y0, z0, b"
   ]
  },
  {
   "cell_type": "markdown",
   "metadata": {},
   "source": [
    "## Coordenadas das observações e do modelo"
   ]
  },
  {
   "cell_type": "code",
   "execution_count": 3,
   "metadata": {
    "collapsed": false
   },
   "outputs": [],
   "source": [
    "ymin = 0.0\n",
    "ymax = 100000.0\n",
    "ny = 201\n",
    "dy = (ymax - ymin)/(ny - 1)\n",
    "L = ymax - ymin\n",
    "y = np.linspace(ymin, ymax, ny)\n",
    "x = np.zeros_like(y)\n",
    "z = np.zeros_like(y)-150.0\n",
    "\n",
    "zmin = -2000.0\n",
    "zmax = 8000.0\n",
    "xmin = -100000.0\n",
    "xmax =  100000.0\n",
    "\n",
    "area = [ymin, ymax, zmax, zmin]\n",
    "\n",
    "inc, dec = -39.8, -22.5 # inclinação e declinação do campo geomagnético"
   ]
  },
  {
   "cell_type": "markdown",
   "metadata": {},
   "source": [
    "## Bacia"
   ]
  },
  {
   "cell_type": "code",
   "execution_count": 5,
   "metadata": {
    "collapsed": false
   },
   "outputs": [],
   "source": [
    "poligono_bacia = []\n",
    "bacia = []\n",
    "\n",
    "# Embasamento inicial\n",
    "mpl.close('all')\n",
    "axes = mpl.pyplot.figure().add_subplot(1,1,1)\n",
    "mpl.ylim(zmax, zmin)\n",
    "mpl.xlim(ymin, ymax)\n",
    "mpl.xlabel('y (m)')\n",
    "mpl.ylabel('z (m)')\n",
    "mpl.paths([[ymin, 0.0]], [[ymax, 0.0]], style='-k', linewidth=1)\n",
    "d = mpl.draw_polygon(area, axes, color='r')"
   ]
  },
  {
   "cell_type": "code",
   "execution_count": null,
   "metadata": {
    "collapsed": true
   },
   "outputs": [],
   "source": [
    "#d = np.array([[  9.97983871e+04,   4.49790795e+01],\n",
    "#              [  9.33467742e+04,   3.58786611e+02],\n",
    "#              [  8.83064516e+04,   9.07949791e+02],\n",
    "#              [  8.30645161e+04,   1.82322176e+03],\n",
    "#              [  7.78225806e+04,   2.55543933e+03],\n",
    "#              [  7.03629032e+04,   3.10460251e+03],\n",
    "#              [  6.33064516e+04,   3.31380753e+03],\n",
    "#              [  3.32661290e+04,   3.41841004e+03],\n",
    "#              [  2.74193548e+04,   3.20920502e+03],\n",
    "#              [  2.09677419e+04,   2.63389121e+03],\n",
    "#              [  1.67338710e+04,   1.74476987e+03],\n",
    "#              [  1.37096774e+04,   9.07949791e+02],\n",
    "#              [  9.47580645e+03,   3.58786611e+02],\n",
    "#              [  1.20967742e+03,   4.49790795e+01]])"
   ]
  },
  {
   "cell_type": "code",
   "execution_count": 6,
   "metadata": {
    "collapsed": false
   },
   "outputs": [],
   "source": [
    "# Embasamento interpolado\n",
    "f = interpolate.interp1d(d[:,0], d[:,1], kind = 'linear', bounds_error = False, fill_value = 0.0)\n",
    "nb = 201\n",
    "by = np.linspace(ymin, ymax, nb)\n",
    "bz = f(by)\n",
    "bz[0] = 0.0\n",
    "bz[nb-1] = 0.0\n",
    "\n",
    "poligono_bacia = mesher.Polygon(np.vstack((by, bz)).T)\n",
    "\n",
    "# Visualização 2D da bacia\n",
    "mpl.figure(figsize=(12,3))\n",
    "mpl.title('Bacia sedimentar', fontsize=20)\n",
    "mpl.paths([[ymin, 0.0]], [[ymax, 0.0]], style='-k', linewidth=1)\n",
    "mpl.polygon(poligono_bacia, style='--k', linewidth=1)\n",
    "mpl.ylim(zmax, zmin)\n",
    "mpl.xlabel('y (km)', fontsize=18)\n",
    "mpl.ylabel('z (km)', fontsize=18)\n",
    "mpl.xticks(fontsize=16)\n",
    "mpl.yticks(fontsize=16)\n",
    "mpl.m2km()\n",
    "mpl.show()\n",
    "\n",
    "# Lista de prismas que formam a bacia\n",
    "db = (ymax - ymin)/(nb - 1)\n",
    "for i in range(nb):\n",
    "    bacia.append(mesher.Prism(xmin, xmax, \n",
    "                              by[i], by[i] + db,\n",
    "                              0.0, bz[i], {'magnetization': utils.ang2vec(-0.1, inc, dec)}))"
   ]
  },
  {
   "cell_type": "markdown",
   "metadata": {},
   "source": [
    "## Anomalia de campo total (ACT)"
   ]
  },
  {
   "cell_type": "code",
   "execution_count": null,
   "metadata": {
    "collapsed": false
   },
   "outputs": [],
   "source": [
    "tf = gravmag.prism.tf(x, y, z, bacia, inc, dec)"
   ]
  },
  {
   "cell_type": "markdown",
   "metadata": {},
   "source": [
    "## Visualização da anomalia de campo total"
   ]
  },
  {
   "cell_type": "code",
   "execution_count": null,
   "metadata": {
    "collapsed": false
   },
   "outputs": [],
   "source": [
    "mpl.close('all')\n",
    "mpl.figure(figsize=(12,6))\n",
    "\n",
    "lambida = 0.10\n",
    "\n",
    "mpl.subplot(2,1,1)\n",
    "mpl.plot(0.001*y, tf, 'r-')\n",
    "mpl.plot(0.001*y, tf, 'ro', markersize=3)\n",
    "vmax = np.max(tf)\n",
    "vmin = np.min(tf)\n",
    "dv = lambida*(vmax - vmin)\n",
    "mpl.ylim(vmin - dv, vmax + dv)\n",
    "mpl.xlim(0.001*ymin, 0.001*ymax)\n",
    "mpl.ylabel('ACT (nT)', fontsize=18)\n",
    "mpl.xticks(fontsize=16)\n",
    "mpl.yticks(fontsize=16)\n",
    "\n",
    "mpl.subplot(2,1,2)\n",
    "mpl.paths([[ymin, 0.0]], [[ymax, 0.0]], style='-k', linewidth=1)\n",
    "mpl.polygon(poligono_bacia, style='--k', linewidth=1)\n",
    "dv = lambida*(zmax - zmin)\n",
    "mpl.ylim(zmax, zmin - dv)\n",
    "mpl.xlim(ymin, ymax)\n",
    "mpl.xlabel('y (km)', fontsize=18)\n",
    "mpl.ylabel('z (km)', fontsize=18)\n",
    "mpl.xticks(fontsize=16)\n",
    "mpl.yticks(fontsize=16)\n",
    "mpl.m2km()\n",
    "#mpl.savefig('bacia-ACT.png', dpi=600)\n",
    "mpl.show()"
   ]
  },
  {
   "cell_type": "markdown",
   "metadata": {},
   "source": [
    "## Derivadas espaciais da ACT"
   ]
  },
  {
   "cell_type": "code",
   "execution_count": null,
   "metadata": {
    "collapsed": false
   },
   "outputs": [],
   "source": [
    "delta = 10.0\n",
    "\n",
    "# Derivadas numéricas\n",
    "Dytf  = gravmag.prism.tf(x, y + delta, z, bacia, inc, dec)\n",
    "Dytf -= gravmag.prism.tf(x, y - delta, z, bacia, inc, dec)\n",
    "Dytf  = Dytf/(2.0*delta) # nT/km\n",
    "\n",
    "Dztf  = gravmag.prism.tf(x, y, z + delta, bacia, inc, dec)\n",
    "Dztf -= gravmag.prism.tf(x, y, z - delta, bacia, inc, dec)\n",
    "Dztf  = Dztf/(2.0*delta) # nT/km\n",
    "\n",
    "# Visualização da anomalia de campo total + derivadas em y e z\n",
    "mpl.close('all')\n",
    "mpl.figure(figsize=(12,9))\n",
    "\n",
    "lambida = 0.10\n",
    "\n",
    "mpl.subplot(3,1,1)\n",
    "mpl.paths([[0.001*ymin, 0.0]], [[0.001*ymax, 0.0]], style='-k', linewidth=1.0)\n",
    "mpl.plot(0.001*y, tf, 'k-')\n",
    "mpl.plot(0.001*y, tf, 'ko', markersize=3)\n",
    "vmax = np.max(tf)\n",
    "vmin = np.min(tf)\n",
    "dv = lambida*(vmax - vmin)\n",
    "mpl.ylim(vmin - dv, vmax + dv)\n",
    "mpl.xlim(0.001*ymin, 0.001*ymax)\n",
    "mpl.ylabel('ACT (nT)', fontsize=18)\n",
    "mpl.xticks(fontsize=16)\n",
    "mpl.yticks(fontsize=16)\n",
    "\n",
    "mpl.subplot(3,1,2)\n",
    "mpl.paths([[0.001*ymin, 0.0]], [[0.001*ymax, 0.0]], style='-k', linewidth=1.0)\n",
    "mpl.plot(0.001*y, 1000.0*Dytf, 'k-')\n",
    "mpl.plot(0.001*y, 1000.0*Dytf, 'ko', markersize=3)\n",
    "vmax = np.max(1000.0*Dytf)\n",
    "vmin = np.min(1000.0*Dytf)\n",
    "dv = lambida*(vmax - vmin)\n",
    "mpl.ylim(vmin - dv, vmax + dv)\n",
    "mpl.xlim(0.001*ymin, 0.001*ymax)\n",
    "mpl.ylabel('dACT/dy (nT/km)', fontsize=18)\n",
    "mpl.xticks(fontsize=16)\n",
    "mpl.yticks(fontsize=16)\n",
    "\n",
    "mpl.subplot(3,1,3)\n",
    "mpl.paths([[0.001*ymin, 0.0]], [[0.001*ymax, 0.0]], style='-k', linewidth=1.0)\n",
    "mpl.plot(0.001*y, 1000.0*Dztf, 'k-')\n",
    "mpl.plot(0.001*y, 1000.0*Dztf, 'ko', markersize=3)\n",
    "vmax = np.max(1000.0*Dztf)\n",
    "vmin = np.min(1000.0*Dztf)\n",
    "dv = lambida*(vmax - vmin)\n",
    "mpl.ylim(vmin - dv, vmax + dv)\n",
    "mpl.xlim(0.001*ymin,0.001* ymax)\n",
    "mpl.ylabel('dACT/dz (nT/km)', fontsize=18)\n",
    "mpl.xlabel('y (km)', fontsize=18)\n",
    "mpl.xticks(fontsize=16)\n",
    "mpl.yticks(fontsize=16)\n",
    "\n",
    "mpl.show()"
   ]
  },
  {
   "cell_type": "markdown",
   "metadata": {},
   "source": [
    "## Parâmetros da Deconvolução de Euler"
   ]
  },
  {
   "cell_type": "code",
   "execution_count": null,
   "metadata": {
    "collapsed": false
   },
   "outputs": [],
   "source": [
    "npontos = 10 # número de pontos por janela\n",
    "#npontos = ny # apenas uma janela\n",
    "\n",
    "dymedio = 0.5*(y[npontos-1] - y[0])\n",
    "\n",
    "ymedio = np.linspace(ymin + dymedio, \n",
    "                     ymax - dymedio, \n",
    "                     len(y) + 1 - npontos)\n",
    "\n",
    "n = [0.5,1,1.5,2,3] # lista de índices estruturais\n",
    "colors = ['ro','go','bo','yo','ko']\n",
    "labels = ['0.5','1','1.5','2','3']\n",
    "\n",
    "mpl.close('all')\n",
    "mpl.figure(figsize=(12,6))\n",
    "\n",
    "lambida = 0.10\n",
    "\n",
    "mpl.subplot(2,1,1)\n",
    "mpl.plot(0.001*y, tf, 'r-')\n",
    "mpl.plot(0.001*y, tf, 'ro', markersize=3)\n",
    "mpl.plot(0.001*y[:npontos], tf[:npontos], 'b-', markersize=5)\n",
    "mpl.plot(0.001*y[:npontos], tf[:npontos], 'bo', markersize=5)\n",
    "vmax = np.max(tf)\n",
    "vmin = np.min(tf)\n",
    "dv = lambida*(vmax - vmin)\n",
    "mpl.ylim(vmin - dv, vmax + dv)\n",
    "mpl.xlim(0.001*ymin, 0.001*ymax)\n",
    "mpl.ylabel('ACT (nT)', fontsize=18)\n",
    "mpl.xticks(fontsize=16)\n",
    "mpl.yticks(fontsize=16)\n",
    "\n",
    "mpl.subplot(2,1,2)\n",
    "mpl.paths([[ymin, 0.0]], [[ymax, 0.0]], style='-k', linewidth=1)\n",
    "mpl.polygon(poligono_bacia, style='--k', linewidth=1)\n",
    "dv = lambida*(zmax - zmin)\n",
    "mpl.ylim(zmax, zmin - dv)\n",
    "mpl.xlim(ymin, ymax)\n",
    "mpl.xlabel('y (km)', fontsize=18)\n",
    "mpl.ylabel('z (km)', fontsize=18)\n",
    "mpl.xticks(fontsize=16)\n",
    "mpl.yticks(fontsize=16)\n",
    "mpl.m2km()\n",
    "#mpl.savefig('bacia-ACT-janela.png', dpi=600)\n",
    "mpl.show()"
   ]
  },
  {
   "cell_type": "markdown",
   "metadata": {},
   "source": [
    "## Deconvolução de Euler"
   ]
  },
  {
   "cell_type": "code",
   "execution_count": null,
   "metadata": {
    "collapsed": false
   },
   "outputs": [],
   "source": [
    "estimativas_y0 = []\n",
    "estimativas_z0 = []\n",
    "estimativas_b  = []\n",
    "\n",
    "for j in range(len(n)):\n",
    "    \n",
    "    y0, z0, b = Euler2D(tf, Dytf, Dztf, y, z, n[j], npontos)\n",
    "    estimativas_y0.append(y0)\n",
    "    estimativas_z0.append(z0)\n",
    "    estimativas_b.append(b)"
   ]
  },
  {
   "cell_type": "markdown",
   "metadata": {},
   "source": [
    "## Visualização das estimativas + ACT"
   ]
  },
  {
   "cell_type": "code",
   "execution_count": null,
   "metadata": {
    "collapsed": false
   },
   "outputs": [],
   "source": [
    "lambida = 0.10 # parâmetros que controla os eixos"
   ]
  },
  {
   "cell_type": "markdown",
   "metadata": {},
   "source": [
    "### Todas juntas"
   ]
  },
  {
   "cell_type": "code",
   "execution_count": null,
   "metadata": {
    "collapsed": false
   },
   "outputs": [],
   "source": [
    "mpl.close('all')\n",
    "mpl.figure(figsize=(12,6))\n",
    "\n",
    "mpl.subplot(2,1,1)\n",
    "mpl.paths([[0.001*ymin, 0.0]], [[0.001*ymax, 0.0]], style='-k', linewidth=1.0)\n",
    "mpl.plot(0.001*y, tf, 'r-')\n",
    "mpl.plot(0.001*y, tf, 'ro', markersize=3)\n",
    "mpl.plot(0.001*y[:npontos], tf[:npontos], 'b-')\n",
    "mpl.plot(0.001*y[:npontos], tf[:npontos], 'bo', markersize=5)\n",
    "vmax = np.max(tf)\n",
    "vmin = np.min(tf)\n",
    "dv = lambida*(vmax - vmin)\n",
    "mpl.ylim(vmin - dv, vmax + dv)\n",
    "mpl.xlim(0.001*ymin, 0.001*ymax)\n",
    "mpl.ylabel('ACT (nT)', fontsize=18)\n",
    "mpl.xticks(fontsize=16)\n",
    "mpl.yticks(fontsize=16)\n",
    "\n",
    "mpl.subplot(2,1,2)\n",
    "mpl.paths([[ymin, 0.0]], [[ymax, 0.0]], style='-k', linewidth=1)\n",
    "mpl.polygon(poligono_bacia, style='--k', linewidth=1)\n",
    "for j in range(len(n)):\n",
    "    mpl.plot(estimativas_y0[j], estimativas_z0[j], colors[j], label=labels[j], markersize=7)\n",
    "dv = lambida*(zmax - zmin)\n",
    "mpl.ylim(zmax, zmin - dv)\n",
    "mpl.xlim(ymin, ymax)\n",
    "mpl.xlabel('y (km)', fontsize=18)\n",
    "mpl.ylabel('z (km)', fontsize=18)\n",
    "mpl.xticks(fontsize=16)\n",
    "mpl.yticks(fontsize=16)\n",
    "mpl.m2km()\n",
    "#mpl.savefig('bacia-ACT-estimativas.png', dpi=600)\n",
    "mpl.show()"
   ]
  },
  {
   "cell_type": "markdown",
   "metadata": {},
   "source": [
    "### Separadas"
   ]
  },
  {
   "cell_type": "code",
   "execution_count": null,
   "metadata": {
    "collapsed": false
   },
   "outputs": [],
   "source": [
    "for j in range(len(n)):\n",
    "    mpl.close('all')\n",
    "    mpl.figure(figsize=(12,6))\n",
    "    mpl.subplot(2,1,1)\n",
    "    mpl.title('$\\eta$ = %.1f' % n[j], fontsize=20)\n",
    "    mpl.paths([[0.001*ymin, 0.0]], [[0.001*ymax, 0.0]], style='-k', linewidth=1.0)\n",
    "    mpl.plot(0.001*y, tf, 'r-')\n",
    "    mpl.plot(0.001*y, tf, 'ro', markersize=3)\n",
    "    mpl.plot(0.001*y[:npontos], tf[:npontos], 'b-')\n",
    "    mpl.plot(0.001*y[:npontos], tf[:npontos], 'bo', markersize=5)\n",
    "    vmax = np.max(tf)\n",
    "    vmin = np.min(tf)\n",
    "    dv = lambida*(vmax - vmin)\n",
    "    mpl.ylim(vmin - dv, vmax + dv)\n",
    "    mpl.xlim(0.001*ymin, 0.001*ymax)\n",
    "    mpl.ylabel('ACT (nT)', fontsize=18)\n",
    "    mpl.xticks(fontsize=16)\n",
    "    mpl.yticks(fontsize=16)\n",
    "\n",
    "    mpl.subplot(2,1,2)\n",
    "    mpl.paths([[ymin, 0.0]], [[ymax, 0.0]], style='-k', linewidth=1)\n",
    "    mpl.polygon(poligono_bacia, style='--k', linewidth=1)\n",
    "    mpl.plot(estimativas_y0[j], estimativas_z0[j], colors[j], label=labels[j], markersize=7)\n",
    "    dv = lambida*(zmax - zmin)\n",
    "    mpl.ylim(zmax, zmin - dv)\n",
    "    mpl.xlim(ymin, ymax)\n",
    "    mpl.xlabel('y (km)', fontsize=18)\n",
    "    mpl.ylabel('z (km)', fontsize=18)\n",
    "    mpl.xticks(fontsize=16)\n",
    "    mpl.yticks(fontsize=16)\n",
    "    mpl.m2km()\n",
    "    #mpl.savefig('bacia-ACT-est-ien%d.png' % j, dpi=600)\n",
    "    mpl.show()"
   ]
  },
  {
   "cell_type": "markdown",
   "metadata": {},
   "source": [
    "## Visualização das estimativas"
   ]
  },
  {
   "cell_type": "code",
   "execution_count": null,
   "metadata": {
    "collapsed": false
   },
   "outputs": [],
   "source": [
    "lambida = 0.10 # parâmetros que controla os eixos"
   ]
  },
  {
   "cell_type": "markdown",
   "metadata": {},
   "source": [
    "### Separadas"
   ]
  },
  {
   "cell_type": "code",
   "execution_count": null,
   "metadata": {
    "collapsed": false
   },
   "outputs": [],
   "source": [
    "for j in range(len(n)):\n",
    "\n",
    "    mpl.close('all')\n",
    "    mpl.figure(figsize=(12,3))\n",
    "    mpl.title('$\\eta$ = %.1f' % n[j], fontsize=20)\n",
    "    mpl.paths([[ymin, 0.0]], [[ymax, 0.0]], style='-k', linewidth=1)\n",
    "    mpl.polygon(poligono_bacia, style='--k', linewidth=1)\n",
    "    mpl.plot(estimativas_y0[j], estimativas_z0[j], colors[j], label=labels[j], markersize=7)\n",
    "    dv = lambida*(zmax - zmin)\n",
    "    mpl.ylim(zmax, zmin - dv)\n",
    "    mpl.xlim(ymin, ymax)\n",
    "    mpl.xlabel('y (km)', fontsize=18)\n",
    "    mpl.ylabel('z (km)', fontsize=18)\n",
    "    mpl.xticks(fontsize=16)\n",
    "    mpl.yticks(fontsize=16)\n",
    "    mpl.m2km()\n",
    "    #mpl.savefig('est-ien%d.png' % j, dpi=600)\n",
    "    mpl.show()"
   ]
  },
  {
   "cell_type": "markdown",
   "metadata": {},
   "source": [
    "### Todas juntas"
   ]
  },
  {
   "cell_type": "code",
   "execution_count": null,
   "metadata": {
    "collapsed": false
   },
   "outputs": [],
   "source": [
    "mpl.close('all')\n",
    "mpl.figure(figsize=(12,3))\n",
    "\n",
    "mpl.paths([[ymin, 0.0]], [[ymax, 0.0]], style='-k', linewidth=1)\n",
    "mpl.polygon(poligono_bacia, style='--k', linewidth=1)\n",
    "for j in range(len(n)):\n",
    "    mpl.plot(estimativas_y0[j], estimativas_z0[j], colors[j], label=labels[j], markersize=7)\n",
    "dv = lambida*(zmax - zmin)\n",
    "mpl.ylim(zmax, zmin - dv)\n",
    "mpl.xlim(ymin, ymax)\n",
    "mpl.xlabel('y (km)', fontsize=18)\n",
    "mpl.ylabel('z (km)', fontsize=18)\n",
    "mpl.xticks(fontsize=16)\n",
    "mpl.yticks(fontsize=16)\n",
    "mpl.m2km()\n",
    "#mpl.savefig('estimativas.png', dpi=600)\n",
    "mpl.show()"
   ]
  },
  {
   "cell_type": "code",
   "execution_count": null,
   "metadata": {
    "collapsed": false
   },
   "outputs": [],
   "source": []
  }
 ],
 "metadata": {
  "kernelspec": {
   "display_name": "Python 2",
   "language": "python",
   "name": "python2"
  },
  "language_info": {
   "codemirror_mode": {
    "name": "ipython",
    "version": 2
   },
   "file_extension": ".py",
   "mimetype": "text/x-python",
   "name": "python",
   "nbconvert_exporter": "python",
   "pygments_lexer": "ipython2",
   "version": "2.7.10"
  }
 },
 "nbformat": 4,
 "nbformat_minor": 0
}
