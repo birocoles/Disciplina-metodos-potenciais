{
 "cells": [
  {
   "cell_type": "markdown",
   "metadata": {},
   "source": [
    "# Título do exercício"
   ]
  },
  {
   "cell_type": "markdown",
   "metadata": {},
   "source": [
    "Descrição breve sobre o exercício. Por exemplo, escreva o enunciado e, se necessário, coloque expressões em $Latex$."
   ]
  },
  {
   "cell_type": "markdown",
   "metadata": {},
   "source": [
    "Exemplo:\n",
    "\n",
    "A coordenadas $\\text{X}$ de um ponto referido a um sistema de coordenadas Cartesianas com origen no centro de massa da Terra pode ser escrito em função de suas coordenadas $(r, \\theta, \\lambda)$ (Figura 1) em um sistema de coordenadas esféricas$^{\\ast}$ da seguinte forma:\n",
    "\n",
    "$$\n",
    "\\text{X} = r \\, \\text{sen}\\theta \\, \\text{cos}\\lambda \\: ,\n",
    "$$\n",
    "\n",
    "em que $r$ é a distância radial, $\\theta$ é a colatitude e $\\lambda$ é a longitude."
   ]
  },
  {
   "cell_type": "markdown",
   "metadata": {},
   "source": [
    "$^{\\ast}$ <small>ver o notebook \"`...\\Aulas\\Sistemas_coordenadas\\coordenadas_cartesianas_esfericas.ipynb`\""
   ]
  },
  {
   "cell_type": "markdown",
   "metadata": {},
   "source": [
    "<img src='Figs\\imagem-exemplo.png' width=600>"
   ]
  },
  {
   "cell_type": "markdown",
   "metadata": {},
   "source": [
    "**Figura 1:** *Exemplo esquemático da relação entre a coordenadas Cartesiana $\\text{X}$ e as coordenadas esféricas $(r, \\theta, \\lambda)$.*"
   ]
  },
  {
   "cell_type": "markdown",
   "metadata": {},
   "source": [
    "# Coisas para importar"
   ]
  },
  {
   "cell_type": "markdown",
   "metadata": {},
   "source": [
    "Em Python, frequentemente precisamos importar alguns pacotes com funções numéricas e de plotagem. Ao longo deste curso, dois pacotes serão utilizados frequentemente: [`numpy`](http://www.numpy.org/) e [`matplotlib`](http://matplotlib.org/). A célula abaixo exemplifica como importar tais pacotes:"
   ]
  },
  {
   "cell_type": "code",
   "execution_count": 1,
   "metadata": {
    "collapsed": true
   },
   "outputs": [],
   "source": [
    "import numpy as np\n",
    "from matplotlib import pyplot as plt"
   ]
  },
  {
   "cell_type": "markdown",
   "metadata": {},
   "source": [
    "Na célula acima, a primeira linha executa um comando para importar o `numpy` e atribui a este o \"apelido\" `np`. O uso deste \"apelido\" implica que, ao longo deste script, o `numpy` será chamado de `np`. O uso deste \"apelido\" será exemplificado nas células abaixo. Observe que o comando executado na primeira linha é quase literal, isto é, ele pode ser traduzido como \"importe o `numpy` como `np`\". Similarmente, na segunda linha da célula acima, o comando importa o `pyplot`, que é parte do pacote `matplotlib`, e atribui a ele o \"apelido\" `plt`. Note que, assim como na primeira linha, o comando executado na segunda linha pode ser traduzido como \"do `matplotlib`, importe o `pyplot` como `plt`\"."
   ]
  },
  {
   "cell_type": "markdown",
   "metadata": {},
   "source": [
    "# Minha implementação"
   ]
  },
  {
   "cell_type": "markdown",
   "metadata": {},
   "source": [
    "Aqui, escreva a sua função para realizar os cálculos envolvidos no exercício. Em linhas gerais, uma função possui os seguintes elementos:"
   ]
  },
  {
   "cell_type": "markdown",
   "metadata": {},
   "source": [
    "```python\n",
    "def nome_da_funcao (entrada1, entrada2, ...):\n",
    "    '''\n",
    "    Espaco reservado para uma descricao breve sobre o\n",
    "    que a funcao faz.\n",
    "    \n",
    "    descricao das variaveis de entrada\n",
    "    \n",
    "    entrada1: tipo de variavel - significado desta variavel\n",
    "              nesta funcao.\n",
    "    entrada2: tipo de variavel - significado desta variavel\n",
    "              nesta funcao.\n",
    "    entrada3: ...\n",
    "    \n",
    "    descricao das variaveis de saida\n",
    "    \n",
    "    saida1: tipo de variavel - significado desta variavel\n",
    "            nesta funcao.\n",
    "    saida2: tipo de variavel - significado desta variavel\n",
    "            nesta funcao.\n",
    "    saida3: ...\n",
    "    '''\n",
    "    \n",
    "    #teste de verificacao das variaveis de entrada\n",
    "    assert condicao1, condicao2, condicao3, ..., \n",
    "           \"mensagem de erro emitida caso as condicoes nao sejam satisfeitas\"\n",
    "    \n",
    "    Codigo da funcao #comentarios sao feitos utilizando o jogo da velha\n",
    "    Codigo da funcao #comentarios sao feitos utilizando o jogo da velha\n",
    "    Codigo da funcao #comentarios sao feitos utilizando o jogo da velha\n",
    "    Codigo da funcao #comentarios sao feitos utilizando o jogo da velha\n",
    "    Codigo da funcao #comentarios sao feitos utilizando o jogo da velha\n",
    "    Codigo da funcao #comentarios sao feitos utilizando o jogo da velha\n",
    "    \n",
    "    return saida1, saida2, saida3, ...\n",
    "```"
   ]
  },
  {
   "cell_type": "markdown",
   "metadata": {},
   "source": [
    "**Obs.:** Evite utilizar acentos, \"ç\", etc. nos comentários, descrições e mensagens de erro ao longo da função."
   ]
  },
  {
   "cell_type": "markdown",
   "metadata": {},
   "source": [
    "Exemplo de função:"
   ]
  },
  {
   "cell_type": "code",
   "execution_count": 7,
   "metadata": {
    "collapsed": true
   },
   "outputs": [],
   "source": [
    "def calcula_X(r, theta, lamb):\n",
    "    '''\n",
    "    Esta funcao calcula a coordenadas Cartesiana X\n",
    "    a partir das coordenadas esfericas r, theta e lamb.\n",
    "    \n",
    "    variaveis de entrada\n",
    "    \n",
    "    r: float ou numpy array 1D - distancia radial (em metro).\n",
    "    theta: float ou numpy array 1D - colatitude (em grau).\n",
    "    lamb: float ou numpy array 1D - longitude (em grau).\n",
    "    \n",
    "    variavel de saida\n",
    "    \n",
    "    X: float ou numpy array 1D - coordenada(s) Cartesiana(s) (em metro).\n",
    "    '''\n",
    "    \n",
    "    assert (r.all() > 0.), \"r deve ser maior que zero!\"\n",
    "    \n",
    "    #transforma os angulos de grau para radiano\n",
    "    theta_radiano = np.deg2rad(theta)\n",
    "    lamb_radiano = np.deg2rad(lamb)\n",
    "    \n",
    "    X = r*np.sin(theta_radiano)*np.cos(lamb_radiano)\n",
    "    \n",
    "    return X"
   ]
  },
  {
   "cell_type": "markdown",
   "metadata": {},
   "source": [
    "Note que esta função verifica se todos os valores de distância radial `r` são positivos, depois transforma a colatitude `theta` e a longitude `lamb` de grau para radiano e, por fim, calcula `X`. "
   ]
  },
  {
   "cell_type": "markdown",
   "metadata": {},
   "source": [
    "Note que, para transformar de grau para radiano, a função utiliza uma outra função chamada [`deg2rad`](http://docs.scipy.org/doc/numpy/reference/generated/numpy.deg2rad.html), que é parte do `numpy`. Por isso, o comando que executa esta função deve ser precedido de `np.`, uma vez que `np` é o \"apelido\" atribuído ao `numpy` ao longo deste script. O mesmo acontece quando as funções [`sin`](http://docs.scipy.org/doc/numpy/reference/generated/numpy.sin.html) e [`cos`](http://docs.scipy.org/doc/numpy/reference/generated/numpy.cos.html) são utilizadas."
   ]
  },
  {
   "cell_type": "markdown",
   "metadata": {},
   "source": [
    "Nesta função, `r`, `theta` e `lamb` podem ser tanto um float quanto um [`numpy array`](http://docs.scipy.org/doc/numpy/reference/generated/numpy.array.html). Para mais informações sobre como criar um `numpy array`, acesse o link http://docs.scipy.org/doc/numpy/user/basics.creation.html."
   ]
  },
  {
   "cell_type": "markdown",
   "metadata": {},
   "source": [
    "# Variáveis de entrada"
   ]
  },
  {
   "cell_type": "markdown",
   "metadata": {},
   "source": [
    "Nesta parte do script, crie as variáveis de entrada que a sua função receberá. Por exemplo:"
   ]
  },
  {
   "cell_type": "code",
   "execution_count": 19,
   "metadata": {
    "collapsed": true
   },
   "outputs": [],
   "source": [
    "r = np.array([6371000.0, 6371100.0, 6371200.0])\n",
    "theta = np.array([0.0, 45.0, 90.0])\n",
    "lamb = np.array([-45.0, 45.0, 60.0])"
   ]
  },
  {
   "cell_type": "markdown",
   "metadata": {},
   "source": [
    "# Resultado produzido pela função criada por você"
   ]
  },
  {
   "cell_type": "markdown",
   "metadata": {},
   "source": [
    "Aqui você deve calcular um resultado produzido pela sua função a partir das variáveis de entrada criadas por você na célula acima, por exemplo:"
   ]
  },
  {
   "cell_type": "code",
   "execution_count": 20,
   "metadata": {
    "collapsed": false
   },
   "outputs": [],
   "source": [
    "X_meu = calcula_X(r,theta,lamb)"
   ]
  },
  {
   "cell_type": "markdown",
   "metadata": {},
   "source": [
    "# Resultado proveniente de uma implementação independente"
   ]
  },
  {
   "cell_type": "markdown",
   "metadata": {},
   "source": [
    "De acordo com o exemplo apresentado neste script, esta parte deve conter a variável `X`, calculada com as variáveis de entrada definidas acima, obtida a partir de uma implementação independente ou a partir de uma dedução matemática feita por você. Por exemplo, de acordo com as contas mostradas na parte inicial deste script, sabe-se que, se calcularmos `X` a partir das variáveis de entrada `r`, `theta` e `lamb` definidas acima, o resultado é `0.0`, `6371100.0/2 = 3185550.0` e `6371200.0/2 = 3185600.0`. Portanto, se a função feita neste script estiver correta, o resultado deve ser igual (ou próximo) a:"
   ]
  },
  {
   "cell_type": "code",
   "execution_count": 23,
   "metadata": {
    "collapsed": false
   },
   "outputs": [],
   "source": [
    "X_independente = np.array([0.0,  3185550.0,  3185600.0])"
   ]
  },
  {
   "cell_type": "markdown",
   "metadata": {},
   "source": [
    "# Teste de validação"
   ]
  },
  {
   "cell_type": "markdown",
   "metadata": {},
   "source": [
    "Esta parte do script executa um teste para verificar se o resultado produzido pela sua função é igual (ou próximo o suficiente) do valor obtido de forma independente. Sem este teste, dependendo da complexidade do problema, seria praticamente impossível verificar se a função feita por você está correta. Se o resultado produzido pela sua função passar neste teste de validação, isso é um indício de que a sua função está correta. Para saber se sua função funciona para todos os casos possíveis e imagináveis, seria necessário testar sua função para todos os casos possíveis e imagináveis, o que é (obviamente) impossível."
   ]
  },
  {
   "cell_type": "code",
   "execution_count": 24,
   "metadata": {
    "collapsed": false
   },
   "outputs": [
    {
     "data": {
      "text/plain": [
       "True"
      ]
     },
     "execution_count": 24,
     "metadata": {},
     "output_type": "execute_result"
    }
   ],
   "source": [
    "np.allclose(X_meu, X_independente)"
   ]
  },
  {
   "cell_type": "markdown",
   "metadata": {},
   "source": [
    "Note que o resultado produzido pela função `allclose`$^{\\ast\\ast}$ é `True`, o que significa os elementos de `X_meu` e `X_independente` são iguais (ou próximos o suficiente)."
   ]
  },
  {
   "cell_type": "markdown",
   "metadata": {},
   "source": [
    "$^{\\ast\\ast}$ <small>Para saber os detalhes da função `allclose`, procure (no Google, por exemplo) \"`numpy allclose`\". Esta pesquisa deve levá-lo ao link http://docs.scipy.org/doc/numpy/reference/generated/numpy.allclose.html. Este tipo de pesquisa, na grande maioria das vezes, serve para descobrir como funciona quase todas as funções do Python."
   ]
  },
  {
   "cell_type": "code",
   "execution_count": null,
   "metadata": {
    "collapsed": true
   },
   "outputs": [],
   "source": []
  }
 ],
 "metadata": {
  "kernelspec": {
   "display_name": "Python 2",
   "language": "python",
   "name": "python2"
  },
  "language_info": {
   "codemirror_mode": {
    "name": "ipython",
    "version": 2
   },
   "file_extension": ".py",
   "mimetype": "text/x-python",
   "name": "python",
   "nbconvert_exporter": "python",
   "pygments_lexer": "ipython2",
   "version": "2.7.10"
  }
 },
 "nbformat": 4,
 "nbformat_minor": 0
}
