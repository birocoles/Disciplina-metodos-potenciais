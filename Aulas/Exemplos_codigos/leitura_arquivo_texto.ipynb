{
 "cells": [
  {
   "cell_type": "markdown",
   "metadata": {},
   "source": [
    "# Exemplo de código para ler dados de um arquivo"
   ]
  },
  {
   "cell_type": "markdown",
   "metadata": {},
   "source": [
    "Este script mostra um exemplo de como ler um arquivo de texto. Para tanto, utilizou-se um arquivo exemplo denominado `primeiras-linhas-eigen-6c4.gfc`. Este arquivo contém as primeiras linhas do arquivo `eigen-6c4.gfc`, que contem os coeficientes do modelo global do campo de gravidade **EIGEN-6C4** (Förste et al., 2014). O arquivo `eigen-6c4.gfc` completo pode ser baixado no site do IGCEM, na página [Table of models](http://icgem.gfz-potsdam.de/ICGEM/modelstab.html)."
   ]
  },
  {
   "cell_type": "markdown",
   "metadata": {},
   "source": [
    "* Förste C., Bruinsma S.L., Abrikosov O., Lemoine J.-M., Schaller T., Götze H.-J., Ebbing J., Marty J.C., Flechtner F., Balmino G., Biancale R., 2014, EIGEN-6C4 The latest combined global gravity field model including GOCE data up to degree and order 2190 of GFZ Potsdam and GRGS Toulouse, 5th GOCE User Workshop, Paris, 25-28 November 2014"
   ]
  },
  {
   "cell_type": "code",
   "execution_count": 1,
   "metadata": {
    "collapsed": true
   },
   "outputs": [],
   "source": [
    "import numpy as np"
   ]
  },
  {
   "cell_type": "markdown",
   "metadata": {},
   "source": [
    "## Leitura do arquivo pela função [`loadtxt`](http://docs.scipy.org/doc/numpy/reference/generated/numpy.loadtxt.html)"
   ]
  },
  {
   "cell_type": "markdown",
   "metadata": {},
   "source": [
    "### Alternativa 1"
   ]
  },
  {
   "cell_type": "code",
   "execution_count": 2,
   "metadata": {
    "collapsed": true
   },
   "outputs": [],
   "source": [
    "dados1 = np.loadtxt('primeiras-linhas-eigen-6c4.gfc', skiprows=79, usecols=(1,2,3,4))"
   ]
  },
  {
   "cell_type": "code",
   "execution_count": 3,
   "metadata": {
    "collapsed": false
   },
   "outputs": [
    {
     "name": "stdout",
     "output_type": "stream",
     "text": [
      "float64\n"
     ]
    }
   ],
   "source": [
    "print dados1.dtype"
   ]
  },
  {
   "cell_type": "code",
   "execution_count": 4,
   "metadata": {
    "collapsed": false
   },
   "outputs": [
    {
     "name": "stdout",
     "output_type": "stream",
     "text": [
      "[[  0.00000000e+00   0.00000000e+00   1.00000000e+00   0.00000000e+00]\n",
      " [  1.00000000e+00   0.00000000e+00   0.00000000e+00   0.00000000e+00]\n",
      " [  2.00000000e+00   0.00000000e+00  -4.84165217e-04   0.00000000e+00]\n",
      " [  3.00000000e+00   0.00000000e+00   9.57173593e-07   0.00000000e+00]\n",
      " [  4.00000000e+00   0.00000000e+00   5.39998755e-07   0.00000000e+00]]\n"
     ]
    }
   ],
   "source": [
    "print dados1[:5]"
   ]
  },
  {
   "cell_type": "code",
   "execution_count": 5,
   "metadata": {
    "collapsed": false
   },
   "outputs": [
    {
     "name": "stdout",
     "output_type": "stream",
     "text": [
      "[  1.00000000e+00   0.00000000e+00  -4.84165217e-04   9.57173593e-07\n",
      "   5.39998755e-07]\n"
     ]
    }
   ],
   "source": [
    "print dados1[:5,2]"
   ]
  },
  {
   "cell_type": "code",
   "execution_count": 6,
   "metadata": {
    "collapsed": false
   },
   "outputs": [
    {
     "name": "stdout",
     "output_type": "stream",
     "text": [
      "0 [ 0.  0.  1.  0.]\n",
      "1 [ 1.  0.  0.  0.]\n",
      "2 [  2.00000000e+00   0.00000000e+00  -4.84165217e-04   0.00000000e+00]\n",
      "3 [  3.00000000e+00   0.00000000e+00   9.57173593e-07   0.00000000e+00]\n",
      "4 [  4.00000000e+00   0.00000000e+00   5.39998755e-07   0.00000000e+00]\n"
     ]
    }
   ],
   "source": [
    "for i, linha in enumerate(dados1[:5]):\n",
    "    print i, linha"
   ]
  },
  {
   "cell_type": "code",
   "execution_count": 7,
   "metadata": {
    "collapsed": false
   },
   "outputs": [
    {
     "name": "stdout",
     "output_type": "stream",
     "text": [
      "0 1.0\n",
      "1 0.0\n",
      "2 -0.000484165217061\n",
      "3 9.57173592933e-07\n",
      "4 5.39998754738e-07\n"
     ]
    }
   ],
   "source": [
    "for i, linha in enumerate(dados1[:5]):\n",
    "    print i, linha[2]"
   ]
  },
  {
   "cell_type": "code",
   "execution_count": 8,
   "metadata": {
    "collapsed": false
   },
   "outputs": [
    {
     "name": "stdout",
     "output_type": "stream",
     "text": [
      "0 0.0\n",
      "1 0.0\n",
      "2 0.0\n",
      "3 0.0\n",
      "4 0.0\n"
     ]
    }
   ],
   "source": [
    "for i, linha in enumerate(dados1[:5]):\n",
    "    print i, linha[3]"
   ]
  },
  {
   "cell_type": "code",
   "execution_count": 9,
   "metadata": {
    "collapsed": false
   },
   "outputs": [
    {
     "name": "stdout",
     "output_type": "stream",
     "text": [
      "[  4.00000000e+00   0.00000000e+00   5.39998755e-07   0.00000000e+00]\n"
     ]
    }
   ],
   "source": [
    "print dados1[4]"
   ]
  },
  {
   "cell_type": "code",
   "execution_count": 10,
   "metadata": {
    "collapsed": false
   },
   "outputs": [
    {
     "name": "stdout",
     "output_type": "stream",
     "text": [
      "4.0\n"
     ]
    }
   ],
   "source": [
    "print dados1[4][0]"
   ]
  },
  {
   "cell_type": "code",
   "execution_count": 11,
   "metadata": {
    "collapsed": false
   },
   "outputs": [
    {
     "name": "stdout",
     "output_type": "stream",
     "text": [
      "5.39998754738e-07\n"
     ]
    }
   ],
   "source": [
    "print dados1[4][2]"
   ]
  },
  {
   "cell_type": "markdown",
   "metadata": {},
   "source": [
    "### Alternativa 2"
   ]
  },
  {
   "cell_type": "code",
   "execution_count": 12,
   "metadata": {
    "collapsed": false
   },
   "outputs": [],
   "source": [
    "tipos = {'names': ('n', 'm', 'Anm', 'Bnm'), 'formats': ('int', 'int', 'float', 'float')}\n",
    "\n",
    "dados2 = np.loadtxt('primeiras-linhas-eigen-6c4.gfc', dtype=tipos, skiprows=79, usecols=(1,2,3,4))"
   ]
  },
  {
   "cell_type": "code",
   "execution_count": 13,
   "metadata": {
    "collapsed": false
   },
   "outputs": [
    {
     "name": "stdout",
     "output_type": "stream",
     "text": [
      "[('n', '<i4'), ('m', '<i4'), ('Anm', '<f8'), ('Bnm', '<f8')]\n"
     ]
    }
   ],
   "source": [
    "print dados2.dtype"
   ]
  },
  {
   "cell_type": "code",
   "execution_count": 14,
   "metadata": {
    "collapsed": false
   },
   "outputs": [
    {
     "name": "stdout",
     "output_type": "stream",
     "text": [
      "[(0, 0, 1.0, 0.0) (1, 0, 0.0, 0.0) (2, 0, -0.000484165217061, 0.0)\n",
      " (3, 0, 9.57173592933e-07, 0.0) (4, 0, 5.39998754738e-07, 0.0)]\n"
     ]
    }
   ],
   "source": [
    "print dados2[:5]"
   ]
  },
  {
   "cell_type": "code",
   "execution_count": 15,
   "metadata": {
    "collapsed": false
   },
   "outputs": [
    {
     "ename": "IndexError",
     "evalue": "too many indices for array",
     "output_type": "error",
     "traceback": [
      "\u001b[1;31m---------------------------------------------------------------------------\u001b[0m",
      "\u001b[1;31mIndexError\u001b[0m                                Traceback (most recent call last)",
      "\u001b[1;32m<ipython-input-15-cdb56a196d82>\u001b[0m in \u001b[0;36m<module>\u001b[1;34m()\u001b[0m\n\u001b[1;32m----> 1\u001b[1;33m \u001b[1;32mprint\u001b[0m \u001b[0mdados2\u001b[0m\u001b[1;33m[\u001b[0m\u001b[1;33m:\u001b[0m\u001b[1;36m5\u001b[0m\u001b[1;33m,\u001b[0m\u001b[1;36m2\u001b[0m\u001b[1;33m]\u001b[0m\u001b[1;33m\u001b[0m\u001b[0m\n\u001b[0m",
      "\u001b[1;31mIndexError\u001b[0m: too many indices for array"
     ]
    }
   ],
   "source": [
    "print dados2[:5,2]"
   ]
  },
  {
   "cell_type": "code",
   "execution_count": 16,
   "metadata": {
    "collapsed": false
   },
   "outputs": [
    {
     "name": "stdout",
     "output_type": "stream",
     "text": [
      "0 (0, 0, 1.0, 0.0)\n",
      "1 (1, 0, 0.0, 0.0)\n",
      "2 (2, 0, -0.000484165217061, 0.0)\n",
      "3 (3, 0, 9.57173592933e-07, 0.0)\n",
      "4 (4, 0, 5.39998754738e-07, 0.0)\n"
     ]
    }
   ],
   "source": [
    "for i, linha in enumerate(dados2[:5]):\n",
    "    print i, linha"
   ]
  },
  {
   "cell_type": "code",
   "execution_count": 17,
   "metadata": {
    "collapsed": false
   },
   "outputs": [
    {
     "name": "stdout",
     "output_type": "stream",
     "text": [
      "0 1.0\n",
      "1 0.0\n",
      "2 -0.000484165217061\n",
      "3 9.57173592933e-07\n",
      "4 5.39998754738e-07\n"
     ]
    }
   ],
   "source": [
    "for i, linha in enumerate(dados2[:5]):\n",
    "    print i, linha[2]"
   ]
  },
  {
   "cell_type": "code",
   "execution_count": 18,
   "metadata": {
    "collapsed": false
   },
   "outputs": [
    {
     "name": "stdout",
     "output_type": "stream",
     "text": [
      "0 0.0\n",
      "1 0.0\n",
      "2 0.0\n",
      "3 0.0\n",
      "4 0.0\n"
     ]
    }
   ],
   "source": [
    "for i, linha in enumerate(dados2[:5]):\n",
    "    print i, linha[3]"
   ]
  },
  {
   "cell_type": "code",
   "execution_count": 19,
   "metadata": {
    "collapsed": false
   },
   "outputs": [
    {
     "name": "stdout",
     "output_type": "stream",
     "text": [
      "(4, 0, 5.39998754738e-07, 0.0)\n"
     ]
    }
   ],
   "source": [
    "print dados2[4]"
   ]
  },
  {
   "cell_type": "code",
   "execution_count": 20,
   "metadata": {
    "collapsed": false
   },
   "outputs": [
    {
     "name": "stdout",
     "output_type": "stream",
     "text": [
      "4\n"
     ]
    }
   ],
   "source": [
    "print dados2[4][0]"
   ]
  },
  {
   "cell_type": "code",
   "execution_count": 21,
   "metadata": {
    "collapsed": false
   },
   "outputs": [
    {
     "name": "stdout",
     "output_type": "stream",
     "text": [
      "5.39998754738e-07\n"
     ]
    }
   ],
   "source": [
    "print dados2[4][2]"
   ]
  },
  {
   "cell_type": "code",
   "execution_count": null,
   "metadata": {
    "collapsed": true
   },
   "outputs": [],
   "source": []
  }
 ],
 "metadata": {
  "kernelspec": {
   "display_name": "Python 2",
   "language": "python",
   "name": "python2"
  },
  "language_info": {
   "codemirror_mode": {
    "name": "ipython",
    "version": 2
   },
   "file_extension": ".py",
   "mimetype": "text/x-python",
   "name": "python",
   "nbconvert_exporter": "python",
   "pygments_lexer": "ipython2",
   "version": "2.7.10"
  }
 },
 "nbformat": 4,
 "nbformat_minor": 0
}
