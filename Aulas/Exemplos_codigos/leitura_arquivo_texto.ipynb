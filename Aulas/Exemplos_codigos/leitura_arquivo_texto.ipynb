{
 "cells": [
  {
   "cell_type": "markdown",
   "metadata": {},
   "source": [
    "# Exemplo de código para ler dados de um arquivo"
   ]
  },
  {
   "cell_type": "markdown",
   "metadata": {},
   "source": [
    "Este script mostra um exemplo de como ler um arquivo de texto. Para tanto, utilizou-se um arquivo exemplo denominado `primeiras-linhas-eigen-6c4.gfc`. Este arquivo contém as primeiras linhas do arquivo `eigen-6c4.gfc`, que contem os coeficientes do modelo global do campo de gravidade **EIGEN-6C4** (Förste et al., 2014). O arquivo `eigen-6c4.gfc` completo pode ser baixado no site do IGCEM, na página [Table of models](http://icgem.gfz-potsdam.de/ICGEM/modelstab.html)."
   ]
  },
  {
   "cell_type": "markdown",
   "metadata": {},
   "source": [
    "* Förste C., Bruinsma S.L., Abrikosov O., Lemoine J.-M., Schaller T., Götze H.-J., Ebbing J., Marty J.C., Flechtner F., Balmino G., Biancale R., 2014, EIGEN-6C4 The latest combined global gravity field model including GOCE data up to degree and order 2190 of GFZ Potsdam and GRGS Toulouse, 5th GOCE User Workshop, Paris, 25-28 November 2014"
   ]
  },
  {
   "cell_type": "code",
   "execution_count": 1,
   "metadata": {
    "collapsed": true
   },
   "outputs": [],
   "source": [
    "import numpy as np"
   ]
  },
  {
   "cell_type": "markdown",
   "metadata": {},
   "source": [
    "## Leitura do arquivo pela função [`loadtxt`](http://docs.scipy.org/doc/numpy/reference/generated/numpy.loadtxt.html)"
   ]
  },
  {
   "cell_type": "markdown",
   "metadata": {},
   "source": [
    "### Arquivo original"
   ]
  },
  {
   "cell_type": "code",
   "execution_count": 2,
   "metadata": {
    "collapsed": false
   },
   "outputs": [
    {
     "name": "stdout",
     "output_type": "stream",
     "text": [
      "The Gravity Field Model EIGEN-6C4\n",
      "-------------------------------------------------------------------------------------\n",
      "\n",
      "EIGEN-6C4 is a static global combined gravity field modelup to degree and order 2190. \n",
      "It has been elaborated jointly  by GFZ Potsdam and GRGS Toulouse and contains the \n",
      "following  satellite and ground data:\n",
      "\n",
      "- LAGEOS (deg. 2 - 30): 1985 - 2010\n",
      "\n",
      "- GRACE RL03 GRGS (deg. 2 - 130): ten years 2003 - 2012\n",
      "\n",
      "- GOCE-SGG data, processed by the direct approach (Pail et al. 2011,\n",
      "  Bruinsma et al. 2014, to deg. 235) incl. the gravity gradient\n",
      "  components Txx, Tyy, Tzz and Txz out of the following time spans:\n",
      "  837 days out of the nominal mission time span 20091101 - 20120801\n",
      "  422 days out of the lower orbit phase between 20120901 - 20130524\n",
      "  The GOCE polar gaps were stabilized by the Spherical Cap Regularization\n",
      "  (Metzler and Pail 2005) using the combined gravity field model EIGEN-6C3stat\n",
      "  \n",
      "- Terrestrial data (max degree 370):\n",
      "  DTU12 ocean geoid data (Anderson et al. 2009) and an EGM2008 geoid height \n",
      "  grid for the continents\n",
      "  \n",
      "The combination of these different satellite and surface data sets has been \n",
      "done by a band-limited combination of normale equations (to max degree 370), \n",
      "which are gererated from observation equations for the spherical harmonic \n",
      "coefficients. A brief description of the applied techniques for the generation \n",
      "of such a combined gravity field model is given in Shako et al. 2014. The \n",
      "resulted solution to degree/order 370 has been extended to degree/order 2190 by \n",
      "a block diagonal solution using the DTU10 global gravity anomaly data grid.  \n",
      "\n",
      "References:\n",
      "------------\n",
      "Andersen O. B. P. Knudsen and P. Berry. (2009): DNSC08 mean sea surface and \n",
      "mean dynamic topography models, Journal of Geophys Research, Vol. 114, c11001 \n",
      "12 pp., 2009, doi:10.1029/2008JC005179\n",
      "\n",
      "Bruinsma, S.L., J.M. Lemoine, R. Biancale, N. Vales (2009) CNES/GRGS 10-day \n",
      "gravity field models (release 2) and their evaluation, Adv. Space Res., \n",
      "doi:10.1016/j.asr.2009.10.012.\n",
      "\n",
      "Sean L. Bruinsma, Christoph Foerste, Oleg Abrikosov, Jean-Michel Lemoine, \n",
      "Jean-Charles Marty, Sandrine Mulet, Marie-Helene Rio, and Sylvain Bonvalot (2014),\n",
      "ESA's satellite-only gravity field model via the direct approach based on all \n",
      "GOCE data, Geophys. Research Letters, doi: 10.1002/2014GL062045\n",
      "\n",
      "Metzler B. and Pail R., 2005, GOCE Data Processing: The Sperical Cap Regularization \n",
      "Approach, Stud. Geophys. Geod. 49 (2005), 441-462\n",
      "\n",
      "Pail R., Bruinsma S., Migliaccio F., Foerste C., Goiginger H., Schuh W.-D, Hoeck E, \n",
      "Reguzzoni M., Brockmann J.M, Abrikosov O., Veicherts M., Fecher T., Mayrhofer R., \n",
      "Krasbutter I., Sanso F. & Tscherning C.C., 2011, First GOCE gravity field models \n",
      "derived by three different approaches. Journal of Geodesy, 85, 11, 819-843\n",
      "\n",
      "Shako, R., F�rste, C., Abrykosov, O., Bruinsma, S., Marty, J.-C., Lemoine, J.-M., \n",
      "Flechtner, F., Neumayer, K.-H., Dahle, C. (2014): EIGEN-6C: A High-Resolution Global \n",
      "Gravity Combination Model Including GOCE Data - In: Flechtner, F., Sneeuw, N., \n",
      "Schuh, W.-D. ( Eds. ), Observation of the System Earth from Space - CHAMP, GRACE, \n",
      "GOCE and future missions, (GEOTECHNOLOGIEN Science Report; No. 20; Advanced\n",
      "Technologies in Earth Sciences), Berlin [u.a.]: Springer, 155-161.\n",
      "DOI 10.1007/978-3-642-32135-1_20, Print ISBN 978-3-642-32134-4\n",
      "Online ISBN 978-3-642-32135-1 \n",
      "\n",
      "\n",
      "begin_of_head =====================================\n",
      "product_type             gravity_field\n",
      "modelname                EIGEN-6C4\n",
      "earth_gravity_constant   0.3986004415E+15\n",
      "radius                   0.6378136460E+07\n",
      "max_degree               2190\n",
      "errors                   formal\n",
      "norm                     fully_normalized\n",
      "tide_system              tide_free\n",
      "\n",
      " \n",
      " \n",
      " \n",
      "key    L    M         C                  S           sigma C    sigma S\n",
      "end_of_head ===========================================================================\n",
      "gfc    0    0  1.00000000000e+00 0.000000000000e+00 0.0000e+00 0.0000e+00\n",
      "gfc    1    0 0.000000000000e+00 0.000000000000e+00 0.0000e+00 0.0000e+00\n",
      "gfc    2    0 -4.84165217061e-04 0.000000000000e+00 1.1081e-13 0.0000e+00\n",
      "gfc    3    0  9.57173592933e-07 0.000000000000e+00 6.5264e-14 0.0000e+00\n",
      "gfc    4    0  5.39998754738e-07 0.000000000000e+00 2.9945e-14 0.0000e+00\n",
      "gfc    5    0  6.86465403533e-08 0.000000000000e+00 2.2918e-14 0.0000e+00\n",
      "gfc    6    0 -1.49975580611e-07 0.000000000000e+00 1.8644e-14 0.0000e+00\n",
      "gfc    7    0  9.04993977725e-08 0.000000000000e+00 1.6557e-14 0.0000e+00\n",
      "gfc    8    0  4.94771152555e-08 0.000000000000e+00 1.5132e-14 0.0000e+00\n",
      "gfc    9    0  2.80189081183e-08 0.000000000000e+00 1.4193e-14 0.0000e+00\n",
      "gfc   10    0  5.33423116338e-08 0.000000000000e+00 1.3564e-14 0.0000e+00\n",
      "gfc   11    0 -5.07611016973e-08 0.000000000000e+00 1.3111e-14 0.0000e+00\n",
      "gfc   12    0  3.64435592465e-08 0.000000000000e+00 1.2843e-14 0.0000e+00\n",
      "gfc   13    0  4.17311135442e-08 0.000000000000e+00 1.2662e-14 0.0000e+00\n",
      "gfc   14    0 -2.26655295722e-08 0.000000000000e+00 1.2607e-14 0.0000e+00\n",
      "gfc   15    0  2.19010432009e-09 0.000000000000e+00 1.2630e-14 0.0000e+00\n",
      "gfc   16    0 -4.70985009674e-09 0.000000000000e+00 1.2737e-14 0.0000e+00\n",
      "gfc   17    0  1.91847648376e-08 0.000000000000e+00 1.2939e-14 0.0000e+00\n",
      "gfc   18    0  6.09757439321e-09 0.000000000000e+00 1.3203e-14 0.0000e+00\n",
      "gfc   19    0 -3.30316918400e-09 0.000000000000e+00 1.3499e-14 0.0000e+00\n",
      "gfc   20    0  2.15606957703e-08 0.000000000000e+00 1.3626e-14 0.0000e+00\n",
      "gfc   21    0  6.25245786211e-09 0.000000000000e+00 1.3850e-14 0.0000e+00\n",
      "gfc   22    0 -1.07772551861e-08 0.000000000000e+00 1.4121e-14 0.0000e+00\n",
      "gfc   23    0 -2.22564327242e-08 0.000000000000e+00 1.4502e-14 0.0000e+00\n",
      "gfc   24    0 -7.47137109248e-11 0.000000000000e+00 1.4930e-14 0.0000e+00\n",
      "gfc   25    0  3.20792909426e-09 0.000000000000e+00 1.5389e-14 0.0000e+00\n",
      "gfc   26    0  5.88970099750e-09 0.000000000000e+00 1.5916e-14 0.0000e+00\n",
      "gfc   27    0  3.61624207559e-09 0.000000000000e+00 1.6480e-14 0.0000e+00\n",
      "gfc   28    0 -9.77533855660e-09 0.000000000000e+00 1.7081e-14 0.0000e+00\n",
      "gfc   29    0 -5.27716331108e-09 0.000000000000e+00 1.7735e-14 0.0000e+00\n",
      "gfc   30    0  6.25544606359e-09 0.000000000000e+00 1.8421e-14 0.0000e+00\n",
      "gfc   31    0  6.76094921000e-09 0.000000000000e+00 1.9176e-14 0.0000e+00\n",
      "gfc   32    0 -2.40194781314e-09 0.000000000000e+00 1.9934e-14 0.0000e+00\n",
      "gfc   33    0 -3.63318049074e-09 0.000000000000e+00 2.0815e-14 0.0000e+00\n",
      "gfc   34    0 -8.93539086924e-09 0.000000000000e+00 2.1699e-14 0.0000e+00\n",
      "gfc   35    0  7.76551548071e-09 0.000000000000e+00 2.2721e-14 0.0000e+00\n",
      "gfc   36    0 -3.65509439320e-09 0.000000000000e+00 2.3733e-14 0.0000e+00\n",
      "gfc   37    0 -5.70956690613e-09 0.000000000000e+00 2.4905e-14 0.0000e+00\n",
      "gfc   38    0 -2.42735819356e-09 0.000000000000e+00 2.6052e-14 0.0000e+00\n",
      "gfc   39    0  1.29300478075e-09 0.000000000000e+00 2.7382e-14 0.0000e+00\n",
      "gfc   40    0 -6.21928856483e-09 0.000000000000e+00 2.8712e-14 0.0000e+00\n",
      "gfc   41    0 -3.24128083215e-09 0.000000000000e+00 3.0225e-14 0.0000e+00\n",
      "gfc   42    0 -2.20722173059e-09 0.000000000000e+00 3.1713e-14 0.0000e+00\n",
      "gfc   43    0  6.46173786491e-09 0.000000000000e+00 3.3443e-14 0.0000e+00\n",
      "gfc   44    0  3.43221732370e-10 0.000000000000e+00 3.5132e-14 0.0000e+00\n",
      "gfc   45    0 -3.25267906126e-09 0.000000000000e+00 3.7098e-14 0.0000e+00\n",
      "gfc   46    0 -3.10796319282e-09 0.000000000000e+00 3.9006e-14 0.0000e+00\n",
      "gfc   47    0  9.36183917193e-10 0.000000000000e+00 4.1232e-14 0.0000e+00\n"
     ]
    }
   ],
   "source": [
    "arquivo = open('primeiras-linhas-eigen-6c4.gfc', 'r')\n",
    "\n",
    "print arquivo.read()\n",
    "\n",
    "arquivo.close()"
   ]
  },
  {
   "cell_type": "markdown",
   "metadata": {},
   "source": [
    "### Alternativa 1"
   ]
  },
  {
   "cell_type": "markdown",
   "metadata": {},
   "source": [
    "Esta alternativa não especifica o formato dos dados, isto é, não especifica o parâmetro [`dtype`](http://docs.scipy.org/doc/numpy/reference/arrays.dtypes.html) dos dados a serem lidos no arquivo de texto."
   ]
  },
  {
   "cell_type": "code",
   "execution_count": 3,
   "metadata": {
    "collapsed": true
   },
   "outputs": [],
   "source": [
    "dados1 = np.loadtxt('primeiras-linhas-eigen-6c4.gfc', skiprows=79, usecols=(1,2,3,4))"
   ]
  },
  {
   "cell_type": "code",
   "execution_count": 4,
   "metadata": {
    "collapsed": false
   },
   "outputs": [
    {
     "name": "stdout",
     "output_type": "stream",
     "text": [
      "float64\n"
     ]
    }
   ],
   "source": [
    "print dados1.dtype"
   ]
  },
  {
   "cell_type": "code",
   "execution_count": 5,
   "metadata": {
    "collapsed": false
   },
   "outputs": [
    {
     "name": "stdout",
     "output_type": "stream",
     "text": [
      "[[  0.00000000e+00   0.00000000e+00   1.00000000e+00   0.00000000e+00]\n",
      " [  1.00000000e+00   0.00000000e+00   0.00000000e+00   0.00000000e+00]\n",
      " [  2.00000000e+00   0.00000000e+00  -4.84165217e-04   0.00000000e+00]\n",
      " [  3.00000000e+00   0.00000000e+00   9.57173593e-07   0.00000000e+00]\n",
      " [  4.00000000e+00   0.00000000e+00   5.39998755e-07   0.00000000e+00]\n",
      " [  5.00000000e+00   0.00000000e+00   6.86465404e-08   0.00000000e+00]\n",
      " [  6.00000000e+00   0.00000000e+00  -1.49975581e-07   0.00000000e+00]\n",
      " [  7.00000000e+00   0.00000000e+00   9.04993978e-08   0.00000000e+00]\n",
      " [  8.00000000e+00   0.00000000e+00   4.94771153e-08   0.00000000e+00]\n",
      " [  9.00000000e+00   0.00000000e+00   2.80189081e-08   0.00000000e+00]]\n"
     ]
    }
   ],
   "source": [
    "print dados1[:10]"
   ]
  },
  {
   "cell_type": "markdown",
   "metadata": {},
   "source": [
    "Observe que todos os dados, inclusive as duas primeiras coluna de inteiros, foram transformados para `float`."
   ]
  },
  {
   "cell_type": "code",
   "execution_count": 6,
   "metadata": {
    "collapsed": false
   },
   "outputs": [
    {
     "name": "stdout",
     "output_type": "stream",
     "text": [
      "[  1.00000000e+00   0.00000000e+00  -4.84165217e-04   9.57173593e-07\n",
      "   5.39998755e-07   6.86465404e-08  -1.49975581e-07   9.04993978e-08\n",
      "   4.94771153e-08   2.80189081e-08]\n"
     ]
    }
   ],
   "source": [
    "print dados1[:10,2]"
   ]
  },
  {
   "cell_type": "code",
   "execution_count": 7,
   "metadata": {
    "collapsed": false
   },
   "outputs": [
    {
     "name": "stdout",
     "output_type": "stream",
     "text": [
      "0 [ 0.  0.  1.  0.]\n",
      "1 [ 1.  0.  0.  0.]\n",
      "2 [  2.00000000e+00   0.00000000e+00  -4.84165217e-04   0.00000000e+00]\n",
      "3 [  3.00000000e+00   0.00000000e+00   9.57173593e-07   0.00000000e+00]\n",
      "4 [  4.00000000e+00   0.00000000e+00   5.39998755e-07   0.00000000e+00]\n",
      "5 [  5.00000000e+00   0.00000000e+00   6.86465404e-08   0.00000000e+00]\n",
      "6 [  6.00000000e+00   0.00000000e+00  -1.49975581e-07   0.00000000e+00]\n",
      "7 [  7.00000000e+00   0.00000000e+00   9.04993978e-08   0.00000000e+00]\n",
      "8 [  8.00000000e+00   0.00000000e+00   4.94771153e-08   0.00000000e+00]\n",
      "9 [  9.00000000e+00   0.00000000e+00   2.80189081e-08   0.00000000e+00]\n"
     ]
    }
   ],
   "source": [
    "for i, linha in enumerate(dados1[:10]):\n",
    "    print i, linha"
   ]
  },
  {
   "cell_type": "code",
   "execution_count": 8,
   "metadata": {
    "collapsed": false
   },
   "outputs": [
    {
     "name": "stdout",
     "output_type": "stream",
     "text": [
      "0 1.0\n",
      "1 0.0\n",
      "2 -0.000484165217061\n",
      "3 9.57173592933e-07\n",
      "4 5.39998754738e-07\n",
      "5 6.86465403533e-08\n",
      "6 -1.49975580611e-07\n",
      "7 9.04993977725e-08\n",
      "8 4.94771152555e-08\n",
      "9 2.80189081183e-08\n"
     ]
    }
   ],
   "source": [
    "for i, linha in enumerate(dados1[:10]):\n",
    "    print i, linha[2]"
   ]
  },
  {
   "cell_type": "code",
   "execution_count": 9,
   "metadata": {
    "collapsed": false
   },
   "outputs": [
    {
     "name": "stdout",
     "output_type": "stream",
     "text": [
      "0 0.0\n",
      "1 0.0\n",
      "2 0.0\n",
      "3 0.0\n",
      "4 0.0\n",
      "5 0.0\n",
      "6 0.0\n",
      "7 0.0\n",
      "8 0.0\n",
      "9 0.0\n"
     ]
    }
   ],
   "source": [
    "for i, linha in enumerate(dados1[:10]):\n",
    "    print i, linha[3]"
   ]
  },
  {
   "cell_type": "code",
   "execution_count": 10,
   "metadata": {
    "collapsed": false
   },
   "outputs": [
    {
     "name": "stdout",
     "output_type": "stream",
     "text": [
      "[  4.00000000e+00   0.00000000e+00   5.39998755e-07   0.00000000e+00]\n"
     ]
    }
   ],
   "source": [
    "print dados1[4]"
   ]
  },
  {
   "cell_type": "code",
   "execution_count": 11,
   "metadata": {
    "collapsed": false
   },
   "outputs": [
    {
     "name": "stdout",
     "output_type": "stream",
     "text": [
      "4.0\n"
     ]
    }
   ],
   "source": [
    "print dados1[4][0]"
   ]
  },
  {
   "cell_type": "code",
   "execution_count": 12,
   "metadata": {
    "collapsed": false
   },
   "outputs": [
    {
     "name": "stdout",
     "output_type": "stream",
     "text": [
      "5.39998754738e-07\n"
     ]
    }
   ],
   "source": [
    "print dados1[4][2]"
   ]
  },
  {
   "cell_type": "markdown",
   "metadata": {},
   "source": [
    "### Alternativa 2"
   ]
  },
  {
   "cell_type": "markdown",
   "metadata": {},
   "source": [
    "Esta alternativa especifica o parâmetros [`dtype`](http://docs.scipy.org/doc/numpy/reference/arrays.dtypes.html) dos dados para cada coluna."
   ]
  },
  {
   "cell_type": "code",
   "execution_count": 13,
   "metadata": {
    "collapsed": false
   },
   "outputs": [],
   "source": [
    "tipos = {'names': ('n', 'm', 'Anm', 'Bnm'), 'formats': ('int', 'int', 'double', 'double')}\n",
    "\n",
    "dados2 = np.loadtxt('primeiras-linhas-eigen-6c4.gfc', dtype=tipos, skiprows=79, usecols=(1,2,3,4))"
   ]
  },
  {
   "cell_type": "code",
   "execution_count": 14,
   "metadata": {
    "collapsed": false
   },
   "outputs": [
    {
     "name": "stdout",
     "output_type": "stream",
     "text": [
      "[('n', '<i4'), ('m', '<i4'), ('Anm', '<f8'), ('Bnm', '<f8')]\n"
     ]
    }
   ],
   "source": [
    "print dados2.dtype"
   ]
  },
  {
   "cell_type": "code",
   "execution_count": 15,
   "metadata": {
    "collapsed": false
   },
   "outputs": [
    {
     "name": "stdout",
     "output_type": "stream",
     "text": [
      "[(0, 0, 1.0, 0.0) (1, 0, 0.0, 0.0) (2, 0, -0.000484165217061, 0.0)\n",
      " (3, 0, 9.57173592933e-07, 0.0) (4, 0, 5.39998754738e-07, 0.0)\n",
      " (5, 0, 6.86465403533e-08, 0.0) (6, 0, -1.49975580611e-07, 0.0)\n",
      " (7, 0, 9.04993977725e-08, 0.0) (8, 0, 4.94771152555e-08, 0.0)\n",
      " (9, 0, 2.80189081183e-08, 0.0)]\n"
     ]
    }
   ],
   "source": [
    "print dados2[:10]"
   ]
  },
  {
   "cell_type": "markdown",
   "metadata": {},
   "source": [
    "Observe que os dados das duas primeiras colunas não foram convertidos para `float`."
   ]
  },
  {
   "cell_type": "code",
   "execution_count": 16,
   "metadata": {
    "collapsed": false
   },
   "outputs": [
    {
     "ename": "IndexError",
     "evalue": "too many indices for array",
     "output_type": "error",
     "traceback": [
      "\u001b[1;31m---------------------------------------------------------------------------\u001b[0m",
      "\u001b[1;31mIndexError\u001b[0m                                Traceback (most recent call last)",
      "\u001b[1;32m<ipython-input-16-cfe4ba2f3d9d>\u001b[0m in \u001b[0;36m<module>\u001b[1;34m()\u001b[0m\n\u001b[1;32m----> 1\u001b[1;33m \u001b[1;32mprint\u001b[0m \u001b[0mdados2\u001b[0m\u001b[1;33m[\u001b[0m\u001b[1;33m:\u001b[0m\u001b[1;36m10\u001b[0m\u001b[1;33m,\u001b[0m\u001b[1;36m2\u001b[0m\u001b[1;33m]\u001b[0m\u001b[1;33m\u001b[0m\u001b[0m\n\u001b[0m",
      "\u001b[1;31mIndexError\u001b[0m: too many indices for array"
     ]
    }
   ],
   "source": [
    "print dados2[:10,2]"
   ]
  },
  {
   "cell_type": "code",
   "execution_count": 19,
   "metadata": {
    "collapsed": false
   },
   "outputs": [
    {
     "name": "stdout",
     "output_type": "stream",
     "text": [
      "0 (0, 0, 1.0, 0.0)\n",
      "1 (1, 0, 0.0, 0.0)\n",
      "2 (2, 0, -0.000484165217061, 0.0)\n",
      "3 (3, 0, 9.57173592933e-07, 0.0)\n",
      "4 (4, 0, 5.39998754738e-07, 0.0)\n",
      "5 (5, 0, 6.86465403533e-08, 0.0)\n",
      "6 (6, 0, -1.49975580611e-07, 0.0)\n",
      "7 (7, 0, 9.04993977725e-08, 0.0)\n",
      "8 (8, 0, 4.94771152555e-08, 0.0)\n",
      "9 (9, 0, 2.80189081183e-08, 0.0)\n"
     ]
    }
   ],
   "source": [
    "for i, linha in enumerate(dados2[:10]):\n",
    "    print i, linha"
   ]
  },
  {
   "cell_type": "code",
   "execution_count": 20,
   "metadata": {
    "collapsed": false
   },
   "outputs": [
    {
     "name": "stdout",
     "output_type": "stream",
     "text": [
      "0 1.0\n",
      "1 0.0\n",
      "2 -0.000484165217061\n",
      "3 9.57173592933e-07\n",
      "4 5.39998754738e-07\n",
      "5 6.86465403533e-08\n",
      "6 -1.49975580611e-07\n",
      "7 9.04993977725e-08\n",
      "8 4.94771152555e-08\n",
      "9 2.80189081183e-08\n"
     ]
    }
   ],
   "source": [
    "for i, linha in enumerate(dados2[:10]):\n",
    "    print i, linha[2]"
   ]
  },
  {
   "cell_type": "code",
   "execution_count": 21,
   "metadata": {
    "collapsed": false
   },
   "outputs": [
    {
     "name": "stdout",
     "output_type": "stream",
     "text": [
      "0 0.0\n",
      "1 0.0\n",
      "2 0.0\n",
      "3 0.0\n",
      "4 0.0\n",
      "5 0.0\n",
      "6 0.0\n",
      "7 0.0\n",
      "8 0.0\n",
      "9 0.0\n"
     ]
    }
   ],
   "source": [
    "for i, linha in enumerate(dados2[:10]):\n",
    "    print i, linha[3]"
   ]
  },
  {
   "cell_type": "code",
   "execution_count": 22,
   "metadata": {
    "collapsed": false
   },
   "outputs": [
    {
     "name": "stdout",
     "output_type": "stream",
     "text": [
      "(4, 0, 5.39998754738e-07, 0.0)\n"
     ]
    }
   ],
   "source": [
    "print dados2[4]"
   ]
  },
  {
   "cell_type": "code",
   "execution_count": 23,
   "metadata": {
    "collapsed": false
   },
   "outputs": [
    {
     "name": "stdout",
     "output_type": "stream",
     "text": [
      "4\n"
     ]
    }
   ],
   "source": [
    "print dados2[4][0]"
   ]
  },
  {
   "cell_type": "code",
   "execution_count": 24,
   "metadata": {
    "collapsed": false
   },
   "outputs": [
    {
     "name": "stdout",
     "output_type": "stream",
     "text": [
      "5.39998754738e-07\n"
     ]
    }
   ],
   "source": [
    "print dados2[4][2]"
   ]
  },
  {
   "cell_type": "code",
   "execution_count": null,
   "metadata": {
    "collapsed": true
   },
   "outputs": [],
   "source": []
  }
 ],
 "metadata": {
  "kernelspec": {
   "display_name": "Python 2",
   "language": "python",
   "name": "python2"
  },
  "language_info": {
   "codemirror_mode": {
    "name": "ipython",
    "version": 2
   },
   "file_extension": ".py",
   "mimetype": "text/x-python",
   "name": "python",
   "nbconvert_exporter": "python",
   "pygments_lexer": "ipython2",
   "version": "2.7.10"
  }
 },
 "nbformat": 4,
 "nbformat_minor": 0
}
