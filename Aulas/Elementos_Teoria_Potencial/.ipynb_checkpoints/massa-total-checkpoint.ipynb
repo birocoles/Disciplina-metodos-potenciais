{
 "metadata": {
  "name": "",
  "signature": "sha256:b16834b702290dd5d6e21e86cbc7e05c5d11d87ed240f9acb20b3cb8ca600732"
 },
 "nbformat": 3,
 "nbformat_minor": 0,
 "worksheets": [
  {
   "cells": [
    {
     "cell_type": "code",
     "collapsed": false,
     "input": [
      "#source1: https://neuronvisio.readthedocs.org/en/latest/gettingstarted.html#troubleshooting\n",
      "#source2: http://ipython.org/ipython-doc/dev/interactive/reference.html#pyqt-and-pyside\n",
      "\n",
      "import sip\n",
      "sip.setapi('QString', 2)\n",
      "sip.setapi('QVariant', 2)"
     ],
     "language": "python",
     "metadata": {},
     "outputs": [],
     "prompt_number": 2
    },
    {
     "cell_type": "code",
     "collapsed": false,
     "input": [
      "import numpy as np\n",
      "\n",
      "from fatiando import mesher, gridder\n",
      "from fatiando.gravmag import prism\n",
      "from fatiando.utils import mgal2si\n",
      "from fatiando.vis import mpl, myv\n",
      "from fatiando.constants import G"
     ],
     "language": "python",
     "metadata": {},
     "outputs": [],
     "prompt_number": 3
    },
    {
     "cell_type": "code",
     "collapsed": false,
     "input": [
      "rho = [800, 1000, 600] # densidade dos corpos em kg/m\u00b3\n",
      "\n",
      "# corpos prism\u00e1ticos\n",
      "model = [mesher.Prism(-4000, -3000, -4000, -3000, 0, 1000, {'density': rho[0]}),\n",
      "         mesher.Prism(-1000, 1000, -1000, 1000, 0, 1000, {'density': rho[1]}),\n",
      "         mesher.Prism(2000, 4000, 3000, 4000, 0, 1000, {'density': rho[2]})]\n",
      "\n",
      "\n",
      "# c\u00e1lculo da massa verdadeira\n",
      "massa_verdadeira = 0.0\n",
      "\n",
      "for i, m in enumerate(model):\n",
      "    massa_verdadeira += (m.x2 - m.x1)*(m.y2 - m.y1)*(m.z2 - m.z1)*rho[i]\n",
      "\n",
      "massa_verdadeira *= 10**(-9)\n",
      "\n",
      "# Visualiza\u00e7\u00e3o dos corpos\n",
      "myv.figure()\n",
      "myv.prisms(model, prop='density')\n",
      "axes = myv.axes(myv.outline())\n",
      "myv.wall_bottom(axes.axes.bounds, opacity=0.2)\n",
      "myv.wall_north(axes.axes.bounds)\n",
      "myv.show()"
     ],
     "language": "python",
     "metadata": {},
     "outputs": [
      {
       "output_type": "stream",
       "stream": "stderr",
       "text": [
        "WARNING:traits.has_traits:DEPRECATED: traits.has_traits.wrapped_class, 'the 'implements' class advisor has been deprecated. Use the 'provides' class decorator.\n"
       ]
      }
     ],
     "prompt_number": 4
    },
    {
     "cell_type": "code",
     "collapsed": false,
     "input": [
      "Ld = 25000 # par\u00e2metro que define a \u00e1rea dos dados\n",
      "\n",
      "xmin = -Ld\n",
      "xmax =  Ld\n",
      "ymin = -Ld\n",
      "ymax =  Ld\n",
      "nx = 1000 # n\u00famero de dados na dire\u00e7\u00e3o x\n",
      "ny = 1000 # n\u00famero de dados na dire\u00e7\u00e3o y\n",
      "dx = (xmax - xmin)/(nx - 1) # espa\u00e7amento entre os dados na dire\u00e7\u00e3o x\n",
      "dy = (ymax - ymin)/(ny - 1) # espa\u00e7amento entre os dados na dire\u00e7\u00e3o y\n",
      "ds = dx*dy # elemento de \u00e1rea\n",
      "area = [xmin, xmax, ymin, ymax]\n",
      "shape = (ny, nx)\n",
      "x, y, z = gridder.regular(area, shape, z=-100) # coordenadas dos dados\n",
      "\n",
      "gz = prism.gz(x, y, z, model) # componente z da atra\u00e7\u00e3o gravitacional\n",
      "\n",
      "# estimativa da massa via 1\u00aa identidade de Green\n",
      "massa_estimada = 10**(-9)*np.sum(mgal2si(gz))*ds/(2.0*np.pi*G)\n",
      "\n",
      "# Visualiza\u00e7\u00e3o dos dados\n",
      "mpl.close('all')\n",
      "mpl.figure(figsize=(8, 8))\n",
      "mpl.axis('scaled')\n",
      "mpl.title('gz (mGal)')\n",
      "levels = mpl.contourf(y, x, gz, shape, 15)\n",
      "cb = mpl.colorbar()\n",
      "mpl.contour(y, x, gz, shape,\n",
      "            levels, clabel=False, linewidth=0.1)\n",
      "mpl.m2km()\n",
      "mpl.show()"
     ],
     "language": "python",
     "metadata": {},
     "outputs": [],
     "prompt_number": 5
    },
    {
     "cell_type": "code",
     "collapsed": false,
     "input": [
      "print '%.5f, %.5f, %.5f' % (massa_verdadeira, massa_estimada, massa_estimada/massa_verdadeira)"
     ],
     "language": "python",
     "metadata": {},
     "outputs": [
      {
       "output_type": "stream",
       "stream": "stdout",
       "text": [
        "6000.00000, 5857.74433, 0.97629\n"
       ]
      }
     ],
     "prompt_number": 6
    },
    {
     "cell_type": "code",
     "collapsed": false,
     "input": [],
     "language": "python",
     "metadata": {},
     "outputs": [],
     "prompt_number": 6
    }
   ],
   "metadata": {}
  }
 ]
}