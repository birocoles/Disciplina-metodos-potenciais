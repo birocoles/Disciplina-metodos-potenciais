{
 "metadata": {
  "name": "",
  "signature": "sha256:195d6260543cc0b38392622c6f48a1a648f03ca73c540b9ca39b1b21c75b110f"
 },
 "nbformat": 3,
 "nbformat_minor": 0,
 "worksheets": [
  {
   "cells": [
    {
     "cell_type": "code",
     "collapsed": false,
     "input": [
      "#source1: https://neuronvisio.readthedocs.org/en/latest/gettingstarted.html#troubleshooting\n",
      "#source2: http://ipython.org/ipython-doc/dev/interactive/reference.html#pyqt-and-pyside\n",
      "\n",
      "import sip\n",
      "sip.setapi('QString', 2)\n",
      "sip.setapi('QVariant', 2)"
     ],
     "language": "python",
     "metadata": {},
     "outputs": [],
     "prompt_number": 1
    },
    {
     "cell_type": "code",
     "collapsed": false,
     "input": [
      "import numpy as np\n",
      "\n",
      "from fatiando import mesher, gridder\n",
      "from fatiando.gravmag import prism\n",
      "from fatiando.utils import mgal2si\n",
      "from fatiando.vis import mpl, myv\n",
      "from fatiando.constants import G"
     ],
     "language": "python",
     "metadata": {},
     "outputs": [],
     "prompt_number": 2
    },
    {
     "cell_type": "code",
     "collapsed": false,
     "input": [
      "rho = 5000 # densidade do corpo em kg/m\u00b3\n",
      "Lp = 500.0\n",
      "\n",
      "# corpos prism\u00e1ticos\n",
      "model = [mesher.Prism(-0.5*Lp, 0.5*Lp, -0.5*Lp, 0.5*Lp, 0, Lp, {'density': rho})]\n",
      "\n",
      "bounds = [-Lp, Lp, -Lp, Lp, 0, 2*Lp]\n",
      "\n",
      "# c\u00e1lculo da massa verdadeira\n",
      "massa_verdadeira = (Lp**3)*rho # kg\n",
      "#massa_verdadeira *= 0.001 # transforma\u00e7\u00e3o para tonelada\n",
      "\n",
      "# Visualiza\u00e7\u00e3o do corpo\n",
      "myv.figure()\n",
      "myv.prisms(model, prop='density')\n",
      "axes = myv.axes(myv.outline(extent=bounds))\n",
      "myv.wall_bottom(axes.axes.bounds, opacity=0.2)\n",
      "myv.wall_north(axes.axes.bounds)\n",
      "myv.show()"
     ],
     "language": "python",
     "metadata": {},
     "outputs": [
      {
       "output_type": "stream",
       "stream": "stderr",
       "text": [
        "WARNING:traits.has_traits:DEPRECATED: traits.has_traits.wrapped_class, 'the 'implements' class advisor has been deprecated. Use the 'provides' class decorator.\n"
       ]
      }
     ],
     "prompt_number": 3
    },
    {
     "cell_type": "code",
     "collapsed": false,
     "input": [
      "Ld_min = 2.0*Lp\n",
      "Ld_max = 300.0*Lp\n",
      "\n",
      "Ld = np.linspace(Ld_min, Ld_max, 30) # par\u00e2metro que define a \u00e1rea dos dados"
     ],
     "language": "python",
     "metadata": {},
     "outputs": [],
     "prompt_number": 4
    },
    {
     "cell_type": "code",
     "collapsed": false,
     "input": [
      "xmin = -0.5*Ld_max\n",
      "xmax =  0.5*Ld_max\n",
      "ymin = -0.5*Ld_max\n",
      "ymax =  0.5*Ld_max\n",
      "\n",
      "area = [xmin, xmax, ymin, ymax]\n",
      "\n",
      "nx = 2001\n",
      "ny = 2001\n",
      "shape = (ny, nx)\n",
      "\n",
      "dx = (xmax - xmin)/(nx - 1)\n",
      "dy = (ymax - ymin)/(ny - 1)\n",
      "ds = dx*dy\n",
      "\n",
      "x, y, z = gridder.regular(area, shape, z=-0.1*Lp) # coordenadas dos dados\n",
      "\n",
      "gz = prism.gz(x, y, z, model) # componente z da atra\u00e7\u00e3o gravitacional"
     ],
     "language": "python",
     "metadata": {},
     "outputs": [],
     "prompt_number": 7
    },
    {
     "cell_type": "code",
     "collapsed": false,
     "input": [
      "massa_estimada = []\n",
      "massa_porcentagem = []\n",
      "Ld_porcentagem = []\n",
      "\n",
      "for i, l in enumerate(Ld):\n",
      "\n",
      "    s = (x >= -l) & (x <= l) & (y >= -l) & (y <= l)\n",
      "\n",
      "    # estimativa da massa via 1\u00aa identidade de Green\n",
      "    massa_estimada.append((np.sum(mgal2si(gz[s]))*ds/(2.0*np.pi*G))) # tonelada\n",
      "    massa_porcentagem.append((100*massa_estimada[i]/massa_verdadeira))\n",
      "    Ld_porcentagem.append((l/Lp))\n",
      "\n",
      "Ld_min_porcentagem = np.min(Ld_porcentagem)\n",
      "Ld_max_porcentagem = np.max(Ld_porcentagem)\n",
      "massa_porcentagem_min = np.min(massa_porcentagem)\n",
      "massa_porcentagem_max = np.max(massa_porcentagem)\n",
      "\n",
      "# Visualiza\u00e7\u00e3o das estimativas de massa\n",
      "v = 0.1\n",
      "mpl.close('all')\n",
      "mpl.figure(figsize=(8, 8))\n",
      "#mpl.paths([[Ld_min, massa_verdadeira]], [[Ld_max, massa_verdadeira]])\n",
      "#mpl.plot(Ld, massa_estimada)\n",
      "mpl.paths([[Ld_min_porcentagem, 100.0]], [[Ld_max_porcentagem, 100.0]])\n",
      "mpl.plot(Ld_porcentagem, massa_porcentagem)\n",
      "dv = (Ld_max_porcentagem - Ld_min_porcentagem)*v\n",
      "mpl.xlim(Ld_min_porcentagem - dv, Ld_max_porcentagem + dv)\n",
      "dv = (massa_porcentagem_max - massa_porcentagem_min)*v\n",
      "mpl.ylim(massa_porcentagem_min - dv, 100 + dv)\n",
      "mpl.show()"
     ],
     "language": "python",
     "metadata": {},
     "outputs": [],
     "prompt_number": 8
    },
    {
     "cell_type": "code",
     "collapsed": false,
     "input": [],
     "language": "python",
     "metadata": {},
     "outputs": [],
     "prompt_number": 6
    }
   ],
   "metadata": {}
  }
 ]
}