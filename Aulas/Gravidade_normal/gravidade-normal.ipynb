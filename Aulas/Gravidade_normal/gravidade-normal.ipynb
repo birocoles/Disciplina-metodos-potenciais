{
 "cells": [
  {
   "cell_type": "markdown",
   "metadata": {},
   "source": [
    "# Gravidade normal"
   ]
  },
  {
   "cell_type": "markdown",
   "metadata": {},
   "source": [
    "Este notebook calcula a gravidade normal $\\gamma$ utilizando dois métodos diferentes. O primeiro é a fórmula de Somiglinana (Hofmann-Wellenhof e Moritz, 2005), que permite o cálculo de $\\gamma$ sobre a superfície do elipsoide. O segundo é a fórmula analítica apresentada por Li e Gotze (2001), que permite calcular $\\gamma$ não só na superfície do elipsoide, mas também abaixo ou acima desta."
   ]
  },
  {
   "cell_type": "markdown",
   "metadata": {},
   "source": [
    "References\n",
    "\n",
    "* Li, X. and H. J. Götze, 2001, Tutorial: Ellipsoid, geoid, gravity, geodesy, and geophysics, \n",
    "    Geophysics, 66(6), p. 1660-1668, doi: 10.1190/1.1487109\n",
    "\n",
    "* Hofmann-Wellenhof, B. and H. Moritz, 2005, Physical Geodesy, Springer-Verlag Wien,\n",
    "    ISBN-13: 978-3-211-23584-3"
   ]
  },
  {
   "cell_type": "code",
   "execution_count": 1,
   "metadata": {
    "collapsed": false
   },
   "outputs": [],
   "source": [
    "%matplotlib inline\n",
    "import numpy as np\n",
    "import matplotlib.pyplot as plt"
   ]
  },
  {
   "cell_type": "markdown",
   "metadata": {},
   "source": [
    "A figura abaixo ilustra um ponto $P$ com coordenadas geodésicas $h$ e $\\varphi$, referidas a um elipsoide com semieixo maior $a$, semieixo menor $b$ e velocidade de rotação $\\omega$. Para mais informações, veja o notebook `Aulas/Sistemas_coordenadas/coordenadas_geodesicas.ipynb`."
   ]
  },
  {
   "cell_type": "markdown",
   "metadata": {
    "collapsed": false
   },
   "source": [
    "<img src='coordenadas_geodesicas.png' width=\"600\">"
   ]
  },
  {
   "cell_type": "markdown",
   "metadata": {},
   "source": [
    "## Função que define os parâmetros do WGS84"
   ]
  },
  {
   "cell_type": "code",
   "execution_count": 2,
   "metadata": {
    "collapsed": false
   },
   "outputs": [],
   "source": [
    "def WGS84():\n",
    "    '''\n",
    "    This function returns the following parameters defining the \n",
    "    reference elipsoid WGS84:\n",
    "    a = semimajor axis [m]\n",
    "    f = flattening\n",
    "    GM = geocentric gravitational constant of the Earth \n",
    "         (including the atmosphere) [m**3/s**-2]\n",
    "    omega = angular velocity [rad/s]\n",
    "    \n",
    "    output:\n",
    "    a, f, GM, omega\n",
    "    '''\n",
    "    a = 6378137.0\n",
    "    f = 1.0/298.257223563\n",
    "    GM = 3986004.418*(10**8)\n",
    "    omega = 7292115*(10**-11)\n",
    "    \n",
    "    return a, f, GM, omega"
   ]
  },
  {
   "cell_type": "markdown",
   "metadata": {},
   "source": [
    "## Cálculo da gravidade normal $\\gamma_{s}$ utilizando a fórmula de Somigliana"
   ]
  },
  {
   "cell_type": "markdown",
   "metadata": {},
   "source": [
    "A fórmula de Somiglina é dada por:"
   ]
  },
  {
   "cell_type": "markdown",
   "metadata": {},
   "source": [
    "### $\\gamma_{s} = \\dfrac{a \\, \\gamma_{a} \\, cos^{2}\\varphi + b \\, \\gamma_{b} \\, sen^{2}\\varphi}{\\sqrt{a^{2} \\, cos^{2}\\varphi + b^{2} \\, sen^{2}\\varphi}}$"
   ]
  },
  {
   "cell_type": "markdown",
   "metadata": {},
   "source": [
    "em que:"
   ]
  },
  {
   "cell_type": "markdown",
   "metadata": {},
   "source": [
    "### $\\gamma_{a} = \\dfrac{G \\, M}{a \\, b} \\,      \\left( 1 - m - \\dfrac{m}{6} \\, \\dfrac{e' \\, q_{0}'}{q_{0}} \\right)$"
   ]
  },
  {
   "cell_type": "markdown",
   "metadata": {},
   "source": [
    "### $\\gamma_{b} = \\dfrac{G \\, M}{a^{2}} \\,      \\left( 1 + \\dfrac{m}{3} \\, \\dfrac{e' \\, q_{0}'}{q_{0}} \\right)$"
   ]
  },
  {
   "cell_type": "markdown",
   "metadata": {},
   "source": [
    "### $e'= \\dfrac{E}{b}$"
   ]
  },
  {
   "cell_type": "markdown",
   "metadata": {},
   "source": [
    "### $E = \\sqrt{a^{2} - b^{2}}$"
   ]
  },
  {
   "cell_type": "markdown",
   "metadata": {},
   "source": [
    "### $m = \\dfrac{\\omega^{2} \\, a^{2} \\, b}{G \\, M}$"
   ]
  },
  {
   "cell_type": "markdown",
   "metadata": {},
   "source": [
    "### $q_{0} = \\dfrac{1}{2}  \\left[ \\, \\left( 1 + 3\\dfrac{b^{2}}{E^{2}} \\right) \\, tan^{-1} \\left( \\dfrac{E}{b} \\right) - 3\\dfrac{b}{E} \\right]$"
   ]
  },
  {
   "cell_type": "markdown",
   "metadata": {},
   "source": [
    "### $q_{0}' = 3\\left( 1 + \\dfrac{b^{2}}{E^{2}} \\right) \\,  \\left[ 1 - \\dfrac{b}{E} \\,tan^{-1} \\left( \\dfrac{E}{b} \\right) \\right] - 1$"
   ]
  },
  {
   "cell_type": "markdown",
   "metadata": {},
   "source": [
    "sendo $a$, $b$, $\\varphi$ e $\\omega$ definidos de acordo com a figura mostrada acima. A fórmula de Somiglinana fornece a gravidade normal sobre a superfície do elipsoide, portanto, $h = 0$. Observe que esta expressão não depende da longitude $\\lambda$."
   ]
  },
  {
   "cell_type": "code",
   "execution_count": 3,
   "metadata": {
    "collapsed": false
   },
   "outputs": [],
   "source": [
    "def gamma_somigliana(a, f, GM, omega, phi):\n",
    "    '''\n",
    "    This function calculates the normal gravity by using\n",
    "    the Somigliana's formula.\n",
    "    \n",
    "    input:\n",
    "    a: float containing the semimajor axis [m]\n",
    "    f: float containing the flattening\n",
    "    GM: float containing the geocentric gravitational constant \n",
    "        of the Earth (including the atmosphere) [m**3/s**2]\n",
    "    omega: float containing the angular velocity [rad/s]\n",
    "    phi: array containing the geodetic latitudes [degree]\n",
    "    \n",
    "    output:\n",
    "    gamma: array containing the values of normal gravity\n",
    "           on the surface of the elipsoid for each geodetic\n",
    "           latitude [mGal]\n",
    "    '''\n",
    "    b = a*(1.0-f)\n",
    "    a2 = a**2\n",
    "    b2 = b**2\n",
    "    E = np.sqrt(a2 - b2)\n",
    "    elinha = E/b\n",
    "    bE = b/E\n",
    "    Eb = E/b\n",
    "    atg = np.arctan(Eb)\n",
    "    q0 = 0.5*((1+3*(bE**2))*atg - (3*bE))\n",
    "    q0linha = 3.0*(1+(bE**2))*(1-(bE*atg)) - 1\n",
    "    m = (omega**2)*(a2)*b/GM\n",
    "    aux = elinha*q0linha/q0\n",
    "    gammaa = (GM/(a*b))*(1-m-(m/6.0)*aux)\n",
    "    gammab = (GM/a2)*(1+(m/3.0)*aux)\n",
    "    aux = np.deg2rad(phi)\n",
    "    s2 = np.sin(aux)**2\n",
    "    c2 = np.cos(aux)**2\n",
    "    # the 10**5 converts from m/s**2 to mGal\n",
    "    gamma = (10**5)*((a*gammaa*c2) + (b*gammab*s2))/np.sqrt((a2*c2) + (b2*s2))\n",
    "    return gamma"
   ]
  },
  {
   "cell_type": "markdown",
   "metadata": {},
   "source": [
    "## Gravidade normal sobre o WGS84 de acordo com a fórmula de Somigliana"
   ]
  },
  {
   "cell_type": "code",
   "execution_count": 4,
   "metadata": {
    "collapsed": false
   },
   "outputs": [],
   "source": [
    "phi = np.linspace(0.0, 90.0, 91)\n",
    "a, f, GM, omega = WGS84()\n",
    "gammas = gamma_somigliana(a, f, GM, omega, phi)"
   ]
  },
  {
   "cell_type": "code",
   "execution_count": 5,
   "metadata": {
    "collapsed": false
   },
   "outputs": [
    {
     "data": {
      "image/png": "[encoded data removed]",
      "text/plain": [
       "<matplotlib.figure.Figure at 0xa4ab4a8>"
      ]
     },
     "metadata": {},
     "output_type": "display_data"
    }
   ],
   "source": [
    "plt.close('all')\n",
    "plt.figure(figsize=(8,6))\n",
    "plt.xlabel('$\\\\varphi \\, (\\degree)$', fontsize = 20)\n",
    "plt.ylabel('$\\gamma_{s} \\, (mGal)$', fontsize = 20)\n",
    "plt.xticks(fontsize=14)\n",
    "plt.yticks(fontsize=14)\n",
    "plt.plot(phi,gammas,'k-')\n",
    "plt.show()"
   ]
  },
  {
   "cell_type": "markdown",
   "metadata": {},
   "source": [
    "Observe que a gravidade normal predita pela fórmula de Somigliana ($\\gamma_{s}$) sobre o elipsoide é mínima na latitude $\\varphi = 0^{\\circ}$ (equador) e máxima na latitude $\\varphi = 90^{\\circ}$ (pólo). Isso se deve ao efeito da aceleração centrífuga. A gravidade normal é a soma entre a aceleração gravitacional e a aceleração centrífuga produzida pela Terra Normal. A parcela gravitacional aponta, aproximadamente, para o centro do elipsoide. Já a parcela centrífuga é perperdicular ao eixo de rotação ($z$) e aponta para fora do elipsoide. O valor da aceleração centrífuga é $0 \\, (mGal)$ na latitude $\\varphi = 90^{\\circ}$ (pólo) e atinge o valor máximo na latitude $\\varphi = 0^{\\circ}$ (equador). Ou seja, no pólo, a gravidade normal possui apenas a componente gravitacional. À medida em que a latitude $\\varphi$ diminui até o equador, o valor da componente centrífuga aumenta e, devido ao fato de esta apontar para fora do elipsoide, a aceleração centrífuga contribui para a diminuição da amplitude da gravidade normal. No equador, as parcelas gravitacional e centrífuga da gravidade normal têm a mesma direção, mas sentidos contrários. Isso explica o motivo pelo qual a gravidade normal tem a menor amplitude na latitude $\\varphi = 0^{\\circ}$ (equador)."
   ]
  },
  {
   "cell_type": "markdown",
   "metadata": {},
   "source": [
    "## Cálculo da gravidade normal $\\gamma_{cf}$ utilizando a expressão analítica"
   ]
  },
  {
   "cell_type": "markdown",
   "metadata": {},
   "source": [
    "A expressão analítica é dada por:"
   ]
  },
  {
   "cell_type": "markdown",
   "metadata": {},
   "source": [
    "### $\\gamma_{cf} = \\dfrac{1}{W} \\left[ \\dfrac{GM}{b'^{2} + E^{2}} + \\dfrac{\\omega^{2} a^{2} E q'_{0}}{(b'^{2} + E^{2})q_{0}} \\left( \\dfrac{1}{2} sen^{2}\\beta' - \\dfrac{1}{6}\\right) - \\omega^{2} b' cos^{2}\\beta'\\right]$"
   ]
  },
  {
   "cell_type": "markdown",
   "metadata": {},
   "source": [
    "em que"
   ]
  },
  {
   "cell_type": "markdown",
   "metadata": {},
   "source": [
    "### $E = \\sqrt{a^{2} - b^{2}}$"
   ]
  },
  {
   "cell_type": "markdown",
   "metadata": {},
   "source": [
    "### $W = \\sqrt{\\dfrac{b'^{2}+E^{2}sen^{2}\\beta'}{b'^{2}+E^{2}}}$"
   ]
  },
  {
   "cell_type": "markdown",
   "metadata": {},
   "source": [
    "### $q_{0} = 3 \\left( 1 + \\dfrac{b'^{2}}{E^{2}} \\right) \\left( 1 - \\dfrac{b'}{E}  tan^{-1}\\dfrac{E}{b'}  \\right) - 1$"
   ]
  },
  {
   "cell_type": "markdown",
   "metadata": {},
   "source": [
    "### $q'_{0} = \\dfrac{1}{2} \\left[  \\left( 1 + \\dfrac{3 \\, b^{2}}{E^{2}} \\right) tan^{-1}\\dfrac{E}{b} - \\dfrac{3 \\, b}{E} \\right] $"
   ]
  },
  {
   "cell_type": "markdown",
   "metadata": {},
   "source": [
    "### $b' = \\sqrt{r''^{2} - E^{2} cos^{2}\\beta'}$"
   ]
  },
  {
   "cell_type": "markdown",
   "metadata": {},
   "source": [
    "### $cos \\beta' = \\sqrt{\\dfrac{1}{2} + \\dfrac{R}{2} - \\sqrt{\\dfrac{1}{4} + \\dfrac{R^{2}}{4} - \\dfrac{D}{2}}}$"
   ]
  },
  {
   "cell_type": "markdown",
   "metadata": {},
   "source": [
    "### $R = \\dfrac{r''^{2}}{E^{2}}$"
   ]
  },
  {
   "cell_type": "markdown",
   "metadata": {},
   "source": [
    "### $D = \\dfrac{d''^{2}}{E^{2}}$"
   ]
  },
  {
   "cell_type": "markdown",
   "metadata": {},
   "source": [
    "### $r''^{2} = r'^{2} + z'^{2}$"
   ]
  },
  {
   "cell_type": "markdown",
   "metadata": {},
   "source": [
    "### $d''^{2} = r'^{2} - z'^{2}$"
   ]
  },
  {
   "cell_type": "markdown",
   "metadata": {},
   "source": [
    "### $r' = a \\, cos\\beta + h \\, cos\\varphi$"
   ]
  },
  {
   "cell_type": "markdown",
   "metadata": {},
   "source": [
    "### $z' = b \\, sen\\beta + h \\, sen\\varphi$"
   ]
  },
  {
   "cell_type": "markdown",
   "metadata": {},
   "source": [
    "### $tan\\beta = \\dfrac{b}{a} tan\\varphi$"
   ]
  },
  {
   "cell_type": "code",
   "execution_count": 6,
   "metadata": {
    "collapsed": false
   },
   "outputs": [],
   "source": [
    "def gamma_closedform(a, f, GM, omega, phi, h):\n",
    "    '''\n",
    "    This function calculates the normal gravity by using\n",
    "    a closed-form formula.\n",
    "    \n",
    "    input:\n",
    "    a: float containing the semimajor axis [m]\n",
    "    f: float containing the flattening\n",
    "    GM: float containing the geocentric gravitational constant \n",
    "        of the Earth (including the atmosphere) [m**3/s**-2]\n",
    "    omega: float containing the angular velocity [rad/s]\n",
    "    phi: array containing the geodetic latitudes [degree]\n",
    "    h: array containing the normal heights [m]\n",
    "    \n",
    "    output:\n",
    "    gamma: array containing the values of normal gravity\n",
    "           on the surface of the elipsoid for each geodetic\n",
    "           latitude [mGal]\n",
    "    '''\n",
    "    b = a*(1.0-f)\n",
    "    a2 = a**2\n",
    "    b2 = b**2\n",
    "    E = np.sqrt(a2 - b2)\n",
    "    E2 = E**2\n",
    "    bE = b/E\n",
    "    Eb = E/b\n",
    "    atanEb = np.arctan(Eb)\n",
    "    phirad = np.deg2rad(phi)\n",
    "    tanphi = np.tan(phirad)\n",
    "    cosphi = np.cos(phirad)\n",
    "    sinphi = np.sin(phirad)\n",
    "    beta = np.arctan(b*tanphi/a)\n",
    "    sinbeta = np.sin(beta)\n",
    "    cosbeta = np.cos(beta)\n",
    "    zl = b*sinbeta+h*sinphi\n",
    "    rl = a*cosbeta+h*cosphi\n",
    "    zl2 = zl**2\n",
    "    rl2 = rl**2\n",
    "    dll2 = rl2-zl2\n",
    "    rll2 = rl2+zl2\n",
    "    D = dll2/E2\n",
    "    R = rll2/E2\n",
    "    cosbetal = np.sqrt(0.5*(1+R) - np.sqrt(0.25*(1+R**2) - 0.5*D))\n",
    "    cosbetal2 = cosbetal**2\n",
    "    sinbetal2 = 1-cosbetal2\n",
    "    bl = np.sqrt(rll2 - E2*cosbetal2)\n",
    "    bl2 = bl**2\n",
    "    blE = bl/E\n",
    "    Ebl = E/bl\n",
    "    atanEbl = np.arctan(Ebl)\n",
    "    q0 = 0.5*((1+3*(bE**2))*atanEb - (3*bE))\n",
    "    q0l = 3.0*(1+(blE**2))*(1-(blE*atanEbl)) - 1\n",
    "    W = np.sqrt((bl2+E2*sinbetal2)/(bl2+E2))\n",
    "\n",
    "    gamma = GM/(bl2+E2) - cosbetal2*bl*omega**2\n",
    "    gamma += (((omega**2)*a2*E*q0l)/((bl2+E2)*q0))*(0.5*sinbetal2 - 1./6.)\n",
    "    # the 10**5 converts from m/s**2 to mGal\n",
    "    gamma = (10**5)*gamma/W\n",
    "    \n",
    "    return gamma"
   ]
  },
  {
   "cell_type": "markdown",
   "metadata": {},
   "source": [
    "## Gravidade normal $\\gamma_{cf}$ sobre o WGS84 de acordo com a fórmula analítica"
   ]
  },
  {
   "cell_type": "code",
   "execution_count": 7,
   "metadata": {
    "collapsed": false
   },
   "outputs": [],
   "source": [
    "phi = np.linspace(0.0, 90.0, 91)\n",
    "a, f, GM, omega = WGS84()\n",
    "h = 0.0\n",
    "gammacf = gamma_closedform(a, f, GM, omega, phi, h)"
   ]
  },
  {
   "cell_type": "code",
   "execution_count": 8,
   "metadata": {
    "collapsed": false
   },
   "outputs": [
    {
     "data": {
      "image/png": "[encoded data removed]",
      "text/plain": [
       "<matplotlib.figure.Figure at 0xa5ddeb8>"
      ]
     },
     "metadata": {},
     "output_type": "display_data"
    }
   ],
   "source": [
    "plt.close('all')\n",
    "plt.figure(figsize=(8,6))\n",
    "plt.xlabel('$\\\\varphi \\, (\\degree)$', fontsize = 20)\n",
    "plt.ylabel('$\\gamma_{cf} \\, (mGal)$', fontsize = 20)\n",
    "plt.xticks(fontsize=14)\n",
    "plt.yticks(fontsize=14)\n",
    "plt.plot(phi,gammacf,'k-')\n",
    "plt.show()"
   ]
  },
  {
   "cell_type": "markdown",
   "metadata": {},
   "source": [
    "Observe que a gravidade normal predita pela expressão analítica ($\\gamma_{cf}$) é similar ao que foi gerado pela fórmula de Somigliana ($\\gamma_{s}$)."
   ]
  },
  {
   "cell_type": "markdown",
   "metadata": {},
   "source": [
    "## Comparação entre $\\gamma_{s}$ e $\\gamma_{cf}$ sobre o elipsoide"
   ]
  },
  {
   "cell_type": "code",
   "execution_count": 9,
   "metadata": {
    "collapsed": false
   },
   "outputs": [
    {
     "data": {
      "image/png": "[encoded data removed]",
      "text/plain": [
       "<matplotlib.figure.Figure at 0xa4d0ef0>"
      ]
     },
     "metadata": {},
     "output_type": "display_data"
    }
   ],
   "source": [
    "plt.close('all')\n",
    "plt.figure(figsize=(8,6))\n",
    "plt.plot(phi,gammas,'r-', label='$\\gamma_{s}$')\n",
    "plt.plot(phi,gammacf,'b--', label='$\\gamma_{cf}$')\n",
    "plt.xlabel('$\\\\varphi \\, (\\degree)$', fontsize = 20)\n",
    "plt.ylabel('$\\gamma \\, (mGal)$', fontsize = 20)\n",
    "plt.xticks(fontsize=14)\n",
    "plt.yticks(fontsize=14)\n",
    "plt.legend(loc='best', fontsize=20)\n",
    "plt.show()"
   ]
  },
  {
   "cell_type": "markdown",
   "metadata": {},
   "source": [
    "Observe que, sobre o elipsoide, $\\gamma_{s}$ e $\\gamma_{cf}$ são praticamente iguais, como era de se esperar"
   ]
  },
  {
   "cell_type": "markdown",
   "metadata": {},
   "source": [
    "## Análise do gradiente da gravidade normal ($\\partial \\gamma / \\partial h$) na direção da normal ao elipsoide utilizando a expressão analítica"
   ]
  },
  {
   "cell_type": "markdown",
   "metadata": {},
   "source": [
    "O gradiente $\\partial \\gamma / \\partial h$ foi calculado para latitudes geodésicas $\\varphi$ variando de $0^{\\circ}$ a $90^{\\circ}$ utilizando-se a fórmula analítica, de acordo com uma aproximação por diferenças finitas dada por:"
   ]
  },
  {
   "cell_type": "markdown",
   "metadata": {},
   "source": [
    "### $\\dfrac{\\partial \\gamma}{\\partial h} \\approx \\dfrac{\\gamma_{cf}(h_{0} + \\Delta h, \\varphi) - \\gamma_{cf}(h_{0} - \\Delta h, \\varphi)}{2\\,\\Delta h}$ ,"
   ]
  },
  {
   "cell_type": "markdown",
   "metadata": {},
   "source": [
    "em que $h_{0} = 0$ m, $\\Delta h = 10$ m e o elipsoide de referência é o WGS84."
   ]
  },
  {
   "cell_type": "code",
   "execution_count": 10,
   "metadata": {
    "collapsed": false
   },
   "outputs": [
    {
     "data": {
      "image/png": "[encoded data removed]",
      "text/plain": [
       "<matplotlib.figure.Figure at 0xa575eb8>"
      ]
     },
     "metadata": {},
     "output_type": "display_data"
    }
   ],
   "source": [
    "phi = np.linspace(0.0, 90.0, 91)\n",
    "a, f, GM, omega = WGS84()\n",
    "dh = 10.0\n",
    "h = 0.0\n",
    "h1 = h-dh\n",
    "h2 = h+dh\n",
    "gammacf1 = gamma_closedform(a, f, GM, omega, phi, h1)\n",
    "gammacf2 = gamma_closedform(a, f, GM, omega, phi, h2)\n",
    "dgamma = (gammacf2-gammacf1)/(2*dh)\n",
    "dgamma_mean = np.mean(dgamma)\n",
    "\n",
    "plt.close('all')\n",
    "plt.figure(figsize=(8,6))\n",
    "plt.plot(phi,dgamma,'k-')\n",
    "lb = '%.4f' % dgamma_mean\n",
    "plt.plot([phi[0], phi[-1]], [dgamma_mean, dgamma_mean], 'k--', label=lb)\n",
    "plt.xlabel('$\\\\varphi \\, (\\degree)$', fontsize = 20)\n",
    "plt.ylabel('$\\partial \\gamma / \\partial h \\, (mGal/m)$', fontsize = 20)\n",
    "plt.xticks(fontsize=14)\n",
    "plt.yticks(fontsize=14)\n",
    "plt.legend(loc='best', fontsize = 16)\n",
    "plt.show()"
   ]
  },
  {
   "cell_type": "markdown",
   "metadata": {},
   "source": [
    "Observe que o gradiente $\\partial \\gamma / \\partial h$ é mínimo na latitude $\\varphi = 0^{\\circ}$ (equador) e máximo na latitude $\\varphi = 90^{\\circ}$ (pólo). No entanto, esta variação é muito pequena, indo de $-0.3088$ (mGal/m) até $-0.3083$ (mGal/m). O valor médio de $\\partial \\gamma / \\partial h$ é $-0.3086$ (mGal/m)."
   ]
  },
  {
   "cell_type": "code",
   "execution_count": null,
   "metadata": {
    "collapsed": false
   },
   "outputs": [],
   "source": []
  }
 ],
 "metadata": {
  "kernelspec": {
   "display_name": "Python 2",
   "language": "python",
   "name": "python2"
  },
  "language_info": {
   "codemirror_mode": {
    "name": "ipython",
    "version": 2
   },
   "file_extension": ".py",
   "mimetype": "text/x-python",
   "name": "python",
   "nbconvert_exporter": "python",
   "pygments_lexer": "ipython2",
   "version": "2.7.10"
  }
 },
 "nbformat": 4,
 "nbformat_minor": 0
}
