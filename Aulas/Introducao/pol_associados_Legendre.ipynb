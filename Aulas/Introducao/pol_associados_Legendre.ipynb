{
 "cells": [
  {
   "cell_type": "markdown",
   "metadata": {},
   "source": [
    "# Polinômios Associados de Legendre"
   ]
  },
  {
   "cell_type": "markdown",
   "metadata": {},
   "source": [
    "Este script mostra um algoritmo para calcular os **Polinômios de Legendre Plenamente Normalizados (PLPN)** e os **Polinômios de Legendre Seminormalizados de acordo com a normalização de Schmidt (PLSS)**."
   ]
  },
  {
   "cell_type": "code",
   "execution_count": 1,
   "metadata": {
    "collapsed": true
   },
   "outputs": [],
   "source": [
    "%matplotlib inline\n",
    "import numpy as np\n",
    "from matplotlib import pyplot as plt"
   ]
  },
  {
   "cell_type": "code",
   "execution_count": null,
   "metadata": {
    "collapsed": true
   },
   "outputs": [],
   "source": [
    "def plpn(grau, colatitude):\n",
    "    \n",
    "    \n",
    "    # Harmonico p00\n",
    "    pnm[0][0] = 1.0;\n",
    "\n",
    "    cosseno = cos(colatitude);\n",
    "    seno = sin(colatitude);\n",
    "\n",
    "    # Harmonico p00\n",
    "    pnm[0][0] = 1.0;\n",
    "    \n",
    "    # Harmonico p10\n",
    "    pnm[1][0] = cosseno*pow(3, 0.5);\n",
    "\n",
    "    # Harmonico p11\n",
    "    pnm[1][1] = seno*pow(3, 0.5);\n",
    "\n",
    "    # Harmonico p20\n",
    "    pnm[2][0] = (3*cosseno*cosseno) - 1.0;\n",
    "    pnm[2][0] *= pow(1.25, 0.5);\n",
    "\n",
    "    # Harmonico p21\n",
    "    pnm[2][1] = pow(30, 0.5)*cosseno*seno;\n",
    "\n",
    "    # Harmonico p22\n",
    "    pnm[2][2] = pow(22.5, 0.5)*seno*seno;\n",
    "\n",
    "    for(i = 3; i <= grau; i++) {\n",
    "\n",
    "        aux0 = pow(((2*i) + 1), 0.5);\n",
    "        aux1 = (double)(aux0/(2*i));\n",
    "\n",
    "        # Harmonicos setoriais\n",
    "        pnm[i][i] = aux1*seno*pnm[i-1][i-1];\n",
    "\n",
    "        # Harmonicos pnn-1\n",
    "        pnm[i][i-1] = aux0*cosseno*pnm[i-1][i-1];\n",
    "\n",
    "        # Harmonicos pnn-2, pnn-3, pnn-4, ..., pn0\n",
    "        aux2 = pow(((2*i) - 1), 0.5);\n",
    "        aux3 = pow(((2*i) - 3), 0.5);\n",
    "\n",
    "        for (j = i-2; j >= 0; j--) {\n",
    "\n",
    "            aux4 = pow(((i+j)*(i-j)), 0.5);\n",
    "            aux5 = pow(((i+j-1)*(i-j-1)), 0.5);\n",
    "\n",
    "            pnm[i][j] = aux2*cosseno*pnm[i-1][j];\n",
    "            pnm[i][j] -= ((double)(aux5/aux3))*pnm[i-2][j];\n",
    "            pnm[i][j] *= (double)(aux0/aux4);\n",
    "\n",
    "        }\n",
    "\n",
    "    }\n",
    "\n",
    "    return pnm\n",
    "\n",
    "}"
   ]
  },
  {
   "cell_type": "code",
   "execution_count": 4,
   "metadata": {
    "collapsed": false
   },
   "outputs": [
    {
     "name": "stdout",
     "output_type": "stream",
     "text": [
      "  0   0\n",
      "  1   0\n",
      "  1   1\n",
      "  2   0\n",
      "  2   1\n",
      "  2   2\n",
      "  3   0\n",
      "  3   1\n",
      "  3   2\n",
      "  3   3\n",
      "  4   0\n",
      "  4   1\n",
      "  4   2\n",
      "  4   3\n",
      "  4   4\n"
     ]
    }
   ],
   "source": [
    "for i in range(5):\n",
    "    for j in range(i+1):\n",
    "        print '%3d %3d' % (i,j)"
   ]
  },
  {
   "cell_type": "code",
   "execution_count": null,
   "metadata": {
    "collapsed": true
   },
   "outputs": [],
   "source": []
  }
 ],
 "metadata": {
  "kernelspec": {
   "display_name": "Python 2",
   "language": "python",
   "name": "python2"
  },
  "language_info": {
   "codemirror_mode": {
    "name": "ipython",
    "version": 2
   },
   "file_extension": ".py",
   "mimetype": "text/x-python",
   "name": "python",
   "nbconvert_exporter": "python",
   "pygments_lexer": "ipython2",
   "version": "2.7.10"
  }
 },
 "nbformat": 4,
 "nbformat_minor": 0
}
