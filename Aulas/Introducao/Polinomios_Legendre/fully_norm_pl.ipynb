{
 "metadata": {
  "name": "",
  "signature": "sha256:2465f1b79ab375a956759f3864d32cab93cbb94f0f79e4f4fefdaab8dd7ef751"
 },
 "nbformat": 3,
 "nbformat_minor": 0,
 "worksheets": [
  {
   "cells": [
    {
     "cell_type": "code",
     "collapsed": false,
     "input": [
      "#source1: https://neuronvisio.readthedocs.org/en/latest/gettingstarted.html#troubleshooting\n",
      "#source2: http://ipython.org/ipython-doc/dev/interactive/reference.html#pyqt-and-pyside\n",
      "\n",
      "import sip\n",
      "sip.setapi('QString', 2)\n",
      "sip.setapi('QVariant', 2)"
     ],
     "language": "python",
     "metadata": {},
     "outputs": [],
     "prompt_number": 1
    },
    {
     "cell_type": "code",
     "collapsed": false,
     "input": [
      "import numpy as np\n",
      "import matplotlib.pyplot as mpl\n",
      "from mayavi import mlab"
     ],
     "language": "python",
     "metadata": {},
     "outputs": [
      {
       "output_type": "stream",
       "stream": "stderr",
       "text": [
        "WARNING:traits.has_traits:DEPRECATED: traits.has_traits.wrapped_class, 'the 'implements' class advisor has been deprecated. Use the 'provides' class decorator.\n"
       ]
      }
     ],
     "prompt_number": 2
    },
    {
     "cell_type": "code",
     "collapsed": false,
     "input": [
      "def full_norm_pnm(n, theta):\n",
      "    ''' This function calculates all the fully\n",
      "    normalized associated Legendre polynomials\n",
      "    Pnm of degree n and order m.\n",
      "    \n",
      "    input\n",
      "    \n",
      "    n: degree\n",
      "    theta: polar angle\n",
      "    \n",
      "    output\n",
      "    \n",
      "    pnm: 2D array containing all fully\n",
      "         normalized Pnm\n",
      "    \n",
      "    '''\n",
      "    \n",
      "    \n",
      "    \n",
      "    cosine = np.cos(theta)\n",
      "    sine = np.sin(theta)\n",
      "    \n",
      "    p00 = 1.0\n",
      "    # 1.7320508075688772 = 3**0.5\n",
      "    p10 = cosine*1.7320508075688772 \n",
      "    p11 = sine**1.7320508075688772\n",
      "    # 1.118033988749895 = 1.25**0.5\n",
      "    p20 = (3*cosine*cossine - 1)*1.118033988749895\n",
      "    # 5.477225575051661 = 30**0.5\n",
      "    p21 = 5.477225575051661*cosine*sine\n",
      "    # 4.743416490252569 = 22.5**0.5\n",
      "    p22 = 4.743416490252569*sine*sine\n",
      "    \n",
      "    \n"
     ],
     "language": "python",
     "metadata": {},
     "outputs": []
    },
    {
     "cell_type": "code",
     "collapsed": false,
     "input": [
      "a = np.random.rand(5)\n",
      "b = np.random.rand(4)\n",
      "c = np.stack((b,a))\n",
      "print c"
     ],
     "language": "python",
     "metadata": {},
     "outputs": [
      {
       "output_type": "stream",
       "stream": "stdout",
       "text": [
        "[ 0.84486294  0.10637557  0.65060463  0.62665412  0.20132025  0.80151936\n",
        "  0.38245059  0.3580445   0.68494381]\n"
       ]
      }
     ],
     "prompt_number": 55
    },
    {
     "cell_type": "code",
     "collapsed": false,
     "input": [],
     "language": "python",
     "metadata": {},
     "outputs": [
      {
       "metadata": {},
       "output_type": "pyout",
       "prompt_number": 52,
       "text": [
        "<1x5 sparse matrix of type '<type 'numpy.float64'>'\n",
        "\twith 3 stored elements in Compressed Sparse Row format>"
       ]
      }
     ],
     "prompt_number": 52
    },
    {
     "cell_type": "code",
     "collapsed": false,
     "input": [
      "#Plot 3D function over an sphere\n",
      "\n",
      "#Radius of the sphere\n",
      "R = 10.0\n",
      "\n",
      "#Spherical coordinates\n",
      "phi, lambida = np.meshgrid(np.linspace(0, np.pi, 91),\n",
      "                           np.linspace(0, 2*np.pi, 181))\n",
      "r = np.zeros_like(phi) + R\n",
      "\n",
      "#Calculate the function over the sphere\n",
      "f = np.cos(phi)\n",
      "\n",
      "#Transform from Catesian to Spherical coordinates\n",
      "x = r*np.sin(phi)*np.cos(lambida)\n",
      "y = r*np.sin(phi)*np.sin(lambida)\n",
      "z = r*np.cos(phi)\n",
      "\n",
      "#Plot with Mayavi\n",
      "mlab.figure(1, bgcolor=(1, 1, 1), fgcolor=(0, 0, 0), size=(400, 300))\n",
      "mlab.clf() # Clear the figure\n",
      "mlab.mesh(x, y, z, scalars=f, representation='surface', colormap='blue-red')\n",
      "#colormap list (source: http://docs.enthought.com/mayavi/mayavi/mlab.html)\n",
      "#accent       flag          hot      pubu     set2\n",
      "#autumn       gist_earth    hsv      pubugn   set3\n",
      "#black-white  gist_gray     jet      puor     spectral\n",
      "#blue-red     gist_heat     oranges  purd     spring\n",
      "#blues        gist_ncar     orrd     purples  summer\n",
      "#bone         gist_rainbow  paired   rdbu     winter\n",
      "#brbg         gist_stern    pastel1  rdgy     ylgnbu\n",
      "#bugn         gist_yarg     pastel2  rdpu     ylgn\n",
      "#bupu         gnbu          pink     rdylbu   ylorbr\n",
      "#cool         gray          piyg     rdylgn   ylorrd\n",
      "#copper       greens        prgn     reds\n",
      "#dark2        greys         prism    set1\n",
      "mlab.show()"
     ],
     "language": "python",
     "metadata": {},
     "outputs": [],
     "prompt_number": 22
    },
    {
     "cell_type": "code",
     "collapsed": false,
     "input": [],
     "language": "python",
     "metadata": {},
     "outputs": [],
     "prompt_number": 6
    }
   ],
   "metadata": {}
  }
 ]
}