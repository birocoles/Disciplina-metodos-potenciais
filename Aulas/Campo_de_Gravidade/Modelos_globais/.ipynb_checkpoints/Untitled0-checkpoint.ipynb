{
 "metadata": {
  "name": "",
  "signature": "sha256:8a5f7a57c7698b533f911c931ff3fad02697ae14fde5a0791d1375378da72118"
 },
 "nbformat": 3,
 "nbformat_minor": 0,
 "worksheets": [
  {
   "cells": [
    {
     "cell_type": "heading",
     "level": 1,
     "metadata": {},
     "source": [
      "Este notebook ilustra como as equipotenciais de um campo gravitacional se deformam em fun\u00e7\u00e3o de uma redistribui\u00e7\u00e3o de massa"
     ]
    },
    {
     "cell_type": "heading",
     "level": 2,
     "metadata": {},
     "source": [
      "C\u00e1lculo do potencial gravitacional $V(x,y,z)$ produzido por um prisma homog\u00eaneo"
     ]
    },
    {
     "cell_type": "code",
     "collapsed": false,
     "input": [
      "#source1: https://neuronvisio.readthedocs.org/en/latest/gettingstarted.html#troubleshooting\n",
      "#source2: http://ipython.org/ipython-doc/dev/interactive/reference.html#pyqt-and-pyside\n",
      "\n",
      "import sip\n",
      "sip.setapi('QString', 2)\n",
      "sip.setapi('QVariant', 2)"
     ],
     "language": "python",
     "metadata": {},
     "outputs": [],
     "prompt_number": 1
    },
    {
     "cell_type": "code",
     "collapsed": false,
     "input": [
      "import numpy as np\n",
      "from fatiando.vis import mpl, myv\n",
      "from fatiando import gridder, mesher, gravmag, utils\n",
      "from fatiando.gravmag import prism"
     ],
     "language": "python",
     "metadata": {},
     "outputs": [],
     "prompt_number": 2
    },
    {
     "cell_type": "heading",
     "level": 3,
     "metadata": {},
     "source": [
      "Contru\u00e7\u00e3o de um cubo com aresta $L$"
     ]
    },
    {
     "cell_type": "code",
     "collapsed": false,
     "input": [
      "L = 1000000\n",
      "model = [mesher.Prism(-0.5*L, 0.5*L, -0.5*L, 0.5*L, -0.5*L, 0.5*L, props={'density': 1000})]"
     ],
     "language": "python",
     "metadata": {},
     "outputs": [],
     "prompt_number": 3
    },
    {
     "cell_type": "heading",
     "level": 3,
     "metadata": {},
     "source": [
      "Conjunto de pontos sobre os quais o potencial ser\u00e1 calculado"
     ]
    },
    {
     "cell_type": "code",
     "collapsed": false,
     "input": [
      "area = [-L, L, -L, L]\n",
      "shape = (100,100)\n",
      "\n",
      "z, y, x = gridder.regular(area, shape, z = 0.0)\n",
      "\n",
      "myv.figure()\n",
      "myv.prisms(model, opacity=0.5, color='blue', linewidth=2)\n",
      "#myv.points()\n",
      "\n",
      "myv.show()"
     ],
     "language": "python",
     "metadata": {},
     "outputs": [
      {
       "output_type": "stream",
       "stream": "stderr",
       "text": [
        "WARNING:traits.has_traits:DEPRECATED: traits.has_traits.wrapped_class, 'the 'implements' class advisor has been deprecated. Use the 'provides' class decorator.\n"
       ]
      },
      {
       "ename": "TraitError",
       "evalue": "The 'color' trait of an OpenGLProperty instance must be a tuple of the form: (0.0 <= a floating point number <= 1.0, 0.0 <= a floating point number <= 1.0, 0.0 <= a floating point number <= 1.0), but a value of 'blue' <type 'str'> was specified.",
       "output_type": "pyerr",
       "traceback": [
        "\u001b[1;31m---------------------------------------------------------------------------\u001b[0m\n\u001b[1;31mTraitError\u001b[0m                                Traceback (most recent call last)",
        "\u001b[1;32m<ipython-input-4-922b1f9ba2fa>\u001b[0m in \u001b[0;36m<module>\u001b[1;34m()\u001b[0m\n\u001b[0;32m      5\u001b[0m \u001b[1;33m\u001b[0m\u001b[0m\n\u001b[0;32m      6\u001b[0m \u001b[0mmyv\u001b[0m\u001b[1;33m.\u001b[0m\u001b[0mfigure\u001b[0m\u001b[1;33m(\u001b[0m\u001b[1;33m)\u001b[0m\u001b[1;33m\u001b[0m\u001b[0m\n\u001b[1;32m----> 7\u001b[1;33m \u001b[0mmyv\u001b[0m\u001b[1;33m.\u001b[0m\u001b[0mprisms\u001b[0m\u001b[1;33m(\u001b[0m\u001b[0mmodel\u001b[0m\u001b[1;33m,\u001b[0m \u001b[0mopacity\u001b[0m\u001b[1;33m=\u001b[0m\u001b[1;36m0.5\u001b[0m\u001b[1;33m,\u001b[0m \u001b[0mcolor\u001b[0m\u001b[1;33m=\u001b[0m\u001b[1;34m'blue'\u001b[0m\u001b[1;33m,\u001b[0m \u001b[0mlinewidth\u001b[0m\u001b[1;33m=\u001b[0m\u001b[1;36m2\u001b[0m\u001b[1;33m)\u001b[0m\u001b[1;33m\u001b[0m\u001b[0m\n\u001b[0m\u001b[0;32m      8\u001b[0m \u001b[1;31m#myv.points()\u001b[0m\u001b[1;33m\u001b[0m\u001b[1;33m\u001b[0m\u001b[0m\n\u001b[0;32m      9\u001b[0m \u001b[0mmyv\u001b[0m\u001b[1;33m.\u001b[0m\u001b[0mshow\u001b[0m\u001b[1;33m(\u001b[0m\u001b[1;33m)\u001b[0m\u001b[1;33m\u001b[0m\u001b[0m\n",
        "\u001b[1;32mC:\\Users\\Vanderlei\\Documents\\fatiando\\fatiando\\vis\\myv.pyc\u001b[0m in \u001b[0;36mprisms\u001b[1;34m(prisms, prop, style, opacity, edges, vmin, vmax, cmap, color, linewidth, edgecolor, scale)\u001b[0m\n\u001b[0;32m    582\u001b[0m     \u001b[1;32mif\u001b[0m \u001b[0mcolor\u001b[0m \u001b[1;32mis\u001b[0m \u001b[1;32mnot\u001b[0m \u001b[0mNone\u001b[0m\u001b[1;33m:\u001b[0m\u001b[1;33m\u001b[0m\u001b[0m\n\u001b[0;32m    583\u001b[0m         \u001b[0msurf\u001b[0m\u001b[1;33m.\u001b[0m\u001b[0mactor\u001b[0m\u001b[1;33m.\u001b[0m\u001b[0mmapper\u001b[0m\u001b[1;33m.\u001b[0m\u001b[0mscalar_visibility\u001b[0m \u001b[1;33m=\u001b[0m \u001b[1;36m0\u001b[0m\u001b[1;33m\u001b[0m\u001b[0m\n\u001b[1;32m--> 584\u001b[1;33m         \u001b[0msurf\u001b[0m\u001b[1;33m.\u001b[0m\u001b[0mactor\u001b[0m\u001b[1;33m.\u001b[0m\u001b[0mproperty\u001b[0m\u001b[1;33m.\u001b[0m\u001b[0mcolor\u001b[0m \u001b[1;33m=\u001b[0m \u001b[0mcolor\u001b[0m\u001b[1;33m\u001b[0m\u001b[0m\n\u001b[0m\u001b[0;32m    585\u001b[0m     \u001b[0msurf\u001b[0m\u001b[1;33m.\u001b[0m\u001b[0mactor\u001b[0m\u001b[1;33m.\u001b[0m\u001b[0mactor\u001b[0m\u001b[1;33m.\u001b[0m\u001b[0mscale\u001b[0m \u001b[1;33m=\u001b[0m \u001b[0mscale\u001b[0m\u001b[1;33m\u001b[0m\u001b[0m\n\u001b[0;32m    586\u001b[0m     \u001b[1;32mreturn\u001b[0m \u001b[0msurf\u001b[0m\u001b[1;33m\u001b[0m\u001b[0m\n",
        "\u001b[1;32mc:\\Anaconda\\lib\\site-packages\\traits\\trait_handlers.pyc\u001b[0m in \u001b[0;36merror\u001b[1;34m(self, object, name, value)\u001b[0m\n\u001b[0;32m    167\u001b[0m         \"\"\"\n\u001b[0;32m    168\u001b[0m         raise TraitError( object, name, self.full_info( object, name, value ),\n\u001b[1;32m--> 169\u001b[1;33m                           value )\n\u001b[0m\u001b[0;32m    170\u001b[0m \u001b[1;33m\u001b[0m\u001b[0m\n\u001b[0;32m    171\u001b[0m     \u001b[1;32mdef\u001b[0m \u001b[0marg_error\u001b[0m \u001b[1;33m(\u001b[0m \u001b[0mself\u001b[0m\u001b[1;33m,\u001b[0m \u001b[0mmethod\u001b[0m\u001b[1;33m,\u001b[0m \u001b[0marg_num\u001b[0m\u001b[1;33m,\u001b[0m \u001b[0mobject\u001b[0m\u001b[1;33m,\u001b[0m \u001b[0mname\u001b[0m\u001b[1;33m,\u001b[0m \u001b[0mvalue\u001b[0m \u001b[1;33m)\u001b[0m\u001b[1;33m:\u001b[0m\u001b[1;33m\u001b[0m\u001b[0m\n",
        "\u001b[1;31mTraitError\u001b[0m: The 'color' trait of an OpenGLProperty instance must be a tuple of the form: (0.0 <= a floating point number <= 1.0, 0.0 <= a floating point number <= 1.0, 0.0 <= a floating point number <= 1.0), but a value of 'blue' <type 'str'> was specified."
       ]
      }
     ],
     "prompt_number": 4
    },
    {
     "cell_type": "code",
     "collapsed": false,
     "input": [],
     "language": "python",
     "metadata": {},
     "outputs": []
    }
   ],
   "metadata": {}
  }
 ]
}