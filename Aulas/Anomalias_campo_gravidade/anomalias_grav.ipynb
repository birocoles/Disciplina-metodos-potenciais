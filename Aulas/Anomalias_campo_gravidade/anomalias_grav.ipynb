{
 "cells": [
  {
   "cell_type": "markdown",
   "metadata": {},
   "source": [
    "# Anomalias no campo de gravidade"
   ]
  },
  {
   "cell_type": "markdown",
   "metadata": {},
   "source": [
    "O *vetor gravidade* $\\mathbf{g}$ é definido como o gradiente do *potencial de gravidade*, que é a soma entre o *potencial gravitacional* e o *potencial centrífugo*. Analogamente, o *vetor gravidade normal* $\\mathbf{\\gamma}$ é definido como o gradiente do *esferopotencial* (ou *potencial de gravidade normal*), que é a soma entre o potencial gravitacional e o potencial centrífugo produzidos pelo modelo de *Terra Normal*. O potencial centrífugo da Terra e do modelo de Terra Normal são iguais. A amplitude do vetor gravidade é denominada *gravidade* e a amplitude do vetor gravidade normal é denominada *gravidade normal*."
   ]
  },
  {
   "cell_type": "markdown",
   "metadata": {},
   "source": [
    "Se considerarmos uma pequena região na superfície do planeta, a gravidade $\\mathbf{g}$ e a gravidade normal $\\mathbf{\\gamma}$ são vetores praticamente paralelos. Matematicamente, a gravidade $\\mathbf{g}$ em um determinado ponto pode ser escrita como"
   ]
  },
  {
   "cell_type": "markdown",
   "metadata": {},
   "source": [
    "$$\\mathbf{g} = \\mathbf{\\gamma} + \\mathbf{\\Delta g} \\: ,$$ "
   ]
  },
  {
   "cell_type": "markdown",
   "metadata": {},
   "source": [
    "em que o vetor "
   ]
  },
  {
   "cell_type": "markdown",
   "metadata": {},
   "source": [
    "$$\\mathbf{\\Delta g} = \\left[ \\begin{array}{c}  \\Delta g_{x} \\\\ \\Delta g_{y} \\\\ \\Delta g_{z} \\end{array} \\right]$$"
   ]
  },
  {
   "cell_type": "markdown",
   "metadata": {},
   "source": [
    "é uma pequena perturbação no vetor gravidade normal $\\mathbf{\\gamma}$, tal que $\\| \\mathbf{\\gamma} \\| \\gg \\| \\mathbf{\\Delta g} \\|$. O vetor $\\mathbf{\\Delta g}$ representa a atração gravitacional exercida pelas *massas anômalas*."
   ]
  },
  {
   "cell_type": "markdown",
   "metadata": {},
   "source": [
    "Geralmente, as medidas da gravidade na superfície da Terra são referidas a um sistema local de coordenadas Cartesianas, em que o eixo $z$ fica na direção vertical e aponta para o interior da Terra. Dessa forma, a gravidade normal $\\mathbf{\\gamma}$ fica aproximadamente alinhada com o eixo $z$ e pode ser escrita da seguinte forma:"
   ]
  },
  {
   "cell_type": "markdown",
   "metadata": {},
   "source": [
    "$$\\mathbf{\\gamma} \\approx  \\left[ \\begin{array}{c}  0 \\\\ 0 \\\\ g_{0} \\end{array} \\right] \\: .$$"
   ]
  },
  {
   "cell_type": "markdown",
   "metadata": {},
   "source": [
    "Seja $f(h_{x}, h_{y}, h_{z}) = f(\\mathbf{h})$ uma função escalar que calcula a norma Euclidiana de um vetor $\\mathbf{h}$ com coordenadas Cartesianas $h_{x}$, $h_{y}$ e $h_{z}$. Esta função pode ser escrita como"
   ]
  },
  {
   "cell_type": "markdown",
   "metadata": {},
   "source": [
    "$$\n",
    "\\begin{split}\n",
    "f(h_{x}, h_{y}, h_{z}) &= \\sqrt{\\mathbf{h}^{\\intercal}\\mathbf{h}} \\\\\n",
    "&= \\| \\mathbf{h} \\| \\: .\n",
    "\\end{split}\n",
    "$$"
   ]
  },
  {
   "cell_type": "markdown",
   "metadata": {},
   "source": [
    "A expansão da função $f(\\mathbf{h})$ em série de Taylor, até primeira ordem, em torno de um ponto $\\mathbf{h}_{0}$ pode ser escrita da seguinte forma"
   ]
  },
  {
   "cell_type": "markdown",
   "metadata": {},
   "source": [
    "$$\n",
    "f (\\mathbf{h}_{0} + \\Delta \\mathbf{h}) \\approx f(\\mathbf{h}_{0}) + \\nabla f(\\mathbf{h}_{0})^{\\top} \\Delta \\mathbf{h} \\: ,\n",
    "$$"
   ]
  },
  {
   "cell_type": "markdown",
   "metadata": {},
   "source": [
    "em que o gradiente $\\nabla f(\\mathbf{h}_{0})$ é dado por"
   ]
  },
  {
   "cell_type": "markdown",
   "metadata": {},
   "source": [
    "$$\n",
    "\\begin{split}\n",
    "\\nabla \\, f(\\mathbf{h}) &= \\left[ \\begin{array}{c}  \\frac{\\partial \\, f(\\mathbf{h})}{\\partial \\, h_{x}} \\\\ \n",
    "\\frac{\\partial \\, f(\\mathbf{h})}{\\partial \\, h_{y}} \\\\ \\frac{\\partial \\, f(\\mathbf{h})}{\\partial \\, h_{z}} \\end{array} \\right] \\\\ \n",
    "&= \\hat{\\mathbf{h}}\n",
    "\\end{split}\n",
    "$$"
   ]
  },
  {
   "cell_type": "markdown",
   "metadata": {},
   "source": [
    "e"
   ]
  },
  {
   "cell_type": "markdown",
   "metadata": {},
   "source": [
    "$$\\hat{\\mathbf{h}} = \\dfrac{\\mathbf{h}}{\\| \\mathbf{h} \\|}$$"
   ]
  },
  {
   "cell_type": "markdown",
   "metadata": {},
   "source": [
    "é um vetor unitário na direção de $\\mathbf{h}$."
   ]
  },
  {
   "cell_type": "markdown",
   "metadata": {},
   "source": [
    "Se considerarmos que o $\\| \\mathbf{\\gamma} \\| \\gg \\| \\mathbf{\\Delta g} \\|$, podemos expandir a norma do vetor gravidade $\\mathbf{g}$ em séria de Taylor da seguinte forma:"
   ]
  },
  {
   "cell_type": "markdown",
   "metadata": {},
   "source": [
    "$$\n",
    "\\begin{split}\n",
    "f(\\mathbf{g}) &= f(\\mathbf{\\gamma} + \\Delta \\mathbf{g}) \\\\\n",
    "&\\approx f(\\mathbf{\\gamma}) + \\nabla f(\\mathbf{\\gamma})^{\\intercal} \\mathbf{\\Delta  g} \\\\\n",
    "&\\approx f(\\mathbf{\\gamma}) + \\Delta g_{z} \\: ,\n",
    "\\end{split}\n",
    "$$"
   ]
  },
  {
   "cell_type": "markdown",
   "metadata": {},
   "source": [
    "em que $\\nabla \\, f(\\mathbf{\\gamma}) = \\hat{\\mathbf{\\gamma}}$ e $\\Delta g_{z}$ é a componente vertical (na direção $z$) do vetor $\\mathbf{\\Delta g}$. Sendo assim, a diferença entre a *gravidade* e a *gravidade normal*, no mesmo ponto, é, aproximadamente, a componente vertical da atração gravitacional exercida pelas massas anômalas. Esta diferença é comumente representada por $\\delta g$ e é denominada *distúrbio de gravidade*.\n",
    "\n",
    "Observe que a conclusão de que $\\delta g$ é a componente vertical da atração gravitacional exercida pelas massas anômalas presume duas coisas:"
   ]
  },
  {
   "cell_type": "markdown",
   "metadata": {},
   "source": [
    "1) $\\|\\mathbf{\\gamma}\\| \\gg \\|\\mathbf{\\Delta g}\\|$\n",
    "\n",
    "2) localmente, $\\mathbf{\\gamma} \\approx  \\left[ \\begin{array}{c}  0 \\\\ 0 \\\\ g_{0} \\end{array} \\right]$"
   ]
  },
  {
   "cell_type": "markdown",
   "metadata": {},
   "source": [
    "Sejam $\\mathbf{a}$ e $\\mathbf{b}$ dois vetores dados por:"
   ]
  },
  {
   "cell_type": "markdown",
   "metadata": {},
   "source": [
    "$\\mathbf{a} = \\left[ \\begin{array}{c}  0 \\\\ 0 \\\\ a \\end{array} \\right] \\: ,$"
   ]
  },
  {
   "cell_type": "markdown",
   "metadata": {},
   "source": [
    "$\\|\\mathbf{a}\\| = a$"
   ]
  },
  {
   "cell_type": "markdown",
   "metadata": {},
   "source": [
    "e"
   ]
  },
  {
   "cell_type": "markdown",
   "metadata": {},
   "source": [
    "$\\mathbf{b} = \\left[ \\begin{array}{c}  b_{x} \\\\ b_{y} \\\\ b_{z} \\end{array} \\right] \\: .$"
   ]
  },
  {
   "cell_type": "markdown",
   "metadata": {
    "collapsed": true
   },
   "source": [
    "Nestas condições, qual é o resultado de $\\left \\| \\mathbf{a} + \\mathbf{b} \\right \\| - \\left \\| \\mathbf{a} \\right \\|$ quando $\\left \\| \\mathbf{a} \\right \\| \\gg \\left \\| \\mathbf{b} \\right \\|$? Observe que, na simulação abaixo, o vetor $\\mathbf{a}$ é análogo ao $\\mathbf{\\gamma}$ e $\\mathbf{b}$ é análogo ao vetor $\\mathbf{\\Delta g}$."
   ]
  },
  {
   "cell_type": "code",
   "execution_count": 1,
   "metadata": {
    "collapsed": true
   },
   "outputs": [],
   "source": [
    "%matplotlib inline\n",
    "import numpy as np\n",
    "from matplotlib import pyplot as plt"
   ]
  },
  {
   "cell_type": "code",
   "execution_count": 15,
   "metadata": {
    "collapsed": false
   },
   "outputs": [
    {
     "data": {
      "image/png": "[encoded data removed]",
      "text/plain": [
       "<matplotlib.figure.Figure at 0xbfe3940>"
      ]
     },
     "metadata": {},
     "output_type": "display_data"
    }
   ],
   "source": [
    "a = np.linspace(0.0, 3000.0, 30)\n",
    "b = np.array([13.0, 25.0, 7.1])\n",
    "bz = '$b_{z}$ = %.3f' % b[2]\n",
    "nb = '$|| \\mathbf{b} ||$ = %.3f' % np.linalg.norm(b)\n",
    "yl = '$|| \\mathbf{a} + \\mathbf{b} || - || \\mathbf{a} ||$'\n",
    "\n",
    "c = np.zeros_like(a)\n",
    "for i in range (len(a)):\n",
    "    aux = np.array([0.0,0.0,a[i]]) + b\n",
    "    c[i] = np.linalg.norm(aux) - a[i]\n",
    "\n",
    "plt.close('all')\n",
    "plt.figure(figsize=(10,8))\n",
    "plt.plot([a[0], a[-1]],[np.linalg.norm(b), np.linalg.norm(b)], 'k--',\n",
    "          linewidth=2, label=nb)\n",
    "plt.plot([a[0], a[-1]],[b[2], b[2]], 'k-',\n",
    "          linewidth=2, label=bz)\n",
    "plt.plot(a, c, 'ro', label = yl)\n",
    "amax = np.max(a) \n",
    "amin = np.min(a)\n",
    "da = amax - amin\n",
    "plt.xlim(amin - da*0.05,amax + da*0.05)\n",
    "cmax = np.max(c) \n",
    "cmin = np.min(c)\n",
    "dc = cmax - cmin\n",
    "plt.ylim(cmin - dc*0.05,cmax + dc*0.05)\n",
    "plt.xticks(fontsize=14)\n",
    "plt.yticks(fontsize=14)\n",
    "plt.ylabel('$|| \\mathbf{a} + \\mathbf{b} || - || \\mathbf{a} ||$', \n",
    "           fontsize=20)\n",
    "plt.xlabel('$|| \\mathbf{a} ||$', fontsize=20)\n",
    "plt.legend(loc='best', fontsize=20, numpoints = 1)\n",
    "plt.show()"
   ]
  },
  {
   "cell_type": "markdown",
   "metadata": {},
   "source": [
    "Tal como o gráfico acima mostra, quando $\\|\\mathbf{a}\\|$ é muito maior que $\\|\\mathbf{b}\\|$, a diferença $\\| \\mathbf{a} + \\mathbf{b} \\| - \\| \\mathbf{a} \\|$ tende ao valor da componente $b_{z}$ do vetor $\\mathbf{b}$. Nesta simulação, $b_{z}$ é a projeção de $\\mathbf{b}$ na direção de $\\mathbf{a}$."
   ]
  },
  {
   "cell_type": "code",
   "execution_count": null,
   "metadata": {
    "collapsed": true
   },
   "outputs": [],
   "source": []
  }
 ],
 "metadata": {
  "kernelspec": {
   "display_name": "Python 2",
   "language": "python",
   "name": "python2"
  },
  "language_info": {
   "codemirror_mode": {
    "name": "ipython",
    "version": 2
   },
   "file_extension": ".py",
   "mimetype": "text/x-python",
   "name": "python",
   "nbconvert_exporter": "python",
   "pygments_lexer": "ipython2",
   "version": "2.7.10"
  }
 },
 "nbformat": 4,
 "nbformat_minor": 0
}
