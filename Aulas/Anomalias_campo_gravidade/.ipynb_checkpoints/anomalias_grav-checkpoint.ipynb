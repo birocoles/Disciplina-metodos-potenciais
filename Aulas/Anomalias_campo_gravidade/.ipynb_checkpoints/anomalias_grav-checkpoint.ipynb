{
 "cells": [
  {
   "cell_type": "markdown",
   "metadata": {},
   "source": [
    "# Anomalias no campo de gravidade"
   ]
  },
  {
   "cell_type": "markdown",
   "metadata": {},
   "source": [
    "Do ponto de vista físico, a gravidade é um vetor $\\mathbf{g}$ definido como a amplitude do gradiente do potencial de gravidade, que é a soma entre o potencial gravitacional e o potencial centrífugo. Analogamente, a gravidade normal também é um vetor $\\mathbf{\\gamma}$ definido como a amplitude do gradiente do potencial de gravidade normal, que é a soma entre o potencial gravitacional e o potencial centrífugo produzidos pelo modelo de Terra Normal. O potencial centrífugo da Terra e do modelo de Terra Normal são iguais. Se considerarmos uma pequena região na superfície do planeta, a gravidade $\\mathbf{g}$ e a gravidade normal $\\mathbf{\\gamma}$ são vetores praticamente paralelos. Matematicamente, a gravidade $\\mathbf{g}$ em um determinado ponto pode ser escrita como a soma $\\mathbf{g} = \\mathbf{\\gamma} + \\mathbf{\\Delta \\, g}$ entre a gravidade normal $\\mathbf{\\gamma}$ e uma perturbação $\\mathbf{\\Delta \\, g}$, tal que $||\\mathbf{\\gamma}|| \\gg ||\\mathbf{\\Delta \\, g}||$. Geralmente, as medidas da gravidade na superfície da Terra são referidas a um sistema local de coordenadas Cartesianas, em que o eixo $z$ fica na direção vertical e aponta para o interior da Terra. Dessa forma, a gravidade normal $\\mathbf{\\gamma}$ fica alinhada com o eixo $z$. Isso significa que, neste sistema de coordenadas local, $\\mathbf{\\gamma}$ é um vetor com componentes $x$ e $y$ nulas. Com base nestas considerações, em um ponto da superfície da Terra:"
   ]
  },
  {
   "cell_type": "markdown",
   "metadata": {},
   "source": [
    "### $\\mathbf{g} =  \\mathbf{\\gamma} + \\mathbf{\\Delta \\, g}$"
   ]
  },
  {
   "cell_type": "markdown",
   "metadata": {},
   "source": [
    "### $\\mathbf{g} = \\left[ \\begin{array}{c}  g_{x} \\\\ g_{y} \\\\ g_{z} \\end{array} \\right]$"
   ]
  },
  {
   "cell_type": "markdown",
   "metadata": {},
   "source": [
    "### $\\mathbf{\\gamma} \\approx  \\left[ \\begin{array}{c}  0 \\\\ 0 \\\\ g_{0} \\end{array} \\right]$"
   ]
  },
  {
   "cell_type": "markdown",
   "metadata": {},
   "source": [
    "### $\\mathbf{\\Delta \\, g} = \\left[ \\begin{array}{c}  \\Delta \\, g_{x} \\\\ \\Delta \\, g_{y} \\\\ \\Delta \\, g_{z} \\end{array} \\right]$"
   ]
  },
  {
   "cell_type": "markdown",
   "metadata": {},
   "source": [
    "### $||\\mathbf{\\gamma}|| \\gg ||\\mathbf{\\Delta \\, g}||$"
   ]
  },
  {
   "cell_type": "markdown",
   "metadata": {},
   "source": [
    "### $f(h_{x}, h_{y}, h_{z}) = f(\\mathbf{h}) = \\sqrt{\\mathbf{h}^{\\intercal}\\mathbf{h}}$"
   ]
  },
  {
   "cell_type": "markdown",
   "metadata": {},
   "source": [
    "$f(\\mathbf{h})$ é uma função que calcula a norma Euclidiana do vetor $\\mathbf{h}$ - ou módulo de $\\mathbf{h}$ (para os íntimos)"
   ]
  },
  {
   "cell_type": "markdown",
   "metadata": {},
   "source": [
    "### $\\nabla \\, f(\\mathbf{h}) = \\left[ \\begin{array}{c}  \\frac{\\partial \\, f(\\mathbf{h})}{\\partial \\, h_{x}} \\\\ \\frac{\\partial \\, f(\\mathbf{h})}{\\partial \\, h_{y}} \\\\ \\frac{\\partial \\, f(\\mathbf{h})}{\\partial \\, h_{z}} \\end{array} \\right] =  \\dfrac{\\mathbf{h}}{||\\mathbf{h}||} = \\hat{\\mathbf{h}}$"
   ]
  },
  {
   "cell_type": "markdown",
   "metadata": {},
   "source": [
    "### Em que $\\hat{\\mathbf{h}}$ é um vetor unitário na direção de $\\mathbf{h}$"
   ]
  },
  {
   "cell_type": "markdown",
   "metadata": {},
   "source": [
    "### $f(\\mathbf{g}) \\approx f(\\mathbf{\\gamma}) \\: + \\: \\nabla \\, f(\\mathbf{\\gamma})^{\\intercal} \\mathbf{\\Delta \\, g} $"
   ]
  },
  {
   "cell_type": "markdown",
   "metadata": {},
   "source": [
    "### $\\nabla \\, f(\\mathbf{\\gamma}) = \\hat{\\mathbf{\\gamma}}$"
   ]
  },
  {
   "cell_type": "markdown",
   "metadata": {},
   "source": [
    "### $f(\\mathbf{g}) - f(\\mathbf{\\gamma}) \\approx \\hat{\\mathbf{\\gamma}}^{\\intercal} \\mathbf{\\Delta \\, g} = g_{z}$"
   ]
  },
  {
   "cell_type": "markdown",
   "metadata": {},
   "source": [
    "Em geofísica, o termo $f(\\mathbf{g}) - f(\\mathbf{\\gamma})$ (módulo de $\\mathbf{g}$ menos o módulo de $\\mathbf{\\gamma}$ calculados no mesmo ponto!) é denominado distúrbio de gravidade $\\delta g$. A equação acima mostra que $\\delta g$ é a projeção da aceleração gravitacional produzida pelas massas anômalas na direção do vetor gravidade normal $\\mathbf{\\gamma}$. No sistema local de coordenadas Cartesianas em que $\\mathbf{\\gamma}$ é alinhado com o eixo $z$, isso significa que $\\delta g$ é a componente vertical $z$ da aceleração gravitacional exercida pelas massas anômalas"
   ]
  },
  {
   "cell_type": "markdown",
   "metadata": {},
   "source": [
    "Observe que a conclusão de que $\\delta g$ é a componente vertical da aceleração gravitacional exercida pelas massas anômalas presume duas coisas:"
   ]
  },
  {
   "cell_type": "markdown",
   "metadata": {},
   "source": [
    "### 1) $||\\mathbf{\\gamma}|| \\gg ||\\mathbf{\\Delta \\, g}||$"
   ]
  },
  {
   "cell_type": "code",
   "execution_count": null,
   "metadata": {
    "collapsed": true
   },
   "outputs": [],
   "source": []
  }
 ],
 "metadata": {
  "kernelspec": {
   "display_name": "Python 2",
   "language": "python",
   "name": "python2"
  },
  "language_info": {
   "codemirror_mode": {
    "name": "ipython",
    "version": 2
   },
   "file_extension": ".py",
   "mimetype": "text/x-python",
   "name": "python",
   "nbconvert_exporter": "python",
   "pygments_lexer": "ipython2",
   "version": "2.7.10"
  }
 },
 "nbformat": 4,
 "nbformat_minor": 0
}
