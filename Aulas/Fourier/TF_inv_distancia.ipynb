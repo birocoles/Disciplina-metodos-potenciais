{
 "cells": [
  {
   "cell_type": "markdown",
   "metadata": {},
   "source": [
    "# Transformada de Fourier da função $\\dfrac{1}{r}$"
   ]
  },
  {
   "cell_type": "markdown",
   "metadata": {},
   "source": [
    "Este código faz uma comparação entre a transformada de Fourier analítica e a transformada de Fourier numérica da função inverso da distância."
   ]
  },
  {
   "cell_type": "code",
   "execution_count": 2,
   "metadata": {
    "collapsed": true
   },
   "outputs": [],
   "source": [
    "%matplotlib inline\n",
    "import numpy as np\n",
    "from matplotlib import pyplot as plt\n",
    "from matplotlib import rcParams as rc\n",
    "from scipy.fftpack import fft, ifft, fftfreq, fftshift, rfft, irfft"
   ]
  },
  {
   "cell_type": "code",
   "execution_count": 3,
   "metadata": {
    "collapsed": true
   },
   "outputs": [],
   "source": [
    "rc['lines.linewidth'] = 1.\n",
    "rc['font.size'] = 14"
   ]
  },
  {
   "cell_type": "markdown",
   "metadata": {},
   "source": [
    "### Código para calcular a Transformada de Fourier (e sua inversa) 1D"
   ]
  },
  {
   "cell_type": "code",
   "execution_count": 4,
   "metadata": {
    "collapsed": true
   },
   "outputs": [],
   "source": [
    "def DFT_slow_1D(x):\n",
    "    \"\"\"Compute the discrete Fourier Transform of the 1D array x. This \n",
    "    function was originally presented by Jake Vanderplas on his blog \n",
    "    (https://jakevdp.github.io/blog/2013/08/28/understanding-the-fft/).\"\"\"\n",
    "    x = np.asarray(x, dtype=float)\n",
    "    N = x.shape[0]\n",
    "    n = np.arange(N)\n",
    "    k = n.reshape((N, 1))\n",
    "    M = np.exp(-2j * np.pi * k * n / N)\n",
    "    return np.dot(M, x)\n",
    "\n",
    "def iDFT_slow_1D(x):\n",
    "    \"\"\"Compute the inverse discrete Fourier Transform of the 1D \n",
    "    array x.\"\"\"\n",
    "    x = np.asarray(x, dtype=complex)\n",
    "    N = x.shape[0]\n",
    "    n = np.arange(N)\n",
    "    k = n.reshape((N, 1))\n",
    "    M = np.exp(2j * np.pi * k * n / N)\n",
    "    M /= N\n",
    "    return np.dot(M, x)"
   ]
  },
  {
   "cell_type": "markdown",
   "metadata": {},
   "source": [
    "### Código para calcular a Transformada de Fourier (e sua inversa) 2D"
   ]
  },
  {
   "cell_type": "code",
   "execution_count": null,
   "metadata": {
    "collapsed": true
   },
   "outputs": [],
   "source": [
    "def DFT_slow_2D(x):\n",
    "    \"\"\"Compute the discrete Fourier Transform of the 2D array x.\"\"\"\n",
    "    x = np.asarray(x, dtype=float)\n",
    "    Nx = x.shape[0]\n",
    "    Ny = x.shape[1]\n",
    "    N = Nx*Ny\n",
    "    nx, ny = np.meshgrid(np.arange(Nx), np.arange(Ny))\n",
    "    nx = np.ravel(nx)\n",
    "    ny = np.ravel(ny)\n",
    "    kx = nx.reshape((N, 1))\n",
    "    ky = ny.reshape((N, 1))\n",
    "    M = np.exp(-2j*np.pi*(kx*nx/Nx + ky*ny/Ny))\n",
    "    return np.dot(M, np.ravel(x))\n",
    "\n",
    "def iDFT_slow_2D(x):\n",
    "    \"\"\"Compute the inverse discrete Fourier Transform of the 2D \n",
    "    array x.\"\"\"\n",
    "    x = np.asarray(x, dtype=complex)\n",
    "    N = x.shape[0]\n",
    "    n = np.arange(N)\n",
    "    k = n.reshape((N, 1))\n",
    "    M = np.exp(2j * np.pi * k * n / N)\n",
    "    M /= N\n",
    "    return np.dot(M, x)"
   ]
  }
 ],
 "metadata": {
  "kernelspec": {
   "display_name": "Python 2",
   "language": "python",
   "name": "python2"
  },
  "language_info": {
   "codemirror_mode": {
    "name": "ipython",
    "version": 2
   },
   "file_extension": ".py",
   "mimetype": "text/x-python",
   "name": "python",
   "nbconvert_exporter": "python",
   "pygments_lexer": "ipython2",
   "version": "2.7.10"
  }
 },
 "nbformat": 4,
 "nbformat_minor": 0
}
