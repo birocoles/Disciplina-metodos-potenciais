{
 "cells": [
  {
   "cell_type": "markdown",
   "metadata": {},
   "source": [
    "# Transformação de coordenadas geodésicas"
   ]
  },
  {
   "cell_type": "markdown",
   "metadata": {},
   "source": [
    "A posição de um ponto localizado sobre a superfície da Terra ou próximo a ela é comumente definida em coordenadas geodésicas, que são referidas a um datum geodésico (ver notebook `coordenadas_geodesicas.ipynb`). \n",
    "\n",
    "Há diferentes datums geodésicos definidos por diferentes elipsóides de revolução.\n",
    "\n",
    "Atualmente, o Sistema Geodésico Brasileiro adota o sistema de referencia **SIRGAS2000**, de acordo com a [Resolução do Presidente do IBGE n° 1, de 25/02/2005 (R.PR 01/05)](http://www.ibge.gov.br/home/geociencias/geodesia/param_transf/default_param_transf.shtm).\n",
    "\n",
    "Este sistema de referência possui como datum geodésico o **Sistema Geodésico de Referência de 1980** (*Geodetic Reference System 1980 – GRS80*)..."
   ]
  },
  {
   "cell_type": "code",
   "execution_count": null,
   "metadata": {
    "collapsed": true
   },
   "outputs": [],
   "source": []
  }
 ],
 "metadata": {
  "kernelspec": {
   "display_name": "Python 2",
   "language": "python",
   "name": "python2"
  },
  "language_info": {
   "codemirror_mode": {
    "name": "ipython",
    "version": 2
   },
   "file_extension": ".py",
   "mimetype": "text/x-python",
   "name": "python",
   "nbconvert_exporter": "python",
   "pygments_lexer": "ipython2",
   "version": "2.7.10"
  }
 },
 "nbformat": 4,
 "nbformat_minor": 0
}
