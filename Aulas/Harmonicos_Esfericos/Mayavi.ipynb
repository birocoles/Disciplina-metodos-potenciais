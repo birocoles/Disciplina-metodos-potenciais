{
 "metadata": {
  "name": "",
  "signature": "sha256:62e04b364095f5cfb088ebcc1f1711960b82d26b5c20983ed080b5cbaf8868c9"
 },
 "nbformat": 3,
 "nbformat_minor": 0,
 "worksheets": [
  {
   "cells": [
    {
     "cell_type": "code",
     "collapsed": false,
     "input": [
      "#source1: https://neuronvisio.readthedocs.org/en/latest/gettingstarted.html#troubleshooting\n",
      "#source2: http://ipython.org/ipython-doc/dev/interactive/reference.html#pyqt-and-pyside\n",
      "\n",
      "import sip\n",
      "sip.setapi('QString', 2)\n",
      "sip.setapi('QVariant', 2)"
     ],
     "language": "python",
     "metadata": {},
     "outputs": [],
     "prompt_number": 1
    },
    {
     "cell_type": "code",
     "collapsed": false,
     "input": [
      "# Author: Gael Varoquaux <gael.varoquaux@normalesup.org>\n",
      "# Copyright (c) 2008, Enthought, Inc.\n",
      "# License: BSD Style.\n",
      "\n",
      "#source: http://docs.enthought.com/mayavi/mayavi/auto/example_spherical_harmonics.html\n",
      "\n",
      "#%matplotlib inline\n",
      "from mayavi import mlab\n",
      "import numpy as np\n",
      "from scipy.special import sph_harm"
     ],
     "language": "python",
     "metadata": {},
     "outputs": [
      {
       "output_type": "stream",
       "stream": "stderr",
       "text": [
        "WARNING:traits.has_traits:DEPRECATED: traits.has_traits.wrapped_class, 'the 'implements' class advisor has been deprecated. Use the 'provides' class decorator.\n"
       ]
      }
     ],
     "prompt_number": 2
    },
    {
     "cell_type": "code",
     "collapsed": false,
     "input": [
      "# Create a sphere\n",
      "r = 0.3\n",
      "pi = np.pi\n",
      "cos = np.cos\n",
      "sin = np.sin\n",
      "phi, theta = np.mgrid[0:pi:101j, 0:2*pi:101j]\n",
      "\n",
      "x = r * sin(phi) * cos(theta)\n",
      "y = r * sin(phi) * sin(theta)\n",
      "z = r * cos(phi)\n",
      "\n",
      "mlab.figure(1, bgcolor=(1, 1, 1), fgcolor=(0, 0, 0), size=(400, 300))\n",
      "mlab.clf()\n",
      "\n",
      "n = 4\n",
      "m = 0\n",
      "\n",
      "s = sph_harm(m, n, theta, phi).real\n",
      "\n",
      "mlab.mesh(x - m, y - n, z, scalars=s, colormap='blue-red')\n",
      "\n",
      "#mlab.colorbar(object=obj)\n",
      "\n",
      "#colormap list (source: http://docs.enthought.com/mayavi/mayavi/mlab.html)\n",
      "\n",
      "#accent       flag          hot      pubu     set2\n",
      "#autumn       gist_earth    hsv      pubugn   set3\n",
      "#black-white  gist_gray     jet      puor     spectral\n",
      "#blue-red     gist_heat     oranges  purd     spring\n",
      "#blues        gist_ncar     orrd     purples  summer\n",
      "#bone         gist_rainbow  paired   rdbu     winter\n",
      "#brbg         gist_stern    pastel1  rdgy     ylgnbu\n",
      "#bugn         gist_yarg     pastel2  rdpu     ylgn\n",
      "#bupu         gnbu          pink     rdylbu   ylorbr\n",
      "#cool         gray          piyg     rdylgn   ylorrd\n",
      "#copper       greens        prgn     reds\n",
      "#dark2        greys         prism    set1\n",
      "\n",
      "mlab.show()"
     ],
     "language": "python",
     "metadata": {},
     "outputs": [],
     "prompt_number": 6
    },
    {
     "cell_type": "code",
     "collapsed": false,
     "input": [],
     "language": "python",
     "metadata": {},
     "outputs": [],
     "prompt_number": 3
    }
   ],
   "metadata": {}
  }
 ]
}