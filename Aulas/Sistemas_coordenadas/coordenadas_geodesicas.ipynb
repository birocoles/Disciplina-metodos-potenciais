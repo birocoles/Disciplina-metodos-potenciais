{
 "cells": [
  {
   "cell_type": "markdown",
   "metadata": {},
   "source": [
    "# Coordenadas geodésicas (ou geográficas)"
   ]
  },
  {
   "cell_type": "markdown",
   "metadata": {},
   "source": [
    "A posição de um ponto localizado sobre a superfície da Terra ou próximo a ela é comumente definida em coordenadas geodésicas, que são referidas a um elipsóide de revolução. Um elipsoide de revolução pode ser definido por meio da rotação de uma elipse (Figura 1) em torno de seu semieixo menor $b$."
   ]
  },
  {
   "cell_type": "markdown",
   "metadata": {
    "collapsed": false
   },
   "source": [
    "<img src=\"elipse_semieixos_ab.png\" width=\"600\">"
   ]
  },
  {
   "cell_type": "markdown",
   "metadata": {
    "collapsed": true
   },
   "source": [
    "**Figura 1:** *Elipse com semieixo maior $a$ e semieixo menor $b$. Esta elipse possui a origem $O$ coincidente com o centro de massa da Terra e o semieixo menor $b$ coincidente com o eixo de rotação médio da Terra, que está representado por $\\text{Z}$.*"
   ]
  },
  {
   "cell_type": "markdown",
   "metadata": {},
   "source": [
    "Além dos semieixos menor $b$ e maior $a$, há outros parâmetros que descrevem a geometria de uma elipse (e consequentemente do elipsoide de revolução construído a partir dela):"
   ]
  },
  {
   "cell_type": "markdown",
   "metadata": {},
   "source": [
    "Achatamento: $f = \\dfrac{a - b}{a} \\quad \\quad \\quad$ (eq. 1)"
   ]
  },
  {
   "cell_type": "markdown",
   "metadata": {},
   "source": [
    "Excentricidade linear: $E = \\sqrt{a^{2} + b^{2}} \\quad \\quad \\quad$ (eq. 2)"
   ]
  },
  {
   "cell_type": "markdown",
   "metadata": {},
   "source": [
    "Primeira excentricidade: $e = \\dfrac{\\sqrt{a^{2} - b^{2}}}{a} \\quad \\quad \\quad$ (eq. 3)"
   ]
  },
  {
   "cell_type": "markdown",
   "metadata": {},
   "source": [
    "Segunda excentricidade: $e^{\\,\\prime} = \\dfrac{\\sqrt{a^{2} - b^{2}}}{b} \\quad \\quad \\quad$ (eq. 4)"
   ]
  },
  {
   "cell_type": "code",
   "execution_count": null,
   "metadata": {
    "collapsed": true
   },
   "outputs": [],
   "source": []
  },
  {
   "cell_type": "markdown",
   "metadata": {
    "collapsed": false
   },
   "source": [
    "<img src='coordenadas_geodesicas.png' width=600>"
   ]
  },
  {
   "cell_type": "markdown",
   "metadata": {},
   "source": [
    "**Figura 2:** *Representação esquemática das coordenadas geodésicas $(h, \\varphi, \\lambda)$ de um ponto $P$ em relação a um determinado elipsoide de referência, com origem $O$ no centro de massa da Terra e semieixo menor $b$ coincidente com o eixo de rotação médio $\\text{Z}$. $P^{\\,\\prime}$ representa a projeção do ponto $P$ no plano $\\text{XY}$, que representa o plano equatorial médio da Terra. O plano que contém o semieixo menor $b$ e os pontos $P$ e $P^{\\,\\prime}$ (representado em cinza) é denominado plano meridiano.* **(a)** *Representação da longitude $\\lambda$ como sendo o ângulo entre o eixo $\\text{X}$ e a interseção entre o plano $\\text{XY}$ e o plano meridiano (em cinza) que passa por $P$. A longitude aumenta de $X$ para $Y$.* **(b)** *Representação da altitude geométrica $h$ como sendo a distância entre a superfície do elipsóide e o ponto $P$. Esta distância é calculada ao longo da reta normal que passa por $P$. $h$ é zero sobre o elipsoide, positiva acima do elipsoide e negativa abaix do elipsoide. Note que, devido ao achatamento do elipsoide, a reta normal que passa por $P$ não cruza a origem $O$. O ângulo $\\varphi$ entre o plano $\\text{XY}$ e esta linha é a latitude geodésica. A latitude aumenta do plano $\\text{XY}$ em direção ao eixo $\\text{Z}$.*"
   ]
  },
  {
   "cell_type": "markdown",
   "metadata": {
    "collapsed": true
   },
   "source": [
    "Um elipsóide de revolução utilizado como referencial para coordenadas geodésicas é denominado *Datum Geodésico* ou *Sistema de Referência Geodésico*. Um Datum Geodésico pode ser definido pelos seguintes parâmetros (Hofmann-Wellenhof e Moritz, 2005): \n",
    "\n",
    "1. semieixo maior $a$, \n",
    "\n",
    "2. achatamento $f$ e \n",
    "\n",
    "3. coordenadas da origem $(\\text{X}_{0}, \\text{Y}_{0}, \\text{Z}_{0})$."
   ]
  },
  {
   "cell_type": "code",
   "execution_count": null,
   "metadata": {
    "collapsed": true
   },
   "outputs": [],
   "source": []
  },
  {
   "cell_type": "markdown",
   "metadata": {},
   "source": [
    "## Transformação de coordenadas geodésicas $(h, \\varphi, \\lambda)$ para Cartesianas $(\\text{X}, \\text{Y}, \\text{Z})$"
   ]
  },
  {
   "cell_type": "markdown",
   "metadata": {},
   "source": [
    "O cálculo das coordenadas Cartesianas a partir das coordenadas geodésicas é feito diretamente pelas equações (Rapp, 1991, 1993; Hofmann-Wellenhof e Moritz, 2005; Jekeli, 2012):"
   ]
  },
  {
   "cell_type": "markdown",
   "metadata": {},
   "source": [
    "$\\text{X} = (N + h) \\, \\text{cos}\\varphi \\, \\text{cos}\\lambda \\quad \\quad \\quad$ (eq. 5)"
   ]
  },
  {
   "cell_type": "markdown",
   "metadata": {},
   "source": [
    "$\\text{Y} = (N + h) \\, \\text{cos}\\varphi \\, \\text{sen}\\lambda \\quad \\quad \\quad$ (eq. 6)"
   ]
  },
  {
   "cell_type": "markdown",
   "metadata": {},
   "source": [
    "$\\text{Z} = \\left( \\dfrac{b^2}{a^2} N + h\\right) \\, \\text{sen}{\\varphi} \\quad \\quad \\quad$ (eq. 7)"
   ]
  },
  {
   "cell_type": "markdown",
   "metadata": {},
   "source": [
    "## Transformação de coordenadas Cartesianas $(\\text{X}, \\text{Y}, \\text{Z})$ para geodésicas $(h, \\varphi, \\lambda)$"
   ]
  },
  {
   "cell_type": "markdown",
   "metadata": {},
   "source": [
    "Usualmente, o cálculo de $h$ e $\\varphi$ é feito de forma iterativa, de acordo com o algoritmo de *Hirvonen-Moritz* (Rapp, 1991, 1993; Hofmann-Wellenhof e Moritz, 2005; Jekeli, 2012). Antes de descrever este algoritmo, vamos definir algumas quantidades:"
   ]
  },
  {
   "cell_type": "markdown",
   "metadata": {},
   "source": [
    "Raio de curvatura da seção primeiro vertical: $N = \\dfrac{a}{\\sqrt{1 - e^{2} \\, \\text{sen}^{2}\\varphi}} \\quad \\quad \\quad$ (eq. 8)"
   ]
  },
  {
   "cell_type": "markdown",
   "metadata": {},
   "source": [
    "$h = \\dfrac{p}{\\text{cos}\\varphi} - N \\quad \\quad \\quad$ (eq. 9)"
   ]
  },
  {
   "cell_type": "markdown",
   "metadata": {},
   "source": [
    "$p = \\sqrt{\\text{X}^{2} + \\text{Y}^{2}} \\quad \\quad \\quad$ (eq. 10)"
   ]
  },
  {
   "cell_type": "markdown",
   "metadata": {},
   "source": [
    "$\\text{tan}\\varphi = \\dfrac{Z}{p} \\left( 1 - e^{2} \\dfrac{N}{N + h} \\right)^{-1} \\quad \\quad \\quad$ (eq. 11)"
   ]
  },
  {
   "cell_type": "markdown",
   "metadata": {},
   "source": [
    "### Algoritmo de *Hirvonen-Moritz*"
   ]
  },
  {
   "cell_type": "markdown",
   "metadata": {},
   "source": [
    "Primeiramente, calcule $e$ (eq. 3) e defina $h = 0$. Depois disso, execute as seguintes etapas:\n",
    "\n",
    "> (E1) Calcule $\\varphi$ (eq. 11)\n",
    "\n",
    "> (E2) Calcule $N$ (eq. 8)\n",
    "\n",
    "> (E3) Calcule $h$ (eq. 9) e volte para a etapa (E1)\n",
    "\n"
   ]
  },
  {
   "cell_type": "markdown",
   "metadata": {},
   "source": [
    "Na prática, cerca de 5 iterações (no máximo) são suficientes para determinar $\\varphi$ e $h$. Por fim, a longitude $\\lambda$ é dada diretamente por:"
   ]
  },
  {
   "cell_type": "markdown",
   "metadata": {},
   "source": [
    "$\\lambda = \\text{tan}^{-1} \\dfrac{Y}{X} \\quad \\quad \\quad$ (eq. 12)"
   ]
  },
  {
   "cell_type": "code",
   "execution_count": null,
   "metadata": {
    "collapsed": true
   },
   "outputs": [],
   "source": []
  },
  {
   "cell_type": "markdown",
   "metadata": {},
   "source": [
    "## Referências"
   ]
  },
  {
   "cell_type": "markdown",
   "metadata": {},
   "source": [
    "* Rapp, R. H., 1991, Geometric Geodesy - Part I. Ohio State University Department of Geodetic Science and Surveying,\n",
    "    url: http://hdl.handle.net/1811/24333\n",
    "\n",
    "    \n",
    "* Rapp, R. H., 1993, Geometric Geodesy - Part II. Ohio State University Department of Geodetic Science and Surveying,\n",
    "    url: http://hdl.handle.net/1811/24409\n",
    "\n",
    "\n",
    "* Hofmann-Wellenhof, B. e H. Moritz, 2005, Physical Geodesy. Springer.\n",
    "\n",
    "\n",
    "* Jekeli, C., 2012, Geometric Reference Systems in Geodesy. Ohio State University, Division of Geodetic Science,\n",
    "    School of Earth Sciences, url: http://hdl.handle.net/1811/51274"
   ]
  },
  {
   "cell_type": "code",
   "execution_count": null,
   "metadata": {
    "collapsed": true
   },
   "outputs": [],
   "source": []
  }
 ],
 "metadata": {
  "kernelspec": {
   "display_name": "Python 2",
   "language": "python",
   "name": "python2"
  },
  "language_info": {
   "codemirror_mode": {
    "name": "ipython",
    "version": 2
   },
   "file_extension": ".py",
   "mimetype": "text/x-python",
   "name": "python",
   "nbconvert_exporter": "python",
   "pygments_lexer": "ipython2",
   "version": "2.7.10"
  }
 },
 "nbformat": 4,
 "nbformat_minor": 0
}
