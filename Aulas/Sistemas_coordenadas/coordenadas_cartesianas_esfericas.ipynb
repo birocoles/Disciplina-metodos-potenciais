{
 "cells": [
  {
   "cell_type": "markdown",
   "metadata": {},
   "source": [
    "# Sistemas de coordenadas Cartesianas e esféricas"
   ]
  },
  {
   "cell_type": "markdown",
   "metadata": {},
   "source": [
    "A definição da posição precisa de um ponto localizado sobre a superfície da Terra ou próximo a ela é de suma importância na área de Geociências. Para definir a posição de um ponto em relação a Terra, contudo, é necessário definir um Sistema de Referência Terrestre (TRS, do inglês *Terrestrial Reference System*). De acordo com o [International Earth Rotation and Reference Systems Service (IERS)](http://www.iers.org/IERS/EN/Home/home_node.html), um TRS é um sistema de referência espacial que rotaciona junto com a Terra. Em tal sistema, a posição de um ponto $P$ (Figura 1) em relação a superfície sólida da Terra tem coordenadas que sofrem apenas pequenas variações ao longo do tempo, devido a efeitos geofísicos (deformações de origem tectônica ou causadas pelo fenômeno das marés). Considere um TRS geocêntrico, isto é, com origem no centro de massa da Terra, eixo $\\text{Z}$ coincidente com o eixo médio de rotação e eixo $\\text{X}$ coincidente com o meridiano de Greenwich (Figura 1). A partir deste sistema, é possível determinar coordenadas em outros sistemas, tais como o sistema de coordenadas esféricas ou geodésicas (Petit e Luzum, 2010). No sistema de coordenadas esféricas (polares), a posição do ponto $P$ é descrita em termos da distância radial $r$, da colatitude $\\theta$ e da longitude $\\lambda$ (Jekeli, 2012)."
   ]
  },
  {
   "cell_type": "markdown",
   "metadata": {},
   "source": [
    "<img src=\"coordenadas_cartesianas_esfericas.png\" width=\"600\">"
   ]
  },
  {
   "cell_type": "markdown",
   "metadata": {},
   "source": [
    "**Figura 1:** *Sistema de coordenadas Cartesianas $(\\text{X}, \\text{Y}, \\text{Z})$ com origen $O$ no centro de massa da Terra, eixo $\\text{Z}$ coincidente com o eixo médio de rotação e eixo $\\text{X}$ coincidente com o meridiano de Greenwich. A partir deste sistema, é possível definir um sistema de coordenadas esféricas $(r, \\theta, \\lambda)$.*"
   ]
  },
  {
   "cell_type": "markdown",
   "metadata": {},
   "source": [
    "## Referências"
   ]
  },
  {
   "cell_type": "markdown",
   "metadata": {},
   "source": [
    "* Petit, G. e Luzum, B. (eds.), 2010, IERS Conventions (2010) - IERS Technical No. 36, Frankfurt am Main: Verlag des Bundesamts für Kartographie und Geodäsie, ISBN 3-89888-989-6, url: http://www.iers.org/IERS/EN/Publications/TechnicalNotes/tn36.html\n",
    "\n",
    "\n",
    "* Jekeli, C., 2012, Geometric Reference Systems in Geodesy. Ohio State University, Division of Geodetic Science,\n",
    "    School of Earth Sciences, url: http://hdl.handle.net/1811/51274"
   ]
  },
  {
   "cell_type": "code",
   "execution_count": null,
   "metadata": {
    "collapsed": true
   },
   "outputs": [],
   "source": []
  }
 ],
 "metadata": {
  "kernelspec": {
   "display_name": "Python 2",
   "language": "python",
   "name": "python2"
  },
  "language_info": {
   "codemirror_mode": {
    "name": "ipython",
    "version": 2
   },
   "file_extension": ".py",
   "mimetype": "text/x-python",
   "name": "python",
   "nbconvert_exporter": "python",
   "pygments_lexer": "ipython2",
   "version": "2.7.10"
  }
 },
 "nbformat": 4,
 "nbformat_minor": 0
}
