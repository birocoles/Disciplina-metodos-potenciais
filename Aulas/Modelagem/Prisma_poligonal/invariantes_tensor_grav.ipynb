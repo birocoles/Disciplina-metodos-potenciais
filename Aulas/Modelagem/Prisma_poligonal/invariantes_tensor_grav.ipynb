{
 "cells": [
  {
   "cell_type": "markdown",
   "metadata": {},
   "source": [
    "# Invariantes do tensor gradiente da gravidade"
   ]
  },
  {
   "cell_type": "markdown",
   "metadata": {},
   "source": [
    "Este código utiliza a biblioteca de modelagem e inversão de dados geofísicos denominada [Fatiando a Terra](http://www.fatiando.org/index.html) para exemplificar os invariantes do tensor gradiente da gravidade (Pedersen e Rasmussen, 1990)."
   ]
  },
  {
   "cell_type": "markdown",
   "metadata": {},
   "source": [
    "* Pedersen, L. B. e Rasmussen, T. M. The gradient tensor of potential field anomalies: Some implications on data collection and data processing of maps. GEOPHYSICS, 55(12), 1558-1566, 1991, doi: [10.1190/1.1442807](http://dx.doi.org/10.1190/1.1442807)"
   ]
  },
  {
   "cell_type": "markdown",
   "metadata": {},
   "source": [
    "### Coisas para importar"
   ]
  },
  {
   "cell_type": "code",
   "execution_count": 1,
   "metadata": {
    "collapsed": true
   },
   "outputs": [],
   "source": [
    "#%matplotlib inline\n",
    "import numpy as np\n",
    "from fatiando import mesher, gridder, utils\n",
    "from fatiando.gravmag import polyprism\n",
    "from fatiando.vis import mpl"
   ]
  },
  {
   "cell_type": "markdown",
   "metadata": {},
   "source": [
    "### Pontos onde são calculados os dados"
   ]
  },
  {
   "cell_type": "code",
   "execution_count": 2,
   "metadata": {
    "collapsed": true
   },
   "outputs": [],
   "source": [
    "shape = (100, 100) # número de pontos ao longo de x e y\n",
    "area = (-5000, 5000, -5000, 5000) # x mínimo, x máximo, y mínimo e y máximo da área\n",
    "xp, yp, zp = gridder.regular(area, shape, z=-100) # grade regular localizada em z = -100 m"
   ]
  },
  {
   "cell_type": "markdown",
   "metadata": {},
   "source": [
    "### Modelo de prisma"
   ]
  },
  {
   "cell_type": "code",
   "execution_count": 3,
   "metadata": {
    "collapsed": true
   },
   "outputs": [],
   "source": [
    "mpl.close('all')\n",
    "axis = mpl.figure().gca()\n",
    "mpl.axis('scaled')\n",
    "vertices = mpl.draw_polygon(area, axis, xy2ne=True)"
   ]
  },
  {
   "cell_type": "code",
   "execution_count": 4,
   "metadata": {
    "collapsed": false
   },
   "outputs": [
    {
     "name": "stdout",
     "output_type": "stream",
     "text": [
      "[[ 2745.81589958 -3634.93723849]\n",
      " [ 2850.41841004 -3216.52719665]\n",
      " [ 3216.52719665 -2170.50209205]\n",
      " [ 3399.58158996  -523.0125523 ]\n",
      " [ 3530.33472803   732.21757322]\n",
      " [ 3530.33472803  1908.9958159 ]\n",
      " [ 2771.9665272   3164.22594142]\n",
      " [ 1281.38075314  3582.63598326]\n",
      " [ -470.71129707  3791.84100418]\n",
      " [-2327.40585774  3582.63598326]\n",
      " [-3817.9916318   2641.21338912]\n",
      " [-4001.0460251   1019.87447699]\n",
      " [-4027.19665272  -496.86192469]\n",
      " [-3242.67782427 -2353.55648536]\n",
      " [-1961.29707113 -2065.89958159]\n",
      " [-1882.84518828  -392.25941423]\n",
      " [-1150.62761506  1516.73640167]\n",
      " [ -366.10878661  1830.54393305]\n",
      " [ 1072.17573222  1359.83263598]\n",
      " [ 1542.88702929  -287.65690377]\n",
      " [ 1438.28451883 -1176.77824268]\n",
      " [ 1438.28451883 -3974.89539749]\n",
      " [ 2039.74895397 -4393.30543933]\n",
      " [ 2536.61087866 -4288.70292887]]\n"
     ]
    }
   ],
   "source": [
    "print vertices"
   ]
  },
  {
   "cell_type": "code",
   "execution_count": 5,
   "metadata": {
    "collapsed": true
   },
   "outputs": [],
   "source": [
    "model = [mesher.PolygonalPrism(vertices, 10, 1010, {'density': 2000.})]"
   ]
  },
  {
   "cell_type": "markdown",
   "metadata": {},
   "source": [
    "### Componentes do tensor gradiente (em Eötvös)"
   ]
  },
  {
   "cell_type": "code",
   "execution_count": 6,
   "metadata": {
    "collapsed": true
   },
   "outputs": [],
   "source": [
    "gxx = polyprism.gxx(xp, yp, zp, model)\n",
    "gxy = polyprism.gxy(xp, yp, zp, model)\n",
    "gxz = polyprism.gxz(xp, yp, zp, model)\n",
    "gyy = polyprism.gyy(xp, yp, zp, model)\n",
    "gyz = polyprism.gyz(xp, yp, zp, model)\n",
    "gzz = polyprism.gzz(xp, yp, zp, model)"
   ]
  },
  {
   "cell_type": "markdown",
   "metadata": {},
   "source": [
    "### Componente vertical da atração gravitacional (em mGal)"
   ]
  },
  {
   "cell_type": "code",
   "execution_count": 7,
   "metadata": {
    "collapsed": true
   },
   "outputs": [],
   "source": [
    "gz = polyprism.gz(xp, yp, zp, model)"
   ]
  },
  {
   "cell_type": "markdown",
   "metadata": {},
   "source": [
    "### Invariantes"
   ]
  },
  {
   "cell_type": "code",
   "execution_count": 8,
   "metadata": {
    "collapsed": false
   },
   "outputs": [],
   "source": [
    "I0 = gxx + gyy + gzz\n",
    "I1 = gxx*gyy + gyy*gzz + gxx*gzz - gxy**2 - gyz**2 - gxz**2\n",
    "I2 = gxx*(gyy*gzz - gyz**2) + gxy*(gyz*gxz - gxy*gzz) + gxz*(gxy*gyz - gxz*gyy)\n",
    "I = -((I2/2.)**2)/((I1/3.)**3)"
   ]
  },
  {
   "cell_type": "markdown",
   "metadata": {},
   "source": [
    "### Plot dos dados"
   ]
  },
  {
   "cell_type": "code",
   "execution_count": 9,
   "metadata": {
    "collapsed": false
   },
   "outputs": [],
   "source": [
    "mpl.close('all')\n",
    "mpl.figure(figsize=(18,14))\n",
    "\n",
    "mpl.subplot(3,3,1)\n",
    "mpl.title(\"Componente gxx (E)\")\n",
    "mpl.axis('scaled')\n",
    "mpl.contourf(yp, xp, gxx, shape, 15, cmap=mpl.get_cmap('RdBu_r'))\n",
    "mpl.colorbar()\n",
    "mpl.polygon(model[0], '--k', xy2ne=True)\n",
    "mpl.xlabel('y (km)')\n",
    "mpl.ylabel('x (km)')\n",
    "mpl.m2km()\n",
    "\n",
    "mpl.subplot(3,3,2)\n",
    "mpl.title(\"Componente gxy (E)\")\n",
    "mpl.axis('scaled')\n",
    "mpl.contourf(yp, xp, gxy, shape, 15, cmap=mpl.get_cmap('RdBu_r'))\n",
    "mpl.colorbar()\n",
    "mpl.polygon(model[0], '--k', xy2ne=True)\n",
    "mpl.xlabel('y (km)')\n",
    "mpl.ylabel('x (km)')\n",
    "mpl.m2km()\n",
    "\n",
    "mpl.subplot(3,3,3)\n",
    "mpl.title(\"Componente gxz (E)\")\n",
    "mpl.axis('scaled')\n",
    "mpl.contourf(yp, xp, gxz, shape, 15, cmap=mpl.get_cmap('RdBu_r'))\n",
    "mpl.colorbar()\n",
    "mpl.polygon(model[0], '--k', xy2ne=True)\n",
    "mpl.xlabel('y (km)')\n",
    "mpl.ylabel('x (km)')\n",
    "mpl.m2km()\n",
    "\n",
    "mpl.subplot(3,3,5)\n",
    "mpl.title(\"Componente gyy (E)\")\n",
    "mpl.axis('scaled')\n",
    "mpl.contourf(yp, xp, gyy, shape, 15, cmap=mpl.get_cmap('RdBu_r'))\n",
    "mpl.colorbar()\n",
    "mpl.polygon(model[0], '--k', xy2ne=True)\n",
    "mpl.xlabel('y (km)')\n",
    "mpl.ylabel('x (km)')\n",
    "mpl.m2km()\n",
    "\n",
    "mpl.subplot(3,3,6)\n",
    "mpl.title(\"Componente gyz (E)\")\n",
    "mpl.axis('scaled')\n",
    "mpl.contourf(yp, xp, gyz, shape, 15, cmap=mpl.get_cmap('RdBu_r'))\n",
    "mpl.colorbar()\n",
    "mpl.polygon(model[0], '--k', xy2ne=True)\n",
    "mpl.xlabel('y (km)')\n",
    "mpl.ylabel('x (km)')\n",
    "mpl.m2km()\n",
    "\n",
    "mpl.subplot(3,3,9)\n",
    "mpl.title(\"Componente gzz (E)\")\n",
    "mpl.axis('scaled')\n",
    "mpl.contourf(yp, xp, gzz, shape, 15, cmap=mpl.get_cmap('RdBu_r'))\n",
    "mpl.colorbar()\n",
    "mpl.polygon(model[0], '--k', xy2ne=True)\n",
    "mpl.xlabel('y (km)')\n",
    "mpl.ylabel('x (km)')\n",
    "mpl.m2km()\n",
    "\n",
    "mpl.subplot(3,3,7)\n",
    "mpl.title(\"Componente gz (mGal)\")\n",
    "mpl.axis('scaled')\n",
    "mpl.contourf(yp, xp, gz, shape, 15, cmap=mpl.get_cmap('RdBu_r'))\n",
    "mpl.colorbar()\n",
    "mpl.polygon(model[0], '--k', xy2ne=True)\n",
    "mpl.xlabel('y (km)')\n",
    "mpl.ylabel('x (km)')\n",
    "mpl.m2km()\n",
    "\n",
    "mpl.tight_layout()\n",
    "\n",
    "mpl.savefig('prismas_tensor_grav2.png', dpi=300)\n",
    "\n",
    "#mpl.show()"
   ]
  },
  {
   "cell_type": "markdown",
   "metadata": {},
   "source": [
    "<img src='prismas_tensor_grav2.png', width=1200>"
   ]
  },
  {
   "cell_type": "markdown",
   "metadata": {
    "collapsed": true
   },
   "source": [
    "### Plot dos invariantes"
   ]
  },
  {
   "cell_type": "code",
   "execution_count": 10,
   "metadata": {
    "collapsed": false
   },
   "outputs": [],
   "source": [
    "mpl.close('all')\n",
    "mpl.figure(figsize=(12,10))\n",
    "\n",
    "mpl.subplot(2,2,1)\n",
    "mpl.title(\"Invariante I0 (E)\")\n",
    "mpl.axis('scaled')\n",
    "mpl.contourf(yp, xp, I0, shape, 15, cmap=mpl.get_cmap('RdBu_r'))\n",
    "mpl.colorbar()\n",
    "mpl.polygon(model[0], '--k', xy2ne=True)\n",
    "mpl.xlabel('y (km)')\n",
    "mpl.ylabel('x (km)')\n",
    "mpl.m2km()\n",
    "\n",
    "mpl.subplot(2,2,2)\n",
    "mpl.title(\"Invariante I1 (E$^{2}$)\")\n",
    "mpl.axis('scaled')\n",
    "mpl.contourf(yp, xp, I1, shape, 15, cmap=mpl.get_cmap('RdBu_r'))\n",
    "mpl.colorbar()\n",
    "mpl.polygon(model[0], '--k', xy2ne=True)\n",
    "mpl.xlabel('y (km)')\n",
    "mpl.ylabel('x (km)')\n",
    "mpl.m2km()\n",
    "\n",
    "mpl.subplot(2,2,3)\n",
    "mpl.title(\"Invariante I2 (E$^{3}$)\")\n",
    "mpl.axis('scaled')\n",
    "mpl.contourf(yp, xp, I2, shape, 15, cmap=mpl.get_cmap('RdBu_r'))\n",
    "mpl.colorbar()\n",
    "mpl.polygon(model[0], '--k', xy2ne=True)\n",
    "mpl.xlabel('y (km)')\n",
    "mpl.ylabel('x (km)')\n",
    "mpl.m2km()\n",
    "\n",
    "mpl.subplot(2,2,4)\n",
    "mpl.title(\"Invariante de dimensionalidade (adimensional)\")\n",
    "mpl.axis('scaled')\n",
    "mpl.contourf(yp, xp, I, shape, 15, cmap=mpl.get_cmap('RdBu_r'))\n",
    "mpl.colorbar()\n",
    "mpl.polygon(model[0], '--k', xy2ne=True)\n",
    "mpl.xlabel('y (km)')\n",
    "mpl.ylabel('x (km)')\n",
    "mpl.m2km()\n",
    "\n",
    "mpl.tight_layout()\n",
    "\n",
    "mpl.savefig('prismas_tensor_grav2_invs.png', dpi=300)\n",
    "\n",
    "#mpl.show()"
   ]
  },
  {
   "cell_type": "markdown",
   "metadata": {
    "collapsed": true
   },
   "source": [
    "<img src='prismas_tensor_grav2_invs.png', width=1200>"
   ]
  },
  {
   "cell_type": "code",
   "execution_count": null,
   "metadata": {
    "collapsed": true
   },
   "outputs": [],
   "source": []
  }
 ],
 "metadata": {
  "kernelspec": {
   "display_name": "Python 2",
   "language": "python",
   "name": "python2"
  },
  "language_info": {
   "codemirror_mode": {
    "name": "ipython",
    "version": 2
   },
   "file_extension": ".py",
   "mimetype": "text/x-python",
   "name": "python",
   "nbconvert_exporter": "python",
   "pygments_lexer": "ipython2",
   "version": "2.7.10"
  }
 },
 "nbformat": 4,
 "nbformat_minor": 0
}
