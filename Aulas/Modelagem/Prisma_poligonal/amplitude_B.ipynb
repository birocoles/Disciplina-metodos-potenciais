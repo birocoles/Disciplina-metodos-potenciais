{
 "cells": [
  {
   "cell_type": "markdown",
   "metadata": {},
   "source": [
    "# Anomalia de campo magnético anômalo"
   ]
  },
  {
   "cell_type": "markdown",
   "metadata": {},
   "source": [
    "Este código utiliza a biblioteca de modelagem e inversão de dados geofísicos denominada [Fatiando a Terra](http://www.fatiando.org/index.html) para calcular a amplitude do campo magnético (Sarah e Li, 2004; Li et al., 2010; Li e Li, 2014; Leão-Santos et al., 2015) produzida por prismas com seção horizontal poligonal.\n",
    "\n",
    "* Sarah E. Shearer and Yaoguo Li (2004) 3D Inversion of magnetic total \n",
    "    gradient data in the presence of remanent magnetization. SEG Technical\n",
    "    Program Expanded Abstracts 2004: pp. 774-777.\n",
    "    doi: [10.1190/1.1851318](http://dx.doi.org/10.1190/1.1851318)\n",
    "\n",
    "* Yaoguo Li, Sarah E. Shearer, Matthew M. Haney, and Neal Dannemiller (2010). \n",
    "    Comprehensive approaches to 3D inversion of magnetic data affected by remanent \n",
    "    magnetization. \n",
    "    Geophysics, 75(1), L1-L11.\n",
    "    doi: [10.1190/1.3294766](http://dx.doi.org/10.1190/1.3294766)\n",
    "    \n",
    "* Shu-Ling Li and Yaoguo Li (2014). Inversion of magnetic anomaly on rugged \n",
    "    observation surface in the presence of strong remanent magnetization. \n",
    "    Geophysics, 79(2), J11-J19. \n",
    "    doi: [10.1190/geo2013-0126.1](http://dx.doi.org/10.1190/geo2013-0126.1)\n",
    "\n",
    "* Marcelo Leão-Santos, Yaoguo Li, and Roberto Moraes (2015). \n",
    "    Application of 3D magnetic amplitude inversion to iron oxide-copper-gold \n",
    "    deposits at low magnetic latitudes: A case study from Carajás Mineral \n",
    "    Province, Brazil. \n",
    "    Geophysics, 80(2), B13-B22.\n",
    "    doi: [10.1190/geo2014-0082.1](http://dx.doi.org/10.1190/geo2014-0082.1)"
   ]
  },
  {
   "cell_type": "markdown",
   "metadata": {},
   "source": [
    "### Coisas para importar"
   ]
  },
  {
   "cell_type": "code",
   "execution_count": 1,
   "metadata": {
    "collapsed": false
   },
   "outputs": [],
   "source": [
    "#%matplotlib inline\n",
    "import numpy as np\n",
    "from fatiando import mesher, gridder, utils\n",
    "from fatiando.gravmag import polyprism\n",
    "from fatiando.vis import mpl"
   ]
  },
  {
   "cell_type": "markdown",
   "metadata": {},
   "source": [
    "### Pontos onde são calculados os dados"
   ]
  },
  {
   "cell_type": "code",
   "execution_count": 2,
   "metadata": {
    "collapsed": true
   },
   "outputs": [],
   "source": [
    "shape = (100, 100) # número de pontos ao longo de x e y\n",
    "area = [-5000, 5000, -5000, 5000] # x mínimo, x máximo, y mínimo e y máximo da área\n",
    "xp, yp, zp = gridder.regular(area, shape, z=-100) # grade regular localizada em z = -100 m\n",
    "\n",
    "xc = 0.5*(area[1] + area[0])\n",
    "yc = 0.5*(area[3] + area[2])"
   ]
  },
  {
   "cell_type": "markdown",
   "metadata": {},
   "source": [
    "### Inclinação e a declinação do campo geomagnético local"
   ]
  },
  {
   "cell_type": "code",
   "execution_count": 3,
   "metadata": {
    "collapsed": true
   },
   "outputs": [],
   "source": [
    "inc = -30. # graus\n",
    "dec = 0. # graus"
   ]
  },
  {
   "cell_type": "code",
   "execution_count": 4,
   "metadata": {
    "collapsed": true
   },
   "outputs": [],
   "source": [
    "amp = 23500.0 + 0.05*(xp - xc) + 0.08*(yp - yc) # nT"
   ]
  },
  {
   "cell_type": "code",
   "execution_count": 5,
   "metadata": {
    "collapsed": true
   },
   "outputs": [],
   "source": [
    "F = utils.ang2vec(1.0, inc, dec) # versor do campo geomagnético local"
   ]
  },
  {
   "cell_type": "code",
   "execution_count": 6,
   "metadata": {
    "collapsed": false
   },
   "outputs": [
    {
     "name": "stdout",
     "output_type": "stream",
     "text": [
      "[ 0.8660254  0.        -0.5      ]\n"
     ]
    }
   ],
   "source": [
    "print F"
   ]
  },
  {
   "cell_type": "markdown",
   "metadata": {},
   "source": [
    "### Modelo de prisma"
   ]
  },
  {
   "cell_type": "code",
   "execution_count": 7,
   "metadata": {
    "collapsed": false
   },
   "outputs": [],
   "source": [
    "mpl.close('all')\n",
    "axis = mpl.figure().gca()\n",
    "mpl.axis('scaled')\n",
    "vertices = mpl.draw_polygon(area, axis, xy2ne=True)"
   ]
  },
  {
   "cell_type": "code",
   "execution_count": 8,
   "metadata": {
    "collapsed": false
   },
   "outputs": [
    {
     "name": "stdout",
     "output_type": "stream",
     "text": [
      "[[ 1385.9832636  -1778.24267782]\n",
      " [ 1935.14644351  -967.57322176]\n",
      " [ 1961.29707113    52.30125523]\n",
      " [ 1255.23012552  1098.32635983]\n",
      " [  418.41004184  1595.18828452]\n",
      " [ -313.80753138  1621.33891213]\n",
      " [-1490.58577406  1307.53138075]\n",
      " [-1673.64016736   496.86192469]\n",
      " [ -915.27196653  -339.958159  ]\n",
      " [ -366.10878661 -1098.32635983]\n",
      " [ -941.42259414 -1778.24267782]\n",
      " [-1542.88702929 -2301.25523013]\n",
      " [-1699.79079498 -3085.77405858]\n",
      " [ -967.57322176 -3817.9916318 ]\n",
      " [   52.30125523 -3530.33472803]\n",
      " [  732.21757322 -3216.52719665]\n",
      " [ 1464.43514644 -3085.77405858]\n",
      " [ 2379.70711297 -2719.66527197]\n",
      " [ 2170.50209205 -2301.25523013]\n",
      " [ 1725.94142259 -2144.35146444]]\n"
     ]
    }
   ],
   "source": [
    "print vertices"
   ]
  },
  {
   "cell_type": "code",
   "execution_count": 9,
   "metadata": {
    "collapsed": true
   },
   "outputs": [],
   "source": [
    "incs = inc\n",
    "decs = dec\n",
    "m = 3.\n",
    "\n",
    "model = [mesher.PolygonalPrism(vertices, 10, 1010, {'magnetization': utils.ang2vec(m, incs, decs)})]"
   ]
  },
  {
   "cell_type": "markdown",
   "metadata": {},
   "source": [
    "### Amplitude do campo magnético anômalo"
   ]
  },
  {
   "cell_type": "code",
   "execution_count": 10,
   "metadata": {
    "collapsed": true
   },
   "outputs": [],
   "source": [
    "bx = polyprism.bx(xp, yp, zp, model)\n",
    "by = polyprism.by(xp, yp, zp, model)\n",
    "bz = polyprism.bz(xp, yp, zp, model)"
   ]
  },
  {
   "cell_type": "code",
   "execution_count": 11,
   "metadata": {
    "collapsed": true
   },
   "outputs": [],
   "source": [
    "amp_B = np.sqrt(bx**2 + by**2 + bz**2)"
   ]
  },
  {
   "cell_type": "markdown",
   "metadata": {},
   "source": [
    "### Anomalia de campo total (em nT)"
   ]
  },
  {
   "cell_type": "code",
   "execution_count": 12,
   "metadata": {
    "collapsed": true
   },
   "outputs": [],
   "source": [
    "act_aprox = polyprism.tf(xp, yp, zp, model, inc, dec)"
   ]
  },
  {
   "cell_type": "code",
   "execution_count": 13,
   "metadata": {
    "collapsed": true
   },
   "outputs": [],
   "source": [
    "ct = np.sqrt((amp*F[0] + bx)**2 + (amp*F[1] + by)**2 + (amp*F[2] + bz)**2)"
   ]
  },
  {
   "cell_type": "code",
   "execution_count": 14,
   "metadata": {
    "collapsed": true
   },
   "outputs": [],
   "source": [
    "act = ct - amp"
   ]
  },
  {
   "cell_type": "markdown",
   "metadata": {},
   "source": [
    "### Plot dos dados"
   ]
  },
  {
   "cell_type": "code",
   "execution_count": 15,
   "metadata": {
    "collapsed": false
   },
   "outputs": [],
   "source": [
    "mpl.close('all')\n",
    "mpl.figure(figsize=(12,10))\n",
    "\n",
    "mpl.subplot(2,2,1)\n",
    "mpl.title(\"Campo total (nT)\")\n",
    "mpl.axis('scaled')\n",
    "mpl.contourf(yp, xp, ct, shape, 15, cmap = mpl.get_cmap('RdBu_r'))\n",
    "mpl.colorbar()\n",
    "mpl.polygon(model[0], '--k', xy2ne=True)\n",
    "mpl.xlabel('y (km)')\n",
    "mpl.ylabel('x (km)')\n",
    "mpl.m2km()\n",
    "\n",
    "mpl.subplot(2,2,2)\n",
    "mpl.title(\"Anomalia de campo total (nT)\")\n",
    "mpl.axis('scaled')\n",
    "mpl.contourf(yp, xp, act, shape, 15, cmap = mpl.get_cmap('RdBu_r'))\n",
    "mpl.colorbar()\n",
    "mpl.polygon(model[0], '--k', xy2ne=True)\n",
    "mpl.xlabel('y (km)')\n",
    "mpl.ylabel('x (km)')\n",
    "mpl.m2km()\n",
    "\n",
    "mpl.subplot(2,2,3)\n",
    "mpl.title(\"Anomalia de campo total aproximada (nT)\")\n",
    "mpl.axis('scaled')\n",
    "mpl.contourf(yp, xp, act_aprox, shape, 15, cmap = mpl.get_cmap('RdBu_r'))\n",
    "mpl.colorbar()\n",
    "mpl.polygon(model[0], '--k', xy2ne=True)\n",
    "mpl.xlabel('y (km)')\n",
    "mpl.ylabel('x (km)')\n",
    "mpl.m2km()\n",
    "\n",
    "mpl.subplot(2,2,4)\n",
    "mpl.title(\"Amplitude do campo magnetico anomalo (nT)\")\n",
    "mpl.axis('scaled')\n",
    "mpl.contourf(yp, xp, amp_B, shape, 15, cmap = mpl.get_cmap('RdBu_r'))\n",
    "mpl.colorbar()\n",
    "mpl.polygon(model[0], '--k', xy2ne=True)\n",
    "mpl.xlabel('y (km)')\n",
    "mpl.ylabel('x (km)')\n",
    "mpl.m2km()\n",
    "\n",
    "mpl.tight_layout(pad = 2.)\n",
    "\n",
    "mpl.savefig('prisma_mag_ampB.png', dpi=300)\n",
    "\n",
    "#mpl.show()"
   ]
  },
  {
   "cell_type": "markdown",
   "metadata": {
    "collapsed": true
   },
   "source": [
    "<img src='prisma_mag_ampB.png', width=1200>"
   ]
  },
  {
   "cell_type": "code",
   "execution_count": null,
   "metadata": {
    "collapsed": true
   },
   "outputs": [],
   "source": []
  }
 ],
 "metadata": {
  "kernelspec": {
   "display_name": "Python 2",
   "language": "python",
   "name": "python2"
  },
  "language_info": {
   "codemirror_mode": {
    "name": "ipython",
    "version": 2
   },
   "file_extension": ".py",
   "mimetype": "text/x-python",
   "name": "python",
   "nbconvert_exporter": "python",
   "pygments_lexer": "ipython2",
   "version": "2.7.10"
  }
 },
 "nbformat": 4,
 "nbformat_minor": 0
}
