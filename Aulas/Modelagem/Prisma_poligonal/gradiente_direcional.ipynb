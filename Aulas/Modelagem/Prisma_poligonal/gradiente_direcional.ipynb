{
 "cells": [
  {
   "cell_type": "markdown",
   "metadata": {},
   "source": [
    "# Amplitude do gradiente direcional da anomalia de campo total"
   ]
  },
  {
   "cell_type": "markdown",
   "metadata": {},
   "source": [
    "Este código utiliza a biblioteca de modelagem e inversão de dados geofísicos denominada [Fatiando a Terra](http://www.fatiando.org/index.html)."
   ]
  },
  {
   "cell_type": "markdown",
   "metadata": {},
   "source": [
    "### Coisas para importar"
   ]
  },
  {
   "cell_type": "code",
   "execution_count": 1,
   "metadata": {
    "collapsed": true
   },
   "outputs": [],
   "source": [
    "#%matplotlib inline\n",
    "import numpy as np\n",
    "from fatiando import mesher, gridder, utils\n",
    "from fatiando.gravmag import polyprism\n",
    "from fatiando.vis import mpl"
   ]
  },
  {
   "cell_type": "markdown",
   "metadata": {},
   "source": [
    "### Pontos onde são calculados os dados"
   ]
  },
  {
   "cell_type": "code",
   "execution_count": 2,
   "metadata": {
    "collapsed": true
   },
   "outputs": [],
   "source": [
    "shape = (100, 100) # número de pontos ao longo de x e y\n",
    "area = [-5000, 5000, -5000, 5000] # x mínimo, x máximo, y mínimo e y máximo da área\n",
    "xp, yp, zp = gridder.regular(area, shape, z=-100) # grade regular localizada em z = -100 m\n",
    "\n",
    "xc = 0.5*(area[1] + area[0])\n",
    "yc = 0.5*(area[3] + area[2])"
   ]
  },
  {
   "cell_type": "markdown",
   "metadata": {},
   "source": [
    "### Inclinação e a declinação do campo geomagnético local"
   ]
  },
  {
   "cell_type": "code",
   "execution_count": 3,
   "metadata": {
    "collapsed": true
   },
   "outputs": [],
   "source": [
    "inc = 56. # graus\n",
    "dec = -60. # graus\n",
    "amp = 23500.0 # nT"
   ]
  },
  {
   "cell_type": "code",
   "execution_count": 4,
   "metadata": {
    "collapsed": true
   },
   "outputs": [],
   "source": [
    "F = utils.ang2vec(amp, inc, dec) # vetor campo geomagnético local"
   ]
  },
  {
   "cell_type": "code",
   "execution_count": 5,
   "metadata": {
    "collapsed": false
   },
   "outputs": [
    {
     "name": "stdout",
     "output_type": "stream",
     "text": [
      "[  6570.51661578 -11380.46861051  19482.38295504]\n"
     ]
    }
   ],
   "source": [
    "print F"
   ]
  },
  {
   "cell_type": "markdown",
   "metadata": {},
   "source": [
    "### Modelo"
   ]
  },
  {
   "cell_type": "code",
   "execution_count": 6,
   "metadata": {
    "collapsed": true
   },
   "outputs": [],
   "source": [
    "mpl.close('all')\n",
    "axis = mpl.figure().gca()\n",
    "mpl.axis('scaled')\n",
    "vertices = mpl.draw_polygon(area, axis, xy2ne=True)"
   ]
  },
  {
   "cell_type": "code",
   "execution_count": 7,
   "metadata": {
    "collapsed": false
   },
   "outputs": [
    {
     "name": "stdout",
     "output_type": "stream",
     "text": [
      "[[  3.32112971e+03  -3.00732218e+03]\n",
      " [  2.69351464e+03  -2.95502092e+03]\n",
      " [  2.01359833e+03  -2.77196653e+03]\n",
      " [  1.54288703e+03  -2.53661088e+03]\n",
      " [  1.20292887e+03  -1.90899582e+03]\n",
      " [  1.01987448e+03  -1.09832636e+03]\n",
      " [  9.93723849e+02  -2.61506276e+01]\n",
      " [  6.53765690e+02   7.06066946e+02]\n",
      " [  1.83054393e+02   1.15062762e+03]\n",
      " [ -4.18410042e+02   1.67364017e+03]\n",
      " [ -1.01987448e+03   1.98744770e+03]\n",
      " [ -1.85669456e+03   2.43200837e+03]\n",
      " [ -2.17050209e+03   2.58891213e+03]\n",
      " [ -2.61506276e+03   3.08577406e+03]\n",
      " [ -2.92887029e+03   3.63493724e+03]\n",
      " [ -3.29497908e+03   4.21025105e+03]\n",
      " [ -3.89644351e+03   4.47175732e+03]\n",
      " [ -4.10564854e+03   4.18410042e+03]\n",
      " [ -4.05334728e+03   3.76569038e+03]\n",
      " [ -3.50418410e+03   3.19037657e+03]\n",
      " [ -3.05962343e+03   2.66736402e+03]\n",
      " [ -2.35355649e+03   1.93514644e+03]\n",
      " [ -1.49058577e+03   1.54288703e+03]\n",
      " [ -7.06066946e+02   1.04602510e+03]\n",
      " [ -1.30753138e+02   2.87656904e+02]\n",
      " [  9.09494702e-13   0.00000000e+00]\n",
      " [  4.18410042e+02  -1.22907950e+03]\n",
      " [  4.70711297e+02  -2.17050209e+03]\n",
      " [  8.62970711e+02  -3.00732218e+03]\n",
      " [  1.59518828e+03  -3.87029289e+03]\n",
      " [  2.27510460e+03  -3.97489540e+03]\n",
      " [  3.05962343e+03  -3.97489540e+03]\n",
      " [  3.79184100e+03  -3.79184100e+03]\n",
      " [  4.31485356e+03  -3.29497908e+03]\n",
      " [  4.57635983e+03  -2.79811715e+03]\n",
      " [  4.65481172e+03  -1.67364017e+03]\n",
      " [  4.65481172e+03  -9.41422594e+02]\n",
      " [  4.41945607e+03   1.56903766e+02]\n",
      " [  4.05334728e+03   2.35355649e+02]\n",
      " [  3.73953975e+03  -3.13807531e+02]\n",
      " [  3.73953975e+03  -1.25523013e+03]\n",
      " [  3.79184100e+03  -2.14435146e+03]\n",
      " [  3.73953975e+03  -2.79811715e+03]]\n"
     ]
    }
   ],
   "source": [
    "print vertices"
   ]
  },
  {
   "cell_type": "code",
   "execution_count": 8,
   "metadata": {
    "collapsed": true
   },
   "outputs": [],
   "source": [
    "incs = inc # inclinacao da magnetizacao do corpo (em graus)\n",
    "decs = 0. # declinacao da magnetizacao do corpo (em graus)\n",
    "amps = 10. # intensidade da magnetizacao do corpo (em A/m)"
   ]
  },
  {
   "cell_type": "code",
   "execution_count": 9,
   "metadata": {
    "collapsed": true
   },
   "outputs": [],
   "source": [
    "model = [mesher.PolygonalPrism(vertices, 10, 1010, {'magnetization': utils.ang2vec(amps, incs, decs)})]"
   ]
  },
  {
   "cell_type": "markdown",
   "metadata": {},
   "source": [
    "### Anomalia de campo total (em nT)"
   ]
  },
  {
   "cell_type": "code",
   "execution_count": 10,
   "metadata": {
    "collapsed": true
   },
   "outputs": [],
   "source": [
    "act = polyprism.tf(xp, yp, zp, model, inc, dec)"
   ]
  },
  {
   "cell_type": "markdown",
   "metadata": {},
   "source": [
    "### Derivadas espaciais da anomalia de campo total (em nT/m)"
   ]
  },
  {
   "cell_type": "code",
   "execution_count": 11,
   "metadata": {
    "collapsed": true
   },
   "outputs": [],
   "source": [
    "delta = 10.\n",
    "\n",
    "dx_act = (polyprism.tf(xp + delta, yp, zp, model, inc, dec) - \\\n",
    "          polyprism.tf(xp - delta, yp, zp, model, inc, dec))/(2.*delta)\n",
    "\n",
    "dy_act = (polyprism.tf(xp, yp + delta, zp, model, inc, dec) - \\\n",
    "          polyprism.tf(xp, yp - delta, zp, model, inc, dec))/(2.*delta)\n",
    "\n",
    "dz_act = (polyprism.tf(xp, yp, zp + delta, model, inc, dec) - \\\n",
    "          polyprism.tf(xp, yp, zp - delta, model, inc, dec))/(2.*delta)"
   ]
  },
  {
   "cell_type": "code",
   "execution_count": 16,
   "metadata": {
    "collapsed": true
   },
   "outputs": [],
   "source": [
    "teta = np.deg2rad(135.)\n",
    "\n",
    "dv_act = np.cos(teta)*dx_act + np.sin(teta)*dy_act"
   ]
  },
  {
   "cell_type": "markdown",
   "metadata": {},
   "source": [
    "### Amplitude do gradiente total"
   ]
  },
  {
   "cell_type": "code",
   "execution_count": 13,
   "metadata": {
    "collapsed": true
   },
   "outputs": [],
   "source": [
    "grad = np.sqrt(dx_act**2 + dy_act**2 + dz_act**2)"
   ]
  },
  {
   "cell_type": "markdown",
   "metadata": {},
   "source": [
    "### Plot das derivadas ao longo dos eixos x, y e z"
   ]
  },
  {
   "cell_type": "code",
   "execution_count": 17,
   "metadata": {
    "collapsed": false
   },
   "outputs": [],
   "source": [
    "mpl.close('all')\n",
    "mpl.figure(figsize=(14,10))\n",
    "\n",
    "mpl.subplot(2,2,1)\n",
    "mpl.title(\"Derivada direcional da anomalia de campo total (nT/m)\")\n",
    "mpl.axis('scaled')\n",
    "mpl.contourf(yp, xp, dv_act, shape, 15, cmap = mpl.get_cmap('RdBu_r'))\n",
    "mpl.colorbar()\n",
    "mpl.polygon(model[0], '--k', xy2ne=True)\n",
    "mpl.xlabel('y (km)')\n",
    "mpl.ylabel('x (km)')\n",
    "mpl.m2km()\n",
    "\n",
    "mpl.subplot(2,2,2)\n",
    "mpl.title(\"Derivada em x da anomalia de campo total (nT/m)\")\n",
    "mpl.axis('scaled')\n",
    "mpl.contourf(yp, xp, dx_act, shape, 15, cmap = mpl.get_cmap('RdBu_r'))\n",
    "mpl.colorbar()\n",
    "mpl.polygon(model[0], '--k', xy2ne=True)\n",
    "mpl.xlabel('y (km)')\n",
    "mpl.ylabel('x (km)')\n",
    "mpl.m2km()\n",
    "\n",
    "mpl.subplot(2,2,3)\n",
    "mpl.title(\"Derivada em y da anomalia de campo total (nT/m)\")\n",
    "mpl.axis('scaled')\n",
    "mpl.contourf(yp, xp, dy_act, shape, 15, cmap = mpl.get_cmap('RdBu_r'))\n",
    "mpl.colorbar()\n",
    "mpl.polygon(model[0], '--k', xy2ne=True)\n",
    "mpl.xlabel('y (km)')\n",
    "mpl.ylabel('x (km)')\n",
    "mpl.m2km()\n",
    "\n",
    "mpl.subplot(2,2,4)\n",
    "mpl.title(\"Derivada em z da anomalia de campo total (nT/m)\")\n",
    "mpl.axis('scaled')\n",
    "mpl.contourf(yp, xp, dz_act, shape, 15, cmap = mpl.get_cmap('RdBu_r'))\n",
    "mpl.colorbar()\n",
    "mpl.polygon(model[0], '--k', xy2ne=True)\n",
    "mpl.xlabel('y (km)')\n",
    "mpl.ylabel('x (km)')\n",
    "mpl.m2km()\n",
    "\n",
    "mpl.tight_layout()\n",
    "\n",
    "mpl.savefig('prismas_mag_derivadas.png', width=1200)\n",
    "\n",
    "#mpl.show()"
   ]
  },
  {
   "cell_type": "markdown",
   "metadata": {},
   "source": [
    "<img src='prismas_mag_derivadas.png', width=1200>"
   ]
  },
  {
   "cell_type": "code",
   "execution_count": 15,
   "metadata": {
    "collapsed": false
   },
   "outputs": [],
   "source": [
    "mpl.close('all')\n",
    "mpl.figure(figsize=(14,5))\n",
    "\n",
    "mpl.subplot(1,2,1)\n",
    "mpl.title(\"Anomalia de campo total (nT)\")\n",
    "mpl.axis('scaled')\n",
    "mpl.contourf(yp, xp, act, shape, 15, cmap = mpl.get_cmap('RdBu_r'))\n",
    "mpl.colorbar()\n",
    "mpl.polygon(model[0], '--k', xy2ne=True)\n",
    "mpl.xlabel('y (km)')\n",
    "mpl.ylabel('x (km)')\n",
    "mpl.m2km()\n",
    "\n",
    "mpl.subplot(1,2,2)\n",
    "mpl.title(\"Amplitude do gradiente (nT/m)\")\n",
    "mpl.axis('scaled')\n",
    "mpl.contourf(yp, xp, grad, shape, 15, cmap = mpl.get_cmap('RdBu_r'))\n",
    "mpl.colorbar()\n",
    "mpl.polygon(model[0], '--k', xy2ne=True)\n",
    "mpl.xlabel('y (km)')\n",
    "mpl.ylabel('x (km)')\n",
    "mpl.m2km()\n",
    "\n",
    "mpl.savefig('prismas_mag_grad_total.png', width=1200)"
   ]
  },
  {
   "cell_type": "markdown",
   "metadata": {
    "collapsed": true
   },
   "source": [
    "<img src='prismas_mag_grad_total.png', width=1200>"
   ]
  },
  {
   "cell_type": "code",
   "execution_count": null,
   "metadata": {
    "collapsed": true
   },
   "outputs": [],
   "source": []
  }
 ],
 "metadata": {
  "kernelspec": {
   "display_name": "Python 2",
   "language": "python",
   "name": "python2"
  },
  "language_info": {
   "codemirror_mode": {
    "name": "ipython",
    "version": 2
   },
   "file_extension": ".py",
   "mimetype": "text/x-python",
   "name": "python",
   "nbconvert_exporter": "python",
   "pygments_lexer": "ipython2",
   "version": "2.7.10"
  }
 },
 "nbformat": 4,
 "nbformat_minor": 0
}
