{
 "cells": [
  {
   "cell_type": "markdown",
   "metadata": {},
   "source": [
    "# *Tilt angle* e *Theta map*"
   ]
  },
  {
   "cell_type": "markdown",
   "metadata": {},
   "source": [
    "Este código utiliza a biblioteca de modelagem e inversão de dados geofísicos denominada [Fatiando a Terra](http://www.fatiando.org/index.html) para calcular o *tilt angle* (Miller e Singh, 1994; Verduzco et al., 2004; Salem et al., 2008; Cooper, 2014) e o *theta map* (Wijns, et al., 2005) da anomalia de campo total produzida por um prisma com seção horizontal poligonal.\n",
    "\n",
    "* Miller, H. G. e Singh, V. 1994. Potential field tilt—a new concept for location of potential field sources. Journal of Applied Geophysics, v. 32, Issues 2–3, p. 213-217. doi: [10.1016/0926-9851(94)90022-1](http://www.sciencedirect.com/science/article/pii/0926985194900221)\n",
    "\n",
    "* Verduzco, B., Fairhead, J. D., Green, C. M. e MacKenzie, C. 2004. New insights into magnetic derivatives for structural mapping. The Leading Edge, 23(2), 116-119. doi: [10.1190/1.1651454](http://dx.doi.org/10.1190/1.1651454)\n",
    "\n",
    "* Wijns, C., Perez, C. Kowalczyk, P. 2005. Theta map: Edge detection in magnetic data. GEOPHYSICS, 70(4), L39-L43. doi: [10.1190/1.1988184](http://dx.doi.org/10.1190/1.1988184)\n",
    "\n",
    "* Salem, A., Williams, S., Fairhead,, D., Smith, R. e Ravat, D. 2008. Interpretation of magnetic data using tilt-angle derivatives. GEOPHYSICS, 73(1), L1-L10. doi: [10.1190/1.2799992](http://dx.doi.org/10.1190/1.2799992)\n",
    "\n",
    "* Cooper, G. R. J. 2014. The automatic determination of the location, depth, and dip of contacts from aeromagnetic data. GEOPHYSICS, 79(3), J35-J41. doi: [10.1190/geo2013-0181.1](http://dx.doi.org/10.1190/geo2013-0181.1)"
   ]
  },
  {
   "cell_type": "markdown",
   "metadata": {},
   "source": [
    "### Coisas para importar"
   ]
  },
  {
   "cell_type": "code",
   "execution_count": 1,
   "metadata": {
    "collapsed": true
   },
   "outputs": [],
   "source": [
    "#%matplotlib inline\n",
    "import numpy as np\n",
    "from fatiando import mesher, gridder, utils\n",
    "from fatiando.gravmag import polyprism\n",
    "from fatiando.vis import mpl"
   ]
  },
  {
   "cell_type": "markdown",
   "metadata": {},
   "source": [
    "### Pontos onde são calculados os dados"
   ]
  },
  {
   "cell_type": "code",
   "execution_count": 2,
   "metadata": {
    "collapsed": true
   },
   "outputs": [],
   "source": [
    "shape = (100, 100) # número de pontos ao longo de x e y\n",
    "area = [-5000, 5000, -5000, 5000] # x mínimo, x máximo, y mínimo e y máximo da área\n",
    "xp, yp, zp = gridder.regular(area, shape, z=-100) # grade regular localizada em z = -100 m\n",
    "\n",
    "xc = 0.5*(area[1] + area[0])\n",
    "yc = 0.5*(area[3] + area[2])"
   ]
  },
  {
   "cell_type": "markdown",
   "metadata": {},
   "source": [
    "### Inclinação e a declinação do campo geomagnético local"
   ]
  },
  {
   "cell_type": "code",
   "execution_count": 3,
   "metadata": {
    "collapsed": true
   },
   "outputs": [],
   "source": [
    "inc = -20. # graus\n",
    "dec = -20. # graus\n",
    "amp = 23500.0 # nT"
   ]
  },
  {
   "cell_type": "code",
   "execution_count": 4,
   "metadata": {
    "collapsed": true
   },
   "outputs": [],
   "source": [
    "F = utils.ang2vec(amp, inc, dec) # vetor campo geomagnético local"
   ]
  },
  {
   "cell_type": "code",
   "execution_count": 5,
   "metadata": {
    "collapsed": false
   },
   "outputs": [
    {
     "name": "stdout",
     "output_type": "stream",
     "text": [
      "[ 20751.02220665  -7552.75441382  -8037.47336815]\n"
     ]
    }
   ],
   "source": [
    "print F"
   ]
  },
  {
   "cell_type": "markdown",
   "metadata": {},
   "source": [
    "### Modelo"
   ]
  },
  {
   "cell_type": "code",
   "execution_count": 6,
   "metadata": {
    "collapsed": false
   },
   "outputs": [],
   "source": [
    "#mpl.close('all')\n",
    "#axis = mpl.figure().gca()\n",
    "#mpl.axis('scaled')\n",
    "#vertices = mpl.draw_polygon(area, axis, xy2ne=True)"
   ]
  },
  {
   "cell_type": "code",
   "execution_count": 7,
   "metadata": {
    "collapsed": false
   },
   "outputs": [],
   "source": [
    "#print vertices"
   ]
  },
  {
   "cell_type": "code",
   "execution_count": 8,
   "metadata": {
    "collapsed": true
   },
   "outputs": [],
   "source": [
    "vertices = [[ 2301.25523013, -3085.77405858],\n",
    " [ 2693.51464435, -2248.9539749],\n",
    " [ 2798.11715481, -261.50627615],\n",
    " [ 2222.80334728,  1359.83263598],\n",
    " [ 1412.13389121,  2013.59832636],\n",
    " [  183.05439331,  2667.36401674],\n",
    " [ -941.42259414,  2850.41841004],\n",
    " [-2562.76150628,  2850.41841004],\n",
    " [-3478.0334728,   1961.29707113],\n",
    " [-3974.89539749,   444.56066946],\n",
    " [-4053.34728033, -1072.17573222],\n",
    " [-3347.28033473, -2771.9665272 ],\n",
    " [-2745.81589958, -2588.91213389],\n",
    " [-2510.46025105,  -862.9707113 ],\n",
    " [-2588.91213389 ,  366.10878661],\n",
    " [ -967.57322176,  1176.77824268],\n",
    " [  -26.15062762 , 1098.32635983],\n",
    " [ 1150.62761506  ,  78.45188285],\n",
    " [ 1098.32635983, -1595.18828452],\n",
    " [ 1046.0251046 , -2588.91213389],\n",
    " [  575.31380753, -3451.88284519],\n",
    " [  339.958159 ,  -3922.59414226],\n",
    " [ 1490.58577406, -4471.75732218],\n",
    " [ 2353.55648536, -4497.90794979],\n",
    " [ 2955.0209205,  -4341.0041841 ],\n",
    " [ 3922.59414226, -4001.0460251 ],\n",
    " [ 4367.15481172, -3347.28033473],\n",
    " [ 3948.74476987, -2798.11715481],\n",
    " [ 2955.0209205 , -2850.41841004]]"
   ]
  },
  {
   "cell_type": "code",
   "execution_count": 9,
   "metadata": {
    "collapsed": true
   },
   "outputs": [],
   "source": [
    "incs = inc # inclinacao da magnetizacao do corpo (em graus)\n",
    "decs = 0. # declinacao da magnetizacao do corpo (em graus)\n",
    "amps = 10. # intensidade da magnetizacao do corpo (em A/m)"
   ]
  },
  {
   "cell_type": "code",
   "execution_count": 10,
   "metadata": {
    "collapsed": true
   },
   "outputs": [],
   "source": [
    "model = [mesher.PolygonalPrism(vertices, 200, 1200, {'magnetization': utils.ang2vec(amps, incs, decs)})]"
   ]
  },
  {
   "cell_type": "markdown",
   "metadata": {},
   "source": [
    "### Anomalia de campo total (em nT)"
   ]
  },
  {
   "cell_type": "code",
   "execution_count": 11,
   "metadata": {
    "collapsed": true
   },
   "outputs": [],
   "source": [
    "act = polyprism.tf(xp, yp, zp, model, inc, dec)"
   ]
  },
  {
   "cell_type": "markdown",
   "metadata": {},
   "source": [
    "### Derivadas espaciais da anomalia de campo total (em nT/m)"
   ]
  },
  {
   "cell_type": "code",
   "execution_count": 12,
   "metadata": {
    "collapsed": true
   },
   "outputs": [],
   "source": [
    "delta = 10.\n",
    "\n",
    "dx_act = (polyprism.tf(xp + delta, yp, zp, model, inc, dec) - \\\n",
    "          polyprism.tf(xp - delta, yp, zp, model, inc, dec))/(2.*delta)\n",
    "\n",
    "dy_act = (polyprism.tf(xp, yp + delta, zp, model, inc, dec) - \\\n",
    "          polyprism.tf(xp, yp - delta, zp, model, inc, dec))/(2.*delta)\n",
    "\n",
    "dz_act = (polyprism.tf(xp, yp, zp + delta, model, inc, dec) - \\\n",
    "          polyprism.tf(xp, yp, zp - delta, model, inc, dec))/(2.*delta)"
   ]
  },
  {
   "cell_type": "markdown",
   "metadata": {},
   "source": [
    "### Amplitude do gradiente horizontal"
   ]
  },
  {
   "cell_type": "code",
   "execution_count": 13,
   "metadata": {
    "collapsed": true
   },
   "outputs": [],
   "source": [
    "grad_xy = np.sqrt(dx_act**2 + dy_act**2)"
   ]
  },
  {
   "cell_type": "markdown",
   "metadata": {},
   "source": [
    "### Amplitude do gradiente"
   ]
  },
  {
   "cell_type": "code",
   "execution_count": 14,
   "metadata": {
    "collapsed": true
   },
   "outputs": [],
   "source": [
    "grad = np.sqrt(dx_act**2 + dy_act**2 + dz_act**2)"
   ]
  },
  {
   "cell_type": "markdown",
   "metadata": {},
   "source": [
    "### Tilt angle"
   ]
  },
  {
   "cell_type": "code",
   "execution_count": 15,
   "metadata": {
    "collapsed": false
   },
   "outputs": [],
   "source": [
    "tilt= np.arctan2(dz_act,grad_xy)"
   ]
  },
  {
   "cell_type": "markdown",
   "metadata": {},
   "source": [
    "### Theta map"
   ]
  },
  {
   "cell_type": "code",
   "execution_count": 16,
   "metadata": {
    "collapsed": false
   },
   "outputs": [],
   "source": [
    "theta = np.arccos(grad_xy/grad)"
   ]
  },
  {
   "cell_type": "markdown",
   "metadata": {},
   "source": [
    "### Plot das derivadas ao longo dos eixos x, y e z"
   ]
  },
  {
   "cell_type": "code",
   "execution_count": 17,
   "metadata": {
    "collapsed": false
   },
   "outputs": [],
   "source": [
    "mpl.close('all')\n",
    "mpl.figure(figsize=(14,15))\n",
    "\n",
    "mpl.subplot(3,2,1)\n",
    "mpl.title(\"Tilt angle (radianos)\")\n",
    "mpl.axis('scaled')\n",
    "mpl.contourf(yp, xp, tilt, shape, 15, cmap = mpl.get_cmap('RdBu_r'), \n",
    "            vmin = -0.5*np.pi, vmax = 0.5*np.pi)\n",
    "mpl.colorbar()\n",
    "#mpl.polygon(model[0], '--k', xy2ne=True)\n",
    "mpl.xlabel('y (km)')\n",
    "mpl.ylabel('x (km)')\n",
    "mpl.m2km()\n",
    "\n",
    "mpl.subplot(3,2,2)\n",
    "mpl.title(\"Derivada em x da anomalia de campo total (nT/m)\")\n",
    "mpl.axis('scaled')\n",
    "mpl.contourf(yp, xp, dx_act, shape, 15, cmap = mpl.get_cmap('RdBu_r'))\n",
    "mpl.colorbar()\n",
    "mpl.polygon(model[0], '--k', xy2ne=True)\n",
    "mpl.xlabel('y (km)')\n",
    "mpl.ylabel('x (km)')\n",
    "mpl.m2km()\n",
    "\n",
    "mpl.subplot(3,2,3)\n",
    "mpl.title(\"Derivada em y da anomalia de campo total (nT/m)\")\n",
    "mpl.axis('scaled')\n",
    "mpl.contourf(yp, xp, dy_act, shape, 15, cmap = mpl.get_cmap('RdBu_r'))\n",
    "mpl.colorbar()\n",
    "mpl.polygon(model[0], '--k', xy2ne=True)\n",
    "mpl.xlabel('y (km)')\n",
    "mpl.ylabel('x (km)')\n",
    "mpl.m2km()\n",
    "\n",
    "mpl.subplot(3,2,4)\n",
    "mpl.title(\"Derivada em z da anomalia de campo total (nT/m)\")\n",
    "mpl.axis('scaled')\n",
    "mpl.contourf(yp, xp, dz_act, shape, 15, cmap = mpl.get_cmap('RdBu_r'))\n",
    "mpl.colorbar()\n",
    "mpl.polygon(model[0], '--k', xy2ne=True)\n",
    "mpl.xlabel('y (km)')\n",
    "mpl.ylabel('x (km)')\n",
    "mpl.m2km()\n",
    "\n",
    "mpl.subplot(3,2,5)\n",
    "mpl.title(\"Amplitude do gradiente horizontal (nT/m)\")\n",
    "mpl.axis('scaled')\n",
    "mpl.contourf(yp, xp, grad_xy, shape, 15, cmap = mpl.get_cmap('RdBu_r'))\n",
    "mpl.colorbar()\n",
    "mpl.polygon(model[0], '--k', xy2ne=True)\n",
    "mpl.xlabel('y (km)')\n",
    "mpl.ylabel('x (km)')\n",
    "mpl.m2km()\n",
    "\n",
    "mpl.subplot(3,2,6)\n",
    "mpl.title(\"Amplitude do gradiente (nT/m)\")\n",
    "mpl.axis('scaled')\n",
    "mpl.contourf(yp, xp, grad, shape, 15, cmap = mpl.get_cmap('RdBu_r'))\n",
    "mpl.colorbar()\n",
    "mpl.polygon(model[0], '--k', xy2ne=True)\n",
    "mpl.xlabel('y (km)')\n",
    "mpl.ylabel('x (km)')\n",
    "mpl.m2km()\n",
    "\n",
    "mpl.tight_layout()\n",
    "\n",
    "mpl.savefig('prismas_mag_derivadas_tilt.png', dpi=300)\n",
    "\n",
    "#mpl.show()"
   ]
  },
  {
   "cell_type": "markdown",
   "metadata": {},
   "source": [
    "<img src='prismas_mag_derivadas_tilt.png', width=1200>"
   ]
  },
  {
   "cell_type": "code",
   "execution_count": 19,
   "metadata": {
    "collapsed": true
   },
   "outputs": [],
   "source": [
    "mpl.close('all')\n",
    "mpl.figure(figsize=(7,15))\n",
    "\n",
    "mpl.subplot(3,1,1)\n",
    "mpl.title(\"Tilt angle (radianos)\")\n",
    "mpl.axis('scaled')\n",
    "mpl.contourf(yp, xp, tilt, shape, 15, cmap = mpl.get_cmap('RdBu_r'), \n",
    "            vmin = -0.5*np.pi, vmax = 0.5*np.pi)\n",
    "mpl.colorbar()\n",
    "#mpl.polygon(model[0], '--k', xy2ne=True)\n",
    "mpl.xlabel('y (km)')\n",
    "mpl.ylabel('x (km)')\n",
    "mpl.m2km()\n",
    "\n",
    "mpl.subplot(3,1,2)\n",
    "mpl.title(\"Amplitude do gradiente (nT/m)\")\n",
    "mpl.axis('scaled')\n",
    "mpl.contourf(yp, xp, grad, shape, 15, cmap = mpl.get_cmap('RdBu_r'))\n",
    "mpl.colorbar()\n",
    "mpl.polygon(model[0], '--k', xy2ne=True)\n",
    "mpl.xlabel('y (km)')\n",
    "mpl.ylabel('x (km)')\n",
    "mpl.m2km()\n",
    "\n",
    "mpl.subplot(3,1,3)\n",
    "mpl.title(\"Theta map (radianos)\")\n",
    "mpl.axis('scaled')\n",
    "mpl.contourf(yp, xp, theta, shape, 15, cmap = mpl.get_cmap('RdBu_r'))\n",
    "mpl.colorbar()\n",
    "#mpl.polygon(model[0], '--k', xy2ne=True)\n",
    "mpl.xlabel('y (km)')\n",
    "mpl.ylabel('x (km)')\n",
    "mpl.m2km()\n",
    "\n",
    "mpl.tight_layout()\n",
    "\n",
    "mpl.savefig('prismas_mag_derivadas_tilt_theta.png', dpi=300)"
   ]
  },
  {
   "cell_type": "markdown",
   "metadata": {},
   "source": [
    "<img src='prismas_mag_derivadas_tilt_theta.png', width=600>"
   ]
  },
  {
   "cell_type": "code",
   "execution_count": null,
   "metadata": {
    "collapsed": true
   },
   "outputs": [],
   "source": []
  }
 ],
 "metadata": {
  "kernelspec": {
   "display_name": "Python 2",
   "language": "python",
   "name": "python2"
  },
  "language_info": {
   "codemirror_mode": {
    "name": "ipython",
    "version": 2
   },
   "file_extension": ".py",
   "mimetype": "text/x-python",
   "name": "python",
   "nbconvert_exporter": "python",
   "pygments_lexer": "ipython2",
   "version": "2.7.10"
  }
 },
 "nbformat": 4,
 "nbformat_minor": 0
}
