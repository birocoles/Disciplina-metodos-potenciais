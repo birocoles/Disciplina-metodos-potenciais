{
 "cells": [
  {
   "cell_type": "markdown",
   "metadata": {},
   "source": [
    "# Anomalia de campo total produzida por um prisma"
   ]
  },
  {
   "cell_type": "markdown",
   "metadata": {},
   "source": [
    "Este código utiliza a biblioteca de modelagem e inversão de dados geofísicos denominada [Fatiando a Terra](http://www.fatiando.org/index.html)."
   ]
  },
  {
   "cell_type": "markdown",
   "metadata": {},
   "source": [
    "### Coisas para importar"
   ]
  },
  {
   "cell_type": "code",
   "execution_count": 1,
   "metadata": {
    "collapsed": false
   },
   "outputs": [],
   "source": [
    "#%matplotlib inline\n",
    "import numpy as np\n",
    "from fatiando import mesher, gridder, utils\n",
    "from fatiando.gravmag import polyprism\n",
    "from fatiando.vis import mpl"
   ]
  },
  {
   "cell_type": "markdown",
   "metadata": {},
   "source": [
    "### Pontos onde são calculados os dados"
   ]
  },
  {
   "cell_type": "code",
   "execution_count": 2,
   "metadata": {
    "collapsed": true
   },
   "outputs": [],
   "source": [
    "shape = (100, 100) # número de pontos ao longo de x e y\n",
    "area = [-5000, 5000, -5000, 5000] # x mínimo, x máximo, y mínimo e y máximo da área\n",
    "xp, yp, zp = gridder.regular(area, shape, z=-100) # grade regular localizada em z = -100 m\n",
    "\n",
    "xc = 0.5*(area[1] + area[0])\n",
    "yc = 0.5*(area[3] + area[2])"
   ]
  },
  {
   "cell_type": "markdown",
   "metadata": {},
   "source": [
    "### Inclinação e a declinação do campo geomagnético local"
   ]
  },
  {
   "cell_type": "code",
   "execution_count": 3,
   "metadata": {
    "collapsed": true
   },
   "outputs": [],
   "source": [
    "inc = -30. # graus\n",
    "dec = 0. # graus"
   ]
  },
  {
   "cell_type": "code",
   "execution_count": 4,
   "metadata": {
    "collapsed": true
   },
   "outputs": [],
   "source": [
    "amp = 23500.0 + 0.05*(xp - xc) + 0.08*(yp - yc) # nT"
   ]
  },
  {
   "cell_type": "code",
   "execution_count": 5,
   "metadata": {
    "collapsed": true
   },
   "outputs": [],
   "source": [
    "F = utils.ang2vec(1.0, inc, dec) # versor do campo geomagnético local"
   ]
  },
  {
   "cell_type": "code",
   "execution_count": 6,
   "metadata": {
    "collapsed": false
   },
   "outputs": [
    {
     "name": "stdout",
     "output_type": "stream",
     "text": [
      "[ 0.8660254  0.        -0.5      ]\n"
     ]
    }
   ],
   "source": [
    "print F"
   ]
  },
  {
   "cell_type": "markdown",
   "metadata": {},
   "source": [
    "### Modelo de prisma"
   ]
  },
  {
   "cell_type": "code",
   "execution_count": 7,
   "metadata": {
    "collapsed": false
   },
   "outputs": [],
   "source": [
    "mpl.close('all')\n",
    "axis = mpl.figure().gca()\n",
    "mpl.axis('scaled')\n",
    "vertices = mpl.draw_polygon(area, axis, xy2ne=True)"
   ]
  },
  {
   "cell_type": "code",
   "execution_count": 8,
   "metadata": {
    "collapsed": false
   },
   "outputs": [
    {
     "name": "stdout",
     "output_type": "stream",
     "text": [
      "[[-4184.10041841 -4602.51046025]\n",
      " [-3974.89539749 -4001.0460251 ]\n",
      " [-3321.12970711 -3399.58158996]\n",
      " [-2013.59832636 -2902.71966527]\n",
      " [  156.90376569 -2039.74895397]\n",
      " [ 2222.80334728 -1281.38075314]\n",
      " [ 3608.78661088  -183.05439331]\n",
      " [ 4079.49790795  1202.92887029]\n",
      " [ 4105.64853556  2222.80334728]\n",
      " [ 3817.9916318   3216.52719665]\n",
      " [ 3399.58158996  3765.69037657]\n",
      " [ 2902.71966527  4001.0460251 ]\n",
      " [ 2405.85774059  3948.74476987]\n",
      " [ 2275.10460251  3556.48535565]\n",
      " [ 2745.81589958  2850.41841004]\n",
      " [ 3164.22594142  2432.0083682 ]\n",
      " [ 3164.22594142  1569.0376569 ]\n",
      " [ 2719.66527197   470.71129707]\n",
      " [ 1464.43514644  -366.10878661]\n",
      " [  470.71129707  -784.51882845]\n",
      " [-1176.77824268 -1229.07949791]\n",
      " [-2432.0083682  -1673.64016736]\n",
      " [-3504.18410042 -2248.9539749 ]\n",
      " [-4341.0041841  -2902.71966527]\n",
      " [-4733.26359833 -4027.19665272]\n",
      " [-4733.26359833 -4680.9623431 ]\n",
      " [-4471.75732218 -4759.41422594]]\n"
     ]
    }
   ],
   "source": [
    "print vertices"
   ]
  },
  {
   "cell_type": "code",
   "execution_count": 9,
   "metadata": {
    "collapsed": true
   },
   "outputs": [],
   "source": [
    "incs = inc\n",
    "decs = dec\n",
    "m = 3.\n",
    "\n",
    "model = [mesher.PolygonalPrism(vertices, 10, 1010, {'magnetization': utils.ang2vec(m, incs, decs)})]"
   ]
  },
  {
   "cell_type": "markdown",
   "metadata": {},
   "source": [
    "### Anomalia de campo total (em nT)"
   ]
  },
  {
   "cell_type": "code",
   "execution_count": 10,
   "metadata": {
    "collapsed": true
   },
   "outputs": [],
   "source": [
    "bx = polyprism.bx(xp, yp, zp, model)\n",
    "by = polyprism.by(xp, yp, zp, model)\n",
    "bz = polyprism.bz(xp, yp, zp, model)"
   ]
  },
  {
   "cell_type": "code",
   "execution_count": 11,
   "metadata": {
    "collapsed": true
   },
   "outputs": [],
   "source": [
    "act_aprox = polyprism.tf(xp, yp, zp, model, inc, dec)"
   ]
  },
  {
   "cell_type": "code",
   "execution_count": 12,
   "metadata": {
    "collapsed": true
   },
   "outputs": [],
   "source": [
    "ct = np.sqrt((amp*F[0] + bx)**2 + (amp*F[1] + by)**2 + (amp*F[2] + bz)**2)"
   ]
  },
  {
   "cell_type": "code",
   "execution_count": 13,
   "metadata": {
    "collapsed": true
   },
   "outputs": [],
   "source": [
    "act = ct - amp"
   ]
  },
  {
   "cell_type": "markdown",
   "metadata": {},
   "source": [
    "### Plot da anomalia de campo total"
   ]
  },
  {
   "cell_type": "code",
   "execution_count": 14,
   "metadata": {
    "collapsed": false
   },
   "outputs": [],
   "source": [
    "mpl.close('all')\n",
    "mpl.figure(figsize=(12,10))\n",
    "\n",
    "mpl.subplot(2,2,1)\n",
    "mpl.title(\"Campo total (nT)\")\n",
    "mpl.axis('scaled')\n",
    "mpl.contourf(yp, xp, ct, shape, 15, cmap = mpl.get_cmap('RdBu_r'))\n",
    "mpl.colorbar()\n",
    "mpl.polygon(model[0], '--k', xy2ne=True)\n",
    "mpl.xlabel('y (km)')\n",
    "mpl.ylabel('x (km)')\n",
    "mpl.m2km()\n",
    "\n",
    "mpl.subplot(2,2,2)\n",
    "mpl.title(\"Anomalia de campo total (nT)\")\n",
    "mpl.axis('scaled')\n",
    "mpl.contourf(yp, xp, act, shape, 15, cmap = mpl.get_cmap('RdBu_r'))\n",
    "mpl.colorbar()\n",
    "mpl.polygon(model[0], '--k', xy2ne=True)\n",
    "mpl.xlabel('y (km)')\n",
    "mpl.ylabel('x (km)')\n",
    "mpl.m2km()\n",
    "\n",
    "mpl.subplot(2,2,3)\n",
    "mpl.title(\"Anomalia de campo total aproximada (nT)\")\n",
    "mpl.axis('scaled')\n",
    "mpl.contourf(yp, xp, act_aprox, shape, 15, cmap = mpl.get_cmap('RdBu_r'))\n",
    "mpl.colorbar()\n",
    "mpl.polygon(model[0], '--k', xy2ne=True)\n",
    "mpl.xlabel('y (km)')\n",
    "mpl.ylabel('x (km)')\n",
    "mpl.m2km()\n",
    "\n",
    "mpl.subplot(2,2,4)\n",
    "mpl.title(\"Diferenca act_aprox - act (nT)\")\n",
    "mpl.axis('scaled')\n",
    "mpl.contourf(yp, xp, act_aprox - act, shape, 15, cmap = mpl.get_cmap('RdBu_r'))\n",
    "mpl.colorbar()\n",
    "mpl.polygon(model[0], '--k', xy2ne=True)\n",
    "mpl.xlabel('y (km)')\n",
    "mpl.ylabel('x (km)')\n",
    "mpl.m2km()\n",
    "\n",
    "mpl.tight_layout(pad = 2.)\n",
    "\n",
    "mpl.savefig('prisma_mag.png', dpi=300)\n",
    "\n",
    "#mpl.show()"
   ]
  },
  {
   "cell_type": "markdown",
   "metadata": {
    "collapsed": true
   },
   "source": [
    "<img src='prisma.png', width=1200>"
   ]
  },
  {
   "cell_type": "code",
   "execution_count": null,
   "metadata": {
    "collapsed": true
   },
   "outputs": [],
   "source": []
  }
 ],
 "metadata": {
  "kernelspec": {
   "display_name": "Python 2",
   "language": "python",
   "name": "python2"
  },
  "language_info": {
   "codemirror_mode": {
    "name": "ipython",
    "version": 2
   },
   "file_extension": ".py",
   "mimetype": "text/x-python",
   "name": "python",
   "nbconvert_exporter": "python",
   "pygments_lexer": "ipython2",
   "version": "2.7.10"
  }
 },
 "nbformat": 4,
 "nbformat_minor": 0
}
