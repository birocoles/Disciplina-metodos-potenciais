{
 "cells": [
  {
   "cell_type": "markdown",
   "metadata": {},
   "source": [
    "# Deconvolução de Euler aplicada na anomalia de campo total produzida por uma esfera"
   ]
  },
  {
   "cell_type": "markdown",
   "metadata": {},
   "source": [
    "Este código utiliza a biblioteca de modelagem e inversão de dados geofísicos denominada [Fatiando a Terra](http://www.fatiando.org/index.html)."
   ]
  },
  {
   "cell_type": "markdown",
   "metadata": {},
   "source": [
    "### Coisas para importar"
   ]
  },
  {
   "cell_type": "code",
   "execution_count": 1,
   "metadata": {
    "collapsed": true
   },
   "outputs": [],
   "source": [
    "#import sip\n",
    "#sip.setapi('QString', 2)\n",
    "#sip.setapi('QVariant', 2)"
   ]
  },
  {
   "cell_type": "code",
   "execution_count": 2,
   "metadata": {
    "collapsed": true
   },
   "outputs": [],
   "source": [
    "%matplotlib inline\n",
    "import numpy as np\n",
    "from fatiando import mesher, gridder, utils\n",
    "from fatiando.gravmag import sphere\n",
    "from fatiando.vis import mpl, myv"
   ]
  },
  {
   "cell_type": "markdown",
   "metadata": {},
   "source": [
    "### Pontos onde são calculados os dados"
   ]
  },
  {
   "cell_type": "code",
   "execution_count": 3,
   "metadata": {
    "collapsed": true
   },
   "outputs": [],
   "source": [
    "shape = (100, 100) # número de pontos ao longo de x e y\n",
    "N = shape[0]*shape[1] # número de pontos\n",
    "area = [-5000, 5000, -5000, 5000] # x mínimo, x máximo, y mínimo e y máximo da área\n",
    "xp, yp, zp = gridder.regular(area, shape, z=-100) # grade regular localizada em z = -100 m"
   ]
  },
  {
   "cell_type": "markdown",
   "metadata": {},
   "source": [
    "### Inclinação e a declinação do campo geomagnético local"
   ]
  },
  {
   "cell_type": "code",
   "execution_count": 4,
   "metadata": {
    "collapsed": true
   },
   "outputs": [],
   "source": [
    "inc = 56. # graus\n",
    "dec = -60. # graus\n",
    "amp = 23500.0 # nT"
   ]
  },
  {
   "cell_type": "code",
   "execution_count": 5,
   "metadata": {
    "collapsed": true
   },
   "outputs": [],
   "source": [
    "F = utils.ang2vec(amp, inc, dec) # vetor campo geomagnético local"
   ]
  },
  {
   "cell_type": "code",
   "execution_count": 6,
   "metadata": {
    "collapsed": false
   },
   "outputs": [
    {
     "name": "stdout",
     "output_type": "stream",
     "text": [
      "[  6570.51661578 -11380.46861051  19482.38295504]\n"
     ]
    }
   ],
   "source": [
    "print F"
   ]
  },
  {
   "cell_type": "markdown",
   "metadata": {},
   "source": [
    "### Modelo de corpo esférico"
   ]
  },
  {
   "cell_type": "code",
   "execution_count": 7,
   "metadata": {
    "collapsed": true
   },
   "outputs": [],
   "source": [
    "model = [mesher.Sphere(0., 0., 700., 500., {'magnetization': utils.ang2vec(10., inc, dec)})]"
   ]
  },
  {
   "cell_type": "code",
   "execution_count": 8,
   "metadata": {
    "collapsed": false
   },
   "outputs": [
    {
     "name": "stderr",
     "output_type": "stream",
     "text": [
      "WARNING:traits.has_traits:DEPRECATED: traits.has_traits.wrapped_class, 'the 'implements' class advisor has been deprecated. Use the 'provides' class decorator.\n",
      "C:\\Anaconda\\lib\\site-packages\\traits\\has_traits.py:1766: FutureWarning: comparison to `None` will result in an elementwise object comparison in the future.\n",
      "  setattr( self, name, value )\n"
     ]
    }
   ],
   "source": [
    "scene = myv.figure(size=(800,600))\n",
    "myv.points([[model[0].x, model[0].y, model[0].z]], \n",
    "           color=(1, 0, 0), size=model[0].radius, opacity=0.5)\n",
    "bounds = area + [0, 3000]\n",
    "ax = myv.axes(myv.outline(bounds), ranges=[b*0.001 for b in bounds], nlabels=3, fmt='%.1f')\n",
    "ax.axes.x_label, ax.axes.y_label, ax.axes.z_label = 'x(km)', 'y(km)', 'z(km)'\n",
    "ax.axes.font_factor = 1.2\n",
    "myv.wall_bottom(bounds)\n",
    "myv.wall_north(bounds)\n",
    "scene.scene.camera.compute_view_plane_normal()\n",
    "scene.scene.render()\n",
    "myv.savefig('esfera.png')\n",
    "myv.show()"
   ]
  },
  {
   "cell_type": "markdown",
   "metadata": {},
   "source": [
    "<img src='esfera.png', width=600>"
   ]
  },
  {
   "cell_type": "markdown",
   "metadata": {},
   "source": [
    "### Anomalia de campo total (em nT)"
   ]
  },
  {
   "cell_type": "code",
   "execution_count": 15,
   "metadata": {
    "collapsed": true
   },
   "outputs": [],
   "source": [
    "act = sphere.tf(xp, yp, zp, model, inc, dec) + 30.0"
   ]
  },
  {
   "cell_type": "markdown",
   "metadata": {},
   "source": [
    "### Derivadas espaciais da anomalia de campo total (em nT/m)"
   ]
  },
  {
   "cell_type": "code",
   "execution_count": 16,
   "metadata": {
    "collapsed": true
   },
   "outputs": [],
   "source": [
    "delta = 10.\n",
    "\n",
    "dx_act = (sphere.tf(xp + delta, yp, zp, model, inc, dec) - \\\n",
    "          sphere.tf(xp - delta, yp, zp, model, inc, dec))/(2.*delta)\n",
    "\n",
    "dy_act = (sphere.tf(xp, yp + delta, zp, model, inc, dec) - \\\n",
    "          sphere.tf(xp, yp - delta, zp, model, inc, dec))/(2.*delta)\n",
    "\n",
    "dz_act = (sphere.tf(xp, yp, zp + delta, model, inc, dec) - \\\n",
    "          sphere.tf(xp, yp, zp - delta, model, inc, dec))/(2.*delta)"
   ]
  },
  {
   "cell_type": "markdown",
   "metadata": {},
   "source": [
    "### Deconvolução de Euler"
   ]
  },
  {
   "cell_type": "code",
   "execution_count": 22,
   "metadata": {
    "collapsed": true
   },
   "outputs": [],
   "source": [
    "eta = 1.0"
   ]
  },
  {
   "cell_type": "code",
   "execution_count": 23,
   "metadata": {
    "collapsed": false
   },
   "outputs": [],
   "source": [
    "y = np.reshape(xp*dx_act + yp*dy_act + zp*dz_act + eta*act, (N, 1))\n",
    "A = np.hstack((np.reshape(dx_act, (N, 1)), \n",
    "               np.reshape(dy_act, (N, 1)), \n",
    "               np.reshape(dz_act, (N, 1)), \n",
    "               np.zeros((N,1)) + eta))"
   ]
  },
  {
   "cell_type": "code",
   "execution_count": 24,
   "metadata": {
    "collapsed": false
   },
   "outputs": [],
   "source": [
    "x = np.linalg.solve(np.dot(A.T, A), np.dot(A.T, y))"
   ]
  },
  {
   "cell_type": "code",
   "execution_count": 25,
   "metadata": {
    "collapsed": false
   },
   "outputs": [
    {
     "name": "stdout",
     "output_type": "stream",
     "text": [
      "x:      0.00000 |     -0.02081\n",
      "y:      0.00000 |      0.02537\n",
      "z:    700.00000 |     60.08775\n",
      "Nb: 30 |     24.22799\n"
     ]
    }
   ],
   "source": [
    "print 'x: %12.5f | %12.5f' % (model[0].x,x[0])\n",
    "print 'y: %12.5f | %12.5f' % (model[0].y,x[1])\n",
    "print 'z: %12.5f | %12.5f' % (model[0].z,x[2])\n",
    "print 'Nb: 30 | %12.5f' % x[3]"
   ]
  },
  {
   "cell_type": "code",
   "execution_count": 26,
   "metadata": {
    "collapsed": true
   },
   "outputs": [],
   "source": [
    "scene = myv.figure(size=(800,600))\n",
    "myv.points(x[:3,0], size=100.)\n",
    "myv.points([[model[0].x, model[0].y, model[0].z]], \n",
    "           color=(1, 0, 0), size=model[0].radius, opacity=0.5)\n",
    "bounds = area + [0, 3000]\n",
    "ax = myv.axes(myv.outline(bounds), ranges=[b*0.001 for b in bounds], nlabels=3, fmt='%.1f')\n",
    "ax.axes.x_label, ax.axes.y_label, ax.axes.z_label = 'x(km)', 'y(km)', 'z(km)'\n",
    "ax.axes.font_factor = 1.2\n",
    "myv.wall_bottom(bounds)\n",
    "myv.wall_north(bounds)\n",
    "scene.scene.camera.compute_view_plane_normal()\n",
    "scene.scene.render()\n",
    "myv.savefig('esfera_estimativa.png')\n",
    "myv.show()"
   ]
  },
  {
   "cell_type": "markdown",
   "metadata": {
    "collapsed": true
   },
   "source": [
    "<img src='esfera_estimativa.png', width=600>"
   ]
  },
  {
   "cell_type": "code",
   "execution_count": null,
   "metadata": {
    "collapsed": true
   },
   "outputs": [],
   "source": []
  }
 ],
 "metadata": {
  "kernelspec": {
   "display_name": "Python 2",
   "language": "python",
   "name": "python2"
  },
  "language_info": {
   "codemirror_mode": {
    "name": "ipython",
    "version": 2
   },
   "file_extension": ".py",
   "mimetype": "text/x-python",
   "name": "python",
   "nbconvert_exporter": "python",
   "pygments_lexer": "ipython2",
   "version": "2.7.11"
  }
 },
 "nbformat": 4,
 "nbformat_minor": 0
}
