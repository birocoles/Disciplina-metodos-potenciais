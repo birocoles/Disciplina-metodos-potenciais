{
 "cells": [
  {
   "cell_type": "markdown",
   "metadata": {},
   "source": [
    "# Anomalia de campo total produzida por um prisma"
   ]
  },
  {
   "cell_type": "markdown",
   "metadata": {},
   "source": [
    "Este código utiliza a biblioteca de modelagem e inversão de dados geofísicos denominada [Fatiando a Terra](http://www.fatiando.org/index.html)."
   ]
  },
  {
   "cell_type": "markdown",
   "metadata": {},
   "source": [
    "### Coisas para importar"
   ]
  },
  {
   "cell_type": "code",
   "execution_count": 1,
   "metadata": {
    "collapsed": false
   },
   "outputs": [],
   "source": [
    "#%matplotlib inline\n",
    "import numpy as np\n",
    "from fatiando import mesher, gridder, utils\n",
    "from fatiando.gravmag import polyprism\n",
    "from fatiando.vis import mpl"
   ]
  },
  {
   "cell_type": "markdown",
   "metadata": {},
   "source": [
    "### Pontos onde são calculados os dados"
   ]
  },
  {
   "cell_type": "code",
   "execution_count": 2,
   "metadata": {
    "collapsed": true
   },
   "outputs": [],
   "source": [
    "shape = (100, 100) # número de pontos ao longo de x e y\n",
    "area = [-5000, 5000, -5000, 5000] # x mínimo, x máximo, y mínimo e y máximo da área\n",
    "xp, yp, zp = gridder.regular(area, shape, z=-100) # grade regular localizada em z = -100 m\n",
    "\n",
    "xc = 0.5*(area[1] + area[0])\n",
    "yc = 0.5*(area[3] + area[2])"
   ]
  },
  {
   "cell_type": "markdown",
   "metadata": {},
   "source": [
    "### Inclinação e a declinação do campo geomagnético local"
   ]
  },
  {
   "cell_type": "code",
   "execution_count": 3,
   "metadata": {
    "collapsed": true
   },
   "outputs": [],
   "source": [
    "inc = -30. # graus\n",
    "dec = 0. # graus"
   ]
  },
  {
   "cell_type": "code",
   "execution_count": 4,
   "metadata": {
    "collapsed": true
   },
   "outputs": [],
   "source": [
    "amp = 23500.0 + 0.05*(xp - xc) + 0.08*(yp - yc) # nT"
   ]
  },
  {
   "cell_type": "code",
   "execution_count": 5,
   "metadata": {
    "collapsed": true
   },
   "outputs": [],
   "source": [
    "F = utils.ang2vec(1.0, inc, dec) # versor do campo geomagnético local"
   ]
  },
  {
   "cell_type": "code",
   "execution_count": 6,
   "metadata": {
    "collapsed": false
   },
   "outputs": [
    {
     "name": "stdout",
     "output_type": "stream",
     "text": [
      "[ 0.8660254  0.        -0.5      ]\n"
     ]
    }
   ],
   "source": [
    "print F"
   ]
  },
  {
   "cell_type": "markdown",
   "metadata": {},
   "source": [
    "### Modelo de prisma"
   ]
  },
  {
   "cell_type": "code",
   "execution_count": 7,
   "metadata": {
    "collapsed": false
   },
   "outputs": [],
   "source": [
    "mpl.close('all')\n",
    "axis = mpl.figure().gca()\n",
    "mpl.axis('scaled')\n",
    "vertices = mpl.draw_polygon(area, axis, xy2ne=True)"
   ]
  },
  {
   "cell_type": "code",
   "execution_count": 8,
   "metadata": {
    "collapsed": false
   },
   "outputs": [
    {
     "name": "stdout",
     "output_type": "stream",
     "text": [
      "[[ 3059.62343096 -3321.12970711]\n",
      " [ 3268.82845188 -2275.10460251]\n",
      " [ 3530.33472803  -810.66945607]\n",
      " [ 3347.28033473   366.10878661]\n",
      " [ 3059.62343096  1516.73640167]\n",
      " [ 2248.9539749   2144.35146444]\n",
      " [  993.72384937  2824.26778243]\n",
      " [ -209.20502092  3347.28033473]\n",
      " [-1804.39330544  3634.93723849]\n",
      " [-3425.73221757  3739.53974895]\n",
      " [-4027.19665272  3294.9790795 ]\n",
      " [-4367.15481172  2275.10460251]\n",
      " [-4288.70292887   758.36820084]\n",
      " [-3974.89539749  -575.31380753]\n",
      " [-3451.88284519 -1490.58577406]\n",
      " [-2641.21338912 -1725.94142259]\n",
      " [-2510.46025105 -1176.77824268]\n",
      " [-2876.56903766  -444.56066946]\n",
      " [-3399.58158996   679.91631799]\n",
      " [-3373.43096234  2458.15899582]\n",
      " [-2562.76150628  2928.87029289]\n",
      " [-1569.0376569   2745.81589958]\n",
      " [ -339.958159    2144.35146444]\n",
      " [ 1255.23012552  1333.68200837]\n",
      " [ 1778.24267782   366.10878661]\n",
      " [ 1882.84518828 -1281.38075314]\n",
      " [ 1647.48953975 -3190.37656904]\n",
      " [ 1856.69456067 -4131.79916318]\n",
      " [ 2562.76150628 -4419.45606695]\n",
      " [ 2928.87029289 -3948.74476987]]\n"
     ]
    }
   ],
   "source": [
    "print vertices"
   ]
  },
  {
   "cell_type": "code",
   "execution_count": 9,
   "metadata": {
    "collapsed": true
   },
   "outputs": [],
   "source": [
    "incs = inc\n",
    "decs = dec\n",
    "m = 3.\n",
    "\n",
    "model = [mesher.PolygonalPrism(vertices, 10, 1010, {'magnetization': utils.ang2vec(m, incs, decs)})]"
   ]
  },
  {
   "cell_type": "markdown",
   "metadata": {},
   "source": [
    "### Anomalia de campo total (em nT)"
   ]
  },
  {
   "cell_type": "code",
   "execution_count": 10,
   "metadata": {
    "collapsed": true
   },
   "outputs": [],
   "source": [
    "bx = polyprism.bx(xp, yp, zp, model)\n",
    "by = polyprism.by(xp, yp, zp, model)\n",
    "bz = polyprism.bz(xp, yp, zp, model)"
   ]
  },
  {
   "cell_type": "code",
   "execution_count": 11,
   "metadata": {
    "collapsed": true
   },
   "outputs": [],
   "source": [
    "act_aprox = polyprism.tf(xp, yp, zp, model, inc, dec)"
   ]
  },
  {
   "cell_type": "code",
   "execution_count": 12,
   "metadata": {
    "collapsed": true
   },
   "outputs": [],
   "source": [
    "ct = np.sqrt((amp*F[0] + bx)**2 + (amp*F[1] + by)**2 + (amp*F[2] + bz)**2)"
   ]
  },
  {
   "cell_type": "code",
   "execution_count": 13,
   "metadata": {
    "collapsed": true
   },
   "outputs": [],
   "source": [
    "act = ct - amp"
   ]
  },
  {
   "cell_type": "markdown",
   "metadata": {},
   "source": [
    "### Plot da anomalia de campo total"
   ]
  },
  {
   "cell_type": "code",
   "execution_count": 14,
   "metadata": {
    "collapsed": false
   },
   "outputs": [],
   "source": [
    "mpl.close('all')\n",
    "mpl.figure(figsize=(12,10))\n",
    "\n",
    "mpl.subplot(2,2,1)\n",
    "mpl.title(\"Campo total (nT)\")\n",
    "mpl.axis('scaled')\n",
    "mpl.contourf(yp, xp, ct, shape, 15, cmap = mpl.get_cmap('RdBu_r'))\n",
    "mpl.colorbar()\n",
    "mpl.polygon(model[0], '--k', xy2ne=True)\n",
    "mpl.xlabel('y (km)')\n",
    "mpl.ylabel('x (km)')\n",
    "mpl.m2km()\n",
    "\n",
    "mpl.subplot(2,2,2)\n",
    "mpl.title(\"Anomalia de campo total (nT)\")\n",
    "mpl.axis('scaled')\n",
    "mpl.contourf(yp, xp, act, shape, 15, cmap = mpl.get_cmap('RdBu_r'))\n",
    "mpl.colorbar()\n",
    "mpl.polygon(model[0], '--k', xy2ne=True)\n",
    "mpl.xlabel('y (km)')\n",
    "mpl.ylabel('x (km)')\n",
    "mpl.m2km()\n",
    "\n",
    "mpl.subplot(2,2,3)\n",
    "mpl.title(\"Anomalia de campo total aproximada (nT)\")\n",
    "mpl.axis('scaled')\n",
    "mpl.contourf(yp, xp, act_aprox, shape, 15, cmap = mpl.get_cmap('RdBu_r'))\n",
    "mpl.colorbar()\n",
    "mpl.polygon(model[0], '--k', xy2ne=True)\n",
    "mpl.xlabel('y (km)')\n",
    "mpl.ylabel('x (km)')\n",
    "mpl.m2km()\n",
    "\n",
    "mpl.subplot(2,2,4)\n",
    "mpl.title(\"Diferenca act_aprox - act (nT)\")\n",
    "mpl.axis('scaled')\n",
    "mpl.contourf(yp, xp, act_aprox - act, shape, 15, cmap = mpl.get_cmap('RdBu_r'))\n",
    "mpl.colorbar()\n",
    "mpl.polygon(model[0], '--k', xy2ne=True)\n",
    "mpl.xlabel('y (km)')\n",
    "mpl.ylabel('x (km)')\n",
    "mpl.m2km()\n",
    "\n",
    "mpl.tight_layout(pad = 2.)\n",
    "\n",
    "mpl.savefig('prisma_mag.png', dpi=300)\n",
    "\n",
    "#mpl.show()"
   ]
  },
  {
   "cell_type": "markdown",
   "metadata": {
    "collapsed": true
   },
   "source": [
    "<img src='prisma_mag.png', width=1200>"
   ]
  },
  {
   "cell_type": "code",
   "execution_count": null,
   "metadata": {
    "collapsed": true
   },
   "outputs": [],
   "source": []
  }
 ],
 "metadata": {
  "kernelspec": {
   "display_name": "Python 2",
   "language": "python",
   "name": "python2"
  },
  "language_info": {
   "codemirror_mode": {
    "name": "ipython",
    "version": 2
   },
   "file_extension": ".py",
   "mimetype": "text/x-python",
   "name": "python",
   "nbconvert_exporter": "python",
   "pygments_lexer": "ipython2",
   "version": "2.7.10"
  }
 },
 "nbformat": 4,
 "nbformat_minor": 0
}
