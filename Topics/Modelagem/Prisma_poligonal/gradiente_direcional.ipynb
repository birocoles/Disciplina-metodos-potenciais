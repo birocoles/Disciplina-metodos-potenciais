{
 "cells": [
  {
   "cell_type": "markdown",
   "metadata": {},
   "source": [
    "# Amplitude do gradiente direcional da anomalia de campo total"
   ]
  },
  {
   "cell_type": "markdown",
   "metadata": {},
   "source": [
    "Este código utiliza a biblioteca de modelagem e inversão de dados geofísicos denominada [Fatiando a Terra](http://www.fatiando.org/index.html)."
   ]
  },
  {
   "cell_type": "markdown",
   "metadata": {},
   "source": [
    "### Coisas para importar"
   ]
  },
  {
   "cell_type": "code",
   "execution_count": 1,
   "metadata": {
    "collapsed": true
   },
   "outputs": [],
   "source": [
    "#%matplotlib inline\n",
    "import numpy as np\n",
    "from fatiando import mesher, gridder, utils\n",
    "from fatiando.gravmag import polyprism\n",
    "from fatiando.vis import mpl"
   ]
  },
  {
   "cell_type": "markdown",
   "metadata": {},
   "source": [
    "### Pontos onde são calculados os dados"
   ]
  },
  {
   "cell_type": "code",
   "execution_count": 2,
   "metadata": {
    "collapsed": true
   },
   "outputs": [],
   "source": [
    "shape = (100, 100) # número de pontos ao longo de x e y\n",
    "area = [-5000, 5000, -5000, 5000] # x mínimo, x máximo, y mínimo e y máximo da área\n",
    "xp, yp, zp = gridder.regular(area, shape, z=-100) # grade regular localizada em z = -100 m\n",
    "\n",
    "xc = 0.5*(area[1] + area[0])\n",
    "yc = 0.5*(area[3] + area[2])"
   ]
  },
  {
   "cell_type": "markdown",
   "metadata": {},
   "source": [
    "### Inclinação e a declinação do campo geomagnético local"
   ]
  },
  {
   "cell_type": "code",
   "execution_count": 3,
   "metadata": {
    "collapsed": true
   },
   "outputs": [],
   "source": [
    "inc = -20. # graus\n",
    "dec = -20. # graus\n",
    "amp = 23500.0 # nT"
   ]
  },
  {
   "cell_type": "code",
   "execution_count": 5,
   "metadata": {
    "collapsed": true
   },
   "outputs": [],
   "source": [
    "F = utils.ang2vec(amp, inc, dec) # vetor campo geomagnético local"
   ]
  },
  {
   "cell_type": "code",
   "execution_count": 6,
   "metadata": {
    "collapsed": false
   },
   "outputs": [
    {
     "name": "stdout",
     "output_type": "stream",
     "text": [
      "[ 20751.02220665  -7552.75441382  -8037.47336815]\n"
     ]
    }
   ],
   "source": [
    "print F"
   ]
  },
  {
   "cell_type": "markdown",
   "metadata": {},
   "source": [
    "### Modelo"
   ]
  },
  {
   "cell_type": "code",
   "execution_count": 7,
   "metadata": {
    "collapsed": false
   },
   "outputs": [],
   "source": [
    "mpl.close('all')\n",
    "axis = mpl.figure().gca()\n",
    "mpl.axis('scaled')\n",
    "vertices = mpl.draw_polygon(area, axis, xy2ne=True)"
   ]
  },
  {
   "cell_type": "code",
   "execution_count": 8,
   "metadata": {
    "collapsed": false
   },
   "outputs": [
    {
     "name": "stdout",
     "output_type": "stream",
     "text": [
      "[[ 3661.08786611 -3896.44351464]\n",
      " [ 3687.23849372 -3190.37656904]\n",
      " [ 3739.53974895 -1490.58577406]\n",
      " [ 3739.53974895     0.        ]\n",
      " [ 3765.69037657  1699.79079498]\n",
      " [ 3687.23849372  3242.67782427]\n",
      " [ 3582.63598326  3844.14225941]\n",
      " [ 2144.35146444  4079.49790795]\n",
      " [ 1098.32635983  4079.49790795]\n",
      " [-1385.9832636   4079.49790795]\n",
      " [-2536.61087866  4079.49790795]\n",
      " [-3870.29288703  4001.0460251 ]\n",
      " [-4262.55230126  3817.9916318 ]\n",
      " [-4341.0041841   2928.87029289]\n",
      " [-3582.63598326  1830.54393305]\n",
      " [-2039.74895397  -496.86192469]\n",
      " [ -679.91631799 -1882.84518828]\n",
      " [  156.90376569 -3373.43096234]\n",
      " [ 1255.23012552 -3948.74476987]\n",
      " [ 1333.68200837 -4079.49790795]\n",
      " [ 1908.9958159  -3582.63598326]\n",
      " [  784.51882845 -2065.89958159]\n",
      " [ -549.16317992  -104.60251046]\n",
      " [-1438.28451883  1333.68200837]\n",
      " [-2850.41841004  2850.41841004]\n",
      " [-2379.70711297  3321.12970711]\n",
      " [-1072.17573222  3033.47280335]\n",
      " [  627.61506276  2955.0209205 ]\n",
      " [ 2013.59832636  2876.56903766]\n",
      " [ 2144.35146444  2850.41841004]\n",
      " [ 2693.51464435  2536.61087866]\n",
      " [ 2876.56903766  1438.28451883]\n",
      " [ 2876.56903766  -758.36820084]\n",
      " [ 2876.56903766 -1621.33891213]\n",
      " [ 2876.56903766 -3085.77405858]\n",
      " [ 2876.56903766 -3948.74476987]\n",
      " [ 3007.32217573 -4184.10041841]\n",
      " [ 3608.78661088 -4445.60669456]]\n"
     ]
    }
   ],
   "source": [
    "print vertices"
   ]
  },
  {
   "cell_type": "code",
   "execution_count": 19,
   "metadata": {
    "collapsed": true
   },
   "outputs": [],
   "source": [
    "incs = inc # inclinacao da magnetizacao do corpo (em graus)\n",
    "decs = 90. # declinacao da magnetizacao do corpo (em graus)\n",
    "amps = 10. # intensidade da magnetizacao do corpo (em A/m)"
   ]
  },
  {
   "cell_type": "code",
   "execution_count": 20,
   "metadata": {
    "collapsed": true
   },
   "outputs": [],
   "source": [
    "model = [mesher.PolygonalPrism(vertices, 10, 1010, {'magnetization': utils.ang2vec(amps, incs, decs)})]"
   ]
  },
  {
   "cell_type": "markdown",
   "metadata": {},
   "source": [
    "### Anomalia de campo total (em nT)"
   ]
  },
  {
   "cell_type": "code",
   "execution_count": 21,
   "metadata": {
    "collapsed": true
   },
   "outputs": [],
   "source": [
    "act = polyprism.tf(xp, yp, zp, model, inc, dec)"
   ]
  },
  {
   "cell_type": "markdown",
   "metadata": {},
   "source": [
    "### Derivadas espaciais da anomalia de campo total (em nT/m)"
   ]
  },
  {
   "cell_type": "code",
   "execution_count": 22,
   "metadata": {
    "collapsed": true
   },
   "outputs": [],
   "source": [
    "delta = 10.\n",
    "\n",
    "dx_act = (polyprism.tf(xp + delta, yp, zp, model, inc, dec) - \\\n",
    "          polyprism.tf(xp - delta, yp, zp, model, inc, dec))/(2.*delta)\n",
    "\n",
    "dy_act = (polyprism.tf(xp, yp + delta, zp, model, inc, dec) - \\\n",
    "          polyprism.tf(xp, yp - delta, zp, model, inc, dec))/(2.*delta)\n",
    "\n",
    "dz_act = (polyprism.tf(xp, yp, zp + delta, model, inc, dec) - \\\n",
    "          polyprism.tf(xp, yp, zp - delta, model, inc, dec))/(2.*delta)"
   ]
  },
  {
   "cell_type": "code",
   "execution_count": 23,
   "metadata": {
    "collapsed": true
   },
   "outputs": [],
   "source": [
    "teta = np.deg2rad(45.)\n",
    "\n",
    "dv_act = np.cos(teta)*dx_act + np.sin(teta)*dy_act"
   ]
  },
  {
   "cell_type": "markdown",
   "metadata": {},
   "source": [
    "### Amplitude do gradiente horizontal"
   ]
  },
  {
   "cell_type": "code",
   "execution_count": 24,
   "metadata": {
    "collapsed": true
   },
   "outputs": [],
   "source": [
    "grad_xy = np.sqrt(dx_act**2 + dy_act**2)"
   ]
  },
  {
   "cell_type": "markdown",
   "metadata": {},
   "source": [
    "### Amplitude do gradiente"
   ]
  },
  {
   "cell_type": "code",
   "execution_count": 25,
   "metadata": {
    "collapsed": true
   },
   "outputs": [],
   "source": [
    "grad = np.sqrt(dx_act**2 + dy_act**2 + dz_act**2)"
   ]
  },
  {
   "cell_type": "markdown",
   "metadata": {},
   "source": [
    "### Plot das derivadas ao longo dos eixos x, y e z"
   ]
  },
  {
   "cell_type": "code",
   "execution_count": 26,
   "metadata": {
    "collapsed": false
   },
   "outputs": [],
   "source": [
    "mpl.close('all')\n",
    "mpl.figure(figsize=(14,15))\n",
    "\n",
    "mpl.subplot(3,2,1)\n",
    "mpl.title(\"Derivada direcional da anomalia de campo total (nT/m)\")\n",
    "mpl.axis('scaled')\n",
    "mpl.contourf(yp, xp, dv_act, shape, 15, cmap = mpl.get_cmap('RdBu_r'))\n",
    "mpl.colorbar()\n",
    "mpl.polygon(model[0], '--k', xy2ne=True)\n",
    "mpl.xlabel('y (km)')\n",
    "mpl.ylabel('x (km)')\n",
    "mpl.m2km()\n",
    "\n",
    "mpl.subplot(3,2,2)\n",
    "mpl.title(\"Derivada em x da anomalia de campo total (nT/m)\")\n",
    "mpl.axis('scaled')\n",
    "mpl.contourf(yp, xp, dx_act, shape, 15, cmap = mpl.get_cmap('RdBu_r'))\n",
    "mpl.colorbar()\n",
    "mpl.polygon(model[0], '--k', xy2ne=True)\n",
    "mpl.xlabel('y (km)')\n",
    "mpl.ylabel('x (km)')\n",
    "mpl.m2km()\n",
    "\n",
    "mpl.subplot(3,2,3)\n",
    "mpl.title(\"Derivada em y da anomalia de campo total (nT/m)\")\n",
    "mpl.axis('scaled')\n",
    "mpl.contourf(yp, xp, dy_act, shape, 15, cmap = mpl.get_cmap('RdBu_r'))\n",
    "mpl.colorbar()\n",
    "mpl.polygon(model[0], '--k', xy2ne=True)\n",
    "mpl.xlabel('y (km)')\n",
    "mpl.ylabel('x (km)')\n",
    "mpl.m2km()\n",
    "\n",
    "mpl.subplot(3,2,4)\n",
    "mpl.title(\"Derivada em z da anomalia de campo total (nT/m)\")\n",
    "mpl.axis('scaled')\n",
    "mpl.contourf(yp, xp, dz_act, shape, 15, cmap = mpl.get_cmap('RdBu_r'))\n",
    "mpl.colorbar()\n",
    "mpl.polygon(model[0], '--k', xy2ne=True)\n",
    "mpl.xlabel('y (km)')\n",
    "mpl.ylabel('x (km)')\n",
    "mpl.m2km()\n",
    "\n",
    "mpl.subplot(3,2,5)\n",
    "mpl.title(\"Amplitude do gradiente horizontal (nT/m)\")\n",
    "mpl.axis('scaled')\n",
    "mpl.contourf(yp, xp, grad_xy, shape, 15, cmap = mpl.get_cmap('RdBu_r'))\n",
    "mpl.colorbar()\n",
    "mpl.polygon(model[0], '--k', xy2ne=True)\n",
    "mpl.xlabel('y (km)')\n",
    "mpl.ylabel('x (km)')\n",
    "mpl.m2km()\n",
    "\n",
    "mpl.subplot(3,2,6)\n",
    "mpl.title(\"Amplitude do gradiente (nT/m)\")\n",
    "mpl.axis('scaled')\n",
    "mpl.contourf(yp, xp, grad, shape, 15, cmap = mpl.get_cmap('RdBu_r'))\n",
    "mpl.colorbar()\n",
    "mpl.polygon(model[0], '--k', xy2ne=True)\n",
    "mpl.xlabel('y (km)')\n",
    "mpl.ylabel('x (km)')\n",
    "mpl.m2km()\n",
    "\n",
    "mpl.tight_layout()\n",
    "\n",
    "mpl.savefig('prismas_mag_derivadas.png', dpi=300)\n",
    "\n",
    "#mpl.show()"
   ]
  },
  {
   "cell_type": "markdown",
   "metadata": {},
   "source": [
    "<img src='prismas_mag_derivadas.png', width=1200>"
   ]
  },
  {
   "cell_type": "code",
   "execution_count": null,
   "metadata": {
    "collapsed": true
   },
   "outputs": [],
   "source": []
  },
  {
   "cell_type": "code",
   "execution_count": null,
   "metadata": {
    "collapsed": true
   },
   "outputs": [],
   "source": []
  }
 ],
 "metadata": {
  "kernelspec": {
   "display_name": "Python 2",
   "language": "python",
   "name": "python2"
  },
  "language_info": {
   "codemirror_mode": {
    "name": "ipython",
    "version": 2
   },
   "file_extension": ".py",
   "mimetype": "text/x-python",
   "name": "python",
   "nbconvert_exporter": "python",
   "pygments_lexer": "ipython2",
   "version": "2.7.10"
  }
 },
 "nbformat": 4,
 "nbformat_minor": 0
}
