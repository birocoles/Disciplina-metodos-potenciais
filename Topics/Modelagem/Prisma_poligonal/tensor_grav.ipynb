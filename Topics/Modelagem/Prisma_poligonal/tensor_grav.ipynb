{
 "cells": [
  {
   "cell_type": "markdown",
   "metadata": {},
   "source": [
    "# Derivadas segundas do potencial gravitacional produzido por um prisma"
   ]
  },
  {
   "cell_type": "markdown",
   "metadata": {},
   "source": [
    "Este código utiliza a biblioteca de modelagem e inversão de dados geofísicos denominada [Fatiando a Terra](http://www.fatiando.org/index.html)."
   ]
  },
  {
   "cell_type": "markdown",
   "metadata": {},
   "source": [
    "### Coisas para importar"
   ]
  },
  {
   "cell_type": "code",
   "execution_count": 16,
   "metadata": {
    "collapsed": true
   },
   "outputs": [],
   "source": [
    "#%matplotlib inline\n",
    "import numpy as np\n",
    "from fatiando import mesher, gridder, utils\n",
    "from fatiando.gravmag import polyprism\n",
    "from fatiando.vis import mpl"
   ]
  },
  {
   "cell_type": "markdown",
   "metadata": {},
   "source": [
    "### Pontos onde são calculados os dados"
   ]
  },
  {
   "cell_type": "code",
   "execution_count": 17,
   "metadata": {
    "collapsed": true
   },
   "outputs": [],
   "source": [
    "shape = (100, 100) # número de pontos ao longo de x e y\n",
    "area = [-5000, 5000, -5000, 5000] # x mínimo, x máximo, y mínimo e y máximo da área\n",
    "xp, yp, zp = gridder.regular(area, shape, z=-100) # grade regular localizada em z = -100 m\n",
    "\n",
    "xc = 0.5*(area[1] + area[0])\n",
    "yc = 0.5*(area[3] + area[2])"
   ]
  },
  {
   "cell_type": "markdown",
   "metadata": {},
   "source": [
    "### Modelo de prisma"
   ]
  },
  {
   "cell_type": "code",
   "execution_count": 18,
   "metadata": {
    "collapsed": true
   },
   "outputs": [],
   "source": [
    "mpl.close('all')\n",
    "axis = mpl.figure().gca()\n",
    "mpl.axis('scaled')\n",
    "vertices = mpl.draw_polygon(area, axis, xy2ne=True)"
   ]
  },
  {
   "cell_type": "code",
   "execution_count": 19,
   "metadata": {
    "collapsed": false
   },
   "outputs": [
    {
     "name": "stdout",
     "output_type": "stream",
     "text": [
      "[[-2379.70711297 -2118.20083682]\n",
      " [-1595.18828452 -2170.50209205]\n",
      " [ -758.36820084 -2222.80334728]\n",
      " [  601.46443515 -2170.50209205]\n",
      " [ 1961.29707113 -1542.88702929]\n",
      " [ 3164.22594142  -575.31380753]\n",
      " [ 3896.44351464   549.16317992]\n",
      " [ 4079.49790795  1516.73640167]\n",
      " [ 3974.89539749  2405.85774059]\n",
      " [ 3399.58158996  3321.12970711]\n",
      " [ 2562.76150628  3948.74476987]\n",
      " [ 1569.0376569   4393.30543933]\n",
      " [  -52.30125523  4759.41422594]\n",
      " [-1464.43514644  4733.26359833]\n",
      " [-2771.9665272   4628.66108787]\n",
      " [-3687.23849372  4210.25104603]\n",
      " [-3817.9916318   3896.44351464]\n",
      " [-3451.88284519  3504.18410042]\n",
      " [-2222.80334728  3608.78661088]\n",
      " [-1019.87447699  3765.69037657]\n",
      " [  339.958159    3687.23849372]\n",
      " [ 1464.43514644  3373.43096234]\n",
      " [ 2144.35146444  2876.56903766]\n",
      " [ 2771.9665272   2092.05020921]\n",
      " [ 2981.17154812  1019.87447699]\n",
      " [ 2353.55648536   104.60251046]\n",
      " [ 1516.73640167  -313.80753138]\n",
      " [  575.31380753  -836.82008368]\n",
      " [ -287.65690377  -915.27196653]\n",
      " [-1516.73640167 -1098.32635983]\n",
      " [-2771.9665272  -1072.17573222]\n",
      " [-3713.38912134 -1908.9958159 ]\n",
      " [-3844.14225941 -2458.15899582]\n",
      " [-3634.93723849 -3582.63598326]\n",
      " [-3190.37656904 -3844.14225941]\n",
      " [-2484.30962343 -3870.29288703]\n",
      " [-2039.74895397 -3451.88284519]\n",
      " [-1961.29707113 -2824.26778243]\n",
      " [-2013.59832636 -2615.06276151]]\n"
     ]
    }
   ],
   "source": [
    "print vertices"
   ]
  },
  {
   "cell_type": "code",
   "execution_count": 20,
   "metadata": {
    "collapsed": true
   },
   "outputs": [],
   "source": [
    "model = [mesher.PolygonalPrism(vertices, 10, 1010, {'density': 2000.})]"
   ]
  },
  {
   "cell_type": "markdown",
   "metadata": {},
   "source": [
    "### Componentes do tensor gradiente (em Eötvös)"
   ]
  },
  {
   "cell_type": "code",
   "execution_count": 21,
   "metadata": {
    "collapsed": true
   },
   "outputs": [],
   "source": [
    "gxx = polyprism.gxx(xp, yp, zp, model)\n",
    "gxy = polyprism.gxy(xp, yp, zp, model)\n",
    "gxz = polyprism.gxz(xp, yp, zp, model)\n",
    "gyy = polyprism.gyy(xp, yp, zp, model)\n",
    "gyz = polyprism.gyz(xp, yp, zp, model)\n",
    "gzz = polyprism.gzz(xp, yp, zp, model)"
   ]
  },
  {
   "cell_type": "markdown",
   "metadata": {},
   "source": [
    "### Componente vertical da atração gravitacional (em mGal)"
   ]
  },
  {
   "cell_type": "code",
   "execution_count": 22,
   "metadata": {
    "collapsed": true
   },
   "outputs": [],
   "source": [
    "gz = polyprism.gz(xp, yp, zp, model)"
   ]
  },
  {
   "cell_type": "markdown",
   "metadata": {},
   "source": [
    "### Plot da anomalia de campo total"
   ]
  },
  {
   "cell_type": "code",
   "execution_count": 23,
   "metadata": {
    "collapsed": false
   },
   "outputs": [],
   "source": [
    "mpl.close('all')\n",
    "mpl.figure(figsize=(18,14))\n",
    "\n",
    "mpl.subplot(3,3,1)\n",
    "mpl.title(\"Componente gxx (E)\")\n",
    "mpl.axis('scaled')\n",
    "mpl.contourf(yp, xp, gxx, shape, 15, cmap=mpl.get_cmap('RdBu_r'))\n",
    "mpl.colorbar()\n",
    "mpl.polygon(model[0], '--k', xy2ne=True)\n",
    "mpl.xlabel('y (km)')\n",
    "mpl.ylabel('x (km)')\n",
    "mpl.m2km()\n",
    "\n",
    "mpl.subplot(3,3,2)\n",
    "mpl.title(\"Componente gxy (E)\")\n",
    "mpl.axis('scaled')\n",
    "mpl.contourf(yp, xp, gxy, shape, 15, cmap=mpl.get_cmap('RdBu_r'))\n",
    "mpl.colorbar()\n",
    "mpl.polygon(model[0], '--k', xy2ne=True)\n",
    "mpl.xlabel('y (km)')\n",
    "mpl.ylabel('x (km)')\n",
    "mpl.m2km()\n",
    "\n",
    "mpl.subplot(3,3,3)\n",
    "mpl.title(\"Componente gxz (E)\")\n",
    "mpl.axis('scaled')\n",
    "mpl.contourf(yp, xp, gxz, shape, 15, cmap=mpl.get_cmap('RdBu_r'))\n",
    "mpl.colorbar()\n",
    "mpl.polygon(model[0], '--k', xy2ne=True)\n",
    "mpl.xlabel('y (km)')\n",
    "mpl.ylabel('x (km)')\n",
    "mpl.m2km()\n",
    "\n",
    "mpl.subplot(3,3,5)\n",
    "mpl.title(\"Componente gyy (E)\")\n",
    "mpl.axis('scaled')\n",
    "mpl.contourf(yp, xp, gyy, shape, 15, cmap=mpl.get_cmap('RdBu_r'))\n",
    "mpl.colorbar()\n",
    "mpl.polygon(model[0], '--k', xy2ne=True)\n",
    "mpl.xlabel('y (km)')\n",
    "mpl.ylabel('x (km)')\n",
    "mpl.m2km()\n",
    "\n",
    "mpl.subplot(3,3,6)\n",
    "mpl.title(\"Componente gyz (E)\")\n",
    "mpl.axis('scaled')\n",
    "mpl.contourf(yp, xp, gyz, shape, 15, cmap=mpl.get_cmap('RdBu_r'))\n",
    "mpl.colorbar()\n",
    "mpl.polygon(model[0], '--k', xy2ne=True)\n",
    "mpl.xlabel('y (km)')\n",
    "mpl.ylabel('x (km)')\n",
    "mpl.m2km()\n",
    "\n",
    "mpl.subplot(3,3,9)\n",
    "mpl.title(\"Componente gzz (E)\")\n",
    "mpl.axis('scaled')\n",
    "mpl.contourf(yp, xp, gzz, shape, 15, cmap=mpl.get_cmap('RdBu_r'))\n",
    "mpl.colorbar()\n",
    "mpl.polygon(model[0], '--k', xy2ne=True)\n",
    "mpl.xlabel('y (km)')\n",
    "mpl.ylabel('x (km)')\n",
    "mpl.m2km()\n",
    "\n",
    "mpl.subplot(3,3,7)\n",
    "mpl.title(\"Componente gz (mGal)\")\n",
    "mpl.axis('scaled')\n",
    "mpl.contourf(yp, xp, gz, shape, 15, cmap=mpl.get_cmap('RdBu_r'))\n",
    "mpl.colorbar()\n",
    "mpl.polygon(model[0], '--k', xy2ne=True)\n",
    "mpl.xlabel('y (km)')\n",
    "mpl.ylabel('x (km)')\n",
    "mpl.m2km()\n",
    "\n",
    "mpl.tight_layout()\n",
    "\n",
    "mpl.savefig('prismas_tensor_grav.png', dpi=300)\n",
    "\n",
    "#mpl.show()"
   ]
  },
  {
   "cell_type": "markdown",
   "metadata": {
    "collapsed": true
   },
   "source": [
    "<img src='prismas_tensor_grav.png', width=1200>"
   ]
  },
  {
   "cell_type": "code",
   "execution_count": null,
   "metadata": {
    "collapsed": true
   },
   "outputs": [],
   "source": []
  }
 ],
 "metadata": {
  "kernelspec": {
   "display_name": "Python 2",
   "language": "python",
   "name": "python2"
  },
  "language_info": {
   "codemirror_mode": {
    "name": "ipython",
    "version": 2
   },
   "file_extension": ".py",
   "mimetype": "text/x-python",
   "name": "python",
   "nbconvert_exporter": "python",
   "pygments_lexer": "ipython2",
   "version": "2.7.10"
  }
 },
 "nbformat": 4,
 "nbformat_minor": 0
}
