{
 "cells": [
  {
   "cell_type": "markdown",
   "metadata": {},
   "source": [
    "# Magnetic field produced by dipoles"
   ]
  },
  {
   "cell_type": "markdown",
   "metadata": {},
   "source": [
    "This notebook presents the mathematical background for deducing the magnetic field (induction) produced by dipoles. The mathematical developments presented here are based on Langel and Hinze (1998).\n",
    "\n",
    "#### Recommended literature\n",
    "\n",
    "* Dyment, J. and J. Arkani-Hamed (1998). Equivalent source magnetic dipoles revisited. Geophysical Research Letters, Volume 25, Issue 11, Pages 2003-2006,  https://doi.org/10.1029/98GL51331.\n",
    "\n",
    "* Langel, R. A. and W. J. Hinze (1998). The magnetic field of the Earth's lithosphere: the satellite perspective, Cambridge University Press, [ISBN 0-521-47333-0](https://books.google.fr/books?id=S3SCwnO707oC&lpg=PR4&ots=Fghu7xMAcP&dq=ISBN%200-521-47333-0&hl=pt-BR&pg=PP1#v=onepage&q=ISBN%200-521-47333-0&f=false).\n",
    "\n",
    "* Du, J., C. Chen, V. Lesur, R. Lane and H. Wang (2015). Magnetic potential, vector and gradient tensor fields of a tesseroid in a geocentric spherical coordinate system. Geophysical Journal International, Volume 201, Issue 3, Pages 1977–2007, https://doi.org/10.1093/gji/ggv123\n",
    "\n",
    "* Asgharzadeh, M. F.,  R. R. B. Von Frese and H. R. Kim (2008). Spherical prism magnetic effects by Gauss—Legendre quadrature integration. Geophysical Journal International, Volume 173, Issue 1, Pages 315–333, https://doi.org/10.1111/j.1365-246X.2007.03692.x\n",
    "\n",
    "* Thébault, E., Finlay, C. C., Beggan, C. D. ... Zvereva, T. (2015). International Geomagnetic Reference Field: the 12th generation. Earth, Planets and Space, 67-79. https://doi.org/10.1186/s40623-015-0228-9\n",
    "\n",
    "* Eldar Baykiev, Jörg Ebbing, Marco Brönner, Karl Fabian (2016). Forward modeling magnetic fields of induced and remanent magnetization in the lithosphere using tesseroids. Computers & Geosciences, Volume 96, Pages 124-135, ISSN 0098-3004, http://dx.doi.org/10.1016/j.cageo.2016.08.004.\n",
    "\n",
    "* Uieda, L., V. Barbosa, and C. Braitenberg (2016), Tesseroids: Forward-modeling gravitational fields in spherical coordinates. GEOPHYSICS, F41-F48, http://dx.doi.org/10.1190/geo2015-0204.1."
   ]
  },
  {
   "cell_type": "markdown",
   "metadata": {},
   "source": [
    "## Definitions"
   ]
  },
  {
   "cell_type": "markdown",
   "metadata": {},
   "source": [
    "<a id='unit-vectors'></a>\n",
    "$$\n",
    "\\begin{split}\n",
    "\\hat{\\mathbf{r}}\\left( r, \\theta, \\phi \\right) &= \n",
    "\\begin{bmatrix}\n",
    "\\sin\\theta \\cos\\phi \\\\\n",
    "\\sin\\theta \\sin\\phi \\\\\n",
    "\\cos\\theta\n",
    "\\end{bmatrix} \\\\\n",
    "\\hat{\\pmb{\\theta}}\\left( r, \\theta, \\phi \\right) &= \n",
    "\\begin{bmatrix}\n",
    "\\cos\\theta \\cos\\phi \\\\\n",
    "\\cos\\theta \\sin\\phi \\\\\n",
    "-\\sin\\theta\n",
    "\\end{bmatrix} \\\\\n",
    "\\hat{\\pmb{\\phi}}\\left( r, \\theta, \\phi \\right) &= \n",
    "\\begin{bmatrix}\n",
    "-\\sin\\phi \\\\\n",
    "\\cos\\phi \\\\\n",
    "0\n",
    "\\end{bmatrix}\n",
    "\\end{split} \\tag{1}\n",
    "$$"
   ]
  },
  {
   "cell_type": "markdown",
   "metadata": {},
   "source": [
    "<a id='R'></a>\n",
    "$$\n",
    "\\mathbf{R}\\left(r, \\theta, \\phi \\right) = \\left[\n",
    "\\hat{\\mathbf{r}}\\left(r, \\theta, \\phi \\right) \\:\\:\n",
    "\\hat{\\pmb{\\theta}}\\left(r, \\theta, \\phi \\right) \\:\\:\n",
    "\\hat{\\pmb{\\phi}}\\left(r, \\theta, \\phi \\right)\n",
    "\\right] \\tag{2}\n",
    "$$"
   ]
  },
  {
   "cell_type": "markdown",
   "metadata": {},
   "source": [
    "<a id='R-orthogonal'></a>\n",
    "$$\n",
    "\\mathbf{R}\\left(r, \\theta, \\phi \\right)^{\\top} = \n",
    "\\mathbf{R}\\left(r, \\theta, \\phi \\right)^{-1} \\tag{3}\n",
    "$$"
   ]
  },
  {
   "cell_type": "markdown",
   "metadata": {},
   "source": [
    "<a id='r-alpha'></a>\n",
    "$$\n",
    "\\begin{split}\n",
    "\\mathbf{r}_{\\alpha} \n",
    "&= r_{\\alpha} \\, \\hat{\\mathbf{r}}_{\\alpha} \\\\\n",
    "&= r_{\\alpha} \\, \\mathbf{R}_{\\alpha} \\, \\hat{\\mathbf{u}}_{1} \\\\\n",
    "\\end{split} \\tag{4}\n",
    "$$"
   ]
  },
  {
   "cell_type": "markdown",
   "metadata": {},
   "source": [
    "$\\hat{\\mathbf{r}}_{\\alpha} \\equiv \\hat{\\mathbf{r}}\\left( r_{\\alpha}, \\theta_{\\alpha}, \\phi_{\\alpha}\\right)$ ([equation 1](#unit-vectors)), $\\mathbf{R}_{\\alpha} \\equiv \\mathbf{R}\\left( r_{\\alpha}, \\theta_{\\alpha}, \\phi_{\\alpha}\\right)$ ([equation 2](#R)), $\\alpha = i, j$, $\\hat{\\mathbf{u}}_{1} = \\begin{bmatrix} 1 & 0 & 0 \\end{bmatrix}^{\\top}$."
   ]
  },
  {
   "cell_type": "markdown",
   "metadata": {},
   "source": [
    "<a id='rij'></a>\n",
    "$$\n",
    "\\begin{split}\n",
    "\\mathbf{r}_{ij} \n",
    "&= \\mathbf{r}_{i} - \\mathbf{r}_{j} \\\\\n",
    "&= r_{i} \\hat{\\mathbf{r}}_{i} - r_{j} \\hat{\\mathbf{r}}_{j} \\\\\n",
    "&= \\mathbf{R}_{i} \\left( r_{i} \\, \\hat{\\mathbf{u}}_{1} - r_{j} \\, \\mathbf{R}_{i}^{\\top} \\hat{\\mathbf{r}}_{j} \\right) \\\\\n",
    "&= \\mathbf{R}_{j} \\left( r_{i} \\, \\mathbf{R}_{j}^{\\top} \\hat{\\mathbf{r}}_{i} - r_{j} \\, \\hat{\\mathbf{u}}_{1} \\right)\n",
    "\\end{split}\n",
    "\\tag{5}\n",
    "$$"
   ]
  },
  {
   "cell_type": "markdown",
   "metadata": {},
   "source": [
    "<a id='rij-norm'></a>\n",
    "$$\n",
    "r_{ij} = \\| \\mathbf{r}_{ij} \\| \\tag{6}\n",
    "$$"
   ]
  },
  {
   "cell_type": "markdown",
   "metadata": {},
   "source": [
    "<a id='squared-rij'></a>\n",
    "$$\n",
    "\\left(r_{ij}\\right)^2 = \\left(r_{j}\\right)^2 + \\left(r_{j}\\right)^2 - 2 \\, r_{i} r_{j} \\mu_{ij} \\tag{7}\n",
    "$$"
   ]
  },
  {
   "cell_type": "markdown",
   "metadata": {},
   "source": [
    "<a id='muij'></a>\n",
    "$$\n",
    "\\begin{split}\n",
    "\\mu_{ij} \\equiv \\cos\\psi_{ij} &= \\cos\\theta_{i} \\cos\\theta_{j} + \n",
    "\\sin\\theta_{i} \\sin\\theta_{j} \\cos \\left( \\phi_{i} - \\phi_{j} \\right) \\\\\n",
    "&= \\frac{\\hat{\\mathbf{r}}_{i} \\cdot \\hat{\\mathbf{r}}_{j}}{r_{i} \\, r_{j}}\n",
    "\\end{split} \\tag{8}\n",
    "$$"
   ]
  },
  {
   "cell_type": "markdown",
   "metadata": {},
   "source": [
    "<a id='grad_alpha'></a>\n",
    "$$\n",
    "\\nabla_{\\alpha} \\, f \\left(r_{i}, \\theta_{i}, \\phi_{i}, r_{j}, \\theta_{j}, \\phi_{j} \\right) = \n",
    "\\mathbf{R}_{\\alpha} \\, \\mathbf{H}_{\\alpha}^{-1} \\, \\pmb{\\partial}_{\\alpha} f \\left(r_{i}, \\theta_{i}, \\phi_{i}, r_{j}, \\theta_{j}, \\phi_{j} \\right) \\: , \\quad \\alpha = i, j \\tag{9}\n",
    "$$"
   ]
  },
  {
   "cell_type": "markdown",
   "metadata": {},
   "source": [
    "<a id='H_alpha'></a>\n",
    "$$\n",
    "\\mathbf{H}_{\\alpha} = \\begin{bmatrix} \n",
    "1 & 0 & 0 \\\\\n",
    "0 & r_{\\alpha} & 0 \\\\\n",
    "0 & 0 & r_{\\alpha} \\sin\\theta_{\\alpha}\n",
    "\\end{bmatrix} \\: , \\quad \\alpha = i, j \\tag{10}\n",
    "$$"
   ]
  },
  {
   "cell_type": "markdown",
   "metadata": {},
   "source": [
    "<a id='deriv_alpha'></a>\n",
    "$$\n",
    "\\pmb{\\partial}_{\\alpha} f \\left(r_{i}, \\theta_{i}, \\phi_{i}, r_{j}, \\theta_{j}, \\phi_{j} \\right) = \\begin{bmatrix}\n",
    "\\frac{\\partial}{\\partial r_{\\alpha}} f \\left(r_{i}, \\theta_{i}, \\phi_{i}, r_{j}, \\theta_{j}, \\phi_{j} \\right) \\\\\n",
    "\\frac{\\partial}{\\partial \\theta_{\\alpha}} f \\left(r_{i}, \\theta_{i}, \\phi_{i}, r_{j}, \\theta_{j}, \\phi_{j} \\right) \\\\\n",
    "\\frac{\\partial}{\\partial \\phi_{\\alpha}} f \\left(r_{i}, \\theta_{i}, \\phi_{i}, r_{j}, \\theta_{j}, \\phi_{j} \\right)\n",
    "\\end{bmatrix} \\: , \\quad \\alpha = i, j \\tag{11}\n",
    "$$"
   ]
  },
  {
   "cell_type": "markdown",
   "metadata": {},
   "source": [
    "## Useful expressions and identities"
   ]
  },
  {
   "cell_type": "markdown",
   "metadata": {},
   "source": [
    "<a id='table-51LH98'></a>\n",
    "\n",
    "| **Direction consine** | **Dot product** | <img width=300>**Expression**</img> | <img width=200>**Other relationships**</img> |\n",
    "| --- | --- | --- | --- |\n",
    "| $\\delta_{rr}^{ij}$ | $\\left( \\hat{\\mathbf{r}}_{i} \\cdot \\hat{\\mathbf{r}}_{j} \\right)$ | $\\cos\\theta_{i} \\cos\\theta_{j} + \\sin\\theta_{i} \\sin\\theta_{j} \\cos\\left( \\phi_{i} - \\phi_{j} \\right)$ | $= \\cos\\psi_{ij} \\equiv \\mu_{ij}$ |\n",
    "| $\\delta_{r\\theta}^{ij}$ | $\\left( \\hat{\\mathbf{r}}_{i} \\cdot \\hat{\\pmb{\\theta}}_{j} \\right)$ | $-\\cos\\theta_{i} \\sin\\theta_{j} + \\sin\\theta_{i} \\cos\\theta_{j} \\cos\\left( \\phi_{i} - \\phi_{j} \\right)$ | $ = \\frac{\\partial \\mu_{ij}}{\\partial \\theta_{j}}$ |\n",
    "| $\\delta_{r\\phi}^{ij}$ | $\\left( \\hat{\\mathbf{r}}_{i} \\cdot \\hat{\\pmb{\\phi}}_{j} \\right)$ | $-\\sin\\theta_{i} \\sin\\left( \\phi_{i} - \\phi_{j} \\right)$ | $ = \\frac{1}{\\sin\\theta_{j}}\\frac{\\partial \\mu_{ij}}{\\partial \\phi_{j}}$ |\n",
    "| $\\delta_{\\theta r}^{ij}$ | $\\left( \\hat{\\pmb{\\theta}}_{i} \\cdot \\hat{\\mathbf{r}}_{j} \\right)$ | $-\\sin\\theta_{i} \\cos\\theta_{j} + \\cos\\theta_{i} \\sin\\theta_{j} \\cos\\left( \\phi_{i} - \\phi_{j}\\right)$ | $= \\frac{\\partial \\mu_{ij}}{\\partial \\theta_{i}}$ |\n",
    "| $\\delta_{\\theta \\theta}^{ij}$ | $\\left( \\hat{\\pmb{\\theta}}_{i} \\cdot \\hat{\\pmb{\\theta}}_{j} \\right)$ | $\\sin\\theta_{i} \\sin\\theta_{j} + \\cos\\theta_{i} \\cos\\theta_{j} \\cos\\left( \\phi_{i} - \\phi_{j} \\right)$ | $= \\frac{\\partial^{2} \\mu_{ij}}{\\partial \\theta_{j} \\partial \\theta_{i}}$ |\n",
    "| $\\delta_{\\theta \\phi}^{ij}$ | $\\left( \\hat{\\pmb{\\theta}}_{i} \\cdot \\hat{\\pmb{\\phi}}_{j} \\right)$ | $\\cos\\theta_{i} \\sin\\left( \\phi_{i} - \\phi_{j} \\right)$ | $= \\frac{1}{\\sin\\theta_{j}} \\frac{\\partial^{2} \\mu_{ij}}{\\partial \\theta_{i}\\partial \\phi_{j}} = -\\frac{1}{\\sin\\theta_{j}} \\frac{\\partial^{2} \\mu_{ij}}{\\partial \\theta_{j}\\partial \\phi_{i}}$ |\n",
    "| $\\delta_{\\phi r}^{ij}$ | $\\left( \\hat{\\pmb{\\phi}}_{i} \\cdot \\hat{\\mathbf{r}}_{j} \\right)$ | $-\\sin\\theta_{j} \\sin\\left( \\phi_{i} - \\phi_{j}\\right)$ | $= \\frac{1}{\\sin\\theta_{i}} \\frac{\\partial \\mu_{ij}}{\\partial\\phi_{i}}$ |\n",
    "| $\\delta_{\\phi \\theta}^{ij}$ | $\\left( \\hat{\\pmb{\\phi}}_{i} \\cdot \\hat{\\pmb{\\theta}}_{j} \\right)$ | $-\\cos\\theta_{j} \\sin\\left( \\phi_{i} - \\phi_{j}\\right)$ | $= \\frac{1}{\\sin\\theta_{i}} \\frac{\\partial^{2} \\mu_{ij}}{\\partial \\theta_{j}\\partial \\phi_{i}} = -\\frac{1}{\\sin\\theta_{i}} \\frac{\\partial^{2} \\mu_{ij}}{\\partial \\theta_{i}\\partial \\phi_{j}}$ |\n",
    "| $\\delta_{\\phi \\phi}^{ij}$ | $\\left( \\hat{\\pmb{\\phi}}_{i} \\cdot \\hat{\\pmb{\\phi}}_{j} \\right)$ | $\\cos\\left( \\phi_{i} - \\phi_{j}\\right)$ | $= \\frac{1}{\\sin\\theta_{i} \\sin\\theta_{j}} \\frac{\\partial^{2} \\mu_{ij}}{\\partial\\phi_{j} \\partial\\phi_{i}}$ |\n",
    "\n",
    "**Table 1:** Direction cosines between unit vectors $\\hat{\\mathbf{r}}_{\\alpha} \\equiv \\hat{\\mathbf{r}}\\left( r_{\\alpha}, \\theta_{\\alpha}, \\phi_{\\alpha}\\right)$, $\\hat{\\pmb{\\theta}}_{\\alpha} \\equiv \\hat{\\pmb{\\theta}}\\left( r_{\\alpha}, \\theta_{\\alpha}, \\phi_{\\alpha}\\right)$ and $\\hat{\\pmb{\\phi}}_{\\alpha} \\equiv \\hat{\\pmb{\\phi}}\\left( r_{\\alpha}, \\theta_{\\alpha}, \\phi_{\\alpha}\\right)$ ([equation 1](#unit-vectors)), $\\alpha = i, j$. Based on Langel and Hinze (1998, p. 116)."
   ]
  },
  {
   "cell_type": "markdown",
   "metadata": {},
   "source": [
    "<a id='deriv-unit-vector'></a>\n",
    "$$\n",
    "\\begin{split}\n",
    "\\frac{\\partial}{\\partial r_{\\alpha}} \\hat{\\mathbf{r}}_{\\alpha} = \n",
    "\\frac{\\partial}{\\partial r_{\\alpha}} \\hat{\\pmb{\\theta}}_{\\alpha} = \n",
    "\\frac{\\partial}{\\partial r_{\\alpha}} \\hat{\\pmb{\\phi}}_{\\alpha} = \\mathbf{0} \\\\\n",
    "\\frac{\\partial}{\\partial \\theta_{\\alpha}} \\hat{\\mathbf{r}}_{\\alpha} = \\hat{\\pmb{\\theta}}_{\\alpha} \\\\\n",
    "\\frac{\\partial}{\\partial \\phi_{\\alpha}} \\hat{\\mathbf{r}}_{\\alpha} = \\sin\\theta_{\\alpha} \\, \\hat{\\pmb{\\phi}}_{\\alpha} \\\\\n",
    "\\frac{\\partial}{\\partial \\theta_{\\alpha}} \\hat{\\pmb{\\theta}}_{\\alpha} = - \\hat{\\mathbf{r}}_{\\alpha} \\\\\n",
    "\\frac{\\partial}{\\partial \\phi_{\\alpha}} \\hat{\\pmb{\\theta}}_{\\alpha} = \\cos\\theta_{\\alpha} \\, \\hat{\\pmb{\\phi}}_{\\alpha} \\\\\n",
    "\\frac{\\partial}{\\partial \\theta_{\\alpha}} \\hat{\\pmb{\\phi}}_{\\alpha} = \\mathbf{0} \\\\\n",
    "\\frac{\\partial}{\\partial \\phi_{\\alpha}} \\hat{\\pmb{\\phi}}_{\\alpha} = \\begin{bmatrix}\n",
    "-\\cos\\phi_{\\alpha} \\\\\n",
    "-\\sin\\phi_{\\alpha} \\\\\n",
    "0\n",
    "\\end{bmatrix}\n",
    "\\end{split}\n",
    "\\tag{12}\n",
    "$$"
   ]
  },
  {
   "cell_type": "markdown",
   "metadata": {},
   "source": [
    "<a id='vector-a'></a>\n",
    "$$\n",
    "\\mathbf{a} = \\mathbf{R}_{\\alpha} \\begin{bmatrix}\n",
    "a_{1}^{\\alpha} \\\\\n",
    "a_{2}^{\\alpha} \\\\\n",
    "a_{3}^{\\alpha}\n",
    "\\end{bmatrix} \\tag{13}\n",
    "$$"
   ]
  },
  {
   "cell_type": "markdown",
   "metadata": {},
   "source": [
    "$\\mathbf{R}_{\\alpha} \\equiv \\mathbf{R}\\left( r_{\\alpha}, \\theta_{\\alpha}, \\phi_{\\alpha}\\right)$ ([equation 2](#R)), $\\alpha = i, j$"
   ]
  },
  {
   "cell_type": "markdown",
   "metadata": {},
   "source": [
    "<a id='change-basis'></a>\n",
    "$$\n",
    "\\begin{split}\n",
    "\\mathbf{a} \n",
    "&= \\mathbf{R}_{\\beta} \\left( \\, \\mathbf{R}_{\\beta}^{\\top} \\mathbf{R}_{\\alpha} \\begin{bmatrix}\n",
    "a_{1}^{\\alpha} \\\\\n",
    "a_{2}^{\\alpha} \\\\\n",
    "a_{3}^{\\alpha}\n",
    "\\end{bmatrix} \\, \\right) \\\\\n",
    "\\mathbf{a} &= \\mathbf{R}_{\\beta} \\, \\begin{bmatrix}\n",
    "a_{1}^{\\beta} \\\\\n",
    "a_{2}^{\\beta} \\\\\n",
    "a_{3}^{\\beta}\n",
    "\\end{bmatrix} \\\\\n",
    "\\begin{bmatrix}\n",
    "a_{1}^{\\beta} \\\\\n",
    "a_{2}^{\\beta} \\\\\n",
    "a_{3}^{\\beta}\n",
    "\\end{bmatrix} &= \\mathbf{R}_{\\beta}^{\\top} \\mathbf{R}_{\\alpha}\n",
    "\\begin{bmatrix}\n",
    "a_{1}^{\\alpha} \\\\\n",
    "a_{2}^{\\alpha} \\\\\n",
    "a_{3}^{\\alpha}\n",
    "\\end{bmatrix}\n",
    "\\end{split} \\quad , \\quad \\alpha = i, j \\: , \\quad \\beta = i, j \\tag{14}\n",
    "$$"
   ]
  },
  {
   "cell_type": "markdown",
   "metadata": {},
   "source": [
    "<a id='R_betaR_alpha'></a>\n",
    "$$\n",
    "\\begin{split}\n",
    "\\mathbf{R}_{\\beta}^{\\top} \\mathbf{R}_{\\alpha} \n",
    "&= \\begin{bmatrix}\n",
    "\\left( \\hat{\\mathbf{r}}_{\\beta} \\cdot \\hat{\\mathbf{r}}_{\\alpha} \\right) & \n",
    "\\left( \\hat{\\mathbf{r}}_{\\beta} \\cdot \\hat{\\pmb{\\theta}}_{\\alpha} \\right) & \n",
    "\\left( \\hat{\\mathbf{r}}_{\\beta} \\cdot \\hat{\\pmb{\\phi}}_{\\alpha} \\right) \\\\\n",
    "\\left( \\hat{\\pmb{\\theta}}_{\\beta} \\cdot \\hat{\\mathbf{r}}_{\\alpha} \\right) & \n",
    "\\left( \\hat{\\pmb{\\theta}}_{\\beta} \\cdot \\hat{\\pmb{\\theta}}_{\\alpha} \\right) & \n",
    "\\left( \\hat{\\pmb{\\theta}}_{\\beta} \\cdot \\hat{\\pmb{\\phi}}_{\\alpha} \\right) \\\\\n",
    "\\left( \\hat{\\pmb{\\phi}}_{\\beta} \\cdot \\hat{\\mathbf{r}}_{\\alpha} \\right) & \n",
    "\\left( \\hat{\\pmb{\\phi}}_{\\beta} \\cdot \\hat{\\pmb{\\theta}}_{\\alpha} \\right) & \n",
    "\\left( \\hat{\\pmb{\\phi}}_{\\beta} \\cdot \\hat{\\pmb{\\phi}}_{\\alpha} \\right)\n",
    "\\end{bmatrix} \\\\\n",
    "&= \\begin{bmatrix}\n",
    "\\delta^{\\beta\\alpha}_{rr} & \\delta^{\\beta\\alpha}_{r\\theta} & \\delta^{\\beta\\alpha}_{r\\phi} \\\\\n",
    "\\delta^{\\beta\\alpha}_{\\theta r} & \\delta^{\\beta\\alpha}_{\\theta \\theta} & \\delta^{\\beta\\alpha}_{\\theta\\phi} \\\\\n",
    "\\delta^{\\beta\\alpha}_{\\phi r} & \\delta^{\\beta\\alpha}_{\\phi\\theta} & \\delta^{\\beta\\alpha}_{\\phi\\phi}\n",
    "\\end{bmatrix}\n",
    "\\end{split} \\tag{15}\n",
    "$$"
   ]
  },
  {
   "cell_type": "markdown",
   "metadata": {},
   "source": [
    "where elements are defined by [Table 1](#table-51LH98)"
   ]
  },
  {
   "cell_type": "markdown",
   "metadata": {},
   "source": [
    "<a id='adotb-c'></a>\n",
    "$$\n",
    "\\left( \\mathbf{a} \\cdot \\mathbf{b} \\right) \\mathbf{c} =  \n",
    "\\left( \\mathbf{c} \\cdot \\mathbf{a}^{\\top} \\right) \\mathbf{b} =\n",
    "\\left( \\mathbf{c} \\cdot \\mathbf{b}^{\\top} \\right) \\mathbf{a}\n",
    "\\tag{16}\n",
    "$$"
   ]
  },
  {
   "cell_type": "markdown",
   "metadata": {},
   "source": [
    "<a id='Ab-cT'></a>\n",
    "$$\n",
    "\\left( \\mathbf{A} \\, \\mathbf{b} \\right) \\cdot \\mathbf{c}^{\\top} = \n",
    "\\mathbf{A} \\left( \\mathbf{b} \\cdot \\mathbf{c}^{\\top} \\right)\n",
    "\\tag{17}\n",
    "$$"
   ]
  },
  {
   "cell_type": "markdown",
   "metadata": {},
   "source": [
    "<a id='Ab-AbT'></a>\n",
    "$$\n",
    "\\left( \\mathbf{A} \\, \\mathbf{b} \\right) \\cdot \\left( \\mathbf{A} \\, \\mathbf{b} \\right)^{\\top} =\n",
    "\\mathbf{A} \\left( \\mathbf{b} \\cdot \\mathbf{b}^{\\top} \\right) \\mathbf{A}^{\\top}\n",
    "\\tag{18}\n",
    "$$"
   ]
  },
  {
   "cell_type": "markdown",
   "metadata": {},
   "source": [
    "<a id=''></a>\n",
    "$$\n",
    "\\left( \\mathbf{a} \\cdot \\mathbf{b}^{\\top} \\right)^{\\top} = \\mathbf{b} \\cdot \\mathbf{a}^{\\top}\n",
    "\\tag{19}\n",
    "$$"
   ]
  },
  {
   "cell_type": "markdown",
   "metadata": {},
   "source": [
    "## Inverse distance function"
   ]
  },
  {
   "cell_type": "markdown",
   "metadata": {},
   "source": [
    "<a id='inv-rij'></a>\n",
    "$$\n",
    "\\frac{1}{r_{ij}} = \\frac{1}{\\sqrt{\\left(r_{j}\\right)^2 + \\left(r_{j}\\right)^2 - 2 \\, r_{i} r_{j} \\mu_{ij}}}\n",
    "\\tag{20}\n",
    "$$"
   ]
  },
  {
   "cell_type": "markdown",
   "metadata": {},
   "source": [
    "By using equations [11](#deriv_alpha), [20](#inv-rij) and [Table 1](#table-51LH98)"
   ]
  },
  {
   "cell_type": "markdown",
   "metadata": {},
   "source": [
    "<a id='deriv_i-inv-rij'></a>\n",
    "$$\n",
    "\\begin{split}\n",
    "\\pmb{\\partial}_{i} \\frac{1}{r_{ij}} \n",
    "&= - \\frac{1}{\\left( r_{ij} \\right)^{3}} \\begin{bmatrix}\n",
    "r_{i} - r_{j} \\, \\mu_{ij} \\\\\n",
    "- r_{i} \\, r_{j} \\, \\delta_{\\theta r}^{ij} \\\\\n",
    "- r_{i} \\, r_{j} \\,  \\sin\\theta_{i} \\,  \\delta_{\\phi r}^{ij}\n",
    "\\end{bmatrix} \\\\\n",
    "&= - \\frac{1}{\\left( r_{ij} \\right)^{3}} \\, \\mathbf{H}_{i} \\, \\mathbf{R}_{i}^{\\top} \\mathbf{r}_{ij}\n",
    "\\end{split}\n",
    "\\tag{21}\n",
    "$$"
   ]
  },
  {
   "cell_type": "markdown",
   "metadata": {},
   "source": [
    "<a id='deriv_j-inv-rij'></a>\n",
    "$$\n",
    "\\begin{split}\n",
    "\\pmb{\\partial}_{j} \\frac{1}{r_{ij}} \n",
    "&= - \\frac{1}{\\left( r_{ij} \\right)^{3}} \\begin{bmatrix}\n",
    "r_{j} - r_{i} \\, \\mu_{ij} \\\\\n",
    "- r_{i} \\, r_{j} \\, \\delta_{r\\theta}^{ij} \\\\\n",
    "- r_{i} \\, r_{j} \\, \\sin\\theta_{j} \\, \\delta_{r\\phi}^{ij} \n",
    "\\end{bmatrix} \\\\\n",
    "&= \\frac{1}{\\left( r_{ij} \\right)^{3}} \\, \\mathbf{H}_{j} \\, \\mathbf{R}_{j}^{\\top} \\mathbf{r}_{ij}\n",
    "\\end{split}\n",
    "\\tag{22}\n",
    "$$"
   ]
  },
  {
   "cell_type": "markdown",
   "metadata": {},
   "source": [
    "By using equations [9](#grad_alpha), [10](#H_alpha), [11](#deriv_alpha), [21](#deriv_i-inv-rij) and [22](#deriv_j-inv-rij)"
   ]
  },
  {
   "cell_type": "markdown",
   "metadata": {},
   "source": [
    "<a id='grad-inv-rij'></a>\n",
    "$$\n",
    "\\begin{split}\n",
    "\\nabla_{i} \\frac{1}{r_{ij}} &= - &\\frac{1}{\\left( r_{ij} \\right)^{3}} \\mathbf{r}_{ij} \\\\\n",
    "\\nabla_{j} \\frac{1}{r_{ij}} &= &\\frac{1}{\\left( r_{ij} \\right)^{3}} \\mathbf{r}_{ij} \\\\\n",
    "& \\therefore  & \\\\\n",
    "\\nabla_{i} \\frac{1}{r_{ij}} &= - &\\nabla_{j} \\frac{1}{r_{ij}}\n",
    "\\end{split}\n",
    "\\tag{23}\n",
    "$$"
   ]
  },
  {
   "cell_type": "markdown",
   "metadata": {},
   "source": [
    "## Magnetic scalar potential"
   ]
  },
  {
   "cell_type": "markdown",
   "metadata": {},
   "source": [
    "<a id='mj'></a>\n",
    "$$\n",
    "\\mathbf{m}_{j} = \\mathbf{R}_{j} \\, \\begin{bmatrix}\n",
    "m_{r}^{j} \\\\\n",
    "m_{\\theta}^{j} \\\\\n",
    "m_{\\phi}^{j}\n",
    "\\end{bmatrix}\n",
    "\\tag{24}\n",
    "$$"
   ]
  },
  {
   "cell_type": "markdown",
   "metadata": {},
   "source": [
    "By using [equation 23](#grad-inv-rij)"
   ]
  },
  {
   "cell_type": "markdown",
   "metadata": {},
   "source": [
    "<a id='magnetic-scalar-potential'></a>\n",
    "$$\n",
    "\\begin{split}\n",
    "\\Psi_{j} \\left( \\mathbf{r}_{i} \\right) &= - &\\left( \\frac{\\mu_{0}}{4 \\pi} \\right) \\mathbf{m}_{j} \\cdot \n",
    "\\nabla_{i} \\frac{1}{r_{ij}} \\\\\n",
    "&= &\\left( \\frac{\\mu_{0}}{4 \\pi} \\right) \\mathbf{m}_{j} \\cdot \n",
    "\\nabla_{j} \\frac{1}{r_{ij}} \\\\\n",
    "&= &\\left( \\frac{\\mu_{0}}{4 \\pi} \\right) \\frac{1}{\\left( r_{ij} \\right)^{3}} \\, \\mathbf{m}_{j} \\cdot \n",
    "\\mathbf{r}_{ij}\n",
    "\\end{split}\n",
    "\\tag{25}\n",
    "$$"
   ]
  },
  {
   "cell_type": "markdown",
   "metadata": {},
   "source": [
    "By using equations [5](#rij) and [24](#mj) and [Table 1](#table-51LH98)"
   ]
  },
  {
   "cell_type": "markdown",
   "metadata": {},
   "source": [
    "<a id='mirij'></a>\n",
    "$$\n",
    "\\mathbf{m}_{j} \\cdot \\mathbf{r}_{ij} \n",
    "= m_{r}^{j} \\left( r_{i} \\, \\mu_{ij} - r_{j} \\right) +\n",
    "m_{\\theta}^{j} \\, r_{i} \\,  \\delta_{r\\theta}^{ij} +\n",
    "m_{\\phi}^{j} \\, r_{i} \\, \\delta_{r\\phi}^{ij}\n",
    "\\tag{26}\n",
    "$$"
   ]
  },
  {
   "cell_type": "markdown",
   "metadata": {},
   "source": [
    "## Magnetic induction field "
   ]
  },
  {
   "cell_type": "markdown",
   "metadata": {},
   "source": [
    "By using [equation 25](#magnetic-scalar-potential)"
   ]
  },
  {
   "cell_type": "markdown",
   "metadata": {},
   "source": [
    "<a id='magnetic-induction-field-1'></a>\n",
    "$$\n",
    "\\begin{split}\n",
    "\\mathbf{A}_{j} \\left( \\mathbf{r}_{i} \\right) \n",
    "&= - \\nabla_{i} \\Psi_{j} \\left( \\mathbf{r}_{i} \\right) \\\\\n",
    "&= - \\kappa \\left[ \\frac{1}{\\left( r_{ij} \\right)^{3}} \\nabla_{i} \\left( \\mathbf{m}_{j} \\cdot \\mathbf{r}_{ij} \\right) + \n",
    "\\left( \\mathbf{m}_{j} \\cdot \\mathbf{r}_{ij} \\right) \\nabla_{i} \\frac{1}{\\left( r_{ij} \\right)^{3}} \\right]\n",
    "\\end{split}\n",
    "\\tag{27}\n",
    "$$"
   ]
  },
  {
   "cell_type": "markdown",
   "metadata": {},
   "source": [
    "<a id='kappa'></a>\n",
    "$$\n",
    "\\kappa = \\left( \\frac{\\mu_{0}}{4 \\pi} \\right) 10^{9} = 100\n",
    "$$"
   ]
  },
  {
   "cell_type": "markdown",
   "metadata": {},
   "source": [
    "By using [equation 26](#mjrij) and [Table 1](#table-51LH98)"
   ]
  },
  {
   "cell_type": "markdown",
   "metadata": {},
   "source": [
    "<a id='grad_i-mjrij'></a>\n",
    "$$\n",
    "\\begin{split}\n",
    "\\nabla_{i} \\left( \\mathbf{m}_{j} \\cdot \\mathbf{r}_{ij} \\right)\n",
    "&= \\mathbf{R}_{i} \\, \\mathbf{H}_{i}^{-1} \\, \\pmb{\\partial}_{i} \\left( \\mathbf{m}_{j} \\cdot \\mathbf{r}_{ij} \\right) \\\\\n",
    "&= \\mathbf{R}_{i} \\, \\mathbf{H}_{i}^{-1} \\, \n",
    "\\begin{bmatrix}\n",
    "m_{r}^{j} \\mu_{ij} + m_{\\theta}^{j} \\delta_{r\\theta}^{ij} + m_{\\phi}^{j} \\delta_{r\\phi}^{ij} \\\\\n",
    "m_{r}^{j} \\, r_{i} \\, \\delta_{\\theta r}^{ij} + m_{\\theta}^{j} \\, r_{i} \\, \\delta_{\\theta\\theta}^{ij} + \n",
    "m_{\\phi}^{j} \\, r_{i} \\, \\delta_{\\theta\\phi}^{ij} \\\\\n",
    "m_{r}^{j} \\, r_{i} \\, \\sin\\theta_{i} \\, \\delta_{\\phi r}^{ij} + m_{\\theta}^{j} \\, r_{i} \\, \\sin\\theta_{i} \\, \\delta_{\\phi\\theta}^{ij} + m_{\\phi}^{j} \\, r_{i} \\, \\sin\\theta_{i} \\, \\delta_{\\phi\\phi}^{ij}\n",
    "\\end{bmatrix} \\\\\n",
    "&= \\mathbf{R}_{i} \\, \n",
    "\\begin{bmatrix}\n",
    "m_{r}^{j} \\mu_{ij} + m_{\\theta}^{j} \\delta_{r\\theta}^{ij} + m_{\\phi}^{j} \\delta_{r\\phi}^{ij} \\\\\n",
    "m_{r}^{j} \\, \\delta_{\\theta r}^{ij} + m_{\\theta}^{j} \\, \\delta_{\\theta\\theta}^{ij} + \n",
    "m_{\\phi}^{j} \\, \\delta_{\\theta\\phi}^{ij} \\\\\n",
    "m_{r}^{j} \\, \\delta_{\\phi r}^{ij} + m_{\\theta}^{j} \\, \\delta_{\\phi\\theta}^{ij} + m_{\\phi}^{j} \\, \\delta_{\\phi\\phi}^{ij}\n",
    "\\end{bmatrix} \\\\\n",
    "&= \\mathbf{R}_{i} \\, \\mathbf{R}_{i}^{\\top} \\mathbf{R}_{j} \n",
    "\\begin{bmatrix}\n",
    "m_{r}^{j} \\\\\n",
    "m_{\\theta}^{j} \\\\\n",
    "m_{\\phi}^{j}\n",
    "\\end{bmatrix} = \\mathbf{m}_{j}\n",
    "\\end{split}\n",
    "\\tag{28}\n",
    "$$"
   ]
  },
  {
   "cell_type": "markdown",
   "metadata": {},
   "source": [
    "<a id='grad_i-1/rij3'></a>\n",
    "$$\n",
    "\\begin{split}\n",
    "\\nabla_{i} \\frac{1}{\\left( r_{ij} \\right)^{3}}\n",
    "&= \\mathbf{R}_{i} \\, \\mathbf{H}_{i}^{-1} \\, \\pmb{\\partial}_{i} \\frac{1}{\\left( r_{ij} \\right)^{3}} \\\\\n",
    "&= \\mathbf{R}_{i} \\, \\mathbf{H}_{i}^{-1} \\, \\frac{3}{\\left( r_{ij} \\right)^{2}} \\, \\pmb{\\partial}_{i} \\frac{1}{r_{ij}} \\\\\n",
    "&= \\frac{-3}{\\left( r_{ij} \\right)^{5}} \\, \\mathbf{r}_{ij} \\\\\n",
    "\\end{split}\n",
    "\\tag{28}\n",
    "$$"
   ]
  },
  {
   "cell_type": "markdown",
   "metadata": {},
   "source": [
    "Substituting equations [28](#grad_i-mjrij) and [29](#grad_i-1/rij3) into [equation 27](#magnetic-induction-field-1)"
   ]
  },
  {
   "cell_type": "markdown",
   "metadata": {},
   "source": [
    "<a id='magnetic-induction-field-2'></a>\n",
    "$$\n",
    "\\mathbf{A}_{j} \\left( \\mathbf{r}_{i} \\right) \n",
    "= \\kappa \\frac{1}{\\left( r_{ij} \\right)^{3}} \\left[  \\frac{3 \\, \\left( \\mathbf{m}_{j} \\cdot \\mathbf{r}_{ij} \\right) \\, \\mathbf{r}_{ij}}{\\left( r_{ij} \\right)^{2}} - \n",
    "\\mathbf{m}_{j} \\right]\n",
    "\\tag{29}\n",
    "$$"
   ]
  },
  {
   "cell_type": "markdown",
   "metadata": {},
   "source": [
    "By using the definitions of $\\mathbf{r}_{ij}$ ([equation 5](#rij)) and $\\mathbf{m}_{j}$ ([equation 24](#mj)), as well as the identity defined by [equation 16](#adotb-c) and [Table 1](#table-51LH98), we can rewrite the term within brackets in different ways."
   ]
  },
  {
   "cell_type": "markdown",
   "metadata": {},
   "source": [
    "### Langel and Hinze (1998), Dyment and Arkani-Hamed (1998)"
   ]
  },
  {
   "cell_type": "markdown",
   "metadata": {},
   "source": [
    "<a id='matrix-H-dipole'></a>\n",
    "$$\n",
    "\\begin{split}\n",
    "\\frac{3 \\, \\left( \\mathbf{r}_{ij} \\cdot \\mathbf{r}_{ij}^{\\top} \\right) \\mathbf{m}_{j}}{\\left( r_{ij} \\right)^{2}} - \n",
    "\\mathbf{m}_{j}\n",
    "&= \n",
    "\\frac{ 3 \\, \\left[ \n",
    "\\mathbf{R}_{i} \\left( r_{i} \\, \\hat{\\mathbf{u}}_{1} - r_{j} \\, \\mathbf{R}_{i}^{\\top} \\hat{\\mathbf{r}}_{j} \\right) \\cdot\n",
    "\\left( r_{i} \\, \\mathbf{R}_{j}^{\\top} \\hat{\\mathbf{r}}_{i} - r_{j} \\, \\hat{\\mathbf{u}}_{1} \\right)^{\\top} \n",
    "\\, \\mathbf{R}_{j}^{\\top} \n",
    "\\right] \\mathbf{m}_{j}}{\\left( r_{ij} \\right)^{2}} - \n",
    "\\mathbf{R}_{i} \\mathbf{R}_{i}^{\\top} \\mathbf{m}_{j} \\\\\n",
    "&= \n",
    "\\mathbf{R}_{i} \\left\\{\n",
    "\\frac{3}{\\left( r_{ij} \\right)^{2}} \\, \\left[ \n",
    "\\left( r_{i} \\, \\hat{\\mathbf{u}}_{1} - r_{j} \\, \\mathbf{R}_{i}^{\\top} \\hat{\\mathbf{r}}_{j} \\right) \\cdot\n",
    "\\left( r_{i} \\, \\mathbf{R}_{j}^{\\top} \\hat{\\mathbf{r}}_{i} - r_{j} \\, \\hat{\\mathbf{u}}_{1} \\right)^{\\top} \n",
    "\\, \\mathbf{R}_{j}^{\\top} \n",
    "\\right] \\mathbf{R}_{j}\n",
    "\\begin{bmatrix}\n",
    "m_{r}^{j} \\\\\n",
    "m_{\\theta}^{j} \\\\\n",
    "m_{\\phi}^{j}\n",
    "\\end{bmatrix} - \n",
    "\\mathbf{R}_{i}^{\\top} \\mathbf{R}_{j}\n",
    "\\begin{bmatrix}\n",
    "m_{r}^{j} \\\\\n",
    "m_{\\theta}^{j} \\\\\n",
    "m_{\\phi}^{j}\n",
    "\\end{bmatrix} \\, \\right\\} \\\\\n",
    "&= \n",
    "\\mathbf{R}_{i} \n",
    "\\mathbf{H}_{j} \\left( \\mathbf{r}_{i} \\right)\n",
    "\\begin{bmatrix}\n",
    "m_{r}^{j} \\\\\n",
    "m_{\\theta}^{j} \\\\\n",
    "m_{\\phi}^{j}\n",
    "\\end{bmatrix} \n",
    "\\end{split}\n",
    "\\tag{30}\n",
    "$$"
   ]
  },
  {
   "cell_type": "markdown",
   "metadata": {},
   "source": [
    "<a id=''></a>\n",
    "$$\n",
    "\\mathbf{H}_{j} \\left( \\mathbf{r}_{i} \\right) =\n",
    "\\frac{3}{\\left( r_{ij} \\right)^{2}} \\,\n",
    "\\begin{bmatrix}\n",
    "\\left( r_{i} - r_{j} \\, \\mu_{ij} \\right) \\left( r_{i} \\, \\mu_{ij} - r_{j} \\right) & \n",
    "\\left( r_{i} - r_{j} \\, \\mu_{ij} \\right) \\left( r_{i} \\, \\delta_{r\\theta}^{ij} \\right) & \n",
    "\\left( r_{i} - r_{j} \\, \\mu_{ij} \\right) \\left( r_{i} \\, \\delta_{r\\phi}^{ij} \\right) \\\\\n",
    "\\left( -r_{j} \\, \\delta_{\\theta r}^{ij} \\right) \\left( r_{i} \\, \\mu_{ij} - r_{j} \\right) & \n",
    "\\left( -r_{j} \\, \\delta_{\\theta r}^{ij} \\right) \\left( r_{i} \\, \\delta_{r\\theta}^{ij} \\right) & \n",
    "\\left( -r_{j} \\, \\delta_{\\theta r}^{ij} \\right) \\left( r_{i} \\, \\delta_{r\\phi}^{ij} \\right) \\\\\n",
    "\\left( -r_{j} \\, \\delta_{\\phi r}^{ij} \\right) \\left( r_{i} \\, \\mu_{ij} - r_{j} \\right) & \n",
    "\\left( -r_{j} \\, \\delta_{\\phi r}^{ij} \\right) \\left( r_{i} \\, \\delta_{r\\theta}^{ij} \\right) & \n",
    "\\left( -r_{j} \\, \\delta_{\\phi r}^{ij} \\right) \\left( r_{i} \\, \\delta_{r\\phi}^{ij} \\right)\n",
    "\\end{bmatrix}\n",
    "- \\begin{bmatrix}\n",
    "\\mu_{ij} & \\delta_{r\\theta}^{ij} & \\delta_{r\\phi}^{ij} \\\\\n",
    "\\delta_{\\theta r}^{ij} & \\delta_{\\theta\\theta}^{ij} & \\delta_{\\theta\\phi}^{ij} \\\\\n",
    "\\delta_{\\phi r}^{ij} & \\delta_{\\phi\\theta}^{ij} & \\delta_{\\phi\\phi}^{ij}\n",
    "\\end{bmatrix}\n",
    "\\tag{31}\n",
    "$$"
   ]
  },
  {
   "cell_type": "markdown",
   "metadata": {},
   "source": [
    "<a id='magnetic-induction-field-3'></a>\n",
    "$$\n",
    "\\mathbf{A}_{j} \\left( \\mathbf{r}_{i} \\right) \n",
    "= \\mathbf{R}_{i} \\left\\{\n",
    "\\kappa \\frac{1}{\\left( r_{ij} \\right)^{3}} \n",
    "\\mathbf{H}_{j} \\left( \\mathbf{r}_{i} \\right)\n",
    "\\begin{bmatrix}\n",
    "m_{r}^{j} \\\\\n",
    "m_{\\theta}^{j} \\\\\n",
    "m_{\\phi}^{j}\n",
    "\\end{bmatrix} \\, \\right\\}\n",
    "\\tag{32}\n",
    "$$"
   ]
  },
  {
   "cell_type": "markdown",
   "metadata": {},
   "source": [
    "### Uieda and Barbosa (2016)"
   ]
  },
  {
   "cell_type": "markdown",
   "metadata": {},
   "source": [
    "<a id='matrix-H-dipole'></a>\n",
    "$$\n",
    "\\begin{split}\n",
    "\\frac{3 \\, \\left( \\mathbf{r}_{ij} \\cdot \\mathbf{r}_{ij}^{\\top} \\right) \\mathbf{m}_{j}}{\\left( r_{ij} \\right)^{2}} - \n",
    "\\mathbf{m}_{j}\n",
    "&= \n",
    "\\frac{ 3 \\, \\left[ \n",
    "\\mathbf{R}_{i} \\left( r_{i} \\, \\hat{\\mathbf{u}}_{1} - r_{j} \\, \\mathbf{R}_{i}^{\\top} \\hat{\\mathbf{r}}_{j} \\right) \\cdot\n",
    "\\left( r_{i} \\, \\hat{\\mathbf{u}}_{1} - r_{j} \\, \\mathbf{R}_{i}^{\\top} \\hat{\\mathbf{r}}_{j} \\right)^{\\top}  \n",
    "\\right] \n",
    "\\mathbf{R}_{i}^{\\top} \\mathbf{m}_{j}}{\\left( r_{ij} \\right)^{2}} - \n",
    "\\mathbf{R}_{i} \\mathbf{R}_{i}^{\\top} \\mathbf{m}_{j} \\\\\n",
    "&= \n",
    "\\mathbf{R}_{i} \\left\\{\n",
    "\\frac{3}{\\left( r_{ij} \\right)^{2}} \\, \\left[ \n",
    "\\left( r_{i} \\, \\hat{\\mathbf{u}}_{1} - r_{j} \\, \\mathbf{R}_{i}^{\\top} \\hat{\\mathbf{r}}_{j} \\right) \\cdot\n",
    "\\left( r_{i} \\, \\hat{\\mathbf{u}}_{1} - r_{j} \\, \\mathbf{R}_{i}^{\\top} \\hat{\\mathbf{r}}_{j} \\right)^{\\top} \n",
    "\\right] \n",
    "\\mathbf{R}_{i}^{\\top} \\mathbf{m}_{j} - \n",
    "\\mathbf{R}_{i}^{\\top} \\mathbf{m}_{j} \\right\\} \\\\\n",
    "&= \n",
    "\\mathbf{R}_{i} \n",
    "\\mathbf{H}_{j} \\left( \\mathbf{r}_{i} \\right)\n",
    "\\mathbf{R}_{i}^{\\top} \\mathbf{m}_{j}\n",
    "\\end{split}\n",
    "\\tag{33}\n",
    "$$"
   ]
  },
  {
   "cell_type": "markdown",
   "metadata": {},
   "source": [
    "<a id=''></a>\n",
    "$$\n",
    "\\mathbf{H}_{j} \\left( \\mathbf{r}_{i} \\right) =\n",
    "\\frac{3}{\\left( r_{ij} \\right)^{2}} \\,\n",
    "\\begin{bmatrix}\n",
    "\\left( r_{i} - r_{j} \\, \\mu_{ij} \\right) \\left( r_{i} - r_{j} \\, \\mu_{ij} \\right) & \n",
    "\\left( r_{i} - r_{j} \\, \\mu_{ij} \\right) \\left( -r_{j} \\, \\delta_{\\theta r}^{ij} \\right) & \n",
    "\\left( r_{i} - r_{j} \\, \\mu_{ij} \\right) \\left( -r_{j} \\, \\delta_{\\phi r}^{ij} \\right) \\\\\n",
    "\\left( -r_{j} \\, \\delta_{\\theta r}^{ij} \\right) \\left( r_{i} - r_{j} \\, \\mu_{ij} \\right) & \n",
    "\\left( -r_{j} \\, \\delta_{\\theta r}^{ij} \\right) \\left( -r_{j} \\, \\delta_{\\theta r}^{ij} \\right) & \n",
    "\\left( -r_{j} \\, \\delta_{\\theta r}^{ij} \\right) \\left( -r_{j} \\, \\delta_{\\phi r}^{ij} \\right) \\\\\n",
    "\\left( -r_{j} \\, \\delta_{\\phi r}^{ij} \\right) \\left( r_{i} - r_{j} \\, \\mu_{ij} \\right) & \n",
    "\\left( -r_{j} \\, \\delta_{\\phi r}^{ij} \\right) \\left( -r_{j} \\, \\delta_{\\theta r}^{ij} \\right) & \n",
    "\\left( -r_{j} \\, \\delta_{\\phi r}^{ij} \\right) \\left( -r_{j} \\, \\delta_{\\phi r}^{ij} \\right)\n",
    "\\end{bmatrix}\n",
    "- \\begin{bmatrix}\n",
    "1 & 0 & 0 \\\\\n",
    "0 & 1 & 0 \\\\\n",
    "0 & 0 & 1\n",
    "\\end{bmatrix}\n",
    "\\tag{34}\n",
    "$$"
   ]
  },
  {
   "cell_type": "markdown",
   "metadata": {},
   "source": [
    "<a id='magnetic-field-Uieda-Barbosa2016'></a>\n",
    "$$\n",
    "\\mathbf{A}_{j} \\left( \\mathbf{r}_{i} \\right) \n",
    "= \\tilde{\\mathbf{R}}_{i} \\left\\{\n",
    "\\kappa \\frac{1}{\\left( r_{ij} \\right)^{3}} \n",
    "\\left( \\tilde{\\mathbf{R}}_{i}^{\\top} \\mathbf{R}_{i} \\right)\n",
    "\\mathbf{H}_{j} \\left( \\mathbf{r}_{i} \\right)\n",
    "\\left( \\mathbf{R}_{i}^{\\top} \\tilde{\\mathbf{R}}_{i} \\right) \\right\\} \n",
    "\\tilde{\\mathbf{R}}_{i}^{\\top} \\mathbf{m}_{j}\n",
    "\\tag{35}\n",
    "$$"
   ]
  },
  {
   "cell_type": "markdown",
   "metadata": {},
   "source": [
    "<a id='R_i-tilde'></a>\n",
    "$$\n",
    "\\tilde{\\mathbf{R}}_{i} = \\begin{bmatrix}\n",
    "-\\hat{\\pmb{\\theta}}_{i} & \\hat{\\pmb{\\phi}}_{i} & \\hat{\\mathbf{r}}_{i}\n",
    "\\end{bmatrix}\n",
    "\\tag{36}\n",
    "$$"
   ]
  },
  {
   "cell_type": "markdown",
   "metadata": {},
   "source": [
    "<a id='change-basis-matrix-Uieda-Barbosa2016'></a>\n",
    "$$\n",
    "\\tilde{\\mathbf{R}}_{i}^{\\top}\\mathbf{R}_{i} = \\begin{bmatrix}\n",
    "0 & -1 & 0 \\\\\n",
    "0 & 0 & 1 \\\\\n",
    "1 & 0 & 0\n",
    "\\end{bmatrix}\n",
    "\\tag{37}\n",
    "$$"
   ]
  },
  {
   "cell_type": "markdown",
   "metadata": {},
   "source": [
    "### Du et al. (2015)"
   ]
  },
  {
   "cell_type": "markdown",
   "metadata": {},
   "source": [
    "<a id='R_i-tilde'></a>\n",
    "$$\n",
    "\\tilde{\\mathbf{R}}_{i} = \\begin{bmatrix}\n",
    "-\\hat{\\pmb{\\theta}}_{i} & \\hat{\\pmb{\\phi}}_{i} & -\\hat{\\mathbf{r}}_{i}\n",
    "\\end{bmatrix}\n",
    "\\tag{38}\n",
    "$$"
   ]
  },
  {
   "cell_type": "markdown",
   "metadata": {},
   "source": [
    "<a id='change-basis-matrix-Du-etal2015'></a>\n",
    "$$\n",
    "\\tilde{\\mathbf{R}}_{i}^{\\top}\\mathbf{R}_{i} = \\begin{bmatrix}\n",
    "0 & -1 & 0 \\\\\n",
    "0 & 0 & 1 \\\\\n",
    "-1 & 0 & 0\n",
    "\\end{bmatrix}\n",
    "\\tag{39}\n",
    "$$"
   ]
  },
  {
   "cell_type": "markdown",
   "metadata": {},
   "source": [
    "<a id='magnetic-field-Du-etal2015'></a>\n",
    "$$\n",
    "\\mathbf{A}_{j} \\left( \\mathbf{r}_{i} \\right) \n",
    "= \\tilde{\\mathbf{R}}_{i} \\, \n",
    "\\frac{\\kappa}{G \\, \\rho_{j}} \\, \n",
    "\\begin{bmatrix}\n",
    "g^{xx}_{j}(\\mathbf{r}_{i}) & g^{xy}_{j}(\\mathbf{r}_{i}) & -g^{xz}_{j}(\\mathbf{r}_{i}) \\\\\n",
    "g^{xy}_{j}(\\mathbf{r}_{i}) & g^{yy}_{j}(\\mathbf{r}_{i}) & -g^{yz}_{j}(\\mathbf{r}_{i}) \\\\\n",
    "-g^{xz}_{j}(\\mathbf{r}_{i}) & -g^{yz}_{j}(\\mathbf{r}_{i}) & g^{zz}_{j}(\\mathbf{r}_{i})\n",
    "\\end{bmatrix}\n",
    "\\tilde{\\mathbf{R}}_{i}^{\\top} \\tilde{\\mathbf{m}}_{j}\n",
    "\\tag{40}\n",
    "$$"
   ]
  },
  {
   "cell_type": "markdown",
   "metadata": {},
   "source": [
    "<a id='mj-Du-etal2015'></a>\n",
    "$$\n",
    "\\begin{split}\n",
    "\\tilde{\\mathbf{m}}_{j} \n",
    "&= \\tilde{\\mathbf{m}}_{j}^{F} + \\tilde{\\mathbf{m}}_{j}^{R} \\\\\n",
    "&= \\chi_{j} \\, \\frac{F_{j}}{\\mu_{0}} \\, \\tilde{\\mathbf{R}}_{j} \\,\n",
    "\\begin{bmatrix}\n",
    "\\cos I_{j}^{F} \\, \\cos D_{j}^{F} \\\\\n",
    "\\cos I_{j}^{F} \\, \\sin D_{j}^{F} \\\\\n",
    "\\sin I_{j}^{F}\n",
    "\\end{bmatrix} +\n",
    "m_{j}^{R} \\, \\tilde{\\mathbf{R}}_{j} \\,\n",
    "\\begin{bmatrix}\n",
    "\\cos I_{j}^{R} \\, \\cos D_{j}^{R} \\\\\n",
    "\\cos I_{j}^{R} \\, \\sin D_{j}^{R} \\\\\n",
    "\\sin I_{j}^{R}\n",
    "\\end{bmatrix}\n",
    "\\end{split}\n",
    "\\tag{41}\n",
    "$$"
   ]
  },
  {
   "cell_type": "code",
   "execution_count": null,
   "metadata": {},
   "outputs": [],
   "source": []
  }
 ],
 "metadata": {
  "kernelspec": {
   "display_name": "Python 3 (ipykernel)",
   "language": "python",
   "name": "python3"
  },
  "language_info": {
   "codemirror_mode": {
    "name": "ipython",
    "version": 3
   },
   "file_extension": ".py",
   "mimetype": "text/x-python",
   "name": "python",
   "nbconvert_exporter": "python",
   "pygments_lexer": "ipython3",
   "version": "3.7.7"
  }
 },
 "nbformat": 4,
 "nbformat_minor": 2
}
