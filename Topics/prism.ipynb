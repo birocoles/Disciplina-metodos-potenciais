{
 "cells": [
  {
   "cell_type": "markdown",
   "metadata": {},
   "source": [
    "# Prototype prism"
   ]
  },
  {
   "cell_type": "markdown",
   "metadata": {},
   "source": [
    "This notebook presents a general approach for implementing the gravitational potential and the vertical component of the gravitational acceleration produced by a rectangular prism by using the analytical formulas of Nagy et al (2000, 2002). This prototype is highly inspired on [Harmonica](https://www.fatiando.org/harmonica/latest/index.html) (Uieda et al, 2020). It makes use of the modified arctangent function proposed by Fukushima (2020, eq. 72) and of a modified logarithm function for dealing with singularities at some computation points.\n",
    "\n",
    "* Nagy, D., Papp, G., and Benedek, J. (2000). The gravitational potential and its derivatives for the prism: Journal of Geodesy, 74, 552–560, http://doi.org/10.1007/s001900000116.\n",
    "* Nagy, D., Papp, G., and Benedek, J. (2002). Corrections to \"The gravitational potential and its derivatives for the prism\": Journal of Geodesy, 76, 475, http://doi.org/10.1007/s00190-002-0264-7\n",
    "* Fukushima, T. (2020). Speed and accuracy improvements in standard algorithm for prismatic gravitational field. Geophysical Journal International, 222(3), 1898–1908. http://doi.org/10.1093/gji/ggaa240 \n",
    "* Uieda, Leonardo, Soler, Santiago R., Pesce, Agustina, Oliveira Jr, Vanderlei C, and Shea, Nicholas. (2020, February 27). Harmonica: Forward modeling, inversion, and processing gravity and magnetic data (Version v0.1.0). Zenodo. http://doi.org/10.5281/zenodo.3628742"
   ]
  },
  {
   "cell_type": "code",
   "execution_count": 1,
   "metadata": {},
   "outputs": [],
   "source": [
    "import numpy as np\n",
    "from numba import njit\n",
    "import matplotlib.pyplot as plt"
   ]
  },
  {
   "cell_type": "code",
   "execution_count": 2,
   "metadata": {},
   "outputs": [],
   "source": [
    "import prism"
   ]
  },
  {
   "cell_type": "code",
   "execution_count": 3,
   "metadata": {},
   "outputs": [
    {
     "name": "stdout",
     "output_type": "stream",
     "text": [
      "(3, 900)\n"
     ]
    },
    {
     "data": {
      "text/plain": [
       "array([-7000.        , -6655.17241379, -6310.34482759, -5965.51724138,\n",
       "       -5620.68965517, -5275.86206897, -4931.03448276, -4586.20689655,\n",
       "       -4241.37931034, -3896.55172414, -3551.72413793, -3206.89655172,\n",
       "       -2862.06896552, -2517.24137931, -2172.4137931 , -1827.5862069 ,\n",
       "       -1482.75862069, -1137.93103448,  -793.10344828,  -448.27586207,\n",
       "        -103.44827586,   241.37931034,   586.20689655,   931.03448276,\n",
       "        1275.86206897,  1620.68965517,  1965.51724138,  2310.34482759,\n",
       "        2655.17241379,  3000.        ])"
      ]
     },
     "execution_count": 3,
     "metadata": {},
     "output_type": "execute_result"
    }
   ],
   "source": [
    "# Create a set of computation points\n",
    "shape = (30, 30)\n",
    "y = np.linspace(-5000, 5000, shape[0])\n",
    "x = np.linspace(-7000, 3000, shape[1])\n",
    "y, x = np.meshgrid(y, x)\n",
    "\n",
    "y = np.ravel(y)\n",
    "x = np.ravel(x)\n",
    "z = np.zeros_like(y) - 150\n",
    "\n",
    "coordinates = np.vstack([y, x, z])\n",
    "print(coordinates.shape)\n",
    "\n",
    "y[:shape[0]:]\n",
    "\n",
    "x[::shape[1]]"
   ]
  },
  {
   "cell_type": "code",
   "execution_count": 4,
   "metadata": {},
   "outputs": [],
   "source": [
    "# Create a model formed by prisms\n",
    "model = np.array([[-3000, -2500, -4000, -3000, 500, 1300],\n",
    "                  [ 1800,  2350,    10,  2500, 300, 1000]])\n",
    "\n",
    "density = np.array([1000, 1200])"
   ]
  },
  {
   "cell_type": "code",
   "execution_count": 5,
   "metadata": {},
   "outputs": [],
   "source": [
    "# Compute the gravitational potential\n",
    "U = prism.gravitational(coordinates=coordinates, \n",
    "                        prisms=model, \n",
    "                        density=density, \n",
    "                        field='potential')"
   ]
  },
  {
   "cell_type": "code",
   "execution_count": 6,
   "metadata": {},
   "outputs": [],
   "source": [
    "# Compute the vertical component of acceleration\n",
    "gz = prism.gravitational(coordinates=coordinates, \n",
    "                         prisms=model, \n",
    "                         density=density, \n",
    "                         field='g_z')"
   ]
  },
  {
   "cell_type": "code",
   "execution_count": 7,
   "metadata": {},
   "outputs": [],
   "source": [
    "# Compute the x-component of acceleration\n",
    "gx = prism.gravitational(coordinates=coordinates, \n",
    "                         prisms=model, \n",
    "                         density=density, \n",
    "                         field='g_x')"
   ]
  },
  {
   "cell_type": "code",
   "execution_count": 8,
   "metadata": {},
   "outputs": [
    {
     "data": {
      "image/png": "[encoded data removed]",
      "text/plain": [
       "<Figure size 1080x360 with 6 Axes>"
      ]
     },
     "metadata": {
      "needs_background": "light"
     },
     "output_type": "display_data"
    }
   ],
   "source": [
    "# Plot the results\n",
    "plt.figure(figsize=(15,5))\n",
    "\n",
    "plt.subplot(131)\n",
    "ranges = np.max(np.abs(U))\n",
    "plt.contourf(y[:shape[0]:]*0.001, x[::shape[1]]*0.001, U.reshape(shape), \n",
    "             cmap='seismic', vmin=-ranges, vmax=ranges)\n",
    "plt.colorbar()\n",
    "plt.ylabel('x (km)', fontsize=16)\n",
    "plt.xlabel('y (km)', fontsize=16)\n",
    "\n",
    "plt.subplot(132)\n",
    "ranges = np.max(np.abs(gz))\n",
    "plt.contourf(y[:shape[0]:]*0.001, x[::shape[1]]*0.001, gz.reshape(shape), \n",
    "             cmap='seismic', vmin=-ranges, vmax=ranges)\n",
    "plt.colorbar()\n",
    "plt.xlabel('y (km)', fontsize=16)\n",
    "\n",
    "plt.subplot(133)\n",
    "ranges = np.max(np.abs(gx))\n",
    "plt.contourf(y[:shape[0]:]*0.001, x[::shape[1]]*0.001, gx.reshape(shape), \n",
    "             cmap='seismic', vmin=-ranges, vmax=ranges)\n",
    "plt.colorbar()\n",
    "plt.xlabel('y (km)', fontsize=16)\n",
    "\n",
    "plt.tight_layout()\n",
    "\n",
    "plt.show()"
   ]
  },
  {
   "cell_type": "code",
   "execution_count": 9,
   "metadata": {},
   "outputs": [
    {
     "name": "stdout",
     "output_type": "stream",
     "text": [
      " 1 2 2 2\n",
      "-1 2 2 1\n",
      "-1 2 1 2\n",
      " 1 2 1 1\n",
      "-1 1 2 2\n",
      " 1 1 2 1\n",
      " 1 1 1 2\n",
      "-1 1 1 1\n"
     ]
    }
   ],
   "source": [
    "for i in range(2,0,-1):\n",
    "    for j in range(2,0,-1):\n",
    "        for k in range(2,0,-1):\n",
    "            print('{0:2d} {1:1d} {2:1d} {3:1d}'.format((-1) ** (i + j + k), i, j, k))"
   ]
  },
  {
   "cell_type": "code",
   "execution_count": 10,
   "metadata": {},
   "outputs": [
    {
     "name": "stdout",
     "output_type": "stream",
     "text": [
      " 1 2 2 2  2350  2500  1000\n",
      "-1 2 2 1  2350  2500   300\n",
      "-1 2 1 2  2350    10  1000\n",
      " 1 2 1 1  2350    10   300\n",
      "-1 1 2 2  1800  2500  1000\n",
      " 1 1 2 1  1800  2500   300\n",
      " 1 1 1 2  1800    10  1000\n",
      "-1 1 1 1  1800    10   300\n"
     ]
    }
   ],
   "source": [
    "for i in range(2,0,-1):\n",
    "    for j in range(2,0,-1):\n",
    "        for k in range(2,0,-1):\n",
    "            print('{0:2d} {1:1d} {2:1d} {3:1d} {4:5d} {5:5d} {6:5d}'.format((-1) ** (i + j + k), \n",
    "                                                                            i, j, k, \n",
    "                                                                            model[1, -1 + i], \n",
    "                                                                            model[1, 1 + j], \n",
    "                                                                            model[1, 3 + k]))"
   ]
  },
  {
   "cell_type": "code",
   "execution_count": 11,
   "metadata": {},
   "outputs": [
    {
     "data": {
      "text/plain": [
       "array([1800, 2350,   10, 2500,  300, 1000])"
      ]
     },
     "execution_count": 11,
     "metadata": {},
     "output_type": "execute_result"
    }
   ],
   "source": [
    "model[1]"
   ]
  },
  {
   "cell_type": "code",
   "execution_count": null,
   "metadata": {},
   "outputs": [],
   "source": []
  }
 ],
 "metadata": {
  "kernelspec": {
   "display_name": "Python 3",
   "language": "python",
   "name": "python3"
  },
  "language_info": {
   "codemirror_mode": {
    "name": "ipython",
    "version": 3
   },
   "file_extension": ".py",
   "mimetype": "text/x-python",
   "name": "python",
   "nbconvert_exporter": "python",
   "pygments_lexer": "ipython3",
   "version": "3.7.7"
  }
 },
 "nbformat": 4,
 "nbformat_minor": 4
}
