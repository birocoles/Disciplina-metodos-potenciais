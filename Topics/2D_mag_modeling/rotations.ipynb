{
 "cells": [
  {
   "cell_type": "markdown",
   "metadata": {},
   "source": [
    "# Rotations used to transform coordinates"
   ]
  },
  {
   "cell_type": "markdown",
   "metadata": {},
   "source": [
    "This code illustrates the rotations used to compute the coordinate transformations used in this project."
   ]
  },
  {
   "cell_type": "markdown",
   "metadata": {},
   "source": [
    "### Import the required stuff and set parameters"
   ]
  },
  {
   "cell_type": "markdown",
   "metadata": {},
   "source": [
    "##### For interactive plots"
   ]
  },
  {
   "cell_type": "markdown",
   "metadata": {},
   "source": [
    "Define a [matplotlib backend](https://matplotlib.org/faq/usage_faq.html#what-is-a-backend) for 3D iterative plots."
   ]
  },
  {
   "cell_type": "code",
   "execution_count": 2,
   "metadata": {},
   "outputs": [],
   "source": [
    "import matplotlib\n",
    "\n",
    "# show all the matplotlib backends\n",
    "matplotlib.rcsetup.all_backends\n",
    "\n",
    "# force matplotlib to use the 'Qt5Agg' backends\n",
    "matplotlib.use(backend='Qt5Agg', force=True)"
   ]
  },
  {
   "cell_type": "markdown",
   "metadata": {},
   "source": [
    "##### For inline plots"
   ]
  },
  {
   "cell_type": "raw",
   "metadata": {},
   "source": [
    "%matplotlib inline"
   ]
  },
  {
   "cell_type": "markdown",
   "metadata": {},
   "source": [
    "##### Import python stuff"
   ]
  },
  {
   "cell_type": "code",
   "execution_count": 3,
   "metadata": {},
   "outputs": [],
   "source": [
    "import matplotlib.pyplot as plt\n",
    "import numpy as np"
   ]
  },
  {
   "cell_type": "markdown",
   "metadata": {},
   "source": [
    "##### Import my functions"
   ]
  },
  {
   "cell_type": "code",
   "execution_count": 4,
   "metadata": {},
   "outputs": [],
   "source": [
    "import plot_functions as pfun\n",
    "import coordinates as coord"
   ]
  },
  {
   "cell_type": "markdown",
   "metadata": {},
   "source": [
    "### Define the Reference Cartesian System (RCS)"
   ]
  },
  {
   "cell_type": "markdown",
   "metadata": {},
   "source": [
    "Let's consider a RCS given by:"
   ]
  },
  {
   "cell_type": "code",
   "execution_count": null,
   "metadata": {},
   "outputs": [],
   "source": [
    "plt.close('all')\n",
    "fig = plt.figure(figsize=(8,10))\n",
    "ax = fig.gca(projection='3d')\n",
    "\n",
    "# use the parameter box to plot a gray box around the axes\n",
    "pfun.limits(ax, 0, 20, 0, 20, 0, 20, box=True)\n",
    "\n",
    "pfun.draw_axes(ax, R= np.identity(3), size=20, color='k', label=('x', 'y', 'z'))\n",
    "\n",
    "ax.view_init(-147, 26)\n",
    "\n",
    "plt.show()"
   ]
  },
  {
   "cell_type": "markdown",
   "metadata": {},
   "source": [
    "### Define the rotation matrices"
   ]
  },
  {
   "cell_type": "markdown",
   "metadata": {},
   "source": [
    "Given the RCS, we can define different Cartesian systems by using rotations. Rotations are defined by using $3 \\times 3$ [orthogonal matrices](http://mathworld.wolfram.com/OrthogonalMatrix.html), whose components are functions of [Euler angles](http://mathworld.wolfram.com/EulerAngles.html). There are three matrices and each one defines a rotation around a specific axis. The matrix defining a rotation around the $x$-axis is given by:"
   ]
  },
  {
   "cell_type": "markdown",
   "metadata": {},
   "source": [
    "<a id='eq1'></a>\n",
    "\n",
    "$$\n",
    "\\mathbf{R}_{1}(\\psi) = \\begin{bmatrix}\n",
    "1 & 0 & 0 \\\\\n",
    "0 & \\cos(\\psi) & \\sin(\\psi) \\\\\n",
    "0 & -\\sin(\\psi) & \\cos(\\psi)\n",
    "\\end{bmatrix} \\: . \\tag{1}\n",
    "$$"
   ]
  },
  {
   "cell_type": "markdown",
   "metadata": {},
   "source": [
    "Similarly, the matrices defining rotations around the axes $y$ and $z$ are, respectively, given by:"
   ]
  },
  {
   "cell_type": "markdown",
   "metadata": {},
   "source": [
    "<a id='eq2'></a>\n",
    "\n",
    "$$\n",
    "\\mathbf{R}_{2}(\\psi) = \\begin{bmatrix}\n",
    "\\cos(\\psi) & 0 & -\\sin(\\psi) \\\\\n",
    "0 & 1 & 0 \\\\\n",
    "\\sin(\\psi) & 0 & \\cos(\\psi)\n",
    "\\end{bmatrix} \\tag{2}\n",
    "$$"
   ]
  },
  {
   "cell_type": "markdown",
   "metadata": {},
   "source": [
    "and"
   ]
  },
  {
   "cell_type": "markdown",
   "metadata": {},
   "source": [
    "<a id='eq3'></a>\n",
    "\n",
    "$$\n",
    "\\mathbf{R}_{3}(\\psi) = \\begin{bmatrix}\n",
    "\\cos(\\psi) & \\sin(\\psi) & 0 \\\\\n",
    "-\\sin(\\psi) & \\cos(\\psi) & 0 \\\\\n",
    "0 & 0 & 1\n",
    "\\end{bmatrix} \\: . \\tag{3}\n",
    "$$"
   ]
  },
  {
   "cell_type": "markdown",
   "metadata": {},
   "source": [
    "We use these matrices to compute a vector $\\mathbf{v}^{\\prime}$ by rotating a given vector $\\mathbf{v}$ defined in the RCS as follows:"
   ]
  },
  {
   "cell_type": "markdown",
   "metadata": {},
   "source": [
    "<a id='eq4'></a>\n",
    "\n",
    "$$\n",
    "\\mathbf{v}^{\\prime} = \\mathbf{R} \\, \\mathbf{v} \\: , \\tag{4}\n",
    "$$"
   ]
  },
  {
   "cell_type": "markdown",
   "metadata": {},
   "source": [
    "where $\\mathbf{R}$ is defined as a product involving the matrices $\\mathbf{R}_{1}(\\psi)$, $\\mathbf{R}_{2}(\\psi)$ and $\\mathbf{R}_{3}(\\psi)$. All these matrices are equal to the identity if their angles are equal to zero."
   ]
  },
  {
   "cell_type": "markdown",
   "metadata": {},
   "source": [
    "For example, let's consider the vector $\\mathbf{v}$ given by:"
   ]
  },
  {
   "cell_type": "code",
   "execution_count": null,
   "metadata": {},
   "outputs": [],
   "source": [
    "v = np.array([10, 0, 10])\n",
    "v_norm = np.sqrt(np.sum(v*v))"
   ]
  },
  {
   "cell_type": "markdown",
   "metadata": {},
   "source": [
    "Then we define a new vector $\\mathbf{v}^{\\prime}$ by using the following rotation matrix $\\mathbf{R}$:"
   ]
  },
  {
   "cell_type": "code",
   "execution_count": null,
   "metadata": {},
   "outputs": [],
   "source": [
    "R = np.dot(coord.R1(15), coord.R2(45))"
   ]
  },
  {
   "cell_type": "code",
   "execution_count": null,
   "metadata": {},
   "outputs": [],
   "source": [
    "v_prime = np.dot(R, v)\n",
    "v_prime_norm = np.sqrt(np.sum(v_prime*v_prime))"
   ]
  },
  {
   "cell_type": "markdown",
   "metadata": {},
   "source": [
    "Notice that both vectors $\\mathbf{v}$ and $\\mathbf{v}^{\\prime}$ have the same norm. "
   ]
  },
  {
   "cell_type": "code",
   "execution_count": null,
   "metadata": {},
   "outputs": [],
   "source": [
    "print('v  norm: %.3f' % (v_norm))\n",
    "print(\"v' norm: %.3f\" % (v_prime_norm))"
   ]
  },
  {
   "cell_type": "code",
   "execution_count": null,
   "metadata": {},
   "outputs": [],
   "source": [
    "plt.close('all')\n",
    "fig = plt.figure(figsize=(8,10))\n",
    "ax = fig.gca(projection='3d')\n",
    "\n",
    "# use the parameter box to plot a gray box around the axes\n",
    "pfun.limits(ax, 0, 15, 0, 15, 0, 15, box=True)\n",
    "\n",
    "pfun.draw_axes(ax, R=np.identity(3), size=10, color='k', label=('x', 'y', 'z'))\n",
    "\n",
    "pfun.draw_vector(ax, components=v, color='r', label='v')\n",
    "pfun.draw_vector(ax, components=v_prime, color='b', label=\"v'\")\n",
    "\n",
    "ax.view_init(-147, 26)\n",
    "\n",
    "plt.show()"
   ]
  },
  {
   "cell_type": "markdown",
   "metadata": {},
   "source": [
    "### Some properties of rotation matrices"
   ]
  },
  {
   "cell_type": "markdown",
   "metadata": {},
   "source": [
    "Besides being [orthogonal](http://mathworld.wolfram.com/OrthogonalMatrix.html), the rotation matrices $\\mathbf{R}_{1}(\\psi)$ ([equation 1](#eq1)), $\\mathbf{R}_{2}(\\psi)$ ([equation 2](#eq2)) and $\\mathbf{R}_{3}(\\psi)$ ([equation 3](#eq3)) satisfy some interesting properties:"
   ]
  },
  {
   "cell_type": "markdown",
   "metadata": {},
   "source": [
    "<a id='eq5'></a>\n",
    "\n",
    "$$\n",
    "\\mathbf{R}_{\\alpha}(\\phi + \\theta) = \\mathbf{R}_{\\alpha}(\\theta) \\, \\mathbf{R}_{\\alpha}(\\phi)\n",
    "= \\mathbf{R}_{\\alpha}(\\phi) \\, \\mathbf{R}_{\\alpha}(\\theta)\n",
    "\\: , \\quad \\alpha = 1, 2, 3 \\: . \\tag{5}\n",
    "$$"
   ]
  },
  {
   "cell_type": "code",
   "execution_count": null,
   "metadata": {},
   "outputs": [],
   "source": [
    "phi = 12\n",
    "theta = 7"
   ]
  },
  {
   "cell_type": "code",
   "execution_count": null,
   "metadata": {},
   "outputs": [],
   "source": [
    "R_phi_plus_theta = coord.R1(phi + theta)\n",
    "R_theta_R_phi = np.dot(coord.R1(theta), coord.R1(phi))\n",
    "R_phi_R_theta = np.dot(coord.R1(phi), coord.R1(theta))"
   ]
  },
  {
   "cell_type": "code",
   "execution_count": null,
   "metadata": {},
   "outputs": [],
   "source": [
    "np.allclose(R_phi_plus_theta, R_theta_R_phi)"
   ]
  },
  {
   "cell_type": "code",
   "execution_count": null,
   "metadata": {
    "scrolled": true
   },
   "outputs": [],
   "source": [
    "np.allclose(R_phi_plus_theta, R_phi_R_theta)"
   ]
  },
  {
   "cell_type": "code",
   "execution_count": null,
   "metadata": {},
   "outputs": [],
   "source": [
    "R_phi_plus_theta = coord.R2(phi + theta)\n",
    "R_theta_R_phi = np.dot(coord.R2(theta), coord.R2(phi))\n",
    "R_phi_R_theta = np.dot(coord.R2(phi), coord.R2(theta))"
   ]
  },
  {
   "cell_type": "code",
   "execution_count": null,
   "metadata": {},
   "outputs": [],
   "source": [
    "np.allclose(R_phi_plus_theta, R_theta_R_phi)"
   ]
  },
  {
   "cell_type": "code",
   "execution_count": null,
   "metadata": {},
   "outputs": [],
   "source": [
    "np.allclose(R_phi_plus_theta, R_phi_R_theta)"
   ]
  },
  {
   "cell_type": "code",
   "execution_count": null,
   "metadata": {},
   "outputs": [],
   "source": [
    "R_phi_plus_theta = coord.R3(phi + theta)\n",
    "R_theta_R_phi = np.dot(coord.R3(theta), coord.R3(phi))\n",
    "R_phi_R_theta = np.dot(coord.R3(phi), coord.R3(theta))"
   ]
  },
  {
   "cell_type": "code",
   "execution_count": null,
   "metadata": {},
   "outputs": [],
   "source": [
    "np.allclose(R_phi_plus_theta, R_theta_R_phi)"
   ]
  },
  {
   "cell_type": "code",
   "execution_count": null,
   "metadata": {},
   "outputs": [],
   "source": [
    "np.allclose(R_phi_plus_theta, R_phi_R_theta)"
   ]
  },
  {
   "cell_type": "markdown",
   "metadata": {},
   "source": [
    "<a id='eq6'></a>\n",
    "\n",
    "$$\n",
    "\\mathbf{R}_{\\alpha}(-\\phi) = \\mathbf{R}_{\\alpha}(\\phi)^{\\top} \\: , \\quad \\alpha = 1, 2, 3 \\: . \\tag{6}\n",
    "$$"
   ]
  },
  {
   "cell_type": "code",
   "execution_count": null,
   "metadata": {},
   "outputs": [],
   "source": [
    "psi = 31"
   ]
  },
  {
   "cell_type": "code",
   "execution_count": null,
   "metadata": {},
   "outputs": [],
   "source": [
    "np.allclose(coord.R1(-psi), coord.R1(psi).T)"
   ]
  },
  {
   "cell_type": "code",
   "execution_count": null,
   "metadata": {},
   "outputs": [],
   "source": [
    "np.allclose(coord.R2(-psi), coord.R2(psi).T)"
   ]
  },
  {
   "cell_type": "code",
   "execution_count": null,
   "metadata": {},
   "outputs": [],
   "source": [
    "np.allclose(coord.R3(-psi), coord.R3(psi).T)"
   ]
  },
  {
   "cell_type": "markdown",
   "metadata": {},
   "source": [
    "### Taking a deeper look in rotations"
   ]
  },
  {
   "cell_type": "markdown",
   "metadata": {},
   "source": [
    "Now, let's rewrite a vector $\\mathbf{v}$ as a sum of three orthogonal vectors:"
   ]
  },
  {
   "cell_type": "markdown",
   "metadata": {},
   "source": [
    "<a id='eq7'></a>\n",
    "\n",
    "$$\n",
    "\\mathbf{v} =\n",
    "\\begin{bmatrix}\n",
    "v_{x} \\\\\n",
    "v_{y} \\\\\n",
    "v_{z}\n",
    "\\end{bmatrix} =\n",
    "v_{x} \\begin{bmatrix}\n",
    "1 \\\\\n",
    "0 \\\\\n",
    "0\n",
    "\\end{bmatrix} +\n",
    "v_{y} \\begin{bmatrix}\n",
    "0 \\\\\n",
    "1 \\\\\n",
    "0\n",
    "\\end{bmatrix} +\n",
    "v_{z} \\begin{bmatrix}\n",
    "0 \\\\\n",
    "0 \\\\\n",
    "1\n",
    "\\end{bmatrix} \\: . \\tag{7}\n",
    "$$"
   ]
  },
  {
   "cell_type": "markdown",
   "metadata": {},
   "source": [
    "Notice that the $\\mathbf{v}$ can be thought of as a sum of three orthogonal vectors with magnitudes $v_{x}$, $v_{y}$ and $v_{z}$ and directions defined by the axes $x$, $y$ and $z$ of the RCS. By pre-multiplying $\\mathbf{v}$ ([equation 7](#eq7)) by a rotation matrix $\\mathbf{R}$, we compute a vector $\\mathbf{v}^{\\prime}$ as follows: "
   ]
  },
  {
   "cell_type": "markdown",
   "metadata": {},
   "source": [
    "<a id='eq8'></a>\n",
    "\n",
    "$$\n",
    "\\mathbf{v}^{\\prime} = \n",
    "\\begin{bmatrix}\n",
    "r_{11} & r_{12} & r_{13} \\\\\n",
    "r_{21} & r_{22} & r_{23} \\\\\n",
    "r_{31} & r_{32} & r_{33}\n",
    "\\end{bmatrix}\n",
    "\\begin{bmatrix}\n",
    "v_{x} \\\\\n",
    "v_{y} \\\\\n",
    "v_{z}\n",
    "\\end{bmatrix} \\: , \\tag{8}\n",
    "$$"
   ]
  },
  {
   "cell_type": "markdown",
   "metadata": {},
   "source": [
    "where $r_{ij}$, $i = 1, 2, 3$, $j = 1, 2, 3$, represents the element $ij$ of $\\mathbf{R}$. By properly manipulating [equation 8](#eq8), $\\mathbf{v}^{\\prime}$ can be rewritten by following two approaches. The first one is given by:"
   ]
  },
  {
   "cell_type": "markdown",
   "metadata": {},
   "source": [
    "<a id='eq9'></a>\n",
    "\n",
    "$$\n",
    "\\mathbf{v}^{\\prime} =\n",
    "\\begin{bmatrix}\n",
    "v_{x}^{\\ast} \\\\\n",
    "v_{y}^{\\ast} \\\\\n",
    "v_{z}^{\\ast}\n",
    "\\end{bmatrix} =\n",
    "v_{x}^{\\ast} \\begin{bmatrix}\n",
    "1 \\\\\n",
    "0 \\\\\n",
    "0\n",
    "\\end{bmatrix} +\n",
    "v_{y}^{\\ast} \\begin{bmatrix}\n",
    "0 \\\\\n",
    "1 \\\\\n",
    "0\n",
    "\\end{bmatrix} +\n",
    "v_{z}^{\\ast} \\begin{bmatrix}\n",
    "0 \\\\\n",
    "0 \\\\\n",
    "1\n",
    "\\end{bmatrix} \\: , \\tag{9}\n",
    "$$"
   ]
  },
  {
   "cell_type": "markdown",
   "metadata": {},
   "source": [
    "where"
   ]
  },
  {
   "cell_type": "markdown",
   "metadata": {},
   "source": [
    "<a id='eq10'></a>\n",
    "\n",
    "$$\n",
    "\\begin{align}\n",
    "v_{x}^{\\ast} = \\begin{bmatrix} r_{11} & r_{12} & r_{13} \\end{bmatrix} \\cdot \\mathbf{v} \\\\\n",
    "v_{y}^{\\ast} = \\begin{bmatrix} r_{21} & r_{22} & r_{23} \\end{bmatrix} \\cdot \\mathbf{v} \\\\\n",
    "v_{z}^{\\ast} = \\begin{bmatrix} r_{31} & r_{32} & r_{33} \\end{bmatrix} \\cdot \\mathbf{v}\n",
    "\\end{align} \\quad . \\tag{10}\n",
    "$$"
   ]
  },
  {
   "cell_type": "markdown",
   "metadata": {},
   "source": [
    "In this case, $\\mathbf{v}^{\\prime}$ ([equation 9](#eq9)) can be interpreted as a vector with components $v_{x}^{\\ast}$, $v_{y}^{\\ast}$ and $v_{z}^{\\ast}$ ([equation 10](#eq10)) in the RCS. In the second approach, we obtain:"
   ]
  },
  {
   "cell_type": "markdown",
   "metadata": {},
   "source": [
    "<a id='eq11'></a>\n",
    "\n",
    "$$\n",
    "\\mathbf{v}^{\\prime} =\n",
    "v_{x} \\begin{bmatrix}\n",
    "r_{11} \\\\\n",
    "r_{21} \\\\\n",
    "r_{31}\n",
    "\\end{bmatrix} +\n",
    "v_{y} \\begin{bmatrix}\n",
    "r_{12} \\\\\n",
    "r_{22} \\\\\n",
    "r_{32}\n",
    "\\end{bmatrix} +\n",
    "v_{z} \\begin{bmatrix}\n",
    "r_{13} \\\\\n",
    "r_{23} \\\\\n",
    "r_{33}\n",
    "\\end{bmatrix} \\: . \\tag{11}\n",
    "$$"
   ]
  },
  {
   "cell_type": "markdown",
   "metadata": {},
   "source": [
    "[Equation 11](#eq11) shows that the vector $\\mathbf{v}^{\\prime}$ can be alternatively interpreted as the sum of three orthogonal vectors, where each one is defined in terms of a column of $\\mathbf{R}$. Notice that these orthogonal vectors are not aligned with the axes $x$, $y$ and $z$ of the RCS. These vectors form a new coordinate system. In this new coordinate system, $\\mathbf{v}^{\\prime}$ has the same components $v_{x}$, $v_{y}$, $v_{z}$ as the original vector $\\mathbf{v}$ in the RCS ([equation 7](#eq7))."
   ]
  },
  {
   "cell_type": "code",
   "execution_count": null,
   "metadata": {},
   "outputs": [],
   "source": [
    "plt.close('all')\n",
    "fig = plt.figure(figsize=(8,10))\n",
    "ax = fig.gca(projection='3d')\n",
    "\n",
    "# use the parameter box to plot a gray box around the axes\n",
    "pfun.limits(ax, 0, 20, 0, 20, 0, 20, box=True)\n",
    "\n",
    "#pfun.draw_axes(ax, R=np.identity(3), size=20, color='k', label=('x', 'y', 'z'))\n",
    "#pfun.draw_axes(ax, R=R, size=20, color='k', label=(\"x'\", \"y' = y\", \"z'\"))\n",
    "\n",
    "pfun.draw_vector(ax, components=v_prime, color='b', label=\"v'\", width=4)\n",
    "pfun.draw_vector(ax, components=v[0]*R[:,0], color='g', label=\"vx+\", width=4)\n",
    "pfun.draw_vector(ax, components=v[1]*R[:,1], color='g', label=\"vy+\", width=4)\n",
    "pfun.draw_vector(ax, components=v[2]*R[:,2], color='g', label=\"vz+\", width=4)\n",
    "pfun.draw_vector(ax, components=[v_prime[0], 0, 0], color='y', label=\"vx\", width=4)\n",
    "pfun.draw_vector(ax, components=[0, v_prime[1], 0], color='y', label=\"vy\", width=4)\n",
    "pfun.draw_vector(ax, components=[0, 0, v_prime[2]], color='y', label=\"vz\", width=4)\n",
    "\n",
    "\n",
    "ax.view_init(20, 50)\n",
    "\n",
    "plt.show()"
   ]
  },
  {
   "cell_type": "markdown",
   "metadata": {},
   "source": [
    "### Using rotations to change coordinates"
   ]
  },
  {
   "cell_type": "markdown",
   "metadata": {},
   "source": [
    "We have discussed the use of rotation matrices for computing a new vector $\\mathbf{v}^{\\prime}$ from a given vector $\\mathbf{v}$. Now, we will analyze **how the same vector can be represented in different coordinate systems**. Actually, we have already adressed this problem when we explored the two possible interpretations for the vector $\\mathbf{v}^{\\prime}$. **The same vector** $\\mathbf{v}^{\\prime}$ can be defined by using [equation 9](#eq9) or [equation 11](#eq11). Notice that, in this case, we are not talking about obtaining a new vector by rotating a given vector. We are talking about representing the same vector in two different ways.\n",
    "\n",
    "In order to avoid confusion, let's define a vector $\\mathbf{w}$ as follows:"
   ]
  },
  {
   "cell_type": "markdown",
   "metadata": {},
   "source": [
    "<a id='eq12'></a>\n",
    "\n",
    "$$\n",
    "\\mathbf{w} = \n",
    "\\underbrace{\\begin{bmatrix}\n",
    "1 & 0 & 0 \\\\\n",
    "0 & 1 & 0 \\\\\n",
    "0 & 0 & 1\n",
    "\\end{bmatrix}}_{\\mathbf{I}}\n",
    "\\begin{bmatrix}\n",
    "w_{x} \\\\\n",
    "w_{y} \\\\\n",
    "w_{z}\n",
    "\\end{bmatrix} =\n",
    "w_{x} \\begin{bmatrix}\n",
    "1 \\\\\n",
    "0 \\\\\n",
    "0\n",
    "\\end{bmatrix} +\n",
    "w_{y} \\begin{bmatrix}\n",
    "0 \\\\\n",
    "1 \\\\\n",
    "0\n",
    "\\end{bmatrix} +\n",
    "w_{z} \\begin{bmatrix}\n",
    "0 \\\\\n",
    "0 \\\\\n",
    "1\n",
    "\\end{bmatrix} \\: . \\tag{12}\n",
    "$$"
   ]
  },
  {
   "cell_type": "markdown",
   "metadata": {},
   "source": [
    "In this case, we are representing $\\mathbf{w}$ as the sum of three [orthonormal vectors](http://mathworld.wolfram.com/OrthonormalVectors.html). These orthonormal vectors define the axes $x$, $y$ and $z$ of a Reference Cartesian System (RCS). Similarly to what we have already done, let's consider a new vector $\\mathbf{w}^{\\ast}$ obtained by rotating $\\mathbf{w}$ as follows:"
   ]
  },
  {
   "cell_type": "markdown",
   "metadata": {},
   "source": [
    "<a id='eq13'></a>\n",
    "\n",
    "$$\n",
    "\\mathbf{w}^{\\ast} = \n",
    "\\underbrace{\\begin{bmatrix}\n",
    "r_{11} & r_{12} & r_{13} \\\\\n",
    "r_{21} & r_{22} & r_{23} \\\\\n",
    "r_{31} & r_{32} & r_{33}\n",
    "\\end{bmatrix}}_{\\mathbf{R}}\n",
    "\\underbrace{\\begin{bmatrix}\n",
    "w_{x} \\\\\n",
    "w_{y} \\\\\n",
    "w_{z}\n",
    "\\end{bmatrix}}_{\\mathbf{w}} = \n",
    "w_{x} \\begin{bmatrix}\n",
    "r_{11} \\\\\n",
    "r_{21} \\\\\n",
    "r_{31}\n",
    "\\end{bmatrix} +\n",
    "w_{y} \\begin{bmatrix}\n",
    "r_{12} \\\\\n",
    "r_{22} \\\\\n",
    "r_{32}\n",
    "\\end{bmatrix} +\n",
    "w_{z} \\begin{bmatrix}\n",
    "r_{13} \\\\\n",
    "r_{23} \\\\\n",
    "r_{33}\n",
    "\\end{bmatrix} \\: . \\tag{13}\n",
    "$$"
   ]
  },
  {
   "cell_type": "markdown",
   "metadata": {},
   "source": [
    "Since $\\mathbf{R}$ is an [orthogonal matrix](http://mathworld.wolfram.com/OrthogonalMatrix.html), we obtain the following equation:"
   ]
  },
  {
   "cell_type": "markdown",
   "metadata": {},
   "source": [
    "<a id='eq14'></a>\n",
    "\n",
    "$$\n",
    "\\mathbf{w} = \\mathbf{R}^{\\top} \\mathbf{w}^{\\ast} \\: . \\tag{14}\n",
    "$$"
   ]
  },
  {
   "cell_type": "markdown",
   "metadata": {},
   "source": [
    "[Equation 12](#eq12) shows that the vector $\\mathbf{w}$ can be represented as a linear combination of unit vectors aligned with the axes of the RCS. In this case, $\\mathbf{w}$ has components $w_{x}$, $w_{y}$ and $w_{z}$. Alternatively, [equation 14](#eq14) shows that the same vector $\\mathbf{w}$ can be represented as a linear combination of unit vectors forming the columns of the matrix $\\mathbf{R}^{\\top}$. In this case, $\\mathbf{w}$ has components $w_{x}^{\\ast}$, $w_{y}^{\\ast}$ and $w_{z}^{\\ast}$. Notice that the columns of the matrix $\\mathbf{R}^{\\top}$ form a new coordinate system."
   ]
  },
  {
   "cell_type": "code",
   "execution_count": null,
   "metadata": {},
   "outputs": [],
   "source": [
    "v = coord.unit_vector_TCCS(45, -20)\n",
    "v = 10*np.array(v)"
   ]
  },
  {
   "cell_type": "code",
   "execution_count": null,
   "metadata": {},
   "outputs": [],
   "source": [
    "# rotation about z axis, from x to y \n",
    "R = coord.R3(30).T"
   ]
  },
  {
   "cell_type": "code",
   "execution_count": null,
   "metadata": {},
   "outputs": [],
   "source": [
    "v_prime = np.dot(R, v)"
   ]
  },
  {
   "cell_type": "code",
   "execution_count": null,
   "metadata": {},
   "outputs": [],
   "source": [
    "print(R.T)"
   ]
  },
  {
   "cell_type": "code",
   "execution_count": null,
   "metadata": {},
   "outputs": [],
   "source": [
    "print(v_prime)"
   ]
  },
  {
   "cell_type": "code",
   "execution_count": null,
   "metadata": {},
   "outputs": [],
   "source": [
    "plt.close('all')\n",
    "fig = plt.figure(figsize=(8,10))\n",
    "ax = fig.gca(projection='3d')\n",
    "\n",
    "# use the parameter box to plot a gray box around the axes\n",
    "pfun.limits(ax, 0, 20, 0, 20, 0, 20, box=True)\n",
    "\n",
    "#pfun.draw_axes(ax, R=np.identity(3), size=20, color='k', label=('x', 'y', 'z'))\n",
    "#pfun.draw_axes(ax, R=R, size=20, color='k', label=(\"x'\", \"y' = y\", \"z'\"))\n",
    "\n",
    "pfun.draw_vector(ax, components=v, color='k', label='v')\n",
    "pfun.draw_vector(ax, components=[v[0], 0, 0], color='b', label=\"vx\", width=4)\n",
    "pfun.draw_vector(ax, components=[0, v[1], 0], color='b', label=\"vy\", width=4)\n",
    "pfun.draw_vector(ax, components=[0, 0, v[2]], color='b', label=\"vz\", width=4)\n",
    "pfun.draw_vector(ax, components=v_prime[0]*R.T[:,0], color='r', label=\"vx*\", width=4)\n",
    "pfun.draw_vector(ax, components=v_prime[1]*R.T[:,1], color='r', label=\"vy*\", width=4)\n",
    "pfun.draw_vector(ax, components=v_prime[2]*R.T[:,2], color='r', label=\"vz*\", width=4)\n",
    "\n",
    "\n",
    "\n",
    "ax.view_init(-150, 30)\n",
    "\n",
    "plt.show()"
   ]
  },
  {
   "cell_type": "code",
   "execution_count": null,
   "metadata": {},
   "outputs": [],
   "source": []
  }
 ],
 "metadata": {
  "anaconda-cloud": {},
  "kernelspec": {
   "display_name": "Python 3",
   "language": "python",
   "name": "python3"
  },
  "language_info": {
   "codemirror_mode": {
    "name": "ipython",
    "version": 3
   },
   "file_extension": ".py",
   "mimetype": "text/x-python",
   "name": "python",
   "nbconvert_exporter": "python",
   "pygments_lexer": "ipython3",
   "version": "3.7.7"
  }
 },
 "nbformat": 4,
 "nbformat_minor": 1
}
