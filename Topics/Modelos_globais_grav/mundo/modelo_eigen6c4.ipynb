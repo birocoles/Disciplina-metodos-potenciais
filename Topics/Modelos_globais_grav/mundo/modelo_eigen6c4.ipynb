{
 "cells": [
  {
   "cell_type": "markdown",
   "metadata": {},
   "source": [
    "# Modelo global do campo de gravidade eigen6c4"
   ]
  },
  {
   "cell_type": "markdown",
   "metadata": {},
   "source": [
    "Este script mostra algumas quantidades preditas pelo modelo global do campo de gravidade **eigen-6C4** (Förste et al., 2014). Os coeficientes que descrevem este modelo estão no arquivo `eigen-6c4.gfc`, que pode ser baixado no site do IGCEM, na página [Table of models](http://icgem.gfz-potsdam.de/ICGEM/modelstab.html)."
   ]
  },
  {
   "cell_type": "markdown",
   "metadata": {},
   "source": [
    "* Förste C., Bruinsma S.L., Abrikosov O., Lemoine J.-M., Schaller T., Götze H.-J., Ebbing J., Marty J.C., Flechtner F., Balmino G., Biancale R., 2014, EIGEN-6C4 The latest combined global gravity field model including GOCE data up to degree and order 2190 of GFZ Potsdam and GRGS Toulouse, 5th GOCE User Workshop, Paris, 25-28 November 2014, url: http://icgem.gfz-potsdam.de/ICGEM/documents/Foerste-et-al-EIGEN-6C4.pdf"
   ]
  },
  {
   "cell_type": "code",
   "execution_count": 1,
   "metadata": {},
   "outputs": [],
   "source": [
    "%matplotlib inline\n",
    "import numpy as np\n",
    "import matplotlib.pyplot as plt"
   ]
  },
  {
   "cell_type": "code",
   "execution_count": null,
   "metadata": {},
   "outputs": [],
   "source": [
    "import minhas_funcoes as mf"
   ]
  },
  {
   "cell_type": "markdown",
   "metadata": {},
   "source": [
    "### Função para plotar os estados brasileiros"
   ]
  },
  {
   "cell_type": "markdown",
   "metadata": {},
   "source": [
    "A função na célula abaixo foi retirada do blog [python4oceanographers](https://ocefpaf.github.io/python4oceanographers/blog/2013/08/12/brazil-states-map/). Os dados `shapefile` com os estados brasileiros foram baixados no site do [Global Administrative Areas](http://www.gadm.org/country)."
   ]
  },
  {
   "cell_type": "code",
   "execution_count": null,
   "metadata": {},
   "outputs": [],
   "source": [
    "def drawstates(ax, shapefile='estados_Brasil/BRA_adm0.shp'):\n",
    "        shp = m.readshapefile(shapefile, 'states', drawbounds=True)\n",
    "        for nshape, seg in enumerate(m.states):\n",
    "            poly = Polygon(seg, facecolor='0.75', edgecolor='k')\n",
    "            ax.add_patch(poly)"
   ]
  },
  {
   "cell_type": "markdown",
   "metadata": {
    "collapsed": true
   },
   "source": [
    "### Dados baixados no site do [IGCEM](http://icgem.gfz-potsdam.de/ICGEM/)"
   ]
  },
  {
   "cell_type": "markdown",
   "metadata": {},
   "source": [
    "De acordo com o IGCEM, os conjuntos de dados abaixo são provenientes de diferentes *Funcionais do Geopotencial* (*Functionals of the Geopotential*). No [*Calculation Service* do IGCEM](http://icgem.gfz-potsdam.de/ICGEM/Service.html) há uma legenda (figura abaixo) especificando cada tipo de dado."
   ]
  },
  {
   "cell_type": "markdown",
   "metadata": {},
   "source": [
    "<img src='functionals_geopotential.png', width=1000>"
   ]
  },
  {
   "cell_type": "markdown",
   "metadata": {},
   "source": [
    "Todos dados foram baixados do [*Calculation Service* do IGCEM](http://icgem.gfz-potsdam.de/ICGEM/Service.html), estão armazenados nos arquivos `eigen-6c4-XXXXX.gdf.txt` e `etopo1-XXXXX.gdf.txt`, são referidos ao elipsoide WGS84 e foram calculados sobre o mesmo grid de coordenadas geodésicas espaçadas de $1^{\\circ}$, variando de $0^{\\circ}$ a $360^{\\circ}$ ao longo da longitude $\\lambda$ e de $-90^{\\circ}$ a $90^{\\circ}$ ao longo da latitude $\\varphi$. "
   ]
  },
  {
   "cell_type": "markdown",
   "metadata": {},
   "source": [
    "#### Topografia/batimetria predita pelo modelo ETOPO1"
   ]
  },
  {
   "cell_type": "code",
   "execution_count": null,
   "metadata": {},
   "outputs": [],
   "source": [
    "longitude, latitude, topografia = np.loadtxt('etopo1-18001.gdf.txt', skiprows=29, unpack=True)"
   ]
  },
  {
   "cell_type": "code",
   "execution_count": null,
   "metadata": {},
   "outputs": [],
   "source": [
    "topo_positiva = (topografia > 0.)\n",
    "topo_negativa = (topografia < 0.)"
   ]
  },
  {
   "cell_type": "code",
   "execution_count": null,
   "metadata": {},
   "outputs": [],
   "source": [
    "longitude_min = np.min(longitude)\n",
    "longitude_max = np.max(longitude)\n",
    "\n",
    "latitude_min = np.min(latitude)\n",
    "latitude_max = np.max(latitude)"
   ]
  },
  {
   "cell_type": "code",
   "execution_count": null,
   "metadata": {},
   "outputs": [],
   "source": [
    "longitude_central = 0.5*(longitude_max + longitude_min)\n",
    "latitude_central = 0.5*(latitude_max + latitude_min)"
   ]
  },
  {
   "cell_type": "code",
   "execution_count": null,
   "metadata": {},
   "outputs": [],
   "source": [
    "area = [longitude_min, longitude_max,\n",
    "        latitude_min, latitude_max]"
   ]
  },
  {
   "cell_type": "code",
   "execution_count": null,
   "metadata": {},
   "outputs": [],
   "source": [
    "area"
   ]
  },
  {
   "cell_type": "markdown",
   "metadata": {},
   "source": [
    "#### Distúrbio de gravidade"
   ]
  },
  {
   "cell_type": "code",
   "execution_count": null,
   "metadata": {},
   "outputs": [],
   "source": [
    "altitude_ortometrica, disturbio = np.loadtxt('eigen-6c4-18000.gdf.txt', skiprows=35, usecols=(2,3), unpack=True)"
   ]
  },
  {
   "cell_type": "markdown",
   "metadata": {},
   "source": [
    "#### Gravidade"
   ]
  },
  {
   "cell_type": "code",
   "execution_count": null,
   "metadata": {},
   "outputs": [],
   "source": [
    "gravidade = np.loadtxt('eigen-6c4-18026.gdf.txt', skiprows=34, usecols=(3,), unpack=True)"
   ]
  },
  {
   "cell_type": "markdown",
   "metadata": {},
   "source": [
    "**geoid**"
   ]
  },
  {
   "cell_type": "code",
   "execution_count": null,
   "metadata": {},
   "outputs": [],
   "source": [
    "geoide = np.loadtxt('eigen-6c4-18031.gdf.txt', skiprows=36, usecols=(2,), unpack=True)"
   ]
  },
  {
   "cell_type": "markdown",
   "metadata": {},
   "source": [
    "**gravity_anomaly_cl**"
   ]
  },
  {
   "cell_type": "code",
   "execution_count": null,
   "metadata": {},
   "outputs": [],
   "source": [
    "an_gravidade = np.loadtxt('eigen-6c4-18444.gdf.txt', skiprows=35, usecols=(2,), unpack=True)"
   ]
  },
  {
   "cell_type": "markdown",
   "metadata": {},
   "source": [
    "**gravity_anomaly_bg**"
   ]
  },
  {
   "cell_type": "code",
   "execution_count": null,
   "metadata": {},
   "outputs": [],
   "source": [
    "bouguer = np.loadtxt('eigen-6c4-18452.gdf.txt', skiprows=37, usecols=(2,), unpack=True)"
   ]
  },
  {
   "cell_type": "markdown",
   "metadata": {},
   "source": [
    "### Coordenadas x y da projeção cartográfica"
   ]
  },
  {
   "cell_type": "markdown",
   "metadata": {},
   "source": [
    "A projeção foi calculada com o [Basemap](http://matplotlib.org/basemap/users/index.html). Para os exemplos mostrados abaixo, a projeção escolhida foi a de [Robinson](http://matplotlib.org/basemap/users/robin.html)."
   ]
  },
  {
   "cell_type": "code",
   "execution_count": null,
   "metadata": {},
   "outputs": [],
   "source": [
    "m = Basemap(projection='robin',lon_0=0,resolution='c')\n",
    "x, y = m(longitude, latitude)"
   ]
  },
  {
   "cell_type": "code",
   "execution_count": null,
   "metadata": {},
   "outputs": [],
   "source": [
    "print 'x min.  = %12.5f km' % (np.min(x)*0.001)\n",
    "print 'x medio = %12.5f km' % (np.mean(x)*0.001)\n",
    "print 'x max.  = %12.5f km' % (np.max(x)*0.001)\n",
    "print 'x var.  = %12.5f km' % ((np.max(x) - np.min(x))*0.001)\n",
    "print 'y min.  = %12.5f km' % (np.min(y)*0.001)\n",
    "print 'y medio = %12.5f km' % (np.mean(y)*0.001)\n",
    "print 'y max.  = %12.5f km' % (np.max(y)*0.001)\n",
    "print 'y var.  = %12.5f km' % ((np.max(y) - np.min(y))*0.001)"
   ]
  },
  {
   "cell_type": "markdown",
   "metadata": {},
   "source": [
    "### Parâmetros do datum geodésico WGS84"
   ]
  },
  {
   "cell_type": "code",
   "execution_count": null,
   "metadata": {},
   "outputs": [],
   "source": [
    "a, f, GM, omega = mf.WGS84()"
   ]
  },
  {
   "cell_type": "markdown",
   "metadata": {},
   "source": [
    "### Gravidade normal"
   ]
  },
  {
   "cell_type": "markdown",
   "metadata": {},
   "source": [
    "**Sobre a topografia ($\\gamma$)**"
   ]
  },
  {
   "cell_type": "code",
   "execution_count": null,
   "metadata": {},
   "outputs": [],
   "source": [
    "gamma = mf.gamma_closedform(a, f, GM, omega, latitude, altitude_ortometrica)"
   ]
  },
  {
   "cell_type": "markdown",
   "metadata": {},
   "source": [
    "**Sobre o elipsoide WGS84 ($\\gamma_{0}$)**"
   ]
  },
  {
   "cell_type": "code",
   "execution_count": null,
   "metadata": {},
   "outputs": [],
   "source": [
    "gamma0 = mf.gamma_closedform(a, f, GM, omega, latitude, \n",
    "                             np.zeros_like(altitude_ortometrica))"
   ]
  },
  {
   "cell_type": "markdown",
   "metadata": {},
   "source": [
    "**Aproximação sobre a topografia ($\\mathbf{\\gamma}_{aprox}$)**"
   ]
  },
  {
   "cell_type": "code",
   "execution_count": null,
   "metadata": {},
   "outputs": [],
   "source": [
    "gamma_aproximado = gamma0 - 0.3086*altitude_ortometrica"
   ]
  },
  {
   "cell_type": "markdown",
   "metadata": {},
   "source": [
    "### Anomalias calculadas"
   ]
  },
  {
   "cell_type": "markdown",
   "metadata": {},
   "source": [
    "**Constante Gravitacional** (ou [*Newtonian constant of gravitation*](http://physics.nist.gov/cgi-bin/cuu/Category?view=html&Universal.x=58&Universal.y=11)) em $\\frac{m^{3}}{kg \\, s^{2}}$"
   ]
  },
  {
   "cell_type": "code",
   "execution_count": null,
   "metadata": {},
   "outputs": [],
   "source": [
    "G = 6.67408e-11"
   ]
  },
  {
   "cell_type": "markdown",
   "metadata": {},
   "source": [
    "**Correção Ar-livre**"
   ]
  },
  {
   "cell_type": "code",
   "execution_count": null,
   "metadata": {},
   "outputs": [],
   "source": [
    "ca = -0.3086*altitude_ortometrica"
   ]
  },
  {
   "cell_type": "markdown",
   "metadata": {},
   "source": [
    "**Correção de Bouguer (platô)**"
   ]
  },
  {
   "cell_type": "markdown",
   "metadata": {},
   "source": [
    "Neste cálculo foi considerado uma densidade de $\\rho = \\rho_{cc} \\: \\frac{kg}{m^{3}}$ para a correção sobre os continentes (altitudes positivas) e uma densidade de $\\rho = (\\rho_{co} - \\rho_{a})\\: \\frac{kg}{m^{3}}$ para a correção sobre os oceanos (altitudes negativas), em que $\\rho_{cc} = 2670 \\: \\frac{kg}{m^{3}}$, $\\rho_{co} = 2900 \\: \\frac{kg}{m^{3}}$ e $\\rho_{a} = 1025 \\: \\frac{kg}{m^{3}}$ representam, respectivamente, as densidades da crosta continental, crosta oceânica e da água dos oceanos."
   ]
  },
  {
   "cell_type": "code",
   "execution_count": null,
   "metadata": {},
   "outputs": [],
   "source": [
    "rho_cc = 2670.\n",
    "rho_co = 2900.\n",
    "rho_a = 1025.\n",
    "\n",
    "cb_continente = np.zeros_like(topografia)\n",
    "cb_continente[topo_positiva] = 2.*np.pi*G*1.0e5*rho_cc*topografia[topo_positiva]\n",
    "\n",
    "cb_oceano = np.zeros_like(topografia)\n",
    "cb_oceano[topo_negativa] = 2.*np.pi*G*1.0e5*(rho_co - rho_a)*topografia[topo_negativa]\n",
    "\n",
    "cb = cb_continente + cb_oceano"
   ]
  },
  {
   "cell_type": "markdown",
   "metadata": {},
   "source": [
    "**Anomalia Ar-livre**"
   ]
  },
  {
   "cell_type": "code",
   "execution_count": null,
   "metadata": {},
   "outputs": [],
   "source": [
    "ar_livre = gravidade - gamma0 - ca"
   ]
  },
  {
   "cell_type": "markdown",
   "metadata": {},
   "source": [
    "**Anomalia Bouguer (incompleta)**"
   ]
  },
  {
   "cell_type": "code",
   "execution_count": null,
   "metadata": {},
   "outputs": [],
   "source": [
    "bouguer_calculada = gravidade - gamma0 - ca - cb"
   ]
  },
  {
   "cell_type": "markdown",
   "metadata": {},
   "source": [
    "**Distúrbio de gravidade**"
   ]
  },
  {
   "cell_type": "code",
   "execution_count": null,
   "metadata": {},
   "outputs": [],
   "source": [
    "disturbio_calculado = gravidade - gamma"
   ]
  },
  {
   "cell_type": "markdown",
   "metadata": {},
   "source": [
    "**Moho isostática (modelo de Airy-Heiskanen)**"
   ]
  },
  {
   "cell_type": "markdown",
   "metadata": {},
   "source": [
    "O modelo de Airy Heiskanen é um modelo de compensação isostática local, que considera a existência de um espessamento crustal $t_{c}$ sob os continentes e um afinamento crustal $t_{o}$ sob os oceanos. Geralmente, o espessamento crustal é denominado *raiz* e o afinamento crustal é denominado *antirraiz*. Ambos são definidos em relação a uma espessura crustal de referência $T$ e calculados em função da altitude $h$, das densidades $\\rho_{cc}$ e $\\rho_{co}$ das crostas continental e oceânica, respectivamente, da densidade $\\rho_{m}$ do manto e da densidade $\\rho_{a}$ da água dos oceanos."
   ]
  },
  {
   "cell_type": "markdown",
   "metadata": {},
   "source": [
    "$t_{c} = \\dfrac{\\rho_{cc}}{\\rho_{m} - \\rho_{cc}} \\, h$, em que $h > 0$ (espessamento sob os continentes)"
   ]
  },
  {
   "cell_type": "markdown",
   "metadata": {},
   "source": [
    "$t_{o} = \\dfrac{\\rho_{co} - \\rho_{a}}{\\rho_{m} - \\rho_{co}} \\, h$, em que $h < 0$ (afinamento sob os oceanos)"
   ]
  },
  {
   "cell_type": "code",
   "execution_count": null,
   "metadata": {},
   "outputs": [],
   "source": [
    "T = 52000.0 # metros\n",
    "\n",
    "rho_m = 3270.0 \n",
    "\n",
    "tc = np.zeros_like(topografia)\n",
    "tc[topo_positiva] = rho_cc*topografia[topo_positiva]/(rho_m - rho_cc)\n",
    "\n",
    "to = np.zeros_like(topografia)\n",
    "to[topo_negativa] = (rho_co - rho_a)*topografia[topo_negativa]/(rho_m - rho_co)\n",
    "\n",
    "moho_ah = T + tc + to"
   ]
  },
  {
   "cell_type": "markdown",
   "metadata": {},
   "source": [
    "**Pontos iniciais e finais dos perfis analisados**"
   ]
  },
  {
   "cell_type": "code",
   "execution_count": null,
   "metadata": {},
   "outputs": [],
   "source": [
    "longitudes_perfis = [360. - 89., 360. - 29.]\n",
    "latitudes_perfis = [-15., -15.]"
   ]
  },
  {
   "cell_type": "code",
   "execution_count": null,
   "metadata": {},
   "outputs": [],
   "source": [
    "longitudes_perfis = np.array(longitudes_perfis)\n",
    "latitudes_perfis = np.array(latitudes_perfis)"
   ]
  },
  {
   "cell_type": "code",
   "execution_count": null,
   "metadata": {},
   "outputs": [],
   "source": [
    "p1, p2 = m(longitudes_perfis, latitudes_perfis)\n",
    "perfis = np.transpose([p1,p2])"
   ]
  },
  {
   "cell_type": "code",
   "execution_count": null,
   "metadata": {},
   "outputs": [],
   "source": [
    "perfil_topografia = gridder.profile(x, y, topografia, perfis[0,:], perfis[1,:], 200)\n",
    "perfil_bouguer = gridder.profile(x, y, bouguer, perfis[0,:], perfis[1,:], 200)\n",
    "perfil_disturbio = gridder.profile(x, y, disturbio, perfis[0,:], perfis[1,:], 200)\n",
    "perfil_moho_ah = gridder.profile(x, y, -moho_ah, perfis[0,:], perfis[1,:], 200)"
   ]
  },
  {
   "cell_type": "markdown",
   "metadata": {},
   "source": [
    "### Estatísticas e \"mapas\""
   ]
  },
  {
   "cell_type": "code",
   "execution_count": null,
   "metadata": {},
   "outputs": [],
   "source": [
    "topografia_min, topografia_media, topografia_max, topografia_var = mf.estatistica(topografia, 'm')"
   ]
  },
  {
   "cell_type": "code",
   "execution_count": null,
   "metadata": {},
   "outputs": [],
   "source": [
    "mf.plota_mapa(m, x, y, topografia, area, 'm', 'Topografia/batimetria - ETOPO1', 'gist_earth', \n",
    "              (18, 12), 30., perfis, estados=None, escala=None, eixos=True)"
   ]
  },
  {
   "cell_type": "code",
   "execution_count": null,
   "metadata": {},
   "outputs": [],
   "source": [
    "geoide_min, geoide_medio, geoide_max, geoide_var = mf.estatistica(geoide, 'm')"
   ]
  },
  {
   "cell_type": "code",
   "execution_count": null,
   "metadata": {},
   "outputs": [],
   "source": [
    "mf.plota_mapa(m, x, y, geoide, area, 'm', 'Altura geoidal - modelo eigen 6c4', 'RdBu_r',\n",
    "              (18, 12), 30., perfis, estados=None, escala=None, eixos=True)"
   ]
  },
  {
   "cell_type": "code",
   "execution_count": null,
   "metadata": {},
   "outputs": [],
   "source": [
    "disturbio_min, disturbio_medio, disturbio_max, disturbio_var = mf.estatistica(disturbio, 'mGal')"
   ]
  },
  {
   "cell_type": "code",
   "execution_count": null,
   "metadata": {},
   "outputs": [],
   "source": [
    "mf.plota_mapa(m, x, y, disturbio, area, 'mGal', 'Disturbio de gravidade - modelo eigen 6c4', 'RdBu_r',\n",
    "              (18, 12), 30., perfis, estados=None, escala=None, eixos=True)"
   ]
  },
  {
   "cell_type": "code",
   "execution_count": null,
   "metadata": {},
   "outputs": [],
   "source": [
    "disturbio_calc_min, disturbio_calc_medio, disturbio_calc_max, disturbio_calc_var = mf.estatistica(disturbio_calculado, 'mGal')"
   ]
  },
  {
   "cell_type": "code",
   "execution_count": null,
   "metadata": {},
   "outputs": [],
   "source": [
    "mf.plota_mapa(m, x, y, disturbio_calculado, area, 'mGal', 'Disturbio de gravidade - calculado', 'RdBu_r',\n",
    "              (18, 12), 30., perfis, estados=None, escala=None, eixos=True)"
   ]
  },
  {
   "cell_type": "code",
   "execution_count": null,
   "metadata": {},
   "outputs": [],
   "source": [
    "ar_livre_min, ar_livre_medio, ar_livre_max, ar_livre_var = mf.estatistica(ar_livre, 'mGal')"
   ]
  },
  {
   "cell_type": "code",
   "execution_count": null,
   "metadata": {},
   "outputs": [],
   "source": [
    "mf.plota_mapa(m, x, y, ar_livre, area, 'mGal', 'Anomalia Ar-livre - calculada', 'RdBu_r',\n",
    "              (18, 12), 30., perfis, estados=None, escala=None, eixos=True)"
   ]
  },
  {
   "cell_type": "code",
   "execution_count": null,
   "metadata": {},
   "outputs": [],
   "source": [
    "bouguer_min, bouguer_medio, bouguer_max, bouguer_var = mf.estatistica(bouguer, 'mGal')"
   ]
  },
  {
   "cell_type": "code",
   "execution_count": null,
   "metadata": {},
   "outputs": [],
   "source": [
    "mf.plota_mapa(m, x, y, bouguer, area, 'mGal', 'Anomalia Bouguer (simples) - eigen 6c4', 'RdBu_r',\n",
    "              (18, 12), 30., perfis, estados=None, escala=None, eixos=True)"
   ]
  },
  {
   "cell_type": "code",
   "execution_count": null,
   "metadata": {},
   "outputs": [],
   "source": [
    "bouguer_calculada_min, bouguer_calculada_medio, \\\n",
    "bouguer_calculada_max, bouguer_calculada_var = mf.estatistica(bouguer_calculada, 'mGal')"
   ]
  },
  {
   "cell_type": "code",
   "execution_count": null,
   "metadata": {},
   "outputs": [],
   "source": [
    "mf.plota_mapa(m, x, y, bouguer_calculada, area, 'mGal', 'Anomalia Bouguer (simples) - calculada', 'RdBu_r',\n",
    "              (18, 12), 30., perfis, estados=None, escala=None, eixos=True)"
   ]
  },
  {
   "cell_type": "code",
   "execution_count": null,
   "metadata": {},
   "outputs": [],
   "source": [
    "moho_ah_min, moho_ah_media, moho_ah_max, moho_ah_var = mf.estatistica(moho_ah, 'm')"
   ]
  },
  {
   "cell_type": "code",
   "execution_count": null,
   "metadata": {},
   "outputs": [],
   "source": [
    "mf.plota_mapa(m, x, y, moho_ah, area, 'm', 'Moho calculada (Airy-Heiskanen)', 'terrain',\n",
    "              (18, 12), 30., perfis, estados=None, escala=None, eixos=True)"
   ]
  },
  {
   "cell_type": "markdown",
   "metadata": {},
   "source": [
    "Estas profundidades de Moho foram estimadas de acordo com o modelo de compensão isostática local de Airy-Heiskanen, portanto não são válidas para todas as regiões do planeta."
   ]
  },
  {
   "cell_type": "code",
   "execution_count": null,
   "metadata": {},
   "outputs": [],
   "source": [
    "fig, axes = plt.subplots(2, 1, sharex=True, figsize=(14, 6))\n",
    "ax1, ax2 = axes\n",
    "d = perfil_topografia[2]*0.001\n",
    "ax2.fill_between([d.min(), d.max()], [0, 0], -10000, color='#2780E3')\n",
    "ax2.fill_between([d.min(), d.max()], -10000, -80000, color='#31a354')\n",
    "ax2.fill_between(d, perfil_topografia[3], perfil_moho_ah[3], color='#333333')\n",
    "ax2.set_ylabel('Altitude (m)')\n",
    "ax2.set_xlabel('Distancia (km)')\n",
    "ax2.set_ylim(-80000., 10000.)\n",
    "\n",
    "ax1.set_title('Secao vertical sobre o perfil mostrado nos mapas', \n",
    "              fontsize=18)\n",
    "ax1.set_ylabel('Disturbio e Anomalia Bouguer (mGal)')\n",
    "ax1.plot(d, perfil_bouguer[3], '-', label='Bouguer')\n",
    "ax1.plot(d, perfil_disturbio[3], '-', label='Disturbio')\n",
    "ax1.hlines(0, d.min(), d.max(), linestyles='--', color='#333333')\n",
    "ax1.legend(loc='center right')\n",
    "ax1.set_xlim(d.min(), d.max())\n",
    "plt.tight_layout(h_pad=0, w_pad=0, pad=0)\n",
    "plt.show()"
   ]
  },
  {
   "cell_type": "markdown",
   "metadata": {
    "collapsed": true
   },
   "source": [
    "Este perfil começa sobre a América do Sul (longitude -89$^{\\circ}$, latitude -15$^{\\circ}$) e vai até o Oceano Atlântico (longitude -29$^{\\circ}$, latitude -15$^{\\circ}$)."
   ]
  },
  {
   "cell_type": "code",
   "execution_count": null,
   "metadata": {},
   "outputs": [],
   "source": []
  }
 ],
 "metadata": {
  "kernelspec": {
   "display_name": "Python 3 (ipykernel)",
   "language": "python",
   "name": "python3"
  },
  "language_info": {
   "codemirror_mode": {
    "name": "ipython",
    "version": 3
   },
   "file_extension": ".py",
   "mimetype": "text/x-python",
   "name": "python",
   "nbconvert_exporter": "python",
   "pygments_lexer": "ipython3",
   "version": "3.7.7"
  }
 },
 "nbformat": 4,
 "nbformat_minor": 1
}
